{
 "cells": [
  {
   "cell_type": "code",
   "execution_count": 1,
   "metadata": {},
   "outputs": [],
   "source": [
    "%run ../../bin/imports.ipynb"
   ]
  },
  {
   "cell_type": "markdown",
   "metadata": {},
   "source": [
    "## Analyzing TMT results"
   ]
  },
  {
   "cell_type": "code",
   "execution_count": 2,
   "metadata": {},
   "outputs": [],
   "source": [
    "sherpa_cutoff = 0.1"
   ]
  },
  {
   "cell_type": "markdown",
   "metadata": {},
   "source": [
    "Import data and get HLA types"
   ]
  },
  {
   "cell_type": "code",
   "execution_count": 3,
   "metadata": {},
   "outputs": [],
   "source": [
    "tissue_msb_dict = {'DNA_1070865FA1-5013': 'MSB8405PAIR2MS2TMT.raw', \n",
    "                   'DNA_1183384FA1-5013': 'MSB46732n46733A.raw', \n",
    "                   'DNA_1134036FA1-5013': 'MSB46734n46735A.raw',\n",
    "                   'DNA_124768F-5013': 'MSB46736n46737A.raw', \n",
    "                   'DNA_30686F-5013': 'MSB46738n46739A.raw',\n",
    "                  'DNA_H2009': 'MSB-9251_PAIR1.raw',\n",
    "                  'DNA_54147': 'MSB-9251_PAIR2.raw'}\n",
    "\n",
    "tissue_order = list(tissue_msb_dict.keys())\n",
    "tissue = tissue_order[0]"
   ]
  },
  {
   "cell_type": "code",
   "execution_count": 4,
   "metadata": {},
   "outputs": [],
   "source": [
    "sample_letter_map = pd.DataFrame({'Sample': ['DNA_1070865FA1-5013',\n",
    "                                            'DNA_1183384FA1-5013', 'DNA_1134036FA1-5013', 'DNA_124768F-5013',\n",
    "                                           'DNA_30686F-5013', 'DNA_H2009', 'DNA_54147'],\n",
    "                                  'Tissue': ['1070865FA1',\n",
    "                                            '1183384FA1', '1134036FA1', '124768F',\n",
    "                                           '30686F', 'H2009', '54147'],\n",
    "                                 'Tissue_letter': ['M', 'N', 'O', 'C', 'P', 'CellLine', 'Q']})"
   ]
  },
  {
   "cell_type": "markdown",
   "metadata": {},
   "source": [
    "Confirming LOH"
   ]
  },
  {
   "cell_type": "code",
   "execution_count": 5,
   "metadata": {
    "scrolled": true
   },
   "outputs": [],
   "source": [
    "output_df = pd.read_csv('/rnd/users/rpyke/data/00-DASH/manuscript_data_v2/pancancer.dash_output.csv', index_col=0)\n",
    "output_cell_line_df = pd.read_csv('/rnd/users/rpyke/data/00-DASH/manuscript_data_v2/validation.immunopeptidomics_cell_line.dash_output.csv')\n",
    "\n",
    "output_df = pd.concat([output_df, output_cell_line_df], sort=True)\n",
    "output_df['gene'] = output_df['hla_locus']"
   ]
  },
  {
   "cell_type": "code",
   "execution_count": 6,
   "metadata": {
    "scrolled": true
   },
   "outputs": [
    {
     "data": {
      "text/html": [
       "<div>\n",
       "<style scoped>\n",
       "    .dataframe tbody tr th:only-of-type {\n",
       "        vertical-align: middle;\n",
       "    }\n",
       "\n",
       "    .dataframe tbody tr th {\n",
       "        vertical-align: top;\n",
       "    }\n",
       "\n",
       "    .dataframe thead th {\n",
       "        text-align: right;\n",
       "    }\n",
       "</style>\n",
       "<table border=\"1\" class=\"dataframe\">\n",
       "  <thead>\n",
       "    <tr style=\"text-align: right;\">\n",
       "      <th></th>\n",
       "      <th>Sample</th>\n",
       "      <th>dash_allele</th>\n",
       "      <th>purity</th>\n",
       "      <th>dash_r</th>\n",
       "      <th>prediction_probability</th>\n",
       "      <th>dash_deletion</th>\n",
       "    </tr>\n",
       "  </thead>\n",
       "  <tbody>\n",
       "    <tr>\n",
       "      <th>0</th>\n",
       "      <td>DNA_54147</td>\n",
       "      <td>hla_a_03_01_01_01</td>\n",
       "      <td>0.80</td>\n",
       "      <td>1.2832544082591297</td>\n",
       "      <td>0.996365</td>\n",
       "      <td>False</td>\n",
       "    </tr>\n",
       "    <tr>\n",
       "      <th>1</th>\n",
       "      <td>DNA_54147</td>\n",
       "      <td>hla_a_02_01_01_01</td>\n",
       "      <td>0.80</td>\n",
       "      <td>0.08893851830163127</td>\n",
       "      <td>0.996365</td>\n",
       "      <td>True</td>\n",
       "    </tr>\n",
       "    <tr>\n",
       "      <th>2</th>\n",
       "      <td>DNA_54147</td>\n",
       "      <td>hla_b_07_02_01</td>\n",
       "      <td>0.80</td>\n",
       "      <td>1.2852207362043069</td>\n",
       "      <td>0.996365</td>\n",
       "      <td>False</td>\n",
       "    </tr>\n",
       "    <tr>\n",
       "      <th>3</th>\n",
       "      <td>DNA_54147</td>\n",
       "      <td>hla_b_40_02_01</td>\n",
       "      <td>0.80</td>\n",
       "      <td>0.10417378556205548</td>\n",
       "      <td>0.996365</td>\n",
       "      <td>True</td>\n",
       "    </tr>\n",
       "    <tr>\n",
       "      <th>4</th>\n",
       "      <td>DNA_54147</td>\n",
       "      <td>hla_c_02_02_02</td>\n",
       "      <td>0.80</td>\n",
       "      <td>0.08958876790183208</td>\n",
       "      <td>0.996365</td>\n",
       "      <td>True</td>\n",
       "    </tr>\n",
       "    <tr>\n",
       "      <th>5</th>\n",
       "      <td>DNA_54147</td>\n",
       "      <td>hla_c_07_02_01_01</td>\n",
       "      <td>0.80</td>\n",
       "      <td>1.2121310700528591</td>\n",
       "      <td>0.996365</td>\n",
       "      <td>False</td>\n",
       "    </tr>\n",
       "    <tr>\n",
       "      <th>0</th>\n",
       "      <td>DNA_124768F-5013</td>\n",
       "      <td>hla_a_25_01_01</td>\n",
       "      <td>0.23</td>\n",
       "      <td>0.6339447508104947</td>\n",
       "      <td>0.993663</td>\n",
       "      <td>True</td>\n",
       "    </tr>\n",
       "    <tr>\n",
       "      <th>1</th>\n",
       "      <td>DNA_124768F-5013</td>\n",
       "      <td>hla_a_24_02_01_01</td>\n",
       "      <td>0.23</td>\n",
       "      <td>1.7644244627809802</td>\n",
       "      <td>0.993663</td>\n",
       "      <td>False</td>\n",
       "    </tr>\n",
       "    <tr>\n",
       "      <th>2</th>\n",
       "      <td>DNA_124768F-5013</td>\n",
       "      <td>hla_b_38_01_01</td>\n",
       "      <td>0.23</td>\n",
       "      <td>1.6827887259284153</td>\n",
       "      <td>0.991004</td>\n",
       "      <td>False</td>\n",
       "    </tr>\n",
       "    <tr>\n",
       "      <th>3</th>\n",
       "      <td>DNA_124768F-5013</td>\n",
       "      <td>hla_b_18_01_01_01</td>\n",
       "      <td>0.23</td>\n",
       "      <td>0.600105028866404</td>\n",
       "      <td>0.991004</td>\n",
       "      <td>True</td>\n",
       "    </tr>\n",
       "    <tr>\n",
       "      <th>4</th>\n",
       "      <td>DNA_124768F-5013</td>\n",
       "      <td>hla_c_12_03_01_01</td>\n",
       "      <td>0.23</td>\n",
       "      <td>-</td>\n",
       "      <td>-1.000000</td>\n",
       "      <td>False</td>\n",
       "    </tr>\n",
       "    <tr>\n",
       "      <th>5</th>\n",
       "      <td>DNA_124768F-5013</td>\n",
       "      <td>hla_c_12_03_01_01</td>\n",
       "      <td>0.23</td>\n",
       "      <td>-</td>\n",
       "      <td>-1.000000</td>\n",
       "      <td>False</td>\n",
       "    </tr>\n",
       "    <tr>\n",
       "      <th>0</th>\n",
       "      <td>DNA_1134036FA1-5013</td>\n",
       "      <td>hla_a_24_02_01_01</td>\n",
       "      <td>0.11</td>\n",
       "      <td>1.095181941055805</td>\n",
       "      <td>0.980240</td>\n",
       "      <td>False</td>\n",
       "    </tr>\n",
       "    <tr>\n",
       "      <th>1</th>\n",
       "      <td>DNA_1134036FA1-5013</td>\n",
       "      <td>hla_a_03_01_01_01</td>\n",
       "      <td>0.11</td>\n",
       "      <td>0.8090530472072852</td>\n",
       "      <td>0.980240</td>\n",
       "      <td>True</td>\n",
       "    </tr>\n",
       "    <tr>\n",
       "      <th>2</th>\n",
       "      <td>DNA_1134036FA1-5013</td>\n",
       "      <td>hla_b_35_02_01</td>\n",
       "      <td>0.11</td>\n",
       "      <td>1.0600456492935597</td>\n",
       "      <td>0.975443</td>\n",
       "      <td>False</td>\n",
       "    </tr>\n",
       "    <tr>\n",
       "      <th>3</th>\n",
       "      <td>DNA_1134036FA1-5013</td>\n",
       "      <td>hla_b_44_02_01_01</td>\n",
       "      <td>0.11</td>\n",
       "      <td>0.8056166363718527</td>\n",
       "      <td>0.975443</td>\n",
       "      <td>True</td>\n",
       "    </tr>\n",
       "    <tr>\n",
       "      <th>4</th>\n",
       "      <td>DNA_1134036FA1-5013</td>\n",
       "      <td>hla_c_05_01_01_01</td>\n",
       "      <td>0.11</td>\n",
       "      <td>0.8125731368951117</td>\n",
       "      <td>0.965916</td>\n",
       "      <td>True</td>\n",
       "    </tr>\n",
       "    <tr>\n",
       "      <th>5</th>\n",
       "      <td>DNA_1134036FA1-5013</td>\n",
       "      <td>hla_c_04_01_01_01</td>\n",
       "      <td>0.11</td>\n",
       "      <td>1.0052114112023751</td>\n",
       "      <td>0.965916</td>\n",
       "      <td>False</td>\n",
       "    </tr>\n",
       "    <tr>\n",
       "      <th>0</th>\n",
       "      <td>DNA_1183384FA1-5013</td>\n",
       "      <td>hla_a_03_01_01_01</td>\n",
       "      <td>0.11</td>\n",
       "      <td>-</td>\n",
       "      <td>-1.000000</td>\n",
       "      <td>False</td>\n",
       "    </tr>\n",
       "    <tr>\n",
       "      <th>1</th>\n",
       "      <td>DNA_1183384FA1-5013</td>\n",
       "      <td>hla_a_03_01_01_01</td>\n",
       "      <td>0.11</td>\n",
       "      <td>-</td>\n",
       "      <td>-1.000000</td>\n",
       "      <td>False</td>\n",
       "    </tr>\n",
       "    <tr>\n",
       "      <th>2</th>\n",
       "      <td>DNA_1183384FA1-5013</td>\n",
       "      <td>hla_b_35_03_01</td>\n",
       "      <td>0.11</td>\n",
       "      <td>1.1046088903148248</td>\n",
       "      <td>0.022765</td>\n",
       "      <td>False</td>\n",
       "    </tr>\n",
       "    <tr>\n",
       "      <th>3</th>\n",
       "      <td>DNA_1183384FA1-5013</td>\n",
       "      <td>hla_b_18_05</td>\n",
       "      <td>0.11</td>\n",
       "      <td>0.8010214441801838</td>\n",
       "      <td>0.022765</td>\n",
       "      <td>False</td>\n",
       "    </tr>\n",
       "    <tr>\n",
       "      <th>4</th>\n",
       "      <td>DNA_1183384FA1-5013</td>\n",
       "      <td>hla_c_12_03_01_01</td>\n",
       "      <td>0.11</td>\n",
       "      <td>0.7160499424618622</td>\n",
       "      <td>0.029332</td>\n",
       "      <td>False</td>\n",
       "    </tr>\n",
       "    <tr>\n",
       "      <th>5</th>\n",
       "      <td>DNA_1183384FA1-5013</td>\n",
       "      <td>hla_c_04_01_01_01</td>\n",
       "      <td>0.11</td>\n",
       "      <td>1.1188295580518028</td>\n",
       "      <td>0.029332</td>\n",
       "      <td>False</td>\n",
       "    </tr>\n",
       "    <tr>\n",
       "      <th>0</th>\n",
       "      <td>DNA_30686F-5013</td>\n",
       "      <td>hla_a_25_01_01</td>\n",
       "      <td>0.66</td>\n",
       "      <td>1.130328147462225</td>\n",
       "      <td>0.000656</td>\n",
       "      <td>False</td>\n",
       "    </tr>\n",
       "    <tr>\n",
       "      <th>1</th>\n",
       "      <td>DNA_30686F-5013</td>\n",
       "      <td>hla_a_01_01_01_01</td>\n",
       "      <td>0.66</td>\n",
       "      <td>1.0801429144090111</td>\n",
       "      <td>0.000656</td>\n",
       "      <td>False</td>\n",
       "    </tr>\n",
       "    <tr>\n",
       "      <th>2</th>\n",
       "      <td>DNA_30686F-5013</td>\n",
       "      <td>hla_b_57_01_01</td>\n",
       "      <td>0.66</td>\n",
       "      <td>1.0259438976997912</td>\n",
       "      <td>0.000742</td>\n",
       "      <td>False</td>\n",
       "    </tr>\n",
       "    <tr>\n",
       "      <th>3</th>\n",
       "      <td>DNA_30686F-5013</td>\n",
       "      <td>hla_b_51_01_01</td>\n",
       "      <td>0.66</td>\n",
       "      <td>1.1267448599895653</td>\n",
       "      <td>0.000742</td>\n",
       "      <td>False</td>\n",
       "    </tr>\n",
       "    <tr>\n",
       "      <th>4</th>\n",
       "      <td>DNA_30686F-5013</td>\n",
       "      <td>hla_c_06_02_01_01</td>\n",
       "      <td>0.66</td>\n",
       "      <td>1.0395038337574176</td>\n",
       "      <td>0.000490</td>\n",
       "      <td>False</td>\n",
       "    </tr>\n",
       "    <tr>\n",
       "      <th>5</th>\n",
       "      <td>DNA_30686F-5013</td>\n",
       "      <td>hla_c_14_02_01</td>\n",
       "      <td>0.66</td>\n",
       "      <td>1.0801757821861429</td>\n",
       "      <td>0.000490</td>\n",
       "      <td>False</td>\n",
       "    </tr>\n",
       "    <tr>\n",
       "      <th>0</th>\n",
       "      <td>DNA_1070865FA1-5013</td>\n",
       "      <td>hla_a_68_01_02</td>\n",
       "      <td>0.17</td>\n",
       "      <td>0.9334184407119052</td>\n",
       "      <td>0.002001</td>\n",
       "      <td>False</td>\n",
       "    </tr>\n",
       "    <tr>\n",
       "      <th>1</th>\n",
       "      <td>DNA_1070865FA1-5013</td>\n",
       "      <td>hla_a_32_01_01</td>\n",
       "      <td>0.17</td>\n",
       "      <td>0.9454132380674868</td>\n",
       "      <td>0.002001</td>\n",
       "      <td>False</td>\n",
       "    </tr>\n",
       "    <tr>\n",
       "      <th>2</th>\n",
       "      <td>DNA_1070865FA1-5013</td>\n",
       "      <td>hla_b_40_01_02</td>\n",
       "      <td>0.17</td>\n",
       "      <td>0.9333445015783792</td>\n",
       "      <td>0.002071</td>\n",
       "      <td>False</td>\n",
       "    </tr>\n",
       "    <tr>\n",
       "      <th>3</th>\n",
       "      <td>DNA_1070865FA1-5013</td>\n",
       "      <td>hla_b_51_01_01</td>\n",
       "      <td>0.17</td>\n",
       "      <td>0.9297037074549122</td>\n",
       "      <td>0.002071</td>\n",
       "      <td>False</td>\n",
       "    </tr>\n",
       "    <tr>\n",
       "      <th>4</th>\n",
       "      <td>DNA_1070865FA1-5013</td>\n",
       "      <td>hla_c_03_04_01_01</td>\n",
       "      <td>0.17</td>\n",
       "      <td>0.8913053850261776</td>\n",
       "      <td>0.004971</td>\n",
       "      <td>False</td>\n",
       "    </tr>\n",
       "    <tr>\n",
       "      <th>5</th>\n",
       "      <td>DNA_1070865FA1-5013</td>\n",
       "      <td>hla_c_15_02_01</td>\n",
       "      <td>0.17</td>\n",
       "      <td>0.96904021641719</td>\n",
       "      <td>0.004971</td>\n",
       "      <td>False</td>\n",
       "    </tr>\n",
       "    <tr>\n",
       "      <th>0</th>\n",
       "      <td>DNA_H2009</td>\n",
       "      <td>hla_a_03_01_01_01</td>\n",
       "      <td>1.00</td>\n",
       "      <td>-</td>\n",
       "      <td>-1.000000</td>\n",
       "      <td>False</td>\n",
       "    </tr>\n",
       "    <tr>\n",
       "      <th>1</th>\n",
       "      <td>DNA_H2009</td>\n",
       "      <td>hla_a_03_01_01_01</td>\n",
       "      <td>1.00</td>\n",
       "      <td>-</td>\n",
       "      <td>-1.000000</td>\n",
       "      <td>False</td>\n",
       "    </tr>\n",
       "    <tr>\n",
       "      <th>2</th>\n",
       "      <td>DNA_H2009</td>\n",
       "      <td>hla_b_07_02_01</td>\n",
       "      <td>1.00</td>\n",
       "      <td>1.7519400314477998</td>\n",
       "      <td>0.977171</td>\n",
       "      <td>False</td>\n",
       "    </tr>\n",
       "    <tr>\n",
       "      <th>3</th>\n",
       "      <td>DNA_H2009</td>\n",
       "      <td>hla_b_51_01_01</td>\n",
       "      <td>1.00</td>\n",
       "      <td>7.321407811840311e-05</td>\n",
       "      <td>0.977171</td>\n",
       "      <td>True</td>\n",
       "    </tr>\n",
       "    <tr>\n",
       "      <th>4</th>\n",
       "      <td>DNA_H2009</td>\n",
       "      <td>hla_c_07_02_01_01</td>\n",
       "      <td>1.00</td>\n",
       "      <td>1.4620073579969766</td>\n",
       "      <td>0.975468</td>\n",
       "      <td>False</td>\n",
       "    </tr>\n",
       "    <tr>\n",
       "      <th>5</th>\n",
       "      <td>DNA_H2009</td>\n",
       "      <td>hla_c_15_02_01</td>\n",
       "      <td>1.00</td>\n",
       "      <td>6.140662545980678e-05</td>\n",
       "      <td>0.975468</td>\n",
       "      <td>True</td>\n",
       "    </tr>\n",
       "  </tbody>\n",
       "</table>\n",
       "</div>"
      ],
      "text/plain": [
       "                Sample        dash_allele  purity                 dash_r  \\\n",
       "0            DNA_54147  hla_a_03_01_01_01    0.80     1.2832544082591297   \n",
       "1            DNA_54147  hla_a_02_01_01_01    0.80    0.08893851830163127   \n",
       "2            DNA_54147     hla_b_07_02_01    0.80     1.2852207362043069   \n",
       "3            DNA_54147     hla_b_40_02_01    0.80    0.10417378556205548   \n",
       "4            DNA_54147     hla_c_02_02_02    0.80    0.08958876790183208   \n",
       "5            DNA_54147  hla_c_07_02_01_01    0.80     1.2121310700528591   \n",
       "0     DNA_124768F-5013     hla_a_25_01_01    0.23     0.6339447508104947   \n",
       "1     DNA_124768F-5013  hla_a_24_02_01_01    0.23     1.7644244627809802   \n",
       "2     DNA_124768F-5013     hla_b_38_01_01    0.23     1.6827887259284153   \n",
       "3     DNA_124768F-5013  hla_b_18_01_01_01    0.23      0.600105028866404   \n",
       "4     DNA_124768F-5013  hla_c_12_03_01_01    0.23                      -   \n",
       "5     DNA_124768F-5013  hla_c_12_03_01_01    0.23                      -   \n",
       "0  DNA_1134036FA1-5013  hla_a_24_02_01_01    0.11      1.095181941055805   \n",
       "1  DNA_1134036FA1-5013  hla_a_03_01_01_01    0.11     0.8090530472072852   \n",
       "2  DNA_1134036FA1-5013     hla_b_35_02_01    0.11     1.0600456492935597   \n",
       "3  DNA_1134036FA1-5013  hla_b_44_02_01_01    0.11     0.8056166363718527   \n",
       "4  DNA_1134036FA1-5013  hla_c_05_01_01_01    0.11     0.8125731368951117   \n",
       "5  DNA_1134036FA1-5013  hla_c_04_01_01_01    0.11     1.0052114112023751   \n",
       "0  DNA_1183384FA1-5013  hla_a_03_01_01_01    0.11                      -   \n",
       "1  DNA_1183384FA1-5013  hla_a_03_01_01_01    0.11                      -   \n",
       "2  DNA_1183384FA1-5013     hla_b_35_03_01    0.11     1.1046088903148248   \n",
       "3  DNA_1183384FA1-5013        hla_b_18_05    0.11     0.8010214441801838   \n",
       "4  DNA_1183384FA1-5013  hla_c_12_03_01_01    0.11     0.7160499424618622   \n",
       "5  DNA_1183384FA1-5013  hla_c_04_01_01_01    0.11     1.1188295580518028   \n",
       "0      DNA_30686F-5013     hla_a_25_01_01    0.66      1.130328147462225   \n",
       "1      DNA_30686F-5013  hla_a_01_01_01_01    0.66     1.0801429144090111   \n",
       "2      DNA_30686F-5013     hla_b_57_01_01    0.66     1.0259438976997912   \n",
       "3      DNA_30686F-5013     hla_b_51_01_01    0.66     1.1267448599895653   \n",
       "4      DNA_30686F-5013  hla_c_06_02_01_01    0.66     1.0395038337574176   \n",
       "5      DNA_30686F-5013     hla_c_14_02_01    0.66     1.0801757821861429   \n",
       "0  DNA_1070865FA1-5013     hla_a_68_01_02    0.17     0.9334184407119052   \n",
       "1  DNA_1070865FA1-5013     hla_a_32_01_01    0.17     0.9454132380674868   \n",
       "2  DNA_1070865FA1-5013     hla_b_40_01_02    0.17     0.9333445015783792   \n",
       "3  DNA_1070865FA1-5013     hla_b_51_01_01    0.17     0.9297037074549122   \n",
       "4  DNA_1070865FA1-5013  hla_c_03_04_01_01    0.17     0.8913053850261776   \n",
       "5  DNA_1070865FA1-5013     hla_c_15_02_01    0.17       0.96904021641719   \n",
       "0            DNA_H2009  hla_a_03_01_01_01    1.00                      -   \n",
       "1            DNA_H2009  hla_a_03_01_01_01    1.00                      -   \n",
       "2            DNA_H2009     hla_b_07_02_01    1.00     1.7519400314477998   \n",
       "3            DNA_H2009     hla_b_51_01_01    1.00  7.321407811840311e-05   \n",
       "4            DNA_H2009  hla_c_07_02_01_01    1.00     1.4620073579969766   \n",
       "5            DNA_H2009     hla_c_15_02_01    1.00  6.140662545980678e-05   \n",
       "\n",
       "   prediction_probability  dash_deletion  \n",
       "0                0.996365          False  \n",
       "1                0.996365           True  \n",
       "2                0.996365          False  \n",
       "3                0.996365           True  \n",
       "4                0.996365           True  \n",
       "5                0.996365          False  \n",
       "0                0.993663           True  \n",
       "1                0.993663          False  \n",
       "2                0.991004          False  \n",
       "3                0.991004           True  \n",
       "4               -1.000000          False  \n",
       "5               -1.000000          False  \n",
       "0                0.980240          False  \n",
       "1                0.980240           True  \n",
       "2                0.975443          False  \n",
       "3                0.975443           True  \n",
       "4                0.965916           True  \n",
       "5                0.965916          False  \n",
       "0               -1.000000          False  \n",
       "1               -1.000000          False  \n",
       "2                0.022765          False  \n",
       "3                0.022765          False  \n",
       "4                0.029332          False  \n",
       "5                0.029332          False  \n",
       "0                0.000656          False  \n",
       "1                0.000656          False  \n",
       "2                0.000742          False  \n",
       "3                0.000742          False  \n",
       "4                0.000490          False  \n",
       "5                0.000490          False  \n",
       "0                0.002001          False  \n",
       "1                0.002001          False  \n",
       "2                0.002071          False  \n",
       "3                0.002071          False  \n",
       "4                0.004971          False  \n",
       "5                0.004971          False  \n",
       "0               -1.000000          False  \n",
       "1               -1.000000          False  \n",
       "2                0.977171          False  \n",
       "3                0.977171           True  \n",
       "4                0.975468          False  \n",
       "5                0.975468           True  "
      ]
     },
     "execution_count": 6,
     "metadata": {},
     "output_type": "execute_result"
    }
   ],
   "source": [
    "output_df[(output_df['Sample'].isin(tissue_order))][['Sample', 'dash_allele', 'purity',\n",
    "                                                                'dash_r', 'prediction_probability', 'dash_deletion']]"
   ]
  },
  {
   "cell_type": "markdown",
   "metadata": {},
   "source": [
    "### Run through binding predictions"
   ]
  },
  {
   "cell_type": "markdown",
   "metadata": {},
   "source": [
    "Raw data, pre-processing and separation: <br>\n",
    "/rnd/users/mp-wsrv-hmc01/dash-validation/comparative-proteomics/TMT-19MAR2020/peptide_with_TMTQuant.csv <br>\n",
    "/rnd/users/mp-wsrv-hmc01/dash-validation/comparative-proteomics/TMT-09APR2021/peptide_with_TMTQuant.csv"
   ]
  },
  {
   "cell_type": "code",
   "execution_count": 7,
   "metadata": {},
   "outputs": [],
   "source": [
    "def format_hla(x):\n",
    "    return 'HLA-{0}{1}:{2}'.format(x.split('_')[1].upper(),x.split('_')[2], x.split('_')[3])"
   ]
  },
  {
   "cell_type": "code",
   "execution_count": 8,
   "metadata": {
    "scrolled": true
   },
   "outputs": [
    {
     "name": "stdout",
     "output_type": "stream",
     "text": [
      "DNA_1070865FA1-5013\n",
      "DNA_1183384FA1-5013\n",
      "DNA_1134036FA1-5013\n",
      "DNA_124768F-5013\n",
      "DNA_30686F-5013\n",
      "DNA_H2009\n",
      "DNA_54147\n"
     ]
    }
   ],
   "source": [
    "all_dfs = []\n",
    "for tissue in tissue_order:\n",
    "    print(tissue)\n",
    "    tmp_df = pd.read_csv('/rnd/users/rpyke/data/00-DASH/validation/TMT/peaks/raw/{0}.out.csv'.format(tissue))\n",
    "    all_dfs.append(tmp_df)\n"
   ]
  },
  {
   "cell_type": "code",
   "execution_count": 9,
   "metadata": {},
   "outputs": [
    {
     "name": "stderr",
     "output_type": "stream",
     "text": [
      "\n",
      "A value is trying to be set on a copy of a slice from a DataFrame.\n",
      "Try using .loc[row_indexer,col_indexer] = value instead\n",
      "\n",
      "See the caveats in the documentation: http://pandas.pydata.org/pandas-docs/stable/indexing.html#indexing-view-versus-copy\n"
     ]
    }
   ],
   "source": [
    "AAList = list(string.ascii_uppercase)\n",
    "def get_peptide(peptide):\n",
    "    pepSeq = [item for item in peptide if item in AAList]\n",
    "    pepSeq = \"\".join(pepSeq)\n",
    "    return pepSeq\n",
    "\n",
    "unique_peptide_counts, nine_mer_peptide_counts = [], []\n",
    "all_dfs_filtered = []\n",
    "for df in all_dfs:\n",
    "    df['Sequence'] = df.Peptide.apply(get_peptide)\n",
    "    df = df[df.has_good_signal == 'Y']\n",
    "    df['Sequence_length'] = df.Sequence.str.len()\n",
    "    df = df[(df.Sequence_length > 7) & (df.Sequence_length < 12)]\n",
    "    all_dfs_filtered.append(df)\n",
    "    unique_peptide_counts.append(len(df.Sequence.unique()))\n",
    "    nine_mer_peptide_counts.append(len(df[df.Sequence.str.len() == 9].Sequence.unique()))\n",
    "\n",
    "pep_counts_df = pd.DataFrame({'Tissue': tissue_order, 'Unique Peptides': unique_peptide_counts,\n",
    "                             'Unique 9-mer Peptides': nine_mer_peptide_counts})\n",
    "pep_counts_df['Tissue'] = pep_counts_df['Tissue'].str.split('_').str[1].str.split('-').str[0]\n"
   ]
  },
  {
   "cell_type": "code",
   "execution_count": 10,
   "metadata": {},
   "outputs": [],
   "source": [
    "pep_counts_df = pd.merge(pep_counts_df, sample_letter_map,\n",
    "                        on='Tissue', how='left')"
   ]
  },
  {
   "cell_type": "code",
   "execution_count": 11,
   "metadata": {},
   "outputs": [
    {
     "data": {
      "text/html": [
       "<div>\n",
       "<style scoped>\n",
       "    .dataframe tbody tr th:only-of-type {\n",
       "        vertical-align: middle;\n",
       "    }\n",
       "\n",
       "    .dataframe tbody tr th {\n",
       "        vertical-align: top;\n",
       "    }\n",
       "\n",
       "    .dataframe thead th {\n",
       "        text-align: right;\n",
       "    }\n",
       "</style>\n",
       "<table border=\"1\" class=\"dataframe\">\n",
       "  <thead>\n",
       "    <tr style=\"text-align: right;\">\n",
       "      <th></th>\n",
       "      <th>Tissue</th>\n",
       "      <th>Unique Peptides</th>\n",
       "      <th>Unique 9-mer Peptides</th>\n",
       "      <th>Sample</th>\n",
       "      <th>Tissue_letter</th>\n",
       "    </tr>\n",
       "  </thead>\n",
       "  <tbody>\n",
       "    <tr>\n",
       "      <th>0</th>\n",
       "      <td>1070865FA1</td>\n",
       "      <td>8319</td>\n",
       "      <td>5245</td>\n",
       "      <td>DNA_1070865FA1-5013</td>\n",
       "      <td>M</td>\n",
       "    </tr>\n",
       "    <tr>\n",
       "      <th>1</th>\n",
       "      <td>1183384FA1</td>\n",
       "      <td>4762</td>\n",
       "      <td>3285</td>\n",
       "      <td>DNA_1183384FA1-5013</td>\n",
       "      <td>N</td>\n",
       "    </tr>\n",
       "    <tr>\n",
       "      <th>2</th>\n",
       "      <td>1134036FA1</td>\n",
       "      <td>3135</td>\n",
       "      <td>2143</td>\n",
       "      <td>DNA_1134036FA1-5013</td>\n",
       "      <td>O</td>\n",
       "    </tr>\n",
       "    <tr>\n",
       "      <th>3</th>\n",
       "      <td>124768F</td>\n",
       "      <td>6196</td>\n",
       "      <td>4309</td>\n",
       "      <td>DNA_124768F-5013</td>\n",
       "      <td>C</td>\n",
       "    </tr>\n",
       "    <tr>\n",
       "      <th>4</th>\n",
       "      <td>30686F</td>\n",
       "      <td>4444</td>\n",
       "      <td>2883</td>\n",
       "      <td>DNA_30686F-5013</td>\n",
       "      <td>P</td>\n",
       "    </tr>\n",
       "    <tr>\n",
       "      <th>5</th>\n",
       "      <td>H2009</td>\n",
       "      <td>5546</td>\n",
       "      <td>3321</td>\n",
       "      <td>DNA_H2009</td>\n",
       "      <td>CellLine</td>\n",
       "    </tr>\n",
       "    <tr>\n",
       "      <th>6</th>\n",
       "      <td>54147</td>\n",
       "      <td>1039</td>\n",
       "      <td>680</td>\n",
       "      <td>DNA_54147</td>\n",
       "      <td>Q</td>\n",
       "    </tr>\n",
       "  </tbody>\n",
       "</table>\n",
       "</div>"
      ],
      "text/plain": [
       "       Tissue  Unique Peptides  Unique 9-mer Peptides               Sample  \\\n",
       "0  1070865FA1             8319                   5245  DNA_1070865FA1-5013   \n",
       "1  1183384FA1             4762                   3285  DNA_1183384FA1-5013   \n",
       "2  1134036FA1             3135                   2143  DNA_1134036FA1-5013   \n",
       "3     124768F             6196                   4309     DNA_124768F-5013   \n",
       "4      30686F             4444                   2883      DNA_30686F-5013   \n",
       "5       H2009             5546                   3321            DNA_H2009   \n",
       "6       54147             1039                    680            DNA_54147   \n",
       "\n",
       "  Tissue_letter  \n",
       "0             M  \n",
       "1             N  \n",
       "2             O  \n",
       "3             C  \n",
       "4             P  \n",
       "5      CellLine  \n",
       "6             Q  "
      ]
     },
     "execution_count": 11,
     "metadata": {},
     "output_type": "execute_result"
    }
   ],
   "source": [
    "pep_counts_df"
   ]
  },
  {
   "cell_type": "code",
   "execution_count": 12,
   "metadata": {},
   "outputs": [
    {
     "data": {
      "text/plain": [
       "4777.285714285715"
      ]
     },
     "execution_count": 12,
     "metadata": {},
     "output_type": "execute_result"
    }
   ],
   "source": [
    "pep_counts_df['Unique Peptides'].mean()"
   ]
  },
  {
   "cell_type": "code",
   "execution_count": 13,
   "metadata": {},
   "outputs": [
    {
     "data": {
      "text/plain": [
       "4762.0"
      ]
     },
     "execution_count": 13,
     "metadata": {},
     "output_type": "execute_result"
    }
   ],
   "source": [
    "pep_counts_df['Unique Peptides'].median()"
   ]
  },
  {
   "cell_type": "code",
   "execution_count": 14,
   "metadata": {},
   "outputs": [],
   "source": [
    "pep_counts_df['Fraction 9-mer'] = pep_counts_df['Unique 9-mer Peptides'] / pep_counts_df['Unique Peptides']"
   ]
  },
  {
   "cell_type": "code",
   "execution_count": 15,
   "metadata": {},
   "outputs": [
    {
     "data": {
      "text/plain": [
       "0.6573381664466889"
      ]
     },
     "execution_count": 15,
     "metadata": {},
     "output_type": "execute_result"
    }
   ],
   "source": [
    "pep_counts_df['Fraction 9-mer'].mean()"
   ]
  },
  {
   "cell_type": "code",
   "execution_count": 16,
   "metadata": {
    "scrolled": true
   },
   "outputs": [
    {
     "data": {
      "text/plain": [
       "0.6544754571703562"
      ]
     },
     "execution_count": 16,
     "metadata": {},
     "output_type": "execute_result"
    }
   ],
   "source": [
    "pep_counts_df['Fraction 9-mer'].median()"
   ]
  },
  {
   "cell_type": "code",
   "execution_count": 17,
   "metadata": {},
   "outputs": [
    {
     "data": {
      "image/png": "[encoded data removed]",
      "text/plain": [
       "<Figure size 144x216 with 1 Axes>"
      ]
     },
     "metadata": {
      "needs_background": "light"
     },
     "output_type": "display_data"
    }
   ],
   "source": [
    "plt.figure(figsize=(2, 3))\n",
    "sns.set_context('talk', font_scale=0.7)\n",
    "sns.barplot(x='Tissue_letter', y='Unique Peptides', \n",
    "            data=pep_counts_df[pep_counts_df.Tissue_letter != 'CellLine'].sort_values('Unique Peptides'), color='grey')\n",
    "#plt.xticks(rotation=90)\n",
    "plt.xlabel('Tissue')\n",
    "plt.ylabel('Unique peptides')\n",
    "plt.savefig('/rnd/users/rpyke/data/00-DASH/figures/immunopep.unique_peps.bar.pdf',\n",
    "           bbox_inches='tight')"
   ]
  },
  {
   "cell_type": "code",
   "execution_count": 18,
   "metadata": {},
   "outputs": [
    {
     "data": {
      "text/html": [
       "<div>\n",
       "<style scoped>\n",
       "    .dataframe tbody tr th:only-of-type {\n",
       "        vertical-align: middle;\n",
       "    }\n",
       "\n",
       "    .dataframe tbody tr th {\n",
       "        vertical-align: top;\n",
       "    }\n",
       "\n",
       "    .dataframe thead th {\n",
       "        text-align: right;\n",
       "    }\n",
       "</style>\n",
       "<table border=\"1\" class=\"dataframe\">\n",
       "  <thead>\n",
       "    <tr style=\"text-align: right;\">\n",
       "      <th></th>\n",
       "      <th>Tissue</th>\n",
       "      <th>Unique Peptides</th>\n",
       "      <th>Unique 9-mer Peptides</th>\n",
       "      <th>Sample</th>\n",
       "      <th>Tissue_letter</th>\n",
       "      <th>Fraction 9-mer</th>\n",
       "    </tr>\n",
       "  </thead>\n",
       "  <tbody>\n",
       "    <tr>\n",
       "      <th>6</th>\n",
       "      <td>54147</td>\n",
       "      <td>1039</td>\n",
       "      <td>680</td>\n",
       "      <td>DNA_54147</td>\n",
       "      <td>Q</td>\n",
       "      <td>0.654475</td>\n",
       "    </tr>\n",
       "    <tr>\n",
       "      <th>2</th>\n",
       "      <td>1134036FA1</td>\n",
       "      <td>3135</td>\n",
       "      <td>2143</td>\n",
       "      <td>DNA_1134036FA1-5013</td>\n",
       "      <td>O</td>\n",
       "      <td>0.683573</td>\n",
       "    </tr>\n",
       "    <tr>\n",
       "      <th>4</th>\n",
       "      <td>30686F</td>\n",
       "      <td>4444</td>\n",
       "      <td>2883</td>\n",
       "      <td>DNA_30686F-5013</td>\n",
       "      <td>P</td>\n",
       "      <td>0.648740</td>\n",
       "    </tr>\n",
       "    <tr>\n",
       "      <th>1</th>\n",
       "      <td>1183384FA1</td>\n",
       "      <td>4762</td>\n",
       "      <td>3285</td>\n",
       "      <td>DNA_1183384FA1-5013</td>\n",
       "      <td>N</td>\n",
       "      <td>0.689836</td>\n",
       "    </tr>\n",
       "    <tr>\n",
       "      <th>3</th>\n",
       "      <td>124768F</td>\n",
       "      <td>6196</td>\n",
       "      <td>4309</td>\n",
       "      <td>DNA_124768F-5013</td>\n",
       "      <td>C</td>\n",
       "      <td>0.695449</td>\n",
       "    </tr>\n",
       "    <tr>\n",
       "      <th>0</th>\n",
       "      <td>1070865FA1</td>\n",
       "      <td>8319</td>\n",
       "      <td>5245</td>\n",
       "      <td>DNA_1070865FA1-5013</td>\n",
       "      <td>M</td>\n",
       "      <td>0.630484</td>\n",
       "    </tr>\n",
       "  </tbody>\n",
       "</table>\n",
       "</div>"
      ],
      "text/plain": [
       "       Tissue  Unique Peptides  Unique 9-mer Peptides               Sample  \\\n",
       "6       54147             1039                    680            DNA_54147   \n",
       "2  1134036FA1             3135                   2143  DNA_1134036FA1-5013   \n",
       "4      30686F             4444                   2883      DNA_30686F-5013   \n",
       "1  1183384FA1             4762                   3285  DNA_1183384FA1-5013   \n",
       "3     124768F             6196                   4309     DNA_124768F-5013   \n",
       "0  1070865FA1             8319                   5245  DNA_1070865FA1-5013   \n",
       "\n",
       "  Tissue_letter  Fraction 9-mer  \n",
       "6             Q        0.654475  \n",
       "2             O        0.683573  \n",
       "4             P        0.648740  \n",
       "1             N        0.689836  \n",
       "3             C        0.695449  \n",
       "0             M        0.630484  "
      ]
     },
     "execution_count": 18,
     "metadata": {},
     "output_type": "execute_result"
    }
   ],
   "source": [
    "pep_counts_df[pep_counts_df.Tissue_letter != 'CellLine'].sort_values('Unique Peptides')"
   ]
  },
  {
   "cell_type": "code",
   "execution_count": 19,
   "metadata": {},
   "outputs": [],
   "source": [
    "# Saving source data\n",
    "panel_name = 'supp_figure_13a'\n",
    "pep_counts_df[pep_counts_df.Tissue_letter != 'CellLine'].sort_values('Unique Peptides')[['Tissue', 'Tissue_letter', 'Unique Peptides']].to_excel('/rnd/users/rpyke/data/00-DASH/manuscript_source_data/{0}.xlsx'.format(panel_name),\n",
    "                                 index=None)"
   ]
  },
  {
   "cell_type": "code",
   "execution_count": 20,
   "metadata": {},
   "outputs": [],
   "source": [
    "bpseq_df = pd.read_csv('/rnd/users/rpyke/data/00-DASH/manuscript_data_v2/validation.immunopeptidomics_bpseq.tab',\n",
    "                       sep='\\t')"
   ]
  },
  {
   "cell_type": "code",
   "execution_count": 21,
   "metadata": {},
   "outputs": [],
   "source": [
    "BASE = '/rnd/users/rpyke/data/00-DASH/validation/TMT'\n",
    "multi_allelic_base = '/rnd/users/mp-wsrv-hmc01/sherpa/data/datasets-multi'"
   ]
  },
  {
   "cell_type": "code",
   "execution_count": 22,
   "metadata": {},
   "outputs": [],
   "source": [
    "id_converter = {'DNA_1070865FA1-5013': '1070865F', \n",
    "               'DNA_1183384FA1-5013': '1183384F', \n",
    "               'DNA_1134036FA1-5013': '1134036F',\n",
    "               'DNA_124768F-5013': '124768B1', \n",
    "               'DNA_30686F-5013': '30686B1',\n",
    "               'DNA_H2009': 'H2009',\n",
    "               'DNA_54147': '54147'}"
   ]
  },
  {
   "cell_type": "code",
   "execution_count": 23,
   "metadata": {
    "scrolled": true
   },
   "outputs": [
    {
     "name": "stdout",
     "output_type": "stream",
     "text": [
      "DNA_1070865FA1-5013 8319 ['HLA-A68:01', 'HLA-A32:01', 'HLA-B40:01', 'HLA-B51:01', 'HLA-C03:04', 'HLA-C15:02']\n",
      "1070865F\n",
      "DNA_1183384FA1-5013 4762 ['HLA-A03:01', 'HLA-A03:01', 'HLA-B35:03', 'HLA-B18:05', 'HLA-C12:03', 'HLA-C04:01']\n",
      "1183384F\n",
      "DNA_1134036FA1-5013 3135 ['HLA-A24:02', 'HLA-A03:01', 'HLA-B35:02', 'HLA-B44:02', 'HLA-C05:01', 'HLA-C04:01']\n",
      "1134036F\n",
      "DNA_124768F-5013 6196 ['HLA-A25:01', 'HLA-A24:02', 'HLA-B38:01', 'HLA-B18:01', 'HLA-C12:03', 'HLA-C12:03']\n",
      "124768B1\n",
      "DNA_30686F-5013 4444 ['HLA-A25:01', 'HLA-A01:01', 'HLA-B57:01', 'HLA-B51:01', 'HLA-C06:02', 'HLA-C14:02']\n",
      "30686B1\n",
      "DNA_H2009 5546 ['HLA-A03:01', 'HLA-A03:01', 'HLA-B07:02', 'HLA-B51:01', 'HLA-C07:02', 'HLA-C15:02']\n",
      "H2009\n",
      "DNA_54147 1039 ['HLA-A03:01', 'HLA-A02:01', 'HLA-B07:02', 'HLA-B40:02', 'HLA-C02:02', 'HLA-C07:02']\n",
      "54147\n"
     ]
    }
   ],
   "source": [
    "input_files, output_files = [], []\n",
    "all_alleles = []\n",
    "for i, tissue in enumerate(tissue_order):\n",
    "    df = all_dfs_filtered[i]\n",
    "    all_peptides = list(df.Sequence.unique())\n",
    "\n",
    "    # Get HLA types\n",
    "    all_hlas_formatted = [format_hla(x) for x in list(output_df[output_df['Sample'] == tissue].dash_allele)]\n",
    "    all_alleles.extend(all_hlas_formatted)\n",
    "    \n",
    "    print(tissue, len(all_peptides), all_hlas_formatted)\n",
    "    peptide_df = pd.DataFrame({'pepseq': all_peptides})\n",
    "    \n",
    "    tmp_dfs = []\n",
    "    for allele in all_hlas_formatted:\n",
    "        peptide_df['allele'] = allele\n",
    "        tmp_dfs.append(peptide_df.copy())\n",
    "    tumor_peptide_df = pd.concat(tmp_dfs)\n",
    "    tumor_peptide_df = pd.merge(tumor_peptide_df, bpseq_df, on='allele', how='left')\n",
    "    tumor_peptide_df['peplen'] = tumor_peptide_df.pepseq.str.len()\n",
    "    tumor_peptide_df['label'] = 1\n",
    "    tumor_peptide_df['source'] = 'EMD'\n",
    "    tumor_peptide_df['category'] = 'test'\n",
    "    tumor_peptide_df['group'] = 1\n",
    "\n",
    "    input_file = '{0}/peaks/sherpa_input/{1}.csv'.format(BASE, tissue)\n",
    "    output_file = '{0}/peaks/sherpa_output/{1}.csv'.format(BASE, tissue)\n",
    "\n",
    "    tumor_peptide_df.to_csv(input_file, sep='\\t', index=None)\n",
    "    \n",
    "    input_files.append(input_file)\n",
    "    output_files.append(output_file)\n",
    "    \n",
    "    # Create peptide file\n",
    "    tumor_peptide_df['allele_mod'] = tumor_peptide_df['allele'].str[4:]\n",
    "    pep_file = '{0}/TMT-Tissue-{1}.PEAKS-SwissProt-1.0-MHCI_allele-peps.txt'.format(multi_allelic_base, tissue)\n",
    "    tumor_peptide_df[['pepseq', 'allele_mod']].to_csv(pep_file, sep='\\t', index=None, header=None)\n",
    "    \n",
    "    \n",
    "    print(id_converter[tissue])\n",
    "    # Create expression file\n",
    "    existing_exp_file = '{0}/Inhouse-Tissue-{1}.tpm.txt'.format(multi_allelic_base, id_converter[tissue])\n",
    "    new_exp_file = '{0}/TMT-Tissue-{1}.tpm.txt'.format(multi_allelic_base, tissue)\n",
    "    shutil.copy(existing_exp_file, new_exp_file)"
   ]
  },
  {
   "cell_type": "markdown",
   "metadata": {},
   "source": [
    "Run M1A / M1C on dataset to get all of the correct features"
   ]
  },
  {
   "cell_type": "markdown",
   "metadata": {},
   "source": [
    "Input file: /rnd/users/rpyke/data/00-DASH/sherpa/sherpa_input/20210412-102418_TMT.processedData.tab"
   ]
  },
  {
   "cell_type": "markdown",
   "metadata": {},
   "source": [
    "Presentation <br>\n",
    "The input file here is generated separately because it needed to go through M1A/C and associate gene expression"
   ]
  },
  {
   "cell_type": "code",
   "execution_count": 24,
   "metadata": {},
   "outputs": [],
   "source": [
    "def create_cluster_script_binding():\n",
    "    \n",
    "    new_script_file = '/rnd/users/rpyke/code/03-public_MS/scripts/run_sherpa.tmt.binding.sh'\n",
    "    print(new_script_file)\n",
    "    \n",
    "    with open(new_script_file, 'w') as out_file:\n",
    "        out_file.write(\"#! /bin/csh\\n\")\n",
    "        out_file.write(\"#$ -S /bin/csh\\n\")\n",
    "        out_file.write(\"#$ -cwd\\n\")\n",
    "        out_file.write(\"#$ -V\\n\")\n",
    "        out_file.write(\"#$ -pe shm 4\\n\")\n",
    "        out_file.write(\"#$ -l h_vmem=10G\\n\")\n",
    "        out_file.write(\"#$ -N SHERPA_binding\\n\")\n",
    "        out_file.write(\"#$ -q all.q\\n\")\n",
    "        out_file.write(\"#$ -o /rnd/users/rpyke/data/03-public_MS/sge_system_files/\\n\")\n",
    "        out_file.write(\"#$ -e /rnd/users/rpyke/data/03-public_MS/sge_system_files\\n\")\n",
    "        out_file.write(\"\\n\")\n",
    "\n",
    "        out_file.write(\"date\\n\")\n",
    "        out_file.write(\"hostname\\n\")\n",
    "\n",
    "        out_file.write(\"\\n\")\n",
    "    \n",
    "        # SNV\n",
    "        #out_file.write(\"cd /reference/env/dev/content/hs37d5/resources/version_control/sherpa/v1.2.3/SNV/\\n\")\n",
    "        #out_file.write(\"python /reference/env/dev/content/hs37d5/resources/version_control/sherpa/v1.2.3/SNV/1595312117657302__20200720-222838_snv_production_inhouse__3383dd3a8357423e977d9b6327b9b6f8.predict.py \" + \\\n",
    "        #                \"--in_file /rnd/users/rpyke/data/00-DASH/sherpa/sherpa_input/20200507-131322_TMT.processedData.tab \" + \\\n",
    "        #                \"--out_file /rnd/users/rpyke/data/00-DASH/sherpa/sherpa_output/20200507-131322_TMT.PRESENTATION.v1.2.3.tab \" + \\\n",
    "        #                \"--max_mem 30000000000 --max_cpus 4 --dataframe_backend parallel_pandas \" + \\\n",
    "        #                \"--calibration_file /reference/env/dev/content/hs37d5/resources/version_control/sherpa/v1.2.3/all_data.SNV.tab\\n\")   \n",
    "        #out_file.write(\"\\n\")\n",
    "        \n",
    "        out_file.write(\"cd /rnd/users/mp-wsrv-hmc01/sherpa/runs-M02/20210527-214831_binding_multi_with_features_on_multi/models/16221790641688628__20210527-214831_binding_multi_with_features_on_multi__ed7376489b3b49c08bb2ce5bac67ff90/deploy_dir/\\n\")\n",
    "        out_file.write(\"python /rnd/users/mp-wsrv-hmc01/sherpa/runs-M02/20210527-214831_binding_multi_with_features_on_multi/models/16221790641688628__20210527-214831_binding_multi_with_features_on_multi__ed7376489b3b49c08bb2ce5bac67ff90/deploy_dir/16221790641688628__20210527-214831_binding_multi_with_features_on_multi__ed7376489b3b49c08bb2ce5bac67ff90.predict.py \" + \\\n",
    "                        \"--in_file /rnd/users/rpyke/data/00-DASH/sherpa/sherpa_input/20210412-102418_TMT.processedData.tab \" + \\\n",
    "                        \"--out_file /rnd/users/rpyke/data/00-DASH/sherpa/sherpa_output/20210412-102418_TMT.BINDING.v20210527-214831_binding_multi_with_features_on_multi.tab \" + \\\n",
    "                        \"--max_mem 30000000000 --max_cpus 4 --dataframe_backend parallel_pandas \" + \\\n",
    "                        \"--calibration_file /rnd/users/mp-wsrv-hmc01/sherpa/rank/20210527-214831_binding_multi_with_features_on_multi/all_data.20210527-214831_binding_multi_with_features_on_multi.tab\\n\")   \n",
    "        out_file.write(\"\\n\")\n",
    "                  \n",
    "           \n",
    "        out_file.write(\"date\\n\")"
   ]
  },
  {
   "cell_type": "code",
   "execution_count": 25,
   "metadata": {
    "scrolled": true
   },
   "outputs": [
    {
     "name": "stdout",
     "output_type": "stream",
     "text": [
      "/rnd/users/rpyke/code/03-public_MS/scripts/run_sherpa.tmt.binding.sh\n"
     ]
    }
   ],
   "source": [
    "create_cluster_script_binding()"
   ]
  },
  {
   "cell_type": "markdown",
   "metadata": {},
   "source": [
    "Allele dictionary"
   ]
  },
  {
   "cell_type": "code",
   "execution_count": 26,
   "metadata": {},
   "outputs": [
    {
     "name": "stdout",
     "output_type": "stream",
     "text": [
      "DNA_1070865FA1-5013\n",
      "DNA_1183384FA1-5013\n",
      "DNA_1134036FA1-5013\n",
      "DNA_124768F-5013\n",
      "DNA_30686F-5013\n",
      "DNA_H2009\n",
      "DNA_54147\n"
     ]
    }
   ],
   "source": [
    "allele_dict = {}\n",
    "\n",
    "for tissue in tissue_order:\n",
    "    print(tissue)\n",
    "    hla_alleles = [format_hla(x) for x in list(output_df[output_df['Sample'] == tissue].dash_allele)]\n",
    "    allele_dict[tissue] = hla_alleles"
   ]
  },
  {
   "cell_type": "markdown",
   "metadata": {},
   "source": [
    "### Analyze results"
   ]
  },
  {
   "cell_type": "markdown",
   "metadata": {},
   "source": [
    "Plot fraction of peptides assigned to alleles"
   ]
  },
  {
   "cell_type": "code",
   "execution_count": 27,
   "metadata": {
    "scrolled": true
   },
   "outputs": [],
   "source": [
    "perc_binding_one, thresholds = [], []\n",
    "all_tissues = []\n",
    "for i, tissue in enumerate(tissue_order):\n",
    "    for thresh in [sherpa_cutoff]:\n",
    "        df = all_dfs_filtered[i]\n",
    "\n",
    "        results_df = pd.read_csv('/rnd/users/rpyke/data/00-DASH/sherpa/sherpa_output/20210412-102418_TMT.BINDING.v20210527-214831_binding_multi_with_features_on_multi.tab',\n",
    "                                sep='\\t')\n",
    "        results_df = results_df[results_df.source.str[11:] == tissue]\n",
    "        results_df = results_df.fillna(1) # To fix SHERPA bug\n",
    "\n",
    "        #tissue_peptides = list(df[(df.fc < df.fc.quantile(0.25))].Sequence)\n",
    "        tissue_peptides = list(df.Sequence)\n",
    "        tissue_df = results_df[results_df.pepseq.isin(tissue_peptides)]\n",
    "        perc_binding_one.append(len(tissue_df[tissue_df.sherpa_calibrated < thresh].pepseq.unique()) / len(tissue_df.pepseq.unique()))\n",
    "        thresholds.append(thresh)\n",
    "        all_tissues.append(tissue)\n",
    "\n",
    "perc_binding_df = pd.DataFrame({'Tissue': all_tissues, 'Thresholds': thresholds,\n",
    "                                'Percent Binding': perc_binding_one})"
   ]
  },
  {
   "cell_type": "code",
   "execution_count": 28,
   "metadata": {},
   "outputs": [],
   "source": [
    "perc_binding_df['Tissue'] = perc_binding_df['Tissue'].str.split('_').str[1].str.split('-').str[0]\n"
   ]
  },
  {
   "cell_type": "code",
   "execution_count": 29,
   "metadata": {},
   "outputs": [],
   "source": [
    "perc_binding_df = pd.merge(perc_binding_df, sample_letter_map,\n",
    "                          on='Tissue', how='left')"
   ]
  },
  {
   "cell_type": "code",
   "execution_count": 30,
   "metadata": {},
   "outputs": [
    {
     "data": {
      "image/png": "[encoded data removed]",
      "text/plain": [
       "<Figure size 144x216 with 1 Axes>"
      ]
     },
     "metadata": {
      "needs_background": "light"
     },
     "output_type": "display_data"
    }
   ],
   "source": [
    "plt.figure(figsize=(2, 3))\n",
    "sns.set_context('talk', font_scale=0.7)\n",
    "sns.barplot(x='Tissue_letter', y='Percent Binding', # hue='Thresholds',\n",
    "            data=perc_binding_df[perc_binding_df.Tissue_letter != 'CellLine'].sort_values('Percent Binding'), \n",
    "            \n",
    "            color='Grey')\n",
    "#plt.xticks(rotation=90)\n",
    "\n",
    "plt.ylabel('Fraction of peptides\\npredicted to bind to\\nat least one patient allele')\n",
    "plt.xlabel('Tissue')\n",
    "\n",
    "#plt.legend(bbox_to_anchor=(1.05, 1))\n",
    "plt.savefig('/rnd/users/rpyke/data/00-DASH/figures/immunopep.perc_binding.bar.v20210527-214831_binding_multi_with_features_on_multi.pdf',\n",
    "           bbox_inches='tight')"
   ]
  },
  {
   "cell_type": "code",
   "execution_count": 31,
   "metadata": {},
   "outputs": [
    {
     "data": {
      "text/html": [
       "<div>\n",
       "<style scoped>\n",
       "    .dataframe tbody tr th:only-of-type {\n",
       "        vertical-align: middle;\n",
       "    }\n",
       "\n",
       "    .dataframe tbody tr th {\n",
       "        vertical-align: top;\n",
       "    }\n",
       "\n",
       "    .dataframe thead th {\n",
       "        text-align: right;\n",
       "    }\n",
       "</style>\n",
       "<table border=\"1\" class=\"dataframe\">\n",
       "  <thead>\n",
       "    <tr style=\"text-align: right;\">\n",
       "      <th></th>\n",
       "      <th>Tissue</th>\n",
       "      <th>Thresholds</th>\n",
       "      <th>Percent Binding</th>\n",
       "      <th>Sample</th>\n",
       "      <th>Tissue_letter</th>\n",
       "    </tr>\n",
       "  </thead>\n",
       "  <tbody>\n",
       "    <tr>\n",
       "      <th>6</th>\n",
       "      <td>54147</td>\n",
       "      <td>0.1</td>\n",
       "      <td>0.627794</td>\n",
       "      <td>DNA_54147</td>\n",
       "      <td>Q</td>\n",
       "    </tr>\n",
       "    <tr>\n",
       "      <th>1</th>\n",
       "      <td>1183384FA1</td>\n",
       "      <td>0.1</td>\n",
       "      <td>0.730891</td>\n",
       "      <td>DNA_1183384FA1-5013</td>\n",
       "      <td>N</td>\n",
       "    </tr>\n",
       "    <tr>\n",
       "      <th>2</th>\n",
       "      <td>1134036FA1</td>\n",
       "      <td>0.1</td>\n",
       "      <td>0.770975</td>\n",
       "      <td>DNA_1134036FA1-5013</td>\n",
       "      <td>O</td>\n",
       "    </tr>\n",
       "    <tr>\n",
       "      <th>0</th>\n",
       "      <td>1070865FA1</td>\n",
       "      <td>0.1</td>\n",
       "      <td>0.800024</td>\n",
       "      <td>DNA_1070865FA1-5013</td>\n",
       "      <td>M</td>\n",
       "    </tr>\n",
       "    <tr>\n",
       "      <th>3</th>\n",
       "      <td>124768F</td>\n",
       "      <td>0.1</td>\n",
       "      <td>0.832383</td>\n",
       "      <td>DNA_124768F-5013</td>\n",
       "      <td>C</td>\n",
       "    </tr>\n",
       "    <tr>\n",
       "      <th>4</th>\n",
       "      <td>30686F</td>\n",
       "      <td>0.1</td>\n",
       "      <td>0.867366</td>\n",
       "      <td>DNA_30686F-5013</td>\n",
       "      <td>P</td>\n",
       "    </tr>\n",
       "  </tbody>\n",
       "</table>\n",
       "</div>"
      ],
      "text/plain": [
       "       Tissue  Thresholds  Percent Binding               Sample Tissue_letter\n",
       "6       54147         0.1         0.627794            DNA_54147             Q\n",
       "1  1183384FA1         0.1         0.730891  DNA_1183384FA1-5013             N\n",
       "2  1134036FA1         0.1         0.770975  DNA_1134036FA1-5013             O\n",
       "0  1070865FA1         0.1         0.800024  DNA_1070865FA1-5013             M\n",
       "3     124768F         0.1         0.832383     DNA_124768F-5013             C\n",
       "4      30686F         0.1         0.867366      DNA_30686F-5013             P"
      ]
     },
     "execution_count": 31,
     "metadata": {},
     "output_type": "execute_result"
    }
   ],
   "source": [
    "perc_binding_df[perc_binding_df.Tissue_letter != 'CellLine'].sort_values('Percent Binding')"
   ]
  },
  {
   "cell_type": "code",
   "execution_count": 32,
   "metadata": {},
   "outputs": [],
   "source": [
    "# Saving source data\n",
    "panel_name = 'supp_figure_13b'\n",
    "perc_binding_df[perc_binding_df.Tissue_letter != 'CellLine'].sort_values('Percent Binding')[['Tissue', 'Tissue_letter', 'Percent Binding', 'Thresholds']].to_excel('/rnd/users/rpyke/data/00-DASH/manuscript_source_data/{0}.xlsx'.format(panel_name),\n",
    "                                 index=None)"
   ]
  },
  {
   "cell_type": "markdown",
   "metadata": {},
   "source": [
    "##### Plot waterfalls of peptide intensity"
   ]
  },
  {
   "cell_type": "code",
   "execution_count": 33,
   "metadata": {},
   "outputs": [],
   "source": [
    "pilot_tissues = ['DNA_1070865FA1-5013']\n",
    "other_tissues = [x for x in tissue_order if x not in pilot_tissues]"
   ]
  },
  {
   "cell_type": "code",
   "execution_count": 34,
   "metadata": {},
   "outputs": [],
   "source": [
    "green = '#77c722'\n",
    "blue = '#3864b5'"
   ]
  },
  {
   "cell_type": "code",
   "execution_count": 35,
   "metadata": {},
   "outputs": [],
   "source": [
    "sample_panel_map = {'M': '14a', 'N': '14b', 'P': '14c', 'O': '15a', 'C': '15b', 'Q': '16a'}"
   ]
  },
  {
   "cell_type": "code",
   "execution_count": 36,
   "metadata": {
    "scrolled": true
   },
   "outputs": [
    {
     "name": "stdout",
     "output_type": "stream",
     "text": [
      "0.8000242688994054\n",
      "0.9549811916029608\n",
      "0.9734255551510739\n",
      "6593 7144\n",
      "7870 9928\n",
      "8022 11890\n",
      "HLA-A32:01 999 999\n",
      "HLA-A32:01 -0.0001\n",
      "HLA-A68:01 1310 1310\n",
      "HLA-A68:01 -0.0003\n",
      "HLA-B40:01 2213 2213\n",
      "HLA-B40:01 0.0032\n",
      "HLA-B51:01 1232 1232\n",
      "HLA-B51:01 0.0007\n",
      "HLA-C03:04 651 651\n",
      "HLA-C03:04 -0.001\n",
      "HLA-C15:02 739 739\n",
      "HLA-C15:02 0.0025\n"
     ]
    },
    {
     "data": {
      "image/png": "[encoded data removed]",
      "text/plain": [
       "<Figure size 288x288 with 6 Axes>"
      ]
     },
     "metadata": {
      "needs_background": "light"
     },
     "output_type": "display_data"
    },
    {
     "name": "stderr",
     "output_type": "stream",
     "text": [
      "\n",
      "A value is trying to be set on a copy of a slice from a DataFrame.\n",
      "Try using .loc[row_indexer,col_indexer] = value instead\n",
      "\n",
      "See the caveats in the documentation: http://pandas.pydata.org/pandas-docs/stable/indexing.html#indexing-view-versus-copy\n"
     ]
    },
    {
     "name": "stdout",
     "output_type": "stream",
     "text": [
      "0.7308913825958078\n",
      "0.917213635401228\n",
      "0.9462206224857083\n",
      "3452 3675\n",
      "4332 5642\n",
      "4469 6994\n",
      "HLA-A03:01 1199 1199\n",
      "HLA-A03:01 0.0118\n",
      "HLA-B18:05 441 441\n",
      "HLA-B18:05 -0.0077\n",
      "HLA-B35:03 1379 1379\n",
      "HLA-B35:03 -0.0063\n",
      "HLA-C04:01 349 349\n",
      "HLA-C04:01 -0.0067\n",
      "HLA-C12:03 307 307\n",
      "HLA-C12:03 -0.0069\n"
     ]
    },
    {
     "data": {
      "text/plain": [
       "<Figure size 432x288 with 0 Axes>"
      ]
     },
     "metadata": {},
     "output_type": "display_data"
    },
    {
     "data": {
      "image/png": "[encoded data removed]",
      "text/plain": [
       "<Figure size 288x288 with 5 Axes>"
      ]
     },
     "metadata": {
      "needs_background": "light"
     },
     "output_type": "display_data"
    },
    {
     "name": "stderr",
     "output_type": "stream",
     "text": [
      "\n",
      "A value is trying to be set on a copy of a slice from a DataFrame.\n",
      "Try using .loc[row_indexer,col_indexer] = value instead\n",
      "\n",
      "See the caveats in the documentation: http://pandas.pydata.org/pandas-docs/stable/indexing.html#indexing-view-versus-copy\n"
     ]
    },
    {
     "name": "stdout",
     "output_type": "stream",
     "text": [
      "0.7709750566893424\n",
      "0.9125364431486881\n",
      "0.9429867184969226\n",
      "2380 2942\n",
      "2817 4510\n",
      "2911 5433\n",
      "HLA-A03:01 177 177\n",
      "HLA-A03:01 -0.0062\n",
      "HLA-A24:02 662 662\n",
      "HLA-A24:02 0.0041\n",
      "HLA-B35:02 753 753\n",
      "HLA-B35:02 -0.0026\n",
      "HLA-B44:02 624 624\n",
      "HLA-B44:02 -0.0012\n",
      "HLA-C04:01 355 355\n",
      "HLA-C04:01 0.0054\n",
      "HLA-C05:01 371 371\n",
      "HLA-C05:01 0.0047\n"
     ]
    },
    {
     "data": {
      "text/plain": [
       "<Figure size 432x288 with 0 Axes>"
      ]
     },
     "metadata": {},
     "output_type": "display_data"
    },
    {
     "data": {
      "image/png": "[encoded data removed]",
      "text/plain": [
       "<Figure size 288x288 with 6 Axes>"
      ]
     },
     "metadata": {
      "needs_background": "light"
     },
     "output_type": "display_data"
    },
    {
     "name": "stderr",
     "output_type": "stream",
     "text": [
      "\n",
      "A value is trying to be set on a copy of a slice from a DataFrame.\n",
      "Try using .loc[row_indexer,col_indexer] = value instead\n",
      "\n",
      "See the caveats in the documentation: http://pandas.pydata.org/pandas-docs/stable/indexing.html#indexing-view-versus-copy\n"
     ]
    },
    {
     "name": "stdout",
     "output_type": "stream",
     "text": [
      "0.8323831242873432\n",
      "0.9446163870337189\n",
      "0.9667698322202313\n",
      "5110 5266\n",
      "5799 7108\n",
      "5935 8964\n",
      "HLA-A24:02 1486 1486\n",
      "HLA-A24:02 0.0073\n",
      "HLA-A25:01 1128 1128\n",
      "HLA-A25:01 0.0094\n",
      "HLA-B18:01 1248 1248\n",
      "HLA-B18:01 -0.0008\n",
      "HLA-B38:01 784 784\n",
      "HLA-B38:01 -0.012\n",
      "HLA-C12:03 620 620\n",
      "HLA-C12:03 0.0039\n"
     ]
    },
    {
     "data": {
      "text/plain": [
       "<Figure size 432x288 with 0 Axes>"
      ]
     },
     "metadata": {},
     "output_type": "display_data"
    },
    {
     "data": {
      "image/png": "[encoded data removed]",
      "text/plain": [
       "<Figure size 288x288 with 5 Axes>"
      ]
     },
     "metadata": {
      "needs_background": "light"
     },
     "output_type": "display_data"
    },
    {
     "name": "stderr",
     "output_type": "stream",
     "text": [
      "\n",
      "A value is trying to be set on a copy of a slice from a DataFrame.\n",
      "Try using .loc[row_indexer,col_indexer] = value instead\n",
      "\n",
      "See the caveats in the documentation: http://pandas.pydata.org/pandas-docs/stable/indexing.html#indexing-view-versus-copy\n"
     ]
    },
    {
     "name": "stdout",
     "output_type": "stream",
     "text": [
      "0.8673655423883319\n",
      "0.9644484958979034\n",
      "0.9758432087511395\n",
      "3806 4384\n",
      "4232 6444\n",
      "4282 7976\n",
      "HLA-A01:01 937 937\n",
      "HLA-A01:01 0.0053\n",
      "HLA-A25:01 1047 1047\n",
      "HLA-A25:01 0.0019\n",
      "HLA-B51:01 599 599\n",
      "HLA-B51:01 -0.0004\n",
      "HLA-B57:01 981 981\n",
      "HLA-B57:01 0.0024\n",
      "HLA-C06:02 338 338\n",
      "HLA-C06:02 0.0032\n",
      "HLA-C14:02 482 482\n",
      "HLA-C14:02 0.0023\n"
     ]
    },
    {
     "data": {
      "text/plain": [
       "<Figure size 432x288 with 0 Axes>"
      ]
     },
     "metadata": {},
     "output_type": "display_data"
    },
    {
     "data": {
      "image/png": "[encoded data removed]",
      "text/plain": [
       "<Figure size 288x288 with 6 Axes>"
      ]
     },
     "metadata": {
      "needs_background": "light"
     },
     "output_type": "display_data"
    },
    {
     "name": "stderr",
     "output_type": "stream",
     "text": [
      "\n",
      "A value is trying to be set on a copy of a slice from a DataFrame.\n",
      "Try using .loc[row_indexer,col_indexer] = value instead\n",
      "\n",
      "See the caveats in the documentation: http://pandas.pydata.org/pandas-docs/stable/indexing.html#indexing-view-versus-copy\n"
     ]
    },
    {
     "name": "stdout",
     "output_type": "stream",
     "text": [
      "0.8211619012930249\n",
      "0.9684938991076306\n",
      "0.9836095428883628\n",
      "4509 5209\n",
      "5318 7647\n",
      "5401 8961\n",
      "HLA-A03:01 1615 1615\n",
      "HLA-A03:01 -0.0285\n",
      "HLA-B07:02 1395 1395\n",
      "HLA-B07:02 -0.0002\n",
      "HLA-B51:01 1805 1805\n",
      "HLA-B51:01 0.0145\n",
      "HLA-C07:02 144 144\n",
      "HLA-C07:02 0.0224\n",
      "HLA-C15:02 250 250\n",
      "HLA-C15:02 0.0174\n"
     ]
    },
    {
     "data": {
      "text/plain": [
       "<Figure size 432x288 with 0 Axes>"
      ]
     },
     "metadata": {},
     "output_type": "display_data"
    },
    {
     "data": {
      "image/png": "[encoded data removed]",
      "text/plain": [
       "<Figure size 288x288 with 5 Axes>"
      ]
     },
     "metadata": {
      "needs_background": "light"
     },
     "output_type": "display_data"
    },
    {
     "name": "stderr",
     "output_type": "stream",
     "text": [
      "\n",
      "A value is trying to be set on a copy of a slice from a DataFrame.\n",
      "Try using .loc[row_indexer,col_indexer] = value instead\n",
      "\n",
      "See the caveats in the documentation: http://pandas.pydata.org/pandas-docs/stable/indexing.html#indexing-view-versus-copy\n"
     ]
    },
    {
     "name": "stdout",
     "output_type": "stream",
     "text": [
      "CellLine\n",
      "0.6277939747327502\n",
      "0.8056365403304179\n",
      "0.8406219630709426\n",
      "646 774\n",
      "829 1199\n",
      "865 1512\n",
      "HLA-A02:01 185 185\n",
      "HLA-A02:01 0.0026\n",
      "HLA-A03:01 172 172\n",
      "HLA-A03:01 0.0026\n",
      "HLA-B07:02 133 133\n",
      "HLA-B07:02 -0.0033\n",
      "HLA-B40:02 146 146\n",
      "HLA-B40:02 -0.009\n",
      "HLA-C02:02 82 82\n",
      "HLA-C02:02 -0.0061\n",
      "HLA-C07:02 56 56\n",
      "HLA-C07:02 -0.0051\n"
     ]
    },
    {
     "data": {
      "text/plain": [
       "<Figure size 432x288 with 0 Axes>"
      ]
     },
     "metadata": {},
     "output_type": "display_data"
    },
    {
     "data": {
      "image/png": "[encoded data removed]",
      "text/plain": [
       "<Figure size 288x288 with 6 Axes>"
      ]
     },
     "metadata": {
      "needs_background": "light"
     },
     "output_type": "display_data"
    },
    {
     "name": "stderr",
     "output_type": "stream",
     "text": [
      "\n",
      "A value is trying to be set on a copy of a slice from a DataFrame.\n",
      "Try using .loc[row_indexer,col_indexer] = value instead\n",
      "\n",
      "See the caveats in the documentation: http://pandas.pydata.org/pandas-docs/stable/indexing.html#indexing-view-versus-copy\n"
     ]
    },
    {
     "data": {
      "text/plain": [
       "<Figure size 432x288 with 0 Axes>"
      ]
     },
     "metadata": {},
     "output_type": "display_data"
    }
   ],
   "source": [
    "sns.set_context('talk', font_scale=0.45)\n",
    "\n",
    "value_dictionary, loh_dictionary = {}, {}\n",
    "raw_value_dictionary = {}\n",
    "raw_fc_log_dictionary = {}\n",
    "\n",
    "\n",
    "for i, tissue in enumerate(tissue_order):\n",
    "    tissue_dictionary, raw_tissue_dictionary = {}, {}\n",
    "    df = all_dfs_filtered[i]\n",
    "    df['fc_log'] = df.fc.apply(np.log2)\n",
    "    raw_fc_log_dictionary[tissue] = list(df.fc_log)\n",
    "    normalized_cols = [x for x in df.columns if 'normalized' in x]\n",
    "    \n",
    "    dash_df = pd.read_csv('/rnd/users/rpyke/data/00-DASH/validation/dash_output_02/{0}/DASH.output.txt'.format(tissue),\n",
    "           sep='\\t')\n",
    "    loh_dictionary[tissue] = ['HLA-{0}{1}:{2}'.format(x[0], x.split('*')[1].split(':')[0],  x.split(':')[1]) \n",
    "                              for x in list(dash_df[(dash_df.dash_deletion)].hla_assign_allele)]\n",
    "\n",
    "    results_df = pd.read_csv('/rnd/users/rpyke/data/00-DASH/sherpa/sherpa_output/20210412-102418_TMT.BINDING.v20210527-214831_binding_multi_with_features_on_multi.tab',\n",
    "                            sep='\\t')\n",
    "    results_df = results_df[results_df.source.str[11:] == tissue]\n",
    "    results_df = results_df.fillna(1) # To fix SHERPA bug\n",
    "    alleles = list(results_df.allele.unique())\n",
    "    results_unique = results_df.sort_values('sherpa_calibrated').drop_duplicates('pepseq')\n",
    "\n",
    "    print(len(results_unique[results_unique.sherpa_calibrated < 0.1]) / len(results_unique))\n",
    "    print(len(results_unique[results_unique.sherpa_calibrated < 0.5]) / len(results_unique))\n",
    "    print(len(results_unique[results_unique.sherpa_calibrated < 1]) / len(results_unique))\n",
    "    \n",
    "    print(len(results_df[results_df.sherpa_calibrated < 0.1].pepseq.unique()), len(results_df[results_df.sherpa_calibrated < 0.1]))\n",
    "    print(len(results_df[results_df.sherpa_calibrated < 0.5].pepseq.unique()), len(results_df[results_df.sherpa_calibrated < 0.5]))\n",
    "    print(len(results_df[results_df.sherpa_calibrated < 1].pepseq.unique()), len(results_df[results_df.sherpa_calibrated < 1]))\n",
    "    \n",
    "    green = '#77c722'\n",
    "    blue = '#3864b5'\n",
    "\n",
    "    f, axarr = plt.subplots(len(alleles), 1, sharex=True, sharey=True, figsize=(4, 4))\n",
    "\n",
    "    for i, allele in enumerate(sorted(alleles)):\n",
    "        ax = plt.subplot(len(alleles), 1, i+1)\n",
    "        \n",
    "        allele_peptides_all = list(set(results_df[(results_df.allele == allele)&(results_df.sherpa_calibrated < 0.1)].pepseq))\n",
    "        other_allele_peptides = list(set(results_df[(results_df.allele != allele)&(results_df.sherpa_calibrated < 0.1)].pepseq))\n",
    "        #allele_peptides = [x for x in allele_peptides_all if x not in other_allele_peptides]\n",
    "        allele_peptides = allele_peptides_all\n",
    "        \n",
    "        allele_dictionary = {}\n",
    "        if tissue in pilot_tissues:\n",
    "            allele_dictionary['normal'] = list(df[df.Sequence.isin(allele_peptides)][normalized_cols[0]])\n",
    "            allele_dictionary['tumor'] = list(df[df.Sequence.isin(allele_peptides)][normalized_cols[1]])\n",
    "        else:\n",
    "            allele_dictionary['normal'] = list(df[df.Sequence.isin(allele_peptides)][normalized_cols[1]])\n",
    "            allele_dictionary['tumor'] = list(df[df.Sequence.isin(allele_peptides)][normalized_cols[0]])\n",
    "        raw_tissue_dictionary[allele] = allele_dictionary\n",
    "        \n",
    "        # Creating lower bound for # of unique alleles\n",
    "        if len(allele_peptides) < 50:\n",
    "            allele_peptides = allele_peptides_all\n",
    "            addition='*'\n",
    "        else:\n",
    "            addition=''\n",
    "        print(allele, len(allele_peptides_all), len(allele_peptides))\n",
    "        df['fc_log'] = df.fc.apply(np.log2)\n",
    "        #print(allele, len(allele_peptides), len(df[df.Sequence.isin(allele_peptides)]), df[df.Sequence.isin(allele_peptides)].fc_log.median())\n",
    "        #plt.figure(figsize=(10, 3))\n",
    "        #(df[df.Sequence.isin(allele_peptides)].fc_log).sort_values().plot(kind='bar', ax=ax) # .sample(200)\n",
    "        \n",
    "        try:\n",
    "        \n",
    "            data = (df[df.Sequence.isin(allele_peptides)].fc_log).sort_values().reset_index().drop('index', axis=1)\n",
    "            tissue_dictionary[allele] = list(data.fc_log)\n",
    "\n",
    "            data_pos = data[data.fc_log > 0]\n",
    "            data_pos.plot(kind='line', ax=ax, color=green)\n",
    "            ax.fill_between(data_pos.index, data_pos.fc_log, color=green)\n",
    "\n",
    "            data_neg = data[data.fc_log < 0]\n",
    "            data_neg.plot(kind='line', ax=ax, color=blue)\n",
    "            ax.fill_between(data_neg.index, data_neg.fc_log, color=blue)\n",
    "\n",
    "            print(allele, round(data.fc_log.median(), 4))\n",
    "\n",
    "            plt.xticks([])\n",
    "            #plt.yticks([])\n",
    "            plt.ylim(-0.2, 0.2)\n",
    "            plt.ylabel('{0}*{1}\\nn={2}{3}'.format(allele[4], allele[5:], len(allele_peptides), addition))\n",
    "            ax.yaxis.set_label_position(\"right\")\n",
    "            ax.get_legend().remove()\n",
    "            if i == 6:\n",
    "                plt.xlabel('Allele-binding Peptides')\n",
    "\n",
    "            if i == 0:\n",
    "                plt.title('{0} - Patient: {1}\\nLOH: {2}'.format(tissue,\n",
    "                                                                list(sample_letter_map[sample_letter_map.Sample == tissue].Tissue_letter)[0],\n",
    "                                                                ', '.join(dash_df[(dash_df.dash_deletion)].hla_assign_allele)))\n",
    "            #plt.ylim(df[df.Sequence.isin(allele_peptides)].fc_log.quantile(0.01),\n",
    "            #        df[df.Sequence.isin(allele_peptides)].fc_log.quantile(0.99))\n",
    "            #plt.axvline()\n",
    "            #plt.title('{0}, Median: {1}'.format(allele, \n",
    "            #                                    round(df[df.Sequence.isin(allele_peptides)].fc_log.median(), 4)))\n",
    "            \n",
    "        except:\n",
    "            print('Not enough peptides')\n",
    "    plt.savefig('/rnd/users/rpyke/data/00-DASH/figures/quantitative_immunopep.waterfall.{0}.v20210527-214831_binding_multi_with_features_on_multi.pdf'.format(list(sample_letter_map[sample_letter_map.Sample == tissue].Tissue_letter)[0]))\n",
    "    plt.show()\n",
    "    plt.clf()\n",
    "    \n",
    "    try:\n",
    "        data_source_df = df[['Sequence', 'fc_log']]\n",
    "        data_source_df['pepseq'] = data_source_df['Sequence']\n",
    "        data_source_df2 = pd.merge(results_unique[['pepseq', 'allele', 'sherpa_calibrated']],\n",
    "                data_source_df[['pepseq', 'fc_log']], on='pepseq', how='inner')\n",
    "\n",
    "        # Saving source data\n",
    "        panel_name = 'supp_figure_{0}'.format(sample_panel_map[list(sample_letter_map[sample_letter_map.Sample == tissue].Tissue_letter)[0]])\n",
    "        data_source_df2.to_excel('/rnd/users/rpyke/data/00-DASH/manuscript_source_data/{0}.xlsx'.format(panel_name),\n",
    "                                         index=None)\n",
    "    except:\n",
    "        print(list(sample_letter_map[sample_letter_map.Sample == tissue].Tissue_letter)[0])\n",
    "        \n",
    "    value_dictionary[tissue] = tissue_dictionary\n",
    "    raw_value_dictionary[tissue] = raw_tissue_dictionary\n",
    "    "
   ]
  },
  {
   "cell_type": "code",
   "execution_count": 37,
   "metadata": {
    "scrolled": true
   },
   "outputs": [
    {
     "name": "stdout",
     "output_type": "stream",
     "text": [
      "DNA_1070865FA1-5013\n",
      "DNA_1183384FA1-5013\n",
      "DNA_1134036FA1-5013\n",
      "DNA_124768F-5013\n",
      "DNA_30686F-5013\n",
      "DNA_H2009\n",
      "DNA_54147\n"
     ]
    }
   ],
   "source": [
    "for i, tissue in enumerate(tissue_order):\n",
    "    print(tissue)"
   ]
  },
  {
   "cell_type": "code",
   "execution_count": 38,
   "metadata": {
    "scrolled": true
   },
   "outputs": [
    {
     "name": "stdout",
     "output_type": "stream",
     "text": [
      "DNA_1070865FA1-5013 M\n",
      "DNA_1070865FA1-5013 HLA-A32:01 0.6257801800575036 -0.0033096715794602716\n",
      "DNA_1070865FA1-5013 HLA-A68:01 0.12798539283881066 0.0049502504018246185\n",
      "DNA_1070865FA1-5013 HLA-B40:01 7.580685747936931e-19 0.013614834265515796\n",
      "DNA_1070865FA1-5013 HLA-B51:01 0.3983184942777589 -0.008038331736267779\n",
      "DNA_1070865FA1-5013 HLA-C03:04 0.07810643097920204 -0.021764391059377886\n",
      "DNA_1070865FA1-5013 HLA-C15:02 0.002344391542788701 0.010153825704646735\n",
      "\n",
      "\n",
      "DNA_1183384FA1-5013 N\n",
      "DNA_1183384FA1-5013 HLA-A03:01 3.837076873997394e-46 -0.0713007662295464\n",
      "DNA_1183384FA1-5013 HLA-B18:05 3.736332154338185e-15 0.06478817370509127\n",
      "DNA_1183384FA1-5013 HLA-B35:03 6.310953625740317e-30 0.053329445034647094\n",
      "DNA_1183384FA1-5013 HLA-C04:01 0.0005393603099614644 0.06230257380818571\n",
      "DNA_1183384FA1-5013 HLA-C12:03 1.5906281381620073e-10 0.06256778416539888\n",
      "\n",
      "\n",
      "DNA_1134036FA1-5013 O\n",
      "DNA_1134036FA1-5013 HLA-A03:01 0.09464461625134574 0.054606386559973075\n",
      "DNA_1134036FA1-5013 HLA-A24:02 1.6099971198667077e-05 -0.02596383364031496\n",
      "DNA_1134036FA1-5013 HLA-B35:02 0.003057558071571806 0.020963944820637792\n",
      "DNA_1134036FA1-5013 HLA-B44:02 0.3764101882893097 0.008064104225127267\n",
      "DNA_1134036FA1-5013 HLA-C04:01 2.4692912784405247e-05 -0.020625404953419135\n",
      "DNA_1134036FA1-5013 HLA-C05:01 0.00017586819857951227 -0.02765729978364817\n",
      "\n",
      "\n",
      "DNA_124768F-5013 C\n",
      "DNA_124768F-5013 HLA-A24:02 1.8847833253643223e-10 -0.048055239449031006\n",
      "DNA_124768F-5013 HLA-A25:01 8.082380717226313e-13 -0.06658565817797069\n",
      "DNA_124768F-5013 HLA-B18:01 0.027502907875605442 -0.016502468619396637\n",
      "DNA_124768F-5013 HLA-B38:01 3.845043598691692e-11 0.05816574995198387\n",
      "DNA_124768F-5013 HLA-C12:03 0.0027593383584259396 -0.05178476156475753\n",
      "\n",
      "\n",
      "DNA_30686F-5013 P\n",
      "DNA_30686F-5013 HLA-A01:01 1.1882946214136814e-10 -0.027889536498483025\n",
      "DNA_30686F-5013 HLA-A25:01 0.7488488899101489 -0.0022992607542438037\n",
      "DNA_30686F-5013 HLA-B51:01 0.002707139973254822 0.022246362554330545\n",
      "DNA_30686F-5013 HLA-B57:01 0.3366033253187316 -0.0013913503454521248\n",
      "DNA_30686F-5013 HLA-C06:02 0.7007856175068046 0.010015227101245472\n",
      "DNA_30686F-5013 HLA-C14:02 0.6835451598147415 0.019928548943234148\n",
      "\n",
      "\n",
      "DNA_H2009 CellLine\n",
      "DNA_H2009 HLA-A03:01 1.4218479990961942e-92 0.21863135928517252\n",
      "DNA_H2009 HLA-B07:02 1.7718654668038703e-06 -0.007535043118529927\n",
      "DNA_H2009 HLA-B51:01 2.5499557244032674e-09 -0.07585782429786292\n",
      "DNA_H2009 HLA-C07:02 2.7815569022564196e-05 -0.19336436513345667\n",
      "DNA_H2009 HLA-C15:02 0.0011719359083291545 -0.11204155082175582\n",
      "\n",
      "\n",
      "DNA_54147 Q\n",
      "DNA_54147 HLA-A02:01 0.25074083556674825 0.006815318129993031\n",
      "DNA_54147 HLA-A03:01 0.2799478144550827 -0.0004621743508987919\n",
      "DNA_54147 HLA-B07:02 0.9097539240090027 -0.02360467032305813\n",
      "DNA_54147 HLA-B40:02 9.63385433438889e-06 0.06442639210729872\n",
      "DNA_54147 HLA-C02:02 0.008703872434577382 0.037184080429414124\n",
      "DNA_54147 HLA-C07:02 0.8915405362912767 -0.05437362721941952\n",
      "\n",
      "\n"
     ]
    }
   ],
   "source": [
    "\n",
    "for i, tissue in enumerate(tissue_order):\n",
    "    \n",
    "    patient_id = list(sample_letter_map[sample_letter_map.Sample == tissue].Tissue_letter)[0]\n",
    "    print(tissue, patient_id)\n",
    "\n",
    "\n",
    "    try:\n",
    "        for allele in raw_value_dictionary[tissue].keys():\n",
    "            print(tissue, allele, sp.ttest_rel(raw_value_dictionary[tissue][allele]['normal'],\n",
    "                                         raw_value_dictionary[tissue][allele]['tumor'])[1],\n",
    "                 np.median(raw_value_dictionary[tissue][allele]['normal']) - np.median(raw_value_dictionary[tissue][allele]['tumor']))\n",
    "        print('\\n')\n",
    "    except:\n",
    "        for allele in raw_value_dictionary[tissue].keys():\n",
    "            print(tissue, allele, sp.ttest_rel(raw_value_dictionary[tissue][allele]['normal'],\n",
    "                                         raw_value_dictionary[tissue][allele]['tumor'])[1],\n",
    "                 np.median(raw_value_dictionary[tissue][allele]['normal']) - np.median(raw_value_dictionary[tissue][allele]['tumor']))\n",
    "        print('\\n')\n",
    "\n"
   ]
  },
  {
   "cell_type": "markdown",
   "metadata": {},
   "source": [
    "A02:01, B07:02, C02:02, C07:02"
   ]
  },
  {
   "cell_type": "code",
   "execution_count": 39,
   "metadata": {},
   "outputs": [
    {
     "data": {
      "text/plain": [
       "'Q'"
      ]
     },
     "execution_count": 39,
     "metadata": {},
     "output_type": "execute_result"
    }
   ],
   "source": [
    "list(sample_letter_map[sample_letter_map.Sample == 'DNA_54147'].Tissue_letter)[0]"
   ]
  },
  {
   "cell_type": "markdown",
   "metadata": {},
   "source": [
    "Analyzing differences (control v LOH overall samples)"
   ]
  },
  {
   "cell_type": "code",
   "execution_count": 40,
   "metadata": {},
   "outputs": [],
   "source": [
    "# All peptides regardless of binding\n",
    "control, loh, control_tissue_lists, loh_tissue_list = [], [], [], []\n",
    "for tissue in tissue_order:\n",
    "    if len(loh_dictionary[tissue]) == 0:\n",
    "        control.extend(raw_fc_log_dictionary[tissue])\n",
    "        control_tissue_lists.extend([tissue for x in raw_fc_log_dictionary[tissue]])\n",
    "    else:\n",
    "        for allele in value_dictionary[tissue].keys():\n",
    "            loh.extend(raw_fc_log_dictionary[tissue])\n",
    "            loh_tissue_list.extend([tissue for x in raw_fc_log_dictionary[tissue]])\n",
    "#sample_type_differences_df = pd.DataFrame({'Value': [abs(x) for x in control] + [abs(x) for x in loh],\n",
    "sample_type_differences_df = pd.DataFrame({'Value': [x for x in control] + [x for x in loh],\n",
    "            'Sample_type': ['Control' for x in control] + ['LOH' for x in loh],\n",
    "            'Tissue': control_tissue_lists + loh_tissue_list})\n"
   ]
  },
  {
   "cell_type": "code",
   "execution_count": 41,
   "metadata": {},
   "outputs": [],
   "source": [
    "# Uniquely binding peptides\n",
    "control, loh, control_tissue_lists, loh_tissue_list = [], [], [], []\n",
    "for tissue in tissue_order:\n",
    "    if len(loh_dictionary[tissue]) == 0:\n",
    "        for allele in value_dictionary[tissue].keys():\n",
    "            control.extend(value_dictionary[tissue][allele])\n",
    "            control_tissue_lists.extend([tissue for x in value_dictionary[tissue][allele]])\n",
    "    else:\n",
    "        for allele in value_dictionary[tissue].keys():\n",
    "            loh.extend(value_dictionary[tissue][allele])\n",
    "            loh_tissue_list.extend([tissue for x in value_dictionary[tissue][allele]])\n",
    "#sample_type_differences_df = pd.DataFrame({'Value': [abs(x) for x in control] + [abs(x) for x in loh],\n",
    "sample_type_differences_df = pd.DataFrame({'Value': [x for x in control] + [x for x in loh],\n",
    "            'Sample_type': ['Control' for x in control] + ['LOH' for x in loh],\n",
    "            'Tissue': control_tissue_lists + loh_tissue_list})\n"
   ]
  },
  {
   "cell_type": "code",
   "execution_count": 42,
   "metadata": {},
   "outputs": [],
   "source": [
    "sample_type_differences_df['Tissue'] = sample_type_differences_df['Tissue'].str.split('_').str[1].str.split('-').str[0]\n"
   ]
  },
  {
   "cell_type": "code",
   "execution_count": 43,
   "metadata": {},
   "outputs": [
    {
     "data": {
      "text/html": [
       "<div>\n",
       "<style scoped>\n",
       "    .dataframe tbody tr th:only-of-type {\n",
       "        vertical-align: middle;\n",
       "    }\n",
       "\n",
       "    .dataframe tbody tr th {\n",
       "        vertical-align: top;\n",
       "    }\n",
       "\n",
       "    .dataframe thead tr th {\n",
       "        text-align: left;\n",
       "    }\n",
       "\n",
       "    .dataframe thead tr:last-of-type th {\n",
       "        text-align: right;\n",
       "    }\n",
       "</style>\n",
       "<table border=\"1\" class=\"dataframe\">\n",
       "  <thead>\n",
       "    <tr>\n",
       "      <th></th>\n",
       "      <th colspan=\"8\" halign=\"left\">Value</th>\n",
       "    </tr>\n",
       "    <tr>\n",
       "      <th></th>\n",
       "      <th>count</th>\n",
       "      <th>mean</th>\n",
       "      <th>std</th>\n",
       "      <th>min</th>\n",
       "      <th>25%</th>\n",
       "      <th>50%</th>\n",
       "      <th>75%</th>\n",
       "      <th>max</th>\n",
       "    </tr>\n",
       "    <tr>\n",
       "      <th>Sample_type</th>\n",
       "      <th></th>\n",
       "      <th></th>\n",
       "      <th></th>\n",
       "      <th></th>\n",
       "      <th></th>\n",
       "      <th></th>\n",
       "      <th></th>\n",
       "      <th></th>\n",
       "    </tr>\n",
       "  </thead>\n",
       "  <tbody>\n",
       "    <tr>\n",
       "      <th>Control</th>\n",
       "      <td>14852.0</td>\n",
       "      <td>0.001038</td>\n",
       "      <td>0.024482</td>\n",
       "      <td>-0.163618</td>\n",
       "      <td>-0.010781</td>\n",
       "      <td>0.001588</td>\n",
       "      <td>0.013310</td>\n",
       "      <td>0.179460</td>\n",
       "    </tr>\n",
       "    <tr>\n",
       "      <th>LOH</th>\n",
       "      <td>15357.0</td>\n",
       "      <td>-0.001234</td>\n",
       "      <td>0.051316</td>\n",
       "      <td>-0.249812</td>\n",
       "      <td>-0.027518</td>\n",
       "      <td>-0.000422</td>\n",
       "      <td>0.025935</td>\n",
       "      <td>0.955912</td>\n",
       "    </tr>\n",
       "  </tbody>\n",
       "</table>\n",
       "</div>"
      ],
      "text/plain": [
       "               Value                                                    \\\n",
       "               count      mean       std       min       25%       50%   \n",
       "Sample_type                                                              \n",
       "Control      14852.0  0.001038  0.024482 -0.163618 -0.010781  0.001588   \n",
       "LOH          15357.0 -0.001234  0.051316 -0.249812 -0.027518 -0.000422   \n",
       "\n",
       "                                 \n",
       "                  75%       max  \n",
       "Sample_type                      \n",
       "Control      0.013310  0.179460  \n",
       "LOH          0.025935  0.955912  "
      ]
     },
     "execution_count": 43,
     "metadata": {},
     "output_type": "execute_result"
    }
   ],
   "source": [
    "sample_type_differences_df.groupby('Sample_type').describe()"
   ]
  },
  {
   "cell_type": "code",
   "execution_count": 44,
   "metadata": {},
   "outputs": [
    {
     "data": {
      "image/png": "[encoded data removed]",
      "text/plain": [
       "<Figure size 144x216 with 1 Axes>"
      ]
     },
     "metadata": {
      "needs_background": "light"
     },
     "output_type": "display_data"
    }
   ],
   "source": [
    "plt.figure(figsize=(2, 3))\n",
    "sns.set_context('talk', font_scale=0.7)\n",
    "\n",
    "sns.boxplot(x='Sample_type', y='Value', data=sample_type_differences_df, \n",
    "            fliersize=False, palette=[green, blue])\n",
    "plt.ylabel('Log fold change\\nof peptide intensity')\n",
    "plt.xlabel('Sample type')\n",
    "plt.ylim(-0.15, 0.15)\n",
    "plt.savefig('/rnd/users/rpyke/data/00-DASH/figures/immunopep.fold_change.box.v20210527-214831_binding_multi_with_features_on_multi.pdf',\n",
    "           bbox_inches='tight')"
   ]
  },
  {
   "cell_type": "code",
   "execution_count": 45,
   "metadata": {},
   "outputs": [],
   "source": [
    "std_df = sample_type_differences_df.groupby(['Tissue']).std().reset_index()\n",
    "std_df['Sample Type'] = ['Control', 'LOH', 'Control', 'LOH', 'Control', 'LOH', 'LOH']\n",
    "\n",
    "tissue_purities = []\n",
    "for tissue in list(std_df.Tissue):\n",
    "    tissue_purities.append(output_df[output_df['Sample'].str.contains(tissue)].purity[0])\n",
    "std_df['Purity'] = tissue_purities"
   ]
  },
  {
   "cell_type": "code",
   "execution_count": 46,
   "metadata": {},
   "outputs": [],
   "source": [
    "std_df = pd.merge(std_df, sample_letter_map, on='Tissue',\n",
    "                 how='left')"
   ]
  },
  {
   "cell_type": "code",
   "execution_count": 47,
   "metadata": {},
   "outputs": [
    {
     "data": {
      "text/html": [
       "<div>\n",
       "<style scoped>\n",
       "    .dataframe tbody tr th:only-of-type {\n",
       "        vertical-align: middle;\n",
       "    }\n",
       "\n",
       "    .dataframe tbody tr th {\n",
       "        vertical-align: top;\n",
       "    }\n",
       "\n",
       "    .dataframe thead th {\n",
       "        text-align: right;\n",
       "    }\n",
       "</style>\n",
       "<table border=\"1\" class=\"dataframe\">\n",
       "  <thead>\n",
       "    <tr style=\"text-align: right;\">\n",
       "      <th></th>\n",
       "      <th>Tissue</th>\n",
       "      <th>Value</th>\n",
       "      <th>Sample Type</th>\n",
       "      <th>Purity</th>\n",
       "      <th>Sample</th>\n",
       "      <th>Tissue_letter</th>\n",
       "    </tr>\n",
       "  </thead>\n",
       "  <tbody>\n",
       "    <tr>\n",
       "      <th>0</th>\n",
       "      <td>1070865FA1</td>\n",
       "      <td>0.022741</td>\n",
       "      <td>Control</td>\n",
       "      <td>0.17</td>\n",
       "      <td>DNA_1070865FA1-5013</td>\n",
       "      <td>M</td>\n",
       "    </tr>\n",
       "    <tr>\n",
       "      <th>1</th>\n",
       "      <td>1134036FA1</td>\n",
       "      <td>0.030253</td>\n",
       "      <td>LOH</td>\n",
       "      <td>0.11</td>\n",
       "      <td>DNA_1134036FA1-5013</td>\n",
       "      <td>O</td>\n",
       "    </tr>\n",
       "    <tr>\n",
       "      <th>2</th>\n",
       "      <td>1183384FA1</td>\n",
       "      <td>0.031830</td>\n",
       "      <td>Control</td>\n",
       "      <td>0.11</td>\n",
       "      <td>DNA_1183384FA1-5013</td>\n",
       "      <td>N</td>\n",
       "    </tr>\n",
       "    <tr>\n",
       "      <th>3</th>\n",
       "      <td>124768F</td>\n",
       "      <td>0.058536</td>\n",
       "      <td>LOH</td>\n",
       "      <td>0.23</td>\n",
       "      <td>DNA_124768F-5013</td>\n",
       "      <td>C</td>\n",
       "    </tr>\n",
       "    <tr>\n",
       "      <th>4</th>\n",
       "      <td>30686F</td>\n",
       "      <td>0.022871</td>\n",
       "      <td>Control</td>\n",
       "      <td>0.66</td>\n",
       "      <td>DNA_30686F-5013</td>\n",
       "      <td>P</td>\n",
       "    </tr>\n",
       "    <tr>\n",
       "      <th>5</th>\n",
       "      <td>54147</td>\n",
       "      <td>0.029923</td>\n",
       "      <td>LOH</td>\n",
       "      <td>0.80</td>\n",
       "      <td>DNA_54147</td>\n",
       "      <td>Q</td>\n",
       "    </tr>\n",
       "    <tr>\n",
       "      <th>6</th>\n",
       "      <td>H2009</td>\n",
       "      <td>0.056113</td>\n",
       "      <td>LOH</td>\n",
       "      <td>1.00</td>\n",
       "      <td>DNA_H2009</td>\n",
       "      <td>CellLine</td>\n",
       "    </tr>\n",
       "  </tbody>\n",
       "</table>\n",
       "</div>"
      ],
      "text/plain": [
       "       Tissue     Value Sample Type  Purity               Sample Tissue_letter\n",
       "0  1070865FA1  0.022741     Control    0.17  DNA_1070865FA1-5013             M\n",
       "1  1134036FA1  0.030253         LOH    0.11  DNA_1134036FA1-5013             O\n",
       "2  1183384FA1  0.031830     Control    0.11  DNA_1183384FA1-5013             N\n",
       "3     124768F  0.058536         LOH    0.23     DNA_124768F-5013             C\n",
       "4      30686F  0.022871     Control    0.66      DNA_30686F-5013             P\n",
       "5       54147  0.029923         LOH    0.80            DNA_54147             Q\n",
       "6       H2009  0.056113         LOH    1.00            DNA_H2009      CellLine"
      ]
     },
     "execution_count": 47,
     "metadata": {},
     "output_type": "execute_result"
    }
   ],
   "source": [
    "std_df"
   ]
  },
  {
   "cell_type": "code",
   "execution_count": 48,
   "metadata": {
    "scrolled": true
   },
   "outputs": [
    {
     "data": {
      "image/png": "[encoded data removed]",
      "text/plain": [
       "<Figure size 180x216 with 1 Axes>"
      ]
     },
     "metadata": {
      "needs_background": "light"
     },
     "output_type": "display_data"
    }
   ],
   "source": [
    "plt.figure(figsize=(2.5, 3))\n",
    "sns.set_context('talk', font_scale=0.7)\n",
    "sns.scatterplot(x='Purity', y='Value', hue='Sample Type', \n",
    "                data=std_df,\n",
    "               palette=[green, blue])\n",
    "plt.ylabel('Peptide intensity log fold\\nchange standard deviation')\n",
    "plt.xlabel('Estimated purity')\n",
    "plt.xlim(0, 1.05)\n",
    "plt.savefig('/rnd/users/rpyke/data/00-DASH/figures/immunopep.fold_change_std.box.v20210527-214831_binding_multi_with_features_on_multi.pdf',\n",
    "           bbox_inches='tight')"
   ]
  },
  {
   "cell_type": "markdown",
   "metadata": {},
   "source": [
    "### Grouping by lost/retained/homozygous"
   ]
  },
  {
   "cell_type": "code",
   "execution_count": 49,
   "metadata": {},
   "outputs": [
    {
     "name": "stderr",
     "output_type": "stream",
     "text": [
      "elementwise comparison failed; returning scalar instead, but in the future will perform elementwise comparison\n"
     ]
    },
    {
     "name": "stdout",
     "output_type": "stream",
     "text": [
      "DNA_1070865FA1-5013 1648\n",
      "DNA_1183384FA1-5013 1271\n",
      "DNA_1134036FA1-5013 707\n",
      "DNA_124768F-5013 1029\n",
      "DNA_30686F-5013 582\n",
      "DNA_H2009 982\n",
      "DNA_54147 383\n"
     ]
    }
   ],
   "source": [
    "all_tissues, all_alleles, all_peptides, all_fcs, all_loh_status = [], [], [], [], []\n",
    "for i, tissue in enumerate(tissue_order):\n",
    "    #print(tissue)\n",
    "    tissue_dictionary, raw_tissue_dictionary = {}, {}\n",
    "    df = all_dfs_filtered[i]\n",
    "    df['fc_log'] = df.fc.apply(np.log2)\n",
    "    raw_fc_log_dictionary[tissue] = list(df.fc_log)\n",
    "    normalized_cols = [x for x in df.columns if 'normalized' in x]\n",
    "    \n",
    "    dash_df = pd.read_csv('/rnd/users/rpyke/data/00-DASH/output/pipeline_nextDB_08/{0}/DASH.output.txt'.format(tissue),\n",
    "           sep='\\t')\n",
    "    loh_dictionary[tissue] = ['HLA-{0}{1}:{2}'.format(x[0], x.split('*')[1].split(':')[0],  x.split(':')[1]) \n",
    "                              for x in list(dash_df[(dash_df.dash_deletion)].hla_assign_allele)]\n",
    "\n",
    "    results_df = pd.read_csv('/rnd/users/rpyke/data/00-DASH/sherpa/sherpa_output/20210412-102418_TMT.BINDING.v20210527-214831_binding_multi_with_features_on_multi.tab',\n",
    "                            sep='\\t')\n",
    "    results_df = results_df[results_df.source.str[11:] == tissue]\n",
    "    results_df = results_df.fillna(1) # To fix SHERPA bug\n",
    "    alleles = list(results_df.allele.unique())\n",
    "    unique_peptides = list(results_df.pepseq.unique())\n",
    "    \n",
    "    dash_df['allele'] = 'HLA-' + dash_df.hla_assign_allele.str[0] \\\n",
    "                    + dash_df.hla_assign_allele.str.split('*').str[1].str.split(':').str[:2].str.join(':')\n",
    "\n",
    "    lost_alleles = list(dash_df[(dash_df.dash_deletion)].allele)\n",
    "    homozygous_alleles = list(dash_df[(dash_df.dash_r == '-')].allele.unique())\n",
    "    kept_alleles = [x for x in alleles if x not in (lost_alleles+homozygous_alleles)]\n",
    "    \n",
    "    patient_peptides_used = []\n",
    "    \n",
    "    for i, allele in enumerate(sorted(alleles)):\n",
    "        \n",
    "        allele_peptides_all = list(set(results_df[(results_df.allele == allele)&(results_df.sherpa_calibrated < 0.1)].pepseq))\n",
    "        other_allele_peptides = list(set(results_df[(results_df.allele != allele)&(results_df.sherpa_calibrated < 0.1)].pepseq))\n",
    "        #allele_peptides = [x for x in allele_peptides_all if x not in other_allele_peptides]\n",
    "        allele_peptides = allele_peptides_all\n",
    "        \n",
    "        if allele in lost_alleles:\n",
    "            loh_status = 'lost'\n",
    "        elif allele in homozygous_alleles:\n",
    "            loh_status = 'homozygous'\n",
    "        else:\n",
    "            loh_status = 'kept'\n",
    "            \n",
    "        #print(len(allele_peptides), len(list(df[df.Sequence.isin(allele_peptides)].drop_duplicates('Sequence').fc)))\n",
    "        \n",
    "        all_tissues.extend([tissue for x in allele_peptides])\n",
    "        all_alleles.extend([allele for x in allele_peptides])\n",
    "        all_peptides.extend(allele_peptides)\n",
    "        all_fcs.extend(list(df[df.Sequence.isin(allele_peptides)].drop_duplicates('Sequence').fc))\n",
    "        all_loh_status.extend([loh_status for x in allele_peptides])\n",
    "        patient_peptides_used.extend(allele_peptides)\n",
    "        \n",
    "    unused_peptides = [x for x in unique_peptides if x not in patient_peptides_used]\n",
    "    print(tissue, len(unused_peptides))\n",
    "    \n",
    " "
   ]
  },
  {
   "cell_type": "code",
   "execution_count": 50,
   "metadata": {
    "scrolled": true
   },
   "outputs": [
    {
     "data": {
      "text/plain": [
       "(29394, 29394, 29394)"
      ]
     },
     "execution_count": 50,
     "metadata": {},
     "output_type": "execute_result"
    }
   ],
   "source": [
    "len(all_tissues), len(all_alleles), len(all_fcs)"
   ]
  },
  {
   "cell_type": "code",
   "execution_count": 51,
   "metadata": {},
   "outputs": [
    {
     "data": {
      "text/html": [
       "<div>\n",
       "<style scoped>\n",
       "    .dataframe tbody tr th:only-of-type {\n",
       "        vertical-align: middle;\n",
       "    }\n",
       "\n",
       "    .dataframe tbody tr th {\n",
       "        vertical-align: top;\n",
       "    }\n",
       "\n",
       "    .dataframe thead th {\n",
       "        text-align: right;\n",
       "    }\n",
       "</style>\n",
       "<table border=\"1\" class=\"dataframe\">\n",
       "  <thead>\n",
       "    <tr style=\"text-align: right;\">\n",
       "      <th></th>\n",
       "      <th>Sample</th>\n",
       "      <th>Tissue</th>\n",
       "      <th>Tissue_letter</th>\n",
       "    </tr>\n",
       "  </thead>\n",
       "  <tbody>\n",
       "    <tr>\n",
       "      <th>0</th>\n",
       "      <td>DNA_1070865FA1-5013</td>\n",
       "      <td>1070865FA1</td>\n",
       "      <td>M</td>\n",
       "    </tr>\n",
       "    <tr>\n",
       "      <th>1</th>\n",
       "      <td>DNA_1183384FA1-5013</td>\n",
       "      <td>1183384FA1</td>\n",
       "      <td>N</td>\n",
       "    </tr>\n",
       "    <tr>\n",
       "      <th>2</th>\n",
       "      <td>DNA_1134036FA1-5013</td>\n",
       "      <td>1134036FA1</td>\n",
       "      <td>O</td>\n",
       "    </tr>\n",
       "    <tr>\n",
       "      <th>3</th>\n",
       "      <td>DNA_124768F-5013</td>\n",
       "      <td>124768F</td>\n",
       "      <td>C</td>\n",
       "    </tr>\n",
       "    <tr>\n",
       "      <th>4</th>\n",
       "      <td>DNA_30686F-5013</td>\n",
       "      <td>30686F</td>\n",
       "      <td>P</td>\n",
       "    </tr>\n",
       "    <tr>\n",
       "      <th>5</th>\n",
       "      <td>DNA_H2009</td>\n",
       "      <td>H2009</td>\n",
       "      <td>CellLine</td>\n",
       "    </tr>\n",
       "    <tr>\n",
       "      <th>6</th>\n",
       "      <td>DNA_54147</td>\n",
       "      <td>54147</td>\n",
       "      <td>Q</td>\n",
       "    </tr>\n",
       "  </tbody>\n",
       "</table>\n",
       "</div>"
      ],
      "text/plain": [
       "                Sample      Tissue Tissue_letter\n",
       "0  DNA_1070865FA1-5013  1070865FA1             M\n",
       "1  DNA_1183384FA1-5013  1183384FA1             N\n",
       "2  DNA_1134036FA1-5013  1134036FA1             O\n",
       "3     DNA_124768F-5013     124768F             C\n",
       "4      DNA_30686F-5013      30686F             P\n",
       "5            DNA_H2009       H2009      CellLine\n",
       "6            DNA_54147       54147             Q"
      ]
     },
     "execution_count": 51,
     "metadata": {},
     "output_type": "execute_result"
    }
   ],
   "source": [
    "sample_letter_map"
   ]
  },
  {
   "cell_type": "code",
   "execution_count": 52,
   "metadata": {},
   "outputs": [],
   "source": [
    "plotting_df = pd.DataFrame({'Sample': all_tissues,\n",
    "                             'Allele': all_alleles,\n",
    "                             'Peptide': all_peptides,\n",
    "                             'Fold_change': all_fcs,\n",
    "                             'Allele_status': all_loh_status})"
   ]
  },
  {
   "cell_type": "code",
   "execution_count": 53,
   "metadata": {},
   "outputs": [],
   "source": [
    "plotting_df = pd.merge(plotting_df, sample_letter_map,\n",
    "                      on='Sample', how='left')"
   ]
  },
  {
   "cell_type": "code",
   "execution_count": 54,
   "metadata": {},
   "outputs": [
    {
     "data": {
      "text/plain": [
       "array(['DNA_1070865FA1-5013', 'DNA_1183384FA1-5013',\n",
       "       'DNA_1134036FA1-5013', 'DNA_124768F-5013', 'DNA_30686F-5013',\n",
       "       'DNA_H2009', 'DNA_54147'], dtype=object)"
      ]
     },
     "execution_count": 54,
     "metadata": {},
     "output_type": "execute_result"
    }
   ],
   "source": [
    "plotting_df.Sample.unique()"
   ]
  },
  {
   "cell_type": "code",
   "execution_count": 55,
   "metadata": {},
   "outputs": [],
   "source": [
    "plotting_df['Gene'] = plotting_df.Allele.str[4]"
   ]
  },
  {
   "cell_type": "code",
   "execution_count": 56,
   "metadata": {
    "scrolled": true
   },
   "outputs": [
    {
     "data": {
      "image/png": "[encoded data removed]",
      "text/plain": [
       "<Figure size 432x216 with 1 Axes>"
      ]
     },
     "metadata": {
      "needs_background": "light"
     },
     "output_type": "display_data"
    }
   ],
   "source": [
    "plt.figure(figsize=(6, 3))\n",
    "sns.set_context('talk', font_scale=0.7)\n",
    "\n",
    "plt.axhline(y=1.0, ls='--', color='grey')\n",
    "\n",
    "sns.boxplot(x='Gene', y='Fold_change', hue='Allele_status',\n",
    "            data=plotting_df[plotting_df.Sample != 'DNA_H2009'], \n",
    "           hue_order=['lost', 'kept', 'homozygous'], \n",
    "            palette=[green, blue, '#C1C1C1'])\n",
    "plt.ylim(0.8, 1.2)\n",
    "\n",
    "plt.ylabel('Log fold change of\\npeptide intensity (T/N)')\n",
    "\n",
    "plt.savefig('/rnd/users/rpyke/data/00-DASH/figures/immunopep.fold_change_by_gene.box.v20210527-214831_binding_multi_with_features_on_multi.pdf',\n",
    "           bbox_inches='tight')"
   ]
  },
  {
   "cell_type": "code",
   "execution_count": 57,
   "metadata": {},
   "outputs": [
    {
     "name": "stdout",
     "output_type": "stream",
     "text": [
      "1.0033057912375845\n",
      "1.001742097044902\n",
      "0.9986036751693899\n",
      "1.0028262896392433\n",
      "0.9995741538948473\n",
      "1.0043294231497386\n",
      "1.0003827331268196\n",
      "1.002694116113333\n"
     ]
    }
   ],
   "source": [
    "print(plotting_df[(plotting_df.Tissue != 'DNA_H2009')&(plotting_df.Gene == 'A')&(plotting_df.Allele_status == 'lost')].Fold_change.median())\n",
    "print(plotting_df[(plotting_df.Tissue != 'DNA_H2009')&(plotting_df.Gene == 'A')&(plotting_df.Allele_status == 'kept')].Fold_change.median())\n",
    "print(plotting_df[(plotting_df.Tissue != 'DNA_H2009')&(plotting_df.Gene == 'A')&(plotting_df.Allele_status == 'homozygous')].Fold_change.median())\n",
    "print(plotting_df[(plotting_df.Tissue != 'DNA_H2009')&(plotting_df.Gene == 'B')&(plotting_df.Allele_status == 'lost')].Fold_change.median())\n",
    "print(plotting_df[(plotting_df.Tissue != 'DNA_H2009')&(plotting_df.Gene == 'B')&(plotting_df.Allele_status == 'kept')].Fold_change.median())\n",
    "print(plotting_df[(plotting_df.Tissue != 'DNA_H2009')&(plotting_df.Gene == 'C')&(plotting_df.Allele_status == 'lost')].Fold_change.median())\n",
    "print(plotting_df[(plotting_df.Tissue != 'DNA_H2009')&(plotting_df.Gene == 'C')&(plotting_df.Allele_status == 'kept')].Fold_change.median())\n",
    "print(plotting_df[(plotting_df.Tissue != 'DNA_H2009')&(plotting_df.Gene == 'C')&(plotting_df.Allele_status == 'homozygous')].Fold_change.median())\n"
   ]
  },
  {
   "cell_type": "code",
   "execution_count": 58,
   "metadata": {},
   "outputs": [
    {
     "name": "stdout",
     "output_type": "stream",
     "text": [
      "1490\n",
      "6613\n",
      "2814\n",
      "3823\n",
      "9910\n",
      "703\n",
      "3421\n",
      "620\n"
     ]
    }
   ],
   "source": [
    "print(len(plotting_df[(plotting_df.Tissue != 'DNA_H2009')&(plotting_df.Gene == 'A')&(plotting_df.Allele_status == 'lost')].Fold_change))\n",
    "print(len(plotting_df[(plotting_df.Tissue != 'DNA_H2009')&(plotting_df.Gene == 'A')&(plotting_df.Allele_status == 'kept')].Fold_change))\n",
    "print(len(plotting_df[(plotting_df.Tissue != 'DNA_H2009')&(plotting_df.Gene == 'A')&(plotting_df.Allele_status == 'homozygous')].Fold_change))\n",
    "print(len(plotting_df[(plotting_df.Tissue != 'DNA_H2009')&(plotting_df.Gene == 'B')&(plotting_df.Allele_status == 'lost')].Fold_change))\n",
    "print(len(plotting_df[(plotting_df.Tissue != 'DNA_H2009')&(plotting_df.Gene == 'B')&(plotting_df.Allele_status == 'kept')].Fold_change))\n",
    "print(len(plotting_df[(plotting_df.Tissue != 'DNA_H2009')&(plotting_df.Gene == 'C')&(plotting_df.Allele_status == 'lost')].Fold_change))\n",
    "print(len(plotting_df[(plotting_df.Tissue != 'DNA_H2009')&(plotting_df.Gene == 'C')&(plotting_df.Allele_status == 'kept')].Fold_change))\n",
    "print(len(plotting_df[(plotting_df.Tissue != 'DNA_H2009')&(plotting_df.Gene == 'C')&(plotting_df.Allele_status == 'homozygous')].Fold_change))\n"
   ]
  },
  {
   "cell_type": "code",
   "execution_count": 59,
   "metadata": {},
   "outputs": [],
   "source": [
    "# Saving source data\n",
    "panel_name = 'figure_4b'\n",
    "plotting_df.to_excel('/rnd/users/rpyke/data/00-DASH/manuscript_source_data/{0}.xlsx'.format(panel_name),\n",
    "                                 index=None)"
   ]
  },
  {
   "cell_type": "code",
   "execution_count": 60,
   "metadata": {
    "scrolled": true
   },
   "outputs": [
    {
     "data": {
      "text/plain": [
       "array(['DNA_1070865FA1-5013', 'DNA_1183384FA1-5013',\n",
       "       'DNA_1134036FA1-5013', 'DNA_124768F-5013', 'DNA_30686F-5013',\n",
       "       'DNA_H2009', 'DNA_54147'], dtype=object)"
      ]
     },
     "execution_count": 60,
     "metadata": {},
     "output_type": "execute_result"
    }
   ],
   "source": [
    "plotting_df.Sample.unique()"
   ]
  },
  {
   "cell_type": "code",
   "execution_count": 61,
   "metadata": {
    "scrolled": false
   },
   "outputs": [
    {
     "name": "stdout",
     "output_type": "stream",
     "text": [
      "Ttest_indResult(statistic=5.230219529302309, pvalue=1.735433739888566e-07)\n",
      "Ttest_indResult(statistic=12.5089149215903, pvalue=2.7251219803680937e-35)\n",
      "Ttest_indResult(statistic=-15.708932694960763, pvalue=6.5102617998152656e-55)\n"
     ]
    }
   ],
   "source": [
    "print(sp.ttest_ind(list(plotting_df[(plotting_df.Tissue != 'DNA_H2009')&(plotting_df.Gene == 'A')&(plotting_df.Allele_status == 'lost')].Fold_change),\n",
    "            list(plotting_df[(plotting_df.Tissue != 'DNA_H2009')&(plotting_df.Gene == 'A')&(plotting_df.Allele_status == 'kept')].Fold_change)))\n",
    "print(sp.ttest_ind(list(plotting_df[(plotting_df.Tissue != 'DNA_H2009')&(plotting_df.Gene == 'A')&(plotting_df.Allele_status == 'lost')].Fold_change),\n",
    "            list(plotting_df[(plotting_df.Tissue != 'DNA_H2009')&(plotting_df.Gene == 'A')&(plotting_df.Allele_status == 'homozygous')].Fold_change)))\n",
    "print(sp.ttest_ind(list(plotting_df[(plotting_df.Tissue != 'DNA_H2009')&(plotting_df.Gene == 'A')&(plotting_df.Allele_status == 'homozygous')].Fold_change),\n",
    "            list(plotting_df[(plotting_df.Tissue != 'DNA_H2009')&(plotting_df.Gene == 'A')&(plotting_df.Allele_status == 'kept')].Fold_change)))"
   ]
  },
  {
   "cell_type": "code",
   "execution_count": 62,
   "metadata": {
    "scrolled": true
   },
   "outputs": [
    {
     "data": {
      "text/plain": [
       "Ttest_indResult(statistic=4.942822555156334, pvalue=7.818585140602015e-07)"
      ]
     },
     "execution_count": 62,
     "metadata": {},
     "output_type": "execute_result"
    }
   ],
   "source": [
    "sp.ttest_ind(list(plotting_df[(plotting_df.Sample != 'DNA_H2009')&(plotting_df.Gene == 'B')&(plotting_df.Allele_status == 'lost')].Fold_change),\n",
    "            list(plotting_df[(plotting_df.Sample != 'DNA_H2009')&(plotting_df.Gene == 'B')&(plotting_df.Allele_status == 'kept')].Fold_change))\n"
   ]
  },
  {
   "cell_type": "code",
   "execution_count": 63,
   "metadata": {},
   "outputs": [
    {
     "name": "stdout",
     "output_type": "stream",
     "text": [
      "Ttest_indResult(statistic=2.6650550866023797, pvalue=0.007730749002638656)\n",
      "Ttest_indResult(statistic=-1.3736399186282133, pvalue=0.16984094633851862)\n",
      "Ttest_indResult(statistic=5.048211363276875, pvalue=4.6636018738804977e-07)\n"
     ]
    }
   ],
   "source": [
    "print(sp.ttest_ind(list(plotting_df[(plotting_df.Sample != 'DNA_H2009')&(plotting_df.Gene == 'C')&(plotting_df.Allele_status == 'lost')].Fold_change),\n",
    "            list(plotting_df[(plotting_df.Sample != 'DNA_H2009')&(plotting_df.Gene == 'C')&(plotting_df.Allele_status == 'kept')].Fold_change)))\n",
    "print(sp.ttest_ind(list(plotting_df[(plotting_df.Sample != 'DNA_H2009')&(plotting_df.Gene == 'C')&(plotting_df.Allele_status == 'lost')].Fold_change),\n",
    "            list(plotting_df[(plotting_df.Sample != 'DNA_H2009')&(plotting_df.Gene == 'C')&(plotting_df.Allele_status == 'homozygous')].Fold_change)))\n",
    "print(sp.ttest_ind(list(plotting_df[(plotting_df.Sample != 'DNA_H2009')&(plotting_df.Gene == 'C')&(plotting_df.Allele_status == 'homozygous')].Fold_change),\n",
    "            list(plotting_df[(plotting_df.Sample != 'DNA_H2009')&(plotting_df.Gene == 'C')&(plotting_df.Allele_status == 'kept')].Fold_change)))\n"
   ]
  },
  {
   "cell_type": "code",
   "execution_count": 64,
   "metadata": {},
   "outputs": [
    {
     "data": {
      "text/html": [
       "<div>\n",
       "<style scoped>\n",
       "    .dataframe tbody tr th:only-of-type {\n",
       "        vertical-align: middle;\n",
       "    }\n",
       "\n",
       "    .dataframe tbody tr th {\n",
       "        vertical-align: top;\n",
       "    }\n",
       "\n",
       "    .dataframe thead th {\n",
       "        text-align: right;\n",
       "    }\n",
       "</style>\n",
       "<table border=\"1\" class=\"dataframe\">\n",
       "  <thead>\n",
       "    <tr style=\"text-align: right;\">\n",
       "      <th></th>\n",
       "      <th>Tissue</th>\n",
       "      <th>Value</th>\n",
       "      <th>Sample Type</th>\n",
       "      <th>Purity</th>\n",
       "      <th>Sample</th>\n",
       "      <th>Tissue_letter</th>\n",
       "    </tr>\n",
       "  </thead>\n",
       "  <tbody>\n",
       "    <tr>\n",
       "      <th>0</th>\n",
       "      <td>1070865FA1</td>\n",
       "      <td>0.022741</td>\n",
       "      <td>Control</td>\n",
       "      <td>0.17</td>\n",
       "      <td>DNA_1070865FA1-5013</td>\n",
       "      <td>M</td>\n",
       "    </tr>\n",
       "    <tr>\n",
       "      <th>1</th>\n",
       "      <td>1134036FA1</td>\n",
       "      <td>0.030253</td>\n",
       "      <td>LOH</td>\n",
       "      <td>0.11</td>\n",
       "      <td>DNA_1134036FA1-5013</td>\n",
       "      <td>O</td>\n",
       "    </tr>\n",
       "    <tr>\n",
       "      <th>2</th>\n",
       "      <td>1183384FA1</td>\n",
       "      <td>0.031830</td>\n",
       "      <td>Control</td>\n",
       "      <td>0.11</td>\n",
       "      <td>DNA_1183384FA1-5013</td>\n",
       "      <td>N</td>\n",
       "    </tr>\n",
       "    <tr>\n",
       "      <th>3</th>\n",
       "      <td>124768F</td>\n",
       "      <td>0.058536</td>\n",
       "      <td>LOH</td>\n",
       "      <td>0.23</td>\n",
       "      <td>DNA_124768F-5013</td>\n",
       "      <td>C</td>\n",
       "    </tr>\n",
       "    <tr>\n",
       "      <th>4</th>\n",
       "      <td>30686F</td>\n",
       "      <td>0.022871</td>\n",
       "      <td>Control</td>\n",
       "      <td>0.66</td>\n",
       "      <td>DNA_30686F-5013</td>\n",
       "      <td>P</td>\n",
       "    </tr>\n",
       "    <tr>\n",
       "      <th>5</th>\n",
       "      <td>54147</td>\n",
       "      <td>0.029923</td>\n",
       "      <td>LOH</td>\n",
       "      <td>0.80</td>\n",
       "      <td>DNA_54147</td>\n",
       "      <td>Q</td>\n",
       "    </tr>\n",
       "    <tr>\n",
       "      <th>6</th>\n",
       "      <td>H2009</td>\n",
       "      <td>0.056113</td>\n",
       "      <td>LOH</td>\n",
       "      <td>1.00</td>\n",
       "      <td>DNA_H2009</td>\n",
       "      <td>CellLine</td>\n",
       "    </tr>\n",
       "  </tbody>\n",
       "</table>\n",
       "</div>"
      ],
      "text/plain": [
       "       Tissue     Value Sample Type  Purity               Sample Tissue_letter\n",
       "0  1070865FA1  0.022741     Control    0.17  DNA_1070865FA1-5013             M\n",
       "1  1134036FA1  0.030253         LOH    0.11  DNA_1134036FA1-5013             O\n",
       "2  1183384FA1  0.031830     Control    0.11  DNA_1183384FA1-5013             N\n",
       "3     124768F  0.058536         LOH    0.23     DNA_124768F-5013             C\n",
       "4      30686F  0.022871     Control    0.66      DNA_30686F-5013             P\n",
       "5       54147  0.029923         LOH    0.80            DNA_54147             Q\n",
       "6       H2009  0.056113         LOH    1.00            DNA_H2009      CellLine"
      ]
     },
     "execution_count": 64,
     "metadata": {},
     "output_type": "execute_result"
    }
   ],
   "source": [
    "std_df"
   ]
  },
  {
   "cell_type": "code",
   "execution_count": 65,
   "metadata": {},
   "outputs": [
    {
     "data": {
      "text/html": [
       "<div>\n",
       "<style scoped>\n",
       "    .dataframe tbody tr th:only-of-type {\n",
       "        vertical-align: middle;\n",
       "    }\n",
       "\n",
       "    .dataframe tbody tr th {\n",
       "        vertical-align: top;\n",
       "    }\n",
       "\n",
       "    .dataframe thead th {\n",
       "        text-align: right;\n",
       "    }\n",
       "</style>\n",
       "<table border=\"1\" class=\"dataframe\">\n",
       "  <thead>\n",
       "    <tr style=\"text-align: right;\">\n",
       "      <th></th>\n",
       "      <th>Sample</th>\n",
       "      <th>Allele</th>\n",
       "      <th>Peptide</th>\n",
       "      <th>Fold_change</th>\n",
       "      <th>Allele_status</th>\n",
       "      <th>Tissue</th>\n",
       "      <th>Tissue_letter</th>\n",
       "      <th>Gene</th>\n",
       "    </tr>\n",
       "  </thead>\n",
       "  <tbody>\n",
       "    <tr>\n",
       "      <th>0</th>\n",
       "      <td>DNA_1070865FA1-5013</td>\n",
       "      <td>HLA-A32:01</td>\n",
       "      <td>RTFVWPAHF</td>\n",
       "      <td>1.024423</td>\n",
       "      <td>kept</td>\n",
       "      <td>1070865FA1</td>\n",
       "      <td>M</td>\n",
       "      <td>A</td>\n",
       "    </tr>\n",
       "    <tr>\n",
       "      <th>1</th>\n",
       "      <td>DNA_1070865FA1-5013</td>\n",
       "      <td>HLA-A32:01</td>\n",
       "      <td>KTWNGGESL</td>\n",
       "      <td>0.996553</td>\n",
       "      <td>kept</td>\n",
       "      <td>1070865FA1</td>\n",
       "      <td>M</td>\n",
       "      <td>A</td>\n",
       "    </tr>\n",
       "    <tr>\n",
       "      <th>2</th>\n",
       "      <td>DNA_1070865FA1-5013</td>\n",
       "      <td>HLA-A32:01</td>\n",
       "      <td>RVAEVQQVL</td>\n",
       "      <td>1.036950</td>\n",
       "      <td>kept</td>\n",
       "      <td>1070865FA1</td>\n",
       "      <td>M</td>\n",
       "      <td>A</td>\n",
       "    </tr>\n",
       "    <tr>\n",
       "      <th>3</th>\n",
       "      <td>DNA_1070865FA1-5013</td>\n",
       "      <td>HLA-A32:01</td>\n",
       "      <td>KLYGYYVSI</td>\n",
       "      <td>0.962393</td>\n",
       "      <td>kept</td>\n",
       "      <td>1070865FA1</td>\n",
       "      <td>M</td>\n",
       "      <td>A</td>\n",
       "    </tr>\n",
       "    <tr>\n",
       "      <th>4</th>\n",
       "      <td>DNA_1070865FA1-5013</td>\n",
       "      <td>HLA-A32:01</td>\n",
       "      <td>KLYGMPTDFGF</td>\n",
       "      <td>1.034859</td>\n",
       "      <td>kept</td>\n",
       "      <td>1070865FA1</td>\n",
       "      <td>M</td>\n",
       "      <td>A</td>\n",
       "    </tr>\n",
       "  </tbody>\n",
       "</table>\n",
       "</div>"
      ],
      "text/plain": [
       "                Sample      Allele      Peptide  Fold_change Allele_status  \\\n",
       "0  DNA_1070865FA1-5013  HLA-A32:01    RTFVWPAHF     1.024423          kept   \n",
       "1  DNA_1070865FA1-5013  HLA-A32:01    KTWNGGESL     0.996553          kept   \n",
       "2  DNA_1070865FA1-5013  HLA-A32:01    RVAEVQQVL     1.036950          kept   \n",
       "3  DNA_1070865FA1-5013  HLA-A32:01    KLYGYYVSI     0.962393          kept   \n",
       "4  DNA_1070865FA1-5013  HLA-A32:01  KLYGMPTDFGF     1.034859          kept   \n",
       "\n",
       "       Tissue Tissue_letter Gene  \n",
       "0  1070865FA1             M    A  \n",
       "1  1070865FA1             M    A  \n",
       "2  1070865FA1             M    A  \n",
       "3  1070865FA1             M    A  \n",
       "4  1070865FA1             M    A  "
      ]
     },
     "execution_count": 65,
     "metadata": {},
     "output_type": "execute_result"
    }
   ],
   "source": [
    "plotting_df.head()"
   ]
  },
  {
   "cell_type": "code",
   "execution_count": 66,
   "metadata": {},
   "outputs": [
    {
     "name": "stdout",
     "output_type": "stream",
     "text": [
      "N\n",
      "Ttest_indResult(statistic=nan, pvalue=nan)\n",
      "Ttest_indResult(statistic=nan, pvalue=nan)\n",
      "Ttest_indResult(statistic=17.502659534066296, pvalue=6.05512326205511e-66)\n",
      "\n",
      "\n",
      "M\n",
      "Ttest_indResult(statistic=nan, pvalue=nan)\n",
      "Ttest_indResult(statistic=nan, pvalue=nan)\n",
      "Ttest_indResult(statistic=nan, pvalue=nan)\n",
      "\n",
      "\n",
      "P\n",
      "Ttest_indResult(statistic=nan, pvalue=nan)\n",
      "Ttest_indResult(statistic=nan, pvalue=nan)\n",
      "Ttest_indResult(statistic=nan, pvalue=nan)\n",
      "\n",
      "\n",
      "O\n",
      "Ttest_indResult(statistic=-1.5267262311266496, pvalue=0.1269366691931721)\n",
      "Ttest_indResult(statistic=nan, pvalue=nan)\n",
      "Ttest_indResult(statistic=nan, pvalue=nan)\n",
      "\n",
      "\n",
      "C\n",
      "Ttest_indResult(statistic=2.888084376367354, pvalue=0.003893875821163801)\n",
      "Ttest_indResult(statistic=0.4615730763857842, pvalue=0.644421037942891)\n",
      "Ttest_indResult(statistic=1.527864381498058, pvalue=0.12665572284634005)\n",
      "\n",
      "\n",
      "Q\n",
      "Ttest_indResult(statistic=-2.7971801204228814, pvalue=0.005283372854117176)\n",
      "Ttest_indResult(statistic=nan, pvalue=nan)\n",
      "Ttest_indResult(statistic=nan, pvalue=nan)\n",
      "\n",
      "\n"
     ]
    }
   ],
   "source": [
    "for sample in list(std_df.sort_values(['Sample Type', 'Purity']).Tissue_letter)[:-1]:\n",
    "    print(sample)\n",
    "    print(sp.ttest_ind(list(plotting_df[(plotting_df.Tissue_letter == sample)&(plotting_df.Allele_status == 'lost')].Fold_change),\n",
    "                list(plotting_df[(plotting_df.Tissue_letter == sample)&(plotting_df.Allele_status == 'kept')].Fold_change)))\n",
    "    print(sp.ttest_ind(list(plotting_df[(plotting_df.Tissue_letter == sample)&(plotting_df.Allele_status == 'lost')].Fold_change),\n",
    "                list(plotting_df[(plotting_df.Tissue_letter == sample)&(plotting_df.Allele_status == 'homozygous')].Fold_change)))\n",
    "    print(sp.ttest_ind(list(plotting_df[(plotting_df.Tissue_letter == sample)&(plotting_df.Allele_status == 'homozygous')].Fold_change),\n",
    "                list(plotting_df[(plotting_df.Tissue_letter == sample)&(plotting_df.Allele_status == 'kept')].Fold_change)))\n",
    "    print('\\n')\n",
    "    "
   ]
  },
  {
   "cell_type": "code",
   "execution_count": 67,
   "metadata": {
    "scrolled": false
   },
   "outputs": [
    {
     "data": {
      "text/html": [
       "<div>\n",
       "<style scoped>\n",
       "    .dataframe tbody tr th:only-of-type {\n",
       "        vertical-align: middle;\n",
       "    }\n",
       "\n",
       "    .dataframe tbody tr th {\n",
       "        vertical-align: top;\n",
       "    }\n",
       "\n",
       "    .dataframe thead th {\n",
       "        text-align: right;\n",
       "    }\n",
       "</style>\n",
       "<table border=\"1\" class=\"dataframe\">\n",
       "  <thead>\n",
       "    <tr style=\"text-align: right;\">\n",
       "      <th></th>\n",
       "      <th></th>\n",
       "      <th>Fold_change</th>\n",
       "    </tr>\n",
       "    <tr>\n",
       "      <th>Sample</th>\n",
       "      <th>Allele_status</th>\n",
       "      <th></th>\n",
       "    </tr>\n",
       "  </thead>\n",
       "  <tbody>\n",
       "    <tr>\n",
       "      <th>DNA_1070865FA1-5013</th>\n",
       "      <th>kept</th>\n",
       "      <td>1.000908</td>\n",
       "    </tr>\n",
       "    <tr>\n",
       "      <th rowspan=\"2\" valign=\"top\">DNA_1134036FA1-5013</th>\n",
       "      <th>kept</th>\n",
       "      <td>1.001027</td>\n",
       "    </tr>\n",
       "    <tr>\n",
       "      <th>lost</th>\n",
       "      <td>1.000109</td>\n",
       "    </tr>\n",
       "    <tr>\n",
       "      <th rowspan=\"2\" valign=\"top\">DNA_1183384FA1-5013</th>\n",
       "      <th>homozygous</th>\n",
       "      <td>1.008255</td>\n",
       "    </tr>\n",
       "    <tr>\n",
       "      <th>kept</th>\n",
       "      <td>0.995403</td>\n",
       "    </tr>\n",
       "    <tr>\n",
       "      <th rowspan=\"3\" valign=\"top\">DNA_124768F-5013</th>\n",
       "      <th>homozygous</th>\n",
       "      <td>1.002694</td>\n",
       "    </tr>\n",
       "    <tr>\n",
       "      <th>kept</th>\n",
       "      <td>0.999187</td>\n",
       "    </tr>\n",
       "    <tr>\n",
       "      <th>lost</th>\n",
       "      <td>1.002621</td>\n",
       "    </tr>\n",
       "    <tr>\n",
       "      <th>DNA_30686F-5013</th>\n",
       "      <th>kept</th>\n",
       "      <td>1.001858</td>\n",
       "    </tr>\n",
       "    <tr>\n",
       "      <th rowspan=\"2\" valign=\"top\">DNA_54147</th>\n",
       "      <th>kept</th>\n",
       "      <td>1.000423</td>\n",
       "    </tr>\n",
       "    <tr>\n",
       "      <th>lost</th>\n",
       "      <td>0.998259</td>\n",
       "    </tr>\n",
       "    <tr>\n",
       "      <th rowspan=\"3\" valign=\"top\">DNA_H2009</th>\n",
       "      <th>homozygous</th>\n",
       "      <td>0.980395</td>\n",
       "    </tr>\n",
       "    <tr>\n",
       "      <th>kept</th>\n",
       "      <td>1.001705</td>\n",
       "    </tr>\n",
       "    <tr>\n",
       "      <th>lost</th>\n",
       "      <td>1.009894</td>\n",
       "    </tr>\n",
       "  </tbody>\n",
       "</table>\n",
       "</div>"
      ],
      "text/plain": [
       "                                   Fold_change\n",
       "Sample              Allele_status             \n",
       "DNA_1070865FA1-5013 kept              1.000908\n",
       "DNA_1134036FA1-5013 kept              1.001027\n",
       "                    lost              1.000109\n",
       "DNA_1183384FA1-5013 homozygous        1.008255\n",
       "                    kept              0.995403\n",
       "DNA_124768F-5013    homozygous        1.002694\n",
       "                    kept              0.999187\n",
       "                    lost              1.002621\n",
       "DNA_30686F-5013     kept              1.001858\n",
       "DNA_54147           kept              1.000423\n",
       "                    lost              0.998259\n",
       "DNA_H2009           homozygous        0.980395\n",
       "                    kept              1.001705\n",
       "                    lost              1.009894"
      ]
     },
     "execution_count": 67,
     "metadata": {},
     "output_type": "execute_result"
    }
   ],
   "source": [
    "plotting_df.groupby(['Sample', 'Allele_status']).median()"
   ]
  },
  {
   "cell_type": "code",
   "execution_count": 68,
   "metadata": {},
   "outputs": [
    {
     "data": {
      "text/html": [
       "<div>\n",
       "<style scoped>\n",
       "    .dataframe tbody tr th:only-of-type {\n",
       "        vertical-align: middle;\n",
       "    }\n",
       "\n",
       "    .dataframe tbody tr th {\n",
       "        vertical-align: top;\n",
       "    }\n",
       "\n",
       "    .dataframe thead th {\n",
       "        text-align: right;\n",
       "    }\n",
       "</style>\n",
       "<table border=\"1\" class=\"dataframe\">\n",
       "  <thead>\n",
       "    <tr style=\"text-align: right;\">\n",
       "      <th></th>\n",
       "      <th></th>\n",
       "      <th>Fold_change</th>\n",
       "    </tr>\n",
       "    <tr>\n",
       "      <th>Gene</th>\n",
       "      <th>Allele_status</th>\n",
       "      <th></th>\n",
       "    </tr>\n",
       "  </thead>\n",
       "  <tbody>\n",
       "    <tr>\n",
       "      <th rowspan=\"3\" valign=\"top\">A</th>\n",
       "      <th>homozygous</th>\n",
       "      <td>0.998604</td>\n",
       "    </tr>\n",
       "    <tr>\n",
       "      <th>kept</th>\n",
       "      <td>1.001742</td>\n",
       "    </tr>\n",
       "    <tr>\n",
       "      <th>lost</th>\n",
       "      <td>1.003306</td>\n",
       "    </tr>\n",
       "    <tr>\n",
       "      <th rowspan=\"2\" valign=\"top\">B</th>\n",
       "      <th>kept</th>\n",
       "      <td>0.999574</td>\n",
       "    </tr>\n",
       "    <tr>\n",
       "      <th>lost</th>\n",
       "      <td>1.002826</td>\n",
       "    </tr>\n",
       "    <tr>\n",
       "      <th rowspan=\"3\" valign=\"top\">C</th>\n",
       "      <th>homozygous</th>\n",
       "      <td>1.002694</td>\n",
       "    </tr>\n",
       "    <tr>\n",
       "      <th>kept</th>\n",
       "      <td>1.000383</td>\n",
       "    </tr>\n",
       "    <tr>\n",
       "      <th>lost</th>\n",
       "      <td>1.004329</td>\n",
       "    </tr>\n",
       "  </tbody>\n",
       "</table>\n",
       "</div>"
      ],
      "text/plain": [
       "                    Fold_change\n",
       "Gene Allele_status             \n",
       "A    homozygous        0.998604\n",
       "     kept              1.001742\n",
       "     lost              1.003306\n",
       "B    kept              0.999574\n",
       "     lost              1.002826\n",
       "C    homozygous        1.002694\n",
       "     kept              1.000383\n",
       "     lost              1.004329"
      ]
     },
     "execution_count": 68,
     "metadata": {},
     "output_type": "execute_result"
    }
   ],
   "source": [
    "plotting_df.groupby(['Gene', 'Allele_status']).median()"
   ]
  },
  {
   "cell_type": "code",
   "execution_count": 69,
   "metadata": {},
   "outputs": [
    {
     "data": {
      "image/png": "[encoded data removed]",
      "text/plain": [
       "<Figure size 432x216 with 1 Axes>"
      ]
     },
     "metadata": {
      "needs_background": "light"
     },
     "output_type": "display_data"
    }
   ],
   "source": [
    "plt.figure(figsize=(6, 3))\n",
    "sns.set_context('talk', font_scale=0.7)\n",
    "\n",
    "plt.axhline(y=1.0, ls='--', color='grey')\n",
    "sns.boxplot(x='Tissue_letter', y='Fold_change', hue='Allele_status',\n",
    "            data=plotting_df[(plotting_df.Sample != 'DNA_H2009')], \n",
    "           hue_order=['lost', 'kept', 'homozygous'],\n",
    "            order=list(std_df.sort_values(['Sample Type', 'Purity']).Tissue_letter)[:-1],\n",
    "           palette=[green, blue, '#C1C1C1'])\n",
    "plt.ylim(0.8, 1.2)\n",
    "#plt.xticks(rotation=90)\n",
    "plt.xlabel('Tissue')\n",
    "plt.ylabel('Log fold change of\\npeptide intensity (T/N)')\n",
    "\n",
    "plt.savefig('/rnd/users/rpyke/data/00-DASH/figures/immunopep.fold_change_by_patient.box.v20210527-214831_binding_multi_with_features_on_multi.pdf',\n",
    "           bbox_inches='tight')"
   ]
  },
  {
   "cell_type": "code",
   "execution_count": 70,
   "metadata": {},
   "outputs": [],
   "source": [
    "# Saving source data\n",
    "panel_name = 'supp_figure_13c'\n",
    "plotting_df.to_excel('/rnd/users/rpyke/data/00-DASH/manuscript_source_data/{0}.xlsx'.format(panel_name),\n",
    "                                 index=None)"
   ]
  },
  {
   "cell_type": "code",
   "execution_count": 71,
   "metadata": {},
   "outputs": [
    {
     "data": {
      "text/plain": [
       "Ttest_indResult(statistic=6.762096224285851, pvalue=1.5810949841355312e-11)"
      ]
     },
     "execution_count": 71,
     "metadata": {},
     "output_type": "execute_result"
    }
   ],
   "source": [
    "sp.ttest_ind(list(plotting_df[(plotting_df.Sample == 'DNA_H2009')&(plotting_df.Allele_status == 'lost')].Fold_change),\n",
    "            list(plotting_df[(plotting_df.Sample == 'DNA_H2009')&(plotting_df.Allele_status == 'kept')].Fold_change))\n"
   ]
  },
  {
   "cell_type": "code",
   "execution_count": 72,
   "metadata": {},
   "outputs": [
    {
     "data": {
      "text/html": [
       "<div>\n",
       "<style scoped>\n",
       "    .dataframe tbody tr th:only-of-type {\n",
       "        vertical-align: middle;\n",
       "    }\n",
       "\n",
       "    .dataframe tbody tr th {\n",
       "        vertical-align: top;\n",
       "    }\n",
       "\n",
       "    .dataframe thead th {\n",
       "        text-align: right;\n",
       "    }\n",
       "</style>\n",
       "<table border=\"1\" class=\"dataframe\">\n",
       "  <thead>\n",
       "    <tr style=\"text-align: right;\">\n",
       "      <th></th>\n",
       "      <th>Fold_change</th>\n",
       "    </tr>\n",
       "    <tr>\n",
       "      <th>Allele_status</th>\n",
       "      <th></th>\n",
       "    </tr>\n",
       "  </thead>\n",
       "  <tbody>\n",
       "    <tr>\n",
       "      <th>homozygous</th>\n",
       "      <td>0.980395</td>\n",
       "    </tr>\n",
       "    <tr>\n",
       "      <th>kept</th>\n",
       "      <td>1.001705</td>\n",
       "    </tr>\n",
       "    <tr>\n",
       "      <th>lost</th>\n",
       "      <td>1.009894</td>\n",
       "    </tr>\n",
       "  </tbody>\n",
       "</table>\n",
       "</div>"
      ],
      "text/plain": [
       "               Fold_change\n",
       "Allele_status             \n",
       "homozygous        0.980395\n",
       "kept              1.001705\n",
       "lost              1.009894"
      ]
     },
     "execution_count": 72,
     "metadata": {},
     "output_type": "execute_result"
    }
   ],
   "source": [
    "plotting_df[(plotting_df.Sample == 'DNA_H2009')].groupby('Allele_status').median()\n"
   ]
  },
  {
   "cell_type": "code",
   "execution_count": 73,
   "metadata": {},
   "outputs": [
    {
     "data": {
      "image/png": "[encoded data removed]",
      "text/plain": [
       "<Figure size 108x216 with 1 Axes>"
      ]
     },
     "metadata": {
      "needs_background": "light"
     },
     "output_type": "display_data"
    }
   ],
   "source": [
    "plt.figure(figsize=(1.5, 3))\n",
    "sns.set_context('talk', font_scale=0.7)\n",
    "sns.barplot(x='Tissue_letter', y='Purity', # hue='Thresholds',\n",
    "            data=std_df[std_df.Tissue_letter != 'CellLine'], \n",
    "            order=list(std_df.sort_values(['Sample Type', 'Purity']).Tissue_letter)[:-1],\n",
    "            color='Grey')\n",
    "\n",
    "plt.ylabel('Tumor purity')\n",
    "plt.xlabel('Tissue')\n",
    "plt.savefig('/rnd/users/rpyke/data/00-DASH/figures/immunopep.tumor_purity.bar.pdf',\n",
    "           bbox_inches='tight')"
   ]
  },
  {
   "cell_type": "code",
   "execution_count": 74,
   "metadata": {},
   "outputs": [
    {
     "data": {
      "text/html": [
       "<div>\n",
       "<style scoped>\n",
       "    .dataframe tbody tr th:only-of-type {\n",
       "        vertical-align: middle;\n",
       "    }\n",
       "\n",
       "    .dataframe tbody tr th {\n",
       "        vertical-align: top;\n",
       "    }\n",
       "\n",
       "    .dataframe thead th {\n",
       "        text-align: right;\n",
       "    }\n",
       "</style>\n",
       "<table border=\"1\" class=\"dataframe\">\n",
       "  <thead>\n",
       "    <tr style=\"text-align: right;\">\n",
       "      <th></th>\n",
       "      <th>Tissue</th>\n",
       "      <th>Tissue_letter</th>\n",
       "      <th>Purity</th>\n",
       "    </tr>\n",
       "  </thead>\n",
       "  <tbody>\n",
       "    <tr>\n",
       "      <th>0</th>\n",
       "      <td>1070865FA1</td>\n",
       "      <td>M</td>\n",
       "      <td>0.17</td>\n",
       "    </tr>\n",
       "    <tr>\n",
       "      <th>1</th>\n",
       "      <td>1134036FA1</td>\n",
       "      <td>O</td>\n",
       "      <td>0.11</td>\n",
       "    </tr>\n",
       "    <tr>\n",
       "      <th>2</th>\n",
       "      <td>1183384FA1</td>\n",
       "      <td>N</td>\n",
       "      <td>0.11</td>\n",
       "    </tr>\n",
       "    <tr>\n",
       "      <th>3</th>\n",
       "      <td>124768F</td>\n",
       "      <td>C</td>\n",
       "      <td>0.23</td>\n",
       "    </tr>\n",
       "    <tr>\n",
       "      <th>4</th>\n",
       "      <td>30686F</td>\n",
       "      <td>P</td>\n",
       "      <td>0.66</td>\n",
       "    </tr>\n",
       "    <tr>\n",
       "      <th>5</th>\n",
       "      <td>54147</td>\n",
       "      <td>Q</td>\n",
       "      <td>0.80</td>\n",
       "    </tr>\n",
       "  </tbody>\n",
       "</table>\n",
       "</div>"
      ],
      "text/plain": [
       "       Tissue Tissue_letter  Purity\n",
       "0  1070865FA1             M    0.17\n",
       "1  1134036FA1             O    0.11\n",
       "2  1183384FA1             N    0.11\n",
       "3     124768F             C    0.23\n",
       "4      30686F             P    0.66\n",
       "5       54147             Q    0.80"
      ]
     },
     "execution_count": 74,
     "metadata": {},
     "output_type": "execute_result"
    }
   ],
   "source": [
    "std_df[std_df.Tissue_letter != 'CellLine'][['Tissue', 'Tissue_letter', 'Purity']]"
   ]
  },
  {
   "cell_type": "code",
   "execution_count": 75,
   "metadata": {},
   "outputs": [],
   "source": [
    "# Saving source data\n",
    "panel_name = 'supp_figure_13d'\n",
    "std_df[std_df.Tissue_letter != 'CellLine'][['Tissue', 'Tissue_letter', 'Purity']].to_excel('/rnd/users/rpyke/data/00-DASH/manuscript_source_data/{0}.xlsx'.format(panel_name),\n",
    "                                 index=None)"
   ]
  },
  {
   "cell_type": "markdown",
   "metadata": {},
   "source": [
    "### Allele-specific expression"
   ]
  },
  {
   "cell_type": "code",
   "execution_count": 76,
   "metadata": {},
   "outputs": [],
   "source": [
    "input_meta_data = pd.read_csv('/rnd/users/rpyke/data/00-DASH/for_others/readdata.immunopeptidomics.csv')"
   ]
  },
  {
   "cell_type": "code",
   "execution_count": 77,
   "metadata": {},
   "outputs": [],
   "source": [
    "def get_lees_abbreviation(x):\n",
    "    if '/per/ops/symp' in x:\n",
    "        return '_'.join(x.split('ops/symphony/production/')[1].split('/')[:3])\n",
    "    else:\n",
    "        return '_'.join(x.split('/')[4:7])\n",
    "input_meta_data['subject'] = input_meta_data.rna_home.apply(get_lees_abbreviation)"
   ]
  },
  {
   "cell_type": "code",
   "execution_count": 78,
   "metadata": {},
   "outputs": [],
   "source": [
    "input_meta_data = input_meta_data.replace('2191_27541_1946180', '2192_27541_1946180')"
   ]
  },
  {
   "cell_type": "code",
   "execution_count": 79,
   "metadata": {
    "scrolled": true
   },
   "outputs": [],
   "source": [
    "allele_specific_exp_df = pd.read_csv('/rnd/users/rpyke/data/00-DASH/validation/TMT/kallisto.from_Lee.csv')"
   ]
  },
  {
   "cell_type": "code",
   "execution_count": 80,
   "metadata": {},
   "outputs": [],
   "source": [
    "allele_specific_exp_df = pd.merge(allele_specific_exp_df, input_meta_data[['subject', 'sample_name_tumor']],\n",
    "                                on='subject', how='left')"
   ]
  },
  {
   "cell_type": "code",
   "execution_count": 81,
   "metadata": {},
   "outputs": [],
   "source": [
    "allele_specific_exp_df['Sample'] = allele_specific_exp_df['sample_name_tumor']"
   ]
  },
  {
   "cell_type": "code",
   "execution_count": 82,
   "metadata": {},
   "outputs": [],
   "source": [
    "def allele_reformat(x):\n",
    "    return 'HLA-{0}{1}'.format(x[0], x[2:7])\n",
    "allele_specific_exp_df['Allele'] = allele_specific_exp_df['allele'].apply(allele_reformat)"
   ]
  },
  {
   "cell_type": "code",
   "execution_count": 83,
   "metadata": {},
   "outputs": [],
   "source": [
    "allele_specific_exp_df_merged = pd.merge(allele_specific_exp_df, \n",
    "                                         plotting_df[['Sample', 'Allele', 'Allele_status']].drop_duplicates(),\n",
    "                                    on=['Sample', 'Allele'], how='inner')"
   ]
  },
  {
   "cell_type": "code",
   "execution_count": 84,
   "metadata": {},
   "outputs": [],
   "source": [
    "allele_specific_exp_df_merged = pd.merge(allele_specific_exp_df_merged, sample_letter_map,\n",
    "        on='Sample', how='left')"
   ]
  },
  {
   "cell_type": "code",
   "execution_count": 85,
   "metadata": {},
   "outputs": [
    {
     "data": {
      "image/png": "[encoded data removed]",
      "text/plain": [
       "<Figure size 216x216 with 1 Axes>"
      ]
     },
     "metadata": {
      "needs_background": "light"
     },
     "output_type": "display_data"
    }
   ],
   "source": [
    "plt.figure(figsize=(3, 3))\n",
    "sns.set_context('talk', font_scale=0.7)\n",
    "\n",
    "g = sns.barplot(x='Tissue_letter', y='tpm', hue='Allele_status',\n",
    "            data=allele_specific_exp_df_merged,\n",
    "            hue_order=['lost', 'kept', 'homozygous'],\n",
    "            palette=[green, blue, '#C1C1C1'],\n",
    "           order=list(std_df.sort_values(['Sample Type', 'Purity']).Tissue_letter)[:-1])\n",
    "sns.stripplot(x='Tissue_letter', y='tpm', hue='Allele_status',\n",
    "            data=allele_specific_exp_df_merged,\n",
    "            hue_order=['lost', 'kept', 'homozygous'],\n",
    "            palette=['grey', 'grey', 'grey'], dodge=True, size=4,\n",
    "           order=list(std_df.sort_values(['Sample Type', 'Purity']).Tissue_letter)[:-1])\n",
    "#g.set_yscale(\"log\")\n",
    "plt.ylabel('TPM')\n",
    "plt.xlabel('Tissue')\n",
    "plt.ylim(0, 10000)\n",
    "\n",
    "plt.savefig('/rnd/users/rpyke/data/00-DASH/figures/immunopep.AS_exp_by_patient.box.pdf',\n",
    "           bbox_inches='tight')"
   ]
  },
  {
   "cell_type": "code",
   "execution_count": 86,
   "metadata": {},
   "outputs": [],
   "source": [
    "# Saving source data\n",
    "panel_name = 'supp_figure_13e'\n",
    "allele_specific_exp_df_merged[['Tissue', 'Tissue_letter', 'Allele', 'Allele_status', 'tpm']].to_excel('/rnd/users/rpyke/data/00-DASH/manuscript_source_data/{0}.xlsx'.format(panel_name),\n",
    "                                 index=None)"
   ]
  },
  {
   "cell_type": "code",
   "execution_count": null,
   "metadata": {},
   "outputs": [],
   "source": []
  }
 ],
 "metadata": {
  "kernelspec": {
   "display_name": "Python 3",
   "language": "python",
   "name": "python3"
  },
  "language_info": {
   "codemirror_mode": {
    "name": "ipython",
    "version": 3
   },
   "file_extension": ".py",
   "mimetype": "text/x-python",
   "name": "python",
   "nbconvert_exporter": "python",
   "pygments_lexer": "ipython3",
   "version": "3.7.3"
  }
 },
 "nbformat": 4,
 "nbformat_minor": 2
}
