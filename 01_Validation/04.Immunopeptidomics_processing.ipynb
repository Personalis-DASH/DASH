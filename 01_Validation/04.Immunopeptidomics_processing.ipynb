{
 "cells": [
  {
   "cell_type": "code",
   "execution_count": 1,
   "metadata": {},
   "outputs": [],
   "source": [
    "%run ../../bin/imports.ipynb\n",
    "import string\n",
    "import matplotlib.image as mpimg\n",
    "import shutil\n",
    "from matplotlib import gridspec"
   ]
  },
  {
   "cell_type": "markdown",
   "metadata": {},
   "source": [
    "## Analyzing TMT results"
   ]
  },
  {
   "cell_type": "markdown",
   "metadata": {},
   "source": [
    "Import data and get HLA types"
   ]
  },
  {
   "cell_type": "code",
   "execution_count": 2,
   "metadata": {},
   "outputs": [],
   "source": [
    "tissue_msb_dict = {'DNA_1070865FA1-5013': 'MSB8405PAIR2MS2TMT.raw', \n",
    "                   'DNA_1183384FA1-5013': 'MSB46732n46733A.raw', \n",
    "                   'DNA_1134036FA1-5013': 'MSB46734n46735A.raw',\n",
    "                   'DNA_124768F-5013': 'MSB46736n46737A.raw', \n",
    "                   'DNA_30686F-5013': 'MSB46738n46739A.raw',\n",
    "                   'DNA_H2009': 'MSB-9251_PAIR1.raw',\n",
    "                  'DNA_54147': 'MSB-9251_PAIR2.raw'}"
   ]
  },
  {
   "cell_type": "code",
   "execution_count": 3,
   "metadata": {},
   "outputs": [],
   "source": [
    "tissue_order = list(tissue_msb_dict.keys())\n",
    "tissue = tissue_order[0]"
   ]
  },
  {
   "cell_type": "markdown",
   "metadata": {},
   "source": [
    "Separate raw data"
   ]
  },
  {
   "cell_type": "code",
   "execution_count": 4,
   "metadata": {
    "scrolled": true
   },
   "outputs": [],
   "source": [
    "raw_data = pd.read_csv('/rnd/users/rpyke/data/00-DASH/manuscript_data_v2/validation.immunopeptidomics_raw_data_1.csv')\n"
   ]
  },
  {
   "cell_type": "code",
   "execution_count": 5,
   "metadata": {},
   "outputs": [],
   "source": [
    "raw_data2 = pd.read_csv('/rnd/users/rpyke/data/00-DASH/manuscript_data_v2/validation.immunopeptidomics_raw_data_2.csv')\n"
   ]
  },
  {
   "cell_type": "code",
   "execution_count": 6,
   "metadata": {},
   "outputs": [
    {
     "data": {
      "text/plain": [
       "MSB8405PAIR2MS2TMT.raw    8999\n",
       "MSB8405PAIR1MS2TMT.raw    8618\n",
       "MSB46736n46737A.raw       6489\n",
       "MSB46732n46733A.raw       5095\n",
       "MSB46738n46739A.raw       4656\n",
       "MSB46734n46735A.raw       3390\n",
       "Name: Source File, dtype: int64"
      ]
     },
     "execution_count": 6,
     "metadata": {},
     "output_type": "execute_result"
    }
   ],
   "source": [
    "raw_data['Source File'].value_counts()"
   ]
  },
  {
   "cell_type": "code",
   "execution_count": 7,
   "metadata": {},
   "outputs": [
    {
     "data": {
      "text/plain": [
       "MSB-9251_PAIR1.raw    6050\n",
       "MSB-9251_PAIR2.raw    1338\n",
       "Name: Source File, dtype: int64"
      ]
     },
     "execution_count": 7,
     "metadata": {},
     "output_type": "execute_result"
    }
   ],
   "source": [
    "raw_data2['Source File'].value_counts()"
   ]
  },
  {
   "cell_type": "code",
   "execution_count": 8,
   "metadata": {},
   "outputs": [
    {
     "data": {
      "text/plain": [
       "'MSB8405PAIR2MS2TMT.raw'"
      ]
     },
     "execution_count": 8,
     "metadata": {},
     "output_type": "execute_result"
    }
   ],
   "source": [
    "tissue_msb_dict[tissue]"
   ]
  },
  {
   "cell_type": "code",
   "execution_count": 9,
   "metadata": {},
   "outputs": [
    {
     "name": "stdout",
     "output_type": "stream",
     "text": [
      "DNA_1070865FA1-5013 8999\n",
      "DNA_1183384FA1-5013 5095\n",
      "DNA_1134036FA1-5013 3390\n",
      "DNA_124768F-5013 6489\n",
      "DNA_30686F-5013 4656\n",
      "DNA_H2009 6050\n",
      "DNA_54147 1338\n"
     ]
    }
   ],
   "source": [
    "for tissue in tissue_order:\n",
    "    tmp_df = raw_data[raw_data['Source File'] == tissue_msb_dict[tissue]]\n",
    "    if len(tmp_df) == 0:\n",
    "        tmp_df = raw_data2[raw_data2['Source File'] == tissue_msb_dict[tissue]]\n",
    "    print(tissue, len(tmp_df))\n",
    "    tmp_df.to_csv('/rnd/users/rpyke/data/00-DASH/validation/TMT/peaks/raw/{0}.csv'.format(tissue),\n",
    "                                                                        index=None)"
   ]
  },
  {
   "cell_type": "markdown",
   "metadata": {},
   "source": [
    "Process raw data (this is actually un-necessary this time because Datta pre-processed it for me)"
   ]
  },
  {
   "cell_type": "code",
   "execution_count": 10,
   "metadata": {},
   "outputs": [],
   "source": [
    "# maybe easier to do it from a script made on vivaldi??? \n",
    "def create_cluster_script():\n",
    "\n",
    "    new_script_file = '/rnd/users/rpyke/code/00-DASH/scripts/process_TMT.sh'\n",
    "    \n",
    "    with open(new_script_file, 'w') as out_file:\n",
    "        out_file.write(\"#! /bin/csh\\n\")\n",
    "        out_file.write(\"#$ -S /bin/csh\\n\")\n",
    "        out_file.write(\"#$ -cwd\\n\")\n",
    "        out_file.write(\"#$ -V\\n\")\n",
    "        out_file.write(\"#$ -pe shm 1\\n\")\n",
    "        out_file.write(\"#$ -l h_vmem=5G\\n\")\n",
    "        out_file.write(\"#$ -N pep_filter\\n\")\n",
    "        out_file.write(\"#$ -q all.q\\n\")\n",
    "        out_file.write(\"#$ -o /rnd/users/rpyke/data/01-netMHCAACR2019/sge_system_files\\n\")\n",
    "        out_file.write(\"#$ -e /rnd/users/rpyke/data/01-netMHCAACR2019/sge_system_files\\n\")\n",
    "        out_file.write(\"\\n\")\n",
    "\n",
    "\n",
    "        out_file.write(\"date\\n\")\n",
    "        out_file.write(\"hostname\\n\")\n",
    "        out_file.write(\"\\n\")\n",
    "        \n",
    "        out_file.write(\"python /rnd/users/mp-wsrv-hmc01/sherpa/sherpa/filter_tmt_peps.py \" + \\\n",
    "                       \"--in_file /rnd/users/rpyke/data/00-DASH/validation/TMT/peaks/raw/DNA_1180157FA1-5013.csv \" + \\\n",
    "                       \"--out_file /rnd/users/rpyke/data/00-DASH/validation/TMT/peaks/raw/DNA_1180157FA1-5013.out.csv \" + \\\n",
    "                       \"--intensity_colnums 22,16\\n\")\n",
    "        \n",
    "        out_file.write(\"python /rnd/users/mp-wsrv-hmc01/sherpa/sherpa/filter_tmt_peps.py \" + \\\n",
    "                       \"--in_file /rnd/users/rpyke/data/00-DASH/validation/TMT/peaks/raw/DNA_1070865FA1-5013.csv \" + \\\n",
    "                       \"--out_file /rnd/users/rpyke/data/00-DASH/validation/TMT/peaks/raw/DNA_1070865FA1-5013.out.csv \" + \\\n",
    "                       \"--intensity_colnums 23,17\\n\")\n",
    "        \n",
    "        out_file.write(\"python /rnd/users/mp-wsrv-hmc01/sherpa/sherpa/filter_tmt_peps.py \" + \\\n",
    "                       \"--in_file /rnd/users/rpyke/data/00-DASH/validation/TMT/peaks/raw/DNA_1183384FA1-5013.csv \" + \\\n",
    "                       \"--out_file /rnd/users/rpyke/data/00-DASH/validation/TMT/peaks/raw/DNA_1183384FA1-5013.out.csv \" + \\\n",
    "                       \"--intensity_colnums 12,18\\n\")\n",
    "        \n",
    "        out_file.write(\"python /rnd/users/mp-wsrv-hmc01/sherpa/sherpa/filter_tmt_peps.py \" + \\\n",
    "                       \"--in_file /rnd/users/rpyke/data/00-DASH/validation/TMT/peaks/raw/DNA_1134036FA1-5013.csv \" + \\\n",
    "                       \"--out_file /rnd/users/rpyke/data/00-DASH/validation/TMT/peaks/raw/DNA_1134036FA1-5013.out.csv \" + \\\n",
    "                       \"--intensity_colnums 13,19\\n\")\n",
    "        \n",
    "        out_file.write(\"python /rnd/users/mp-wsrv-hmc01/sherpa/sherpa/filter_tmt_peps.py \" + \\\n",
    "                       \"--in_file /rnd/users/rpyke/data/00-DASH/validation/TMT/peaks/raw/DNA_124768F-5013.csv \" + \\\n",
    "                       \"--out_file /rnd/users/rpyke/data/00-DASH/validation/TMT/peaks/raw/DNA_124768F-5013.out.csv \" + \\\n",
    "                       \"--intensity_colnums 14,20\\n\")\n",
    "        \n",
    "        \n",
    "        out_file.write(\"python /rnd/users/mp-wsrv-hmc01/sherpa/sherpa/filter_tmt_peps.py \" + \\\n",
    "                       \"--in_file /rnd/users/rpyke/data/00-DASH/validation/TMT/peaks/raw/DNA_30686F-5013.csv \" + \\\n",
    "                       \"--out_file /rnd/users/rpyke/data/00-DASH/validation/TMT/peaks/raw/DNA_30686F-5013.out.csv \" + \\\n",
    "                       \"--intensity_colnums 15,21\\n\")\n",
    "        \n",
    "        out_file.write(\"python /rnd/users/mp-wsrv-hmc01/sherpa/sherpa/filter_tmt_peps.py \" + \\\n",
    "                       \"--in_file /rnd/users/rpyke/data/00-DASH/validation/TMT/peaks/raw/DNA_H2009.csv \" + \\\n",
    "                       \"--out_file /rnd/users/rpyke/data/00-DASH/validation/TMT/peaks/raw/DNA_H2009.out.csv \" + \\\n",
    "                       \"--intensity_colnums 12,13\\n\")\n",
    "        \n",
    "        out_file.write(\"python /rnd/users/mp-wsrv-hmc01/sherpa/sherpa/filter_tmt_peps.py \" + \\\n",
    "                       \"--in_file /rnd/users/rpyke/data/00-DASH/validation/TMT/peaks/raw/DNA_54147.csv \" + \\\n",
    "                       \"--out_file /rnd/users/rpyke/data/00-DASH/validation/TMT/peaks/raw/DNA_54147.out.csv \" + \\\n",
    "                       \"--intensity_colnums 15,14\\n\")\n",
    "        \n",
    "        out_file.write(\"\\n\")\n",
    "        out_file.write(\"date\\n\")"
   ]
  },
  {
   "cell_type": "code",
   "execution_count": 11,
   "metadata": {},
   "outputs": [],
   "source": [
    "create_cluster_script()"
   ]
  },
  {
   "cell_type": "markdown",
   "metadata": {},
   "source": [
    "Interpreting print statements from output to understand how many peptides are excluded based on polymers"
   ]
  },
  {
   "cell_type": "code",
   "execution_count": 12,
   "metadata": {},
   "outputs": [],
   "source": [
    "output_df = pd.DataFrame({'Patient': ['DNA_1070865FA1-5013', 'DNA_1183384FA1-5013',\n",
    "                                      'DNA_1134036FA1-5013', 'DNA_124768F-5013', 'DNA_30686F-5013',\n",
    "                                      'DNA_H2009', 'DNA_54147'],\n",
    "                         'Total': [8999, 5095, 3390, 6489, 4656, 6050, 1338],\n",
    "                         'Long_repeats': [77, 23, 29, 43, 36, 70, 27]})"
   ]
  },
  {
   "cell_type": "code",
   "execution_count": 13,
   "metadata": {},
   "outputs": [],
   "source": [
    "output_df['Fraction_long_repeats'] = output_df['Long_repeats'] / output_df['Total']"
   ]
  },
  {
   "cell_type": "code",
   "execution_count": 14,
   "metadata": {},
   "outputs": [
    {
     "data": {
      "text/html": [
       "<div>\n",
       "<style scoped>\n",
       "    .dataframe tbody tr th:only-of-type {\n",
       "        vertical-align: middle;\n",
       "    }\n",
       "\n",
       "    .dataframe tbody tr th {\n",
       "        vertical-align: top;\n",
       "    }\n",
       "\n",
       "    .dataframe thead th {\n",
       "        text-align: right;\n",
       "    }\n",
       "</style>\n",
       "<table border=\"1\" class=\"dataframe\">\n",
       "  <thead>\n",
       "    <tr style=\"text-align: right;\">\n",
       "      <th></th>\n",
       "      <th>Patient</th>\n",
       "      <th>Total</th>\n",
       "      <th>Long_repeats</th>\n",
       "      <th>Fraction_long_repeats</th>\n",
       "    </tr>\n",
       "  </thead>\n",
       "  <tbody>\n",
       "    <tr>\n",
       "      <th>0</th>\n",
       "      <td>DNA_1070865FA1-5013</td>\n",
       "      <td>8999</td>\n",
       "      <td>77</td>\n",
       "      <td>0.008557</td>\n",
       "    </tr>\n",
       "    <tr>\n",
       "      <th>1</th>\n",
       "      <td>DNA_1183384FA1-5013</td>\n",
       "      <td>5095</td>\n",
       "      <td>23</td>\n",
       "      <td>0.004514</td>\n",
       "    </tr>\n",
       "    <tr>\n",
       "      <th>2</th>\n",
       "      <td>DNA_1134036FA1-5013</td>\n",
       "      <td>3390</td>\n",
       "      <td>29</td>\n",
       "      <td>0.008555</td>\n",
       "    </tr>\n",
       "    <tr>\n",
       "      <th>3</th>\n",
       "      <td>DNA_124768F-5013</td>\n",
       "      <td>6489</td>\n",
       "      <td>43</td>\n",
       "      <td>0.006627</td>\n",
       "    </tr>\n",
       "    <tr>\n",
       "      <th>4</th>\n",
       "      <td>DNA_30686F-5013</td>\n",
       "      <td>4656</td>\n",
       "      <td>36</td>\n",
       "      <td>0.007732</td>\n",
       "    </tr>\n",
       "    <tr>\n",
       "      <th>5</th>\n",
       "      <td>DNA_H2009</td>\n",
       "      <td>6050</td>\n",
       "      <td>70</td>\n",
       "      <td>0.011570</td>\n",
       "    </tr>\n",
       "    <tr>\n",
       "      <th>6</th>\n",
       "      <td>DNA_54147</td>\n",
       "      <td>1338</td>\n",
       "      <td>27</td>\n",
       "      <td>0.020179</td>\n",
       "    </tr>\n",
       "  </tbody>\n",
       "</table>\n",
       "</div>"
      ],
      "text/plain": [
       "               Patient  Total  Long_repeats  Fraction_long_repeats\n",
       "0  DNA_1070865FA1-5013   8999            77               0.008557\n",
       "1  DNA_1183384FA1-5013   5095            23               0.004514\n",
       "2  DNA_1134036FA1-5013   3390            29               0.008555\n",
       "3     DNA_124768F-5013   6489            43               0.006627\n",
       "4      DNA_30686F-5013   4656            36               0.007732\n",
       "5            DNA_H2009   6050            70               0.011570\n",
       "6            DNA_54147   1338            27               0.020179"
      ]
     },
     "execution_count": 14,
     "metadata": {},
     "output_type": "execute_result"
    }
   ],
   "source": [
    "output_df"
   ]
  },
  {
   "cell_type": "markdown",
   "metadata": {},
   "source": [
    "### Create table with output"
   ]
  },
  {
   "cell_type": "code",
   "execution_count": 15,
   "metadata": {},
   "outputs": [],
   "source": [
    "def format_hla(x):\n",
    "    return 'HLA-{0}{1}:{2}'.format(x[0], x.split('*')[1].split(':')[0], x.split('*')[1].split(':')[1])"
   ]
  },
  {
   "cell_type": "code",
   "execution_count": 16,
   "metadata": {
    "scrolled": true
   },
   "outputs": [
    {
     "name": "stdout",
     "output_type": "stream",
     "text": [
      "DNA_1070865FA1-5013\n",
      "DNA_1183384FA1-5013\n",
      "DNA_1134036FA1-5013\n",
      "DNA_124768F-5013\n",
      "DNA_30686F-5013\n",
      "DNA_H2009\n",
      "DNA_54147\n"
     ]
    }
   ],
   "source": [
    "all_dfs = []\n",
    "for tissue in tissue_order:\n",
    "    print(tissue)\n",
    "    tmp_df = pd.read_csv('/rnd/users/rpyke/data/00-DASH/validation/TMT/peaks/raw/{0}.out.csv'.format(tissue))\n",
    "    all_dfs.append(tmp_df)\n"
   ]
  },
  {
   "cell_type": "code",
   "execution_count": 17,
   "metadata": {
    "scrolled": true
   },
   "outputs": [
    {
     "name": "stderr",
     "output_type": "stream",
     "text": [
      "\n",
      "A value is trying to be set on a copy of a slice from a DataFrame.\n",
      "Try using .loc[row_indexer,col_indexer] = value instead\n",
      "\n",
      "See the caveats in the documentation: http://pandas.pydata.org/pandas-docs/stable/indexing.html#indexing-view-versus-copy\n"
     ]
    }
   ],
   "source": [
    "AAList = list(string.ascii_uppercase)\n",
    "def get_peptide(peptide):\n",
    "    pepSeq = [item for item in peptide if item in AAList]\n",
    "    pepSeq = \"\".join(pepSeq)\n",
    "    return pepSeq\n",
    "\n",
    "unique_peptide_counts = []\n",
    "all_dfs_filtered = []\n",
    "for df in all_dfs:\n",
    "    df['Sequence'] = df.Peptide.apply(get_peptide)\n",
    "    df = df[df.has_good_signal == 'Y']\n",
    "    df['Sequence_length'] = df.Sequence.str.len()\n",
    "    df = df[(df.Sequence_length > 7) & (df.Sequence_length < 12)]\n",
    "    all_dfs_filtered.append(df)\n",
    "    unique_peptide_counts.append(len(df.Sequence.unique()))"
   ]
  },
  {
   "cell_type": "markdown",
   "metadata": {},
   "source": [
    "### Create data table"
   ]
  },
  {
   "cell_type": "code",
   "execution_count": 18,
   "metadata": {},
   "outputs": [
    {
     "data": {
      "text/plain": [
       "{'DNA_1070865FA1-5013': 'MSB8405PAIR2MS2TMT.raw',\n",
       " 'DNA_1183384FA1-5013': 'MSB46732n46733A.raw',\n",
       " 'DNA_1134036FA1-5013': 'MSB46734n46735A.raw',\n",
       " 'DNA_124768F-5013': 'MSB46736n46737A.raw',\n",
       " 'DNA_30686F-5013': 'MSB46738n46739A.raw',\n",
       " 'DNA_H2009': 'MSB-9251_PAIR1.raw',\n",
       " 'DNA_54147': 'MSB-9251_PAIR2.raw'}"
      ]
     },
     "execution_count": 18,
     "metadata": {},
     "output_type": "execute_result"
    }
   ],
   "source": [
    "tissue_msb_dict"
   ]
  },
  {
   "cell_type": "code",
   "execution_count": 21,
   "metadata": {},
   "outputs": [],
   "source": [
    "sample_letter_map = pd.DataFrame({'Sample': [ 'DNA_1070865FA1-5013',\n",
    "                                            'DNA_1183384FA1-5013', 'DNA_1134036FA1-5013', 'DNA_124768F-5013',\n",
    "                                           'DNA_30686F-5013', 'DNA_H2009', 'DNA_54147'],\n",
    "                                  'Tissue': ['1070865FA1',\n",
    "                                            '1183384FA1', '1134036FA1', '124768F',\n",
    "                                           '30686F', 'H2009', '54147'],\n",
    "                                 'Tissue_letter': ['M', 'N', 'O', 'C', 'P', 'CellLine', 'Q']})"
   ]
  },
  {
   "cell_type": "code",
   "execution_count": 22,
   "metadata": {},
   "outputs": [],
   "source": [
    "with pd.ExcelWriter('/rnd/users/rpyke/data/00-DASH/tables/Table_S6_immunopeptidomics_peptide_fold_change.xlsx') as writer:  \n",
    "    for i, tissue in enumerate(tissue_order):\n",
    "        tissue_name = tissue.split('_')[1].split('-')[0]\n",
    "        tissue_letter = list(sample_letter_map[sample_letter_map.Tissue == tissue_name].Tissue_letter)[0]\n",
    "        tissue_dictionary, raw_tissue_dictionary = {}, {}\n",
    "        df = all_dfs_filtered[i]\n",
    "        df['fc_log'] = df.fc.apply(np.log2)\n",
    "        df = df[['Sequence', 'fc_log']]\n",
    "        df.columns = ['Peptide', 'Log Fold Change']\n",
    "        df.to_excel(writer, index=None, \n",
    "                    sheet_name=tissue_letter)\n",
    "        "
   ]
  },
  {
   "cell_type": "code",
   "execution_count": null,
   "metadata": {},
   "outputs": [],
   "source": []
  },
  {
   "cell_type": "code",
   "execution_count": null,
   "metadata": {},
   "outputs": [],
   "source": []
  }
 ],
 "metadata": {
  "kernelspec": {
   "display_name": "Python 3",
   "language": "python",
   "name": "python3"
  },
  "language_info": {
   "codemirror_mode": {
    "name": "ipython",
    "version": 3
   },
   "file_extension": ".py",
   "mimetype": "text/x-python",
   "name": "python",
   "nbconvert_exporter": "python",
   "pygments_lexer": "ipython3",
   "version": "3.7.3"
  }
 },
 "nbformat": 4,
 "nbformat_minor": 2
}
