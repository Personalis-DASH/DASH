{
 "cells": [
  {
   "cell_type": "code",
   "execution_count": 1,
   "metadata": {},
   "outputs": [],
   "source": [
    "%run ../../bin/imports.ipynb\n",
    "from xgboost import XGBClassifier"
   ]
  },
  {
   "cell_type": "code",
   "execution_count": 2,
   "metadata": {},
   "outputs": [],
   "source": [
    "import warnings\n",
    "warnings.filterwarnings('ignore')"
   ]
  },
  {
   "cell_type": "markdown",
   "metadata": {},
   "source": [
    "# Fully clonal mixtures"
   ]
  },
  {
   "cell_type": "code",
   "execution_count": 3,
   "metadata": {},
   "outputs": [],
   "source": [
    "cutoff = 0.5\n",
    "BAF_cutoff = 0.02\n",
    "R_cutoff = 0.98"
   ]
  },
  {
   "cell_type": "code",
   "execution_count": 4,
   "metadata": {},
   "outputs": [],
   "source": [
    "training_columns = ['purity', 'ploidy', 'Sequenza_Loss',\n",
    "                    'minMedCoverage','baf_median', 'percCov', 'totalCoverage_median']\n",
    "\n",
    "output_ffn = '/rnd/users/rpyke/data/00-DASH/manuscript_data_v2/training.xgboost_model.2021_05_10.p'\n",
    "model = pickle.load(open(output_ffn, 'rb'))"
   ]
  },
  {
   "cell_type": "markdown",
   "metadata": {},
   "source": [
    "##### Sensitivity with fully clonal mixtures"
   ]
  },
  {
   "cell_type": "code",
   "execution_count": 5,
   "metadata": {},
   "outputs": [],
   "source": [
    "cell_lines = ['CRL-5922', 'CRL-5911', 'CRL-2314']"
   ]
  },
  {
   "cell_type": "code",
   "execution_count": 6,
   "metadata": {},
   "outputs": [
    {
     "name": "stdout",
     "output_type": "stream",
     "text": [
      "CRL-5922 ['Purity', 'R1', 'R2', 'BAF', 'Sequenza_Loss', 'Alternate_Loss', 'Dash_Loss', 'Ploidy', 'consistency_of_coverage', 'prediction_probability', 'secondary_check', 'total_coverage', 'Gene', 'Sample', 'ind']\n",
      "CRL-5911 ['Purity', 'R1', 'R2', 'BAF', 'Sequenza_Loss', 'Alternate_Loss', 'Dash_Loss', 'Ploidy', 'consistency_of_coverage', 'prediction_probability', 'secondary_check', 'total_coverage', 'Gene', 'Sample', 'ind']\n",
      "CRL-2314 ['Purity', 'R1', 'R2', 'BAF', 'Sequenza_Loss', 'Alternate_Loss', 'Dash_Loss', 'Ploidy', 'consistency_of_coverage', 'prediction_probability', 'secondary_check', 'total_coverage', 'Gene', 'Sample', 'ind']\n"
     ]
    }
   ],
   "source": [
    "tmp_dfs = []\n",
    "for cell_line in cell_lines:\n",
    "    tmp_df = pd.read_csv('/rnd/users/rpyke/data/00-DASH/manuscript_data_v2/validation.cell_line_dash_output.{0}.csv'.format(cell_line),\n",
    "                                         index_col=0)\n",
    "    print(cell_line, list(tmp_df.columns))\n",
    "    tmp_dfs.append(tmp_df)\n",
    "    \n",
    "artificial_purities_raw_df = pd.concat(tmp_dfs)"
   ]
  },
  {
   "cell_type": "code",
   "execution_count": 7,
   "metadata": {},
   "outputs": [
    {
     "data": {
      "text/plain": [
       "2912"
      ]
     },
     "execution_count": 7,
     "metadata": {},
     "output_type": "execute_result"
    }
   ],
   "source": [
    "len(artificial_purities_raw_df)"
   ]
  },
  {
   "cell_type": "code",
   "execution_count": 8,
   "metadata": {},
   "outputs": [
    {
     "data": {
      "text/html": [
       "<div>\n",
       "<style scoped>\n",
       "    .dataframe tbody tr th:only-of-type {\n",
       "        vertical-align: middle;\n",
       "    }\n",
       "\n",
       "    .dataframe tbody tr th {\n",
       "        vertical-align: top;\n",
       "    }\n",
       "\n",
       "    .dataframe thead th {\n",
       "        text-align: right;\n",
       "    }\n",
       "</style>\n",
       "<table border=\"1\" class=\"dataframe\">\n",
       "  <thead>\n",
       "    <tr style=\"text-align: right;\">\n",
       "      <th></th>\n",
       "      <th>Purity</th>\n",
       "      <th>R1</th>\n",
       "      <th>R2</th>\n",
       "      <th>BAF</th>\n",
       "      <th>Sequenza_Loss</th>\n",
       "      <th>Alternate_Loss</th>\n",
       "      <th>Dash_Loss</th>\n",
       "      <th>Ploidy</th>\n",
       "      <th>consistency_of_coverage</th>\n",
       "      <th>prediction_probability</th>\n",
       "      <th>secondary_check</th>\n",
       "      <th>total_coverage</th>\n",
       "      <th>Gene</th>\n",
       "      <th>Sample</th>\n",
       "      <th>ind</th>\n",
       "    </tr>\n",
       "  </thead>\n",
       "  <tbody>\n",
       "    <tr>\n",
       "      <th>0</th>\n",
       "      <td>1.00</td>\n",
       "      <td>0.000052</td>\n",
       "      <td>1.654309</td>\n",
       "      <td>0.505381</td>\n",
       "      <td>True</td>\n",
       "      <td>True</td>\n",
       "      <td>True</td>\n",
       "      <td>5</td>\n",
       "      <td>0.847826</td>\n",
       "      <td>0.994991</td>\n",
       "      <td>False</td>\n",
       "      <td>1.654356</td>\n",
       "      <td>B</td>\n",
       "      <td>CRL-5922_tumor_p100_rep1</td>\n",
       "      <td>0</td>\n",
       "    </tr>\n",
       "    <tr>\n",
       "      <th>1</th>\n",
       "      <td>1.00</td>\n",
       "      <td>0.000051</td>\n",
       "      <td>1.786976</td>\n",
       "      <td>0.496225</td>\n",
       "      <td>True</td>\n",
       "      <td>True</td>\n",
       "      <td>True</td>\n",
       "      <td>5</td>\n",
       "      <td>0.869565</td>\n",
       "      <td>0.995448</td>\n",
       "      <td>False</td>\n",
       "      <td>1.787059</td>\n",
       "      <td>C</td>\n",
       "      <td>CRL-5922_tumor_p100_rep1</td>\n",
       "      <td>1</td>\n",
       "    </tr>\n",
       "    <tr>\n",
       "      <th>2</th>\n",
       "      <td>0.77</td>\n",
       "      <td>0.099897</td>\n",
       "      <td>1.578995</td>\n",
       "      <td>0.445050</td>\n",
       "      <td>True</td>\n",
       "      <td>True</td>\n",
       "      <td>True</td>\n",
       "      <td>5</td>\n",
       "      <td>0.847826</td>\n",
       "      <td>0.800964</td>\n",
       "      <td>False</td>\n",
       "      <td>1.644918</td>\n",
       "      <td>B</td>\n",
       "      <td>CRL-5922_tumor_p90_rep1</td>\n",
       "      <td>2</td>\n",
       "    </tr>\n",
       "    <tr>\n",
       "      <th>3</th>\n",
       "      <td>0.77</td>\n",
       "      <td>0.098027</td>\n",
       "      <td>1.689733</td>\n",
       "      <td>0.444421</td>\n",
       "      <td>True</td>\n",
       "      <td>True</td>\n",
       "      <td>True</td>\n",
       "      <td>5</td>\n",
       "      <td>0.869565</td>\n",
       "      <td>0.995448</td>\n",
       "      <td>False</td>\n",
       "      <td>1.764339</td>\n",
       "      <td>C</td>\n",
       "      <td>CRL-5922_tumor_p90_rep1</td>\n",
       "      <td>3</td>\n",
       "    </tr>\n",
       "    <tr>\n",
       "      <th>4</th>\n",
       "      <td>0.62</td>\n",
       "      <td>0.187041</td>\n",
       "      <td>1.512448</td>\n",
       "      <td>0.390142</td>\n",
       "      <td>True</td>\n",
       "      <td>True</td>\n",
       "      <td>True</td>\n",
       "      <td>5</td>\n",
       "      <td>0.847826</td>\n",
       "      <td>0.800964</td>\n",
       "      <td>False</td>\n",
       "      <td>1.722242</td>\n",
       "      <td>B</td>\n",
       "      <td>CRL-5922_tumor_p81_rep1</td>\n",
       "      <td>4</td>\n",
       "    </tr>\n",
       "  </tbody>\n",
       "</table>\n",
       "</div>"
      ],
      "text/plain": [
       "   Purity        R1        R2       BAF  Sequenza_Loss  Alternate_Loss  \\\n",
       "0    1.00  0.000052  1.654309  0.505381           True            True   \n",
       "1    1.00  0.000051  1.786976  0.496225           True            True   \n",
       "2    0.77  0.099897  1.578995  0.445050           True            True   \n",
       "3    0.77  0.098027  1.689733  0.444421           True            True   \n",
       "4    0.62  0.187041  1.512448  0.390142           True            True   \n",
       "\n",
       "   Dash_Loss  Ploidy  consistency_of_coverage  prediction_probability  \\\n",
       "0       True       5                 0.847826                0.994991   \n",
       "1       True       5                 0.869565                0.995448   \n",
       "2       True       5                 0.847826                0.800964   \n",
       "3       True       5                 0.869565                0.995448   \n",
       "4       True       5                 0.847826                0.800964   \n",
       "\n",
       "   secondary_check  total_coverage Gene                    Sample  ind  \n",
       "0            False        1.654356    B  CRL-5922_tumor_p100_rep1    0  \n",
       "1            False        1.787059    C  CRL-5922_tumor_p100_rep1    1  \n",
       "2            False        1.644918    B   CRL-5922_tumor_p90_rep1    2  \n",
       "3            False        1.764339    C   CRL-5922_tumor_p90_rep1    3  \n",
       "4            False        1.722242    B   CRL-5922_tumor_p81_rep1    4  "
      ]
     },
     "execution_count": 8,
     "metadata": {},
     "output_type": "execute_result"
    }
   ],
   "source": [
    "artificial_purities_raw_df.head()"
   ]
  },
  {
   "cell_type": "code",
   "execution_count": 9,
   "metadata": {
    "scrolled": true
   },
   "outputs": [],
   "source": [
    "\n",
    "artificial_purities_raw_df['LOH'] = True\n",
    "artificial_purities_raw_df['real_purity'] = artificial_purities_raw_df['Sample'].str.split('_p').str[1].str.split('_').str[0].astype(int)\n",
    "artificial_purities_raw_df['Dash_Loss_Prob'] = artificial_purities_raw_df['prediction_probability']\n",
    "#artificial_purities_raw_df['Dash_Loss_Ext'] = artificial_purities_raw_df.prediction_probability <= cutoff\n",
    "\n",
    "# Adding in another check\n",
    "artificial_purities_raw_df['R_min'] = artificial_purities_raw_df[['R1', 'R2']].min(axis=1)\n",
    "artificial_purities_raw_df['Check_FP'] = (artificial_purities_raw_df.BAF > BAF_cutoff) \\\n",
    "                                         &(artificial_purities_raw_df.R_min < R_cutoff) #\\\n",
    "                                         #&(artificial_purities_raw_df.Sequenza_Loss == False)\n",
    "\n",
    "artificial_purities_raw_df['Dash_Loss_Ext'] = (artificial_purities_raw_df.prediction_probability > cutoff) \\\n",
    "                                                &(artificial_purities_raw_df.Check_FP)\n"
   ]
  },
  {
   "cell_type": "code",
   "execution_count": 10,
   "metadata": {
    "scrolled": true
   },
   "outputs": [
    {
     "data": {
      "text/html": [
       "<div>\n",
       "<style scoped>\n",
       "    .dataframe tbody tr th:only-of-type {\n",
       "        vertical-align: middle;\n",
       "    }\n",
       "\n",
       "    .dataframe tbody tr th {\n",
       "        vertical-align: top;\n",
       "    }\n",
       "\n",
       "    .dataframe thead th {\n",
       "        text-align: right;\n",
       "    }\n",
       "</style>\n",
       "<table border=\"1\" class=\"dataframe\">\n",
       "  <thead>\n",
       "    <tr style=\"text-align: right;\">\n",
       "      <th></th>\n",
       "      <th>Purity</th>\n",
       "      <th>R1</th>\n",
       "      <th>R2</th>\n",
       "      <th>BAF</th>\n",
       "      <th>Sequenza_Loss</th>\n",
       "      <th>Alternate_Loss</th>\n",
       "      <th>Dash_Loss</th>\n",
       "      <th>Ploidy</th>\n",
       "      <th>consistency_of_coverage</th>\n",
       "      <th>prediction_probability</th>\n",
       "      <th>...</th>\n",
       "      <th>total_coverage</th>\n",
       "      <th>Gene</th>\n",
       "      <th>Sample</th>\n",
       "      <th>ind</th>\n",
       "      <th>LOH</th>\n",
       "      <th>real_purity</th>\n",
       "      <th>Dash_Loss_Prob</th>\n",
       "      <th>R_min</th>\n",
       "      <th>Check_FP</th>\n",
       "      <th>Dash_Loss_Ext</th>\n",
       "    </tr>\n",
       "  </thead>\n",
       "  <tbody>\n",
       "    <tr>\n",
       "      <th>0</th>\n",
       "      <td>1.00</td>\n",
       "      <td>0.000052</td>\n",
       "      <td>1.654309</td>\n",
       "      <td>0.505381</td>\n",
       "      <td>True</td>\n",
       "      <td>True</td>\n",
       "      <td>True</td>\n",
       "      <td>5</td>\n",
       "      <td>0.847826</td>\n",
       "      <td>0.994991</td>\n",
       "      <td>...</td>\n",
       "      <td>1.654356</td>\n",
       "      <td>B</td>\n",
       "      <td>CRL-5922_tumor_p100_rep1</td>\n",
       "      <td>0</td>\n",
       "      <td>True</td>\n",
       "      <td>100</td>\n",
       "      <td>0.994991</td>\n",
       "      <td>0.000052</td>\n",
       "      <td>True</td>\n",
       "      <td>True</td>\n",
       "    </tr>\n",
       "    <tr>\n",
       "      <th>1</th>\n",
       "      <td>1.00</td>\n",
       "      <td>0.000051</td>\n",
       "      <td>1.786976</td>\n",
       "      <td>0.496225</td>\n",
       "      <td>True</td>\n",
       "      <td>True</td>\n",
       "      <td>True</td>\n",
       "      <td>5</td>\n",
       "      <td>0.869565</td>\n",
       "      <td>0.995448</td>\n",
       "      <td>...</td>\n",
       "      <td>1.787059</td>\n",
       "      <td>C</td>\n",
       "      <td>CRL-5922_tumor_p100_rep1</td>\n",
       "      <td>1</td>\n",
       "      <td>True</td>\n",
       "      <td>100</td>\n",
       "      <td>0.995448</td>\n",
       "      <td>0.000051</td>\n",
       "      <td>True</td>\n",
       "      <td>True</td>\n",
       "    </tr>\n",
       "    <tr>\n",
       "      <th>2</th>\n",
       "      <td>0.77</td>\n",
       "      <td>0.099897</td>\n",
       "      <td>1.578995</td>\n",
       "      <td>0.445050</td>\n",
       "      <td>True</td>\n",
       "      <td>True</td>\n",
       "      <td>True</td>\n",
       "      <td>5</td>\n",
       "      <td>0.847826</td>\n",
       "      <td>0.800964</td>\n",
       "      <td>...</td>\n",
       "      <td>1.644918</td>\n",
       "      <td>B</td>\n",
       "      <td>CRL-5922_tumor_p90_rep1</td>\n",
       "      <td>2</td>\n",
       "      <td>True</td>\n",
       "      <td>90</td>\n",
       "      <td>0.800964</td>\n",
       "      <td>0.099897</td>\n",
       "      <td>True</td>\n",
       "      <td>True</td>\n",
       "    </tr>\n",
       "    <tr>\n",
       "      <th>3</th>\n",
       "      <td>0.77</td>\n",
       "      <td>0.098027</td>\n",
       "      <td>1.689733</td>\n",
       "      <td>0.444421</td>\n",
       "      <td>True</td>\n",
       "      <td>True</td>\n",
       "      <td>True</td>\n",
       "      <td>5</td>\n",
       "      <td>0.869565</td>\n",
       "      <td>0.995448</td>\n",
       "      <td>...</td>\n",
       "      <td>1.764339</td>\n",
       "      <td>C</td>\n",
       "      <td>CRL-5922_tumor_p90_rep1</td>\n",
       "      <td>3</td>\n",
       "      <td>True</td>\n",
       "      <td>90</td>\n",
       "      <td>0.995448</td>\n",
       "      <td>0.098027</td>\n",
       "      <td>True</td>\n",
       "      <td>True</td>\n",
       "    </tr>\n",
       "    <tr>\n",
       "      <th>4</th>\n",
       "      <td>0.62</td>\n",
       "      <td>0.187041</td>\n",
       "      <td>1.512448</td>\n",
       "      <td>0.390142</td>\n",
       "      <td>True</td>\n",
       "      <td>True</td>\n",
       "      <td>True</td>\n",
       "      <td>5</td>\n",
       "      <td>0.847826</td>\n",
       "      <td>0.800964</td>\n",
       "      <td>...</td>\n",
       "      <td>1.722242</td>\n",
       "      <td>B</td>\n",
       "      <td>CRL-5922_tumor_p81_rep1</td>\n",
       "      <td>4</td>\n",
       "      <td>True</td>\n",
       "      <td>81</td>\n",
       "      <td>0.800964</td>\n",
       "      <td>0.187041</td>\n",
       "      <td>True</td>\n",
       "      <td>True</td>\n",
       "    </tr>\n",
       "  </tbody>\n",
       "</table>\n",
       "<p>5 rows × 21 columns</p>\n",
       "</div>"
      ],
      "text/plain": [
       "   Purity        R1        R2       BAF  Sequenza_Loss  Alternate_Loss  \\\n",
       "0    1.00  0.000052  1.654309  0.505381           True            True   \n",
       "1    1.00  0.000051  1.786976  0.496225           True            True   \n",
       "2    0.77  0.099897  1.578995  0.445050           True            True   \n",
       "3    0.77  0.098027  1.689733  0.444421           True            True   \n",
       "4    0.62  0.187041  1.512448  0.390142           True            True   \n",
       "\n",
       "   Dash_Loss  Ploidy  consistency_of_coverage  prediction_probability  ...  \\\n",
       "0       True       5                 0.847826                0.994991  ...   \n",
       "1       True       5                 0.869565                0.995448  ...   \n",
       "2       True       5                 0.847826                0.800964  ...   \n",
       "3       True       5                 0.869565                0.995448  ...   \n",
       "4       True       5                 0.847826                0.800964  ...   \n",
       "\n",
       "   total_coverage  Gene                    Sample ind   LOH  real_purity  \\\n",
       "0        1.654356     B  CRL-5922_tumor_p100_rep1   0  True          100   \n",
       "1        1.787059     C  CRL-5922_tumor_p100_rep1   1  True          100   \n",
       "2        1.644918     B   CRL-5922_tumor_p90_rep1   2  True           90   \n",
       "3        1.764339     C   CRL-5922_tumor_p90_rep1   3  True           90   \n",
       "4        1.722242     B   CRL-5922_tumor_p81_rep1   4  True           81   \n",
       "\n",
       "   Dash_Loss_Prob     R_min  Check_FP  Dash_Loss_Ext  \n",
       "0        0.994991  0.000052      True           True  \n",
       "1        0.995448  0.000051      True           True  \n",
       "2        0.800964  0.099897      True           True  \n",
       "3        0.995448  0.098027      True           True  \n",
       "4        0.800964  0.187041      True           True  \n",
       "\n",
       "[5 rows x 21 columns]"
      ]
     },
     "execution_count": 10,
     "metadata": {},
     "output_type": "execute_result"
    }
   ],
   "source": [
    "artificial_purities_raw_df.head()"
   ]
  },
  {
   "cell_type": "code",
   "execution_count": 11,
   "metadata": {
    "scrolled": true
   },
   "outputs": [
    {
     "data": {
      "text/plain": [
       "real_purity\n",
       "0      0.014286\n",
       "1      0.000000\n",
       "2      0.125000\n",
       "3      0.228571\n",
       "4      0.342857\n",
       "5      0.514286\n",
       "6      0.600000\n",
       "7      0.657143\n",
       "8      0.700000\n",
       "9      0.742857\n",
       "10     0.742857\n",
       "12     0.701493\n",
       "14     0.714286\n",
       "15     0.714286\n",
       "16     0.714286\n",
       "18     0.714286\n",
       "20     0.714286\n",
       "21     0.701493\n",
       "24     0.880597\n",
       "25     0.971429\n",
       "27     1.000000\n",
       "28     1.000000\n",
       "30     1.000000\n",
       "32     1.000000\n",
       "35     1.000000\n",
       "36     1.000000\n",
       "40     1.000000\n",
       "42     1.000000\n",
       "45     0.985714\n",
       "48     1.000000\n",
       "49     1.000000\n",
       "50     1.000000\n",
       "54     1.000000\n",
       "56     1.000000\n",
       "60     1.000000\n",
       "63     1.000000\n",
       "64     1.000000\n",
       "70     1.000000\n",
       "72     1.000000\n",
       "80     1.000000\n",
       "81     1.000000\n",
       "90     1.000000\n",
       "100    1.000000\n",
       "Name: Dash_Loss_Ext, dtype: float64"
      ]
     },
     "execution_count": 11,
     "metadata": {},
     "output_type": "execute_result"
    }
   ],
   "source": [
    "artificial_purities_raw_df.groupby('real_purity').Dash_Loss_Ext.mean()"
   ]
  },
  {
   "cell_type": "code",
   "execution_count": 12,
   "metadata": {
    "scrolled": true
   },
   "outputs": [
    {
     "data": {
      "text/html": [
       "<div>\n",
       "<style scoped>\n",
       "    .dataframe tbody tr th:only-of-type {\n",
       "        vertical-align: middle;\n",
       "    }\n",
       "\n",
       "    .dataframe tbody tr th {\n",
       "        vertical-align: top;\n",
       "    }\n",
       "\n",
       "    .dataframe thead th {\n",
       "        text-align: right;\n",
       "    }\n",
       "</style>\n",
       "<table border=\"1\" class=\"dataframe\">\n",
       "  <thead>\n",
       "    <tr style=\"text-align: right;\">\n",
       "      <th></th>\n",
       "      <th>Purity</th>\n",
       "      <th>R1</th>\n",
       "      <th>R2</th>\n",
       "      <th>BAF</th>\n",
       "      <th>Sequenza_Loss</th>\n",
       "      <th>Alternate_Loss</th>\n",
       "      <th>Dash_Loss</th>\n",
       "      <th>Ploidy</th>\n",
       "      <th>consistency_of_coverage</th>\n",
       "      <th>prediction_probability</th>\n",
       "      <th>...</th>\n",
       "      <th>total_coverage</th>\n",
       "      <th>Gene</th>\n",
       "      <th>Sample</th>\n",
       "      <th>ind</th>\n",
       "      <th>LOH</th>\n",
       "      <th>real_purity</th>\n",
       "      <th>Dash_Loss_Prob</th>\n",
       "      <th>R_min</th>\n",
       "      <th>Check_FP</th>\n",
       "      <th>Dash_Loss_Ext</th>\n",
       "    </tr>\n",
       "  </thead>\n",
       "  <tbody>\n",
       "    <tr>\n",
       "      <th>407</th>\n",
       "      <td>0.25</td>\n",
       "      <td>1.744594</td>\n",
       "      <td>0.549207</td>\n",
       "      <td>0.256825</td>\n",
       "      <td>True</td>\n",
       "      <td>True</td>\n",
       "      <td>False</td>\n",
       "      <td>5</td>\n",
       "      <td>0.913043</td>\n",
       "      <td>0.430399</td>\n",
       "      <td>...</td>\n",
       "      <td>2.275675</td>\n",
       "      <td>C</td>\n",
       "      <td>CRL-2314_tumor_p45_rep4</td>\n",
       "      <td>407</td>\n",
       "      <td>True</td>\n",
       "      <td>45</td>\n",
       "      <td>0.430399</td>\n",
       "      <td>0.549207</td>\n",
       "      <td>True</td>\n",
       "      <td>False</td>\n",
       "    </tr>\n",
       "  </tbody>\n",
       "</table>\n",
       "<p>1 rows × 21 columns</p>\n",
       "</div>"
      ],
      "text/plain": [
       "     Purity        R1        R2       BAF  Sequenza_Loss  Alternate_Loss  \\\n",
       "407    0.25  1.744594  0.549207  0.256825           True            True   \n",
       "\n",
       "     Dash_Loss  Ploidy  consistency_of_coverage  prediction_probability  ...  \\\n",
       "407      False       5                 0.913043                0.430399  ...   \n",
       "\n",
       "     total_coverage  Gene                   Sample  ind   LOH  real_purity  \\\n",
       "407        2.275675     C  CRL-2314_tumor_p45_rep4  407  True           45   \n",
       "\n",
       "     Dash_Loss_Prob     R_min  Check_FP  Dash_Loss_Ext  \n",
       "407        0.430399  0.549207      True          False  \n",
       "\n",
       "[1 rows x 21 columns]"
      ]
     },
     "execution_count": 12,
     "metadata": {},
     "output_type": "execute_result"
    }
   ],
   "source": [
    "artificial_purities_raw_df[(artificial_purities_raw_df.real_purity == 45)\n",
    "                           &(artificial_purities_raw_df.Dash_Loss == False)]"
   ]
  },
  {
   "cell_type": "code",
   "execution_count": 13,
   "metadata": {
    "scrolled": false
   },
   "outputs": [
    {
     "data": {
      "image/png": "[encoded data removed]",
      "text/plain": [
       "<Figure size 252x180 with 1 Axes>"
      ]
     },
     "metadata": {
      "needs_background": "light"
     },
     "output_type": "display_data"
    }
   ],
   "source": [
    "plt.figure(figsize=(3.5, 2.5))\n",
    "sns.set_context('talk', font_scale=0.7)\n",
    "\n",
    "sns.lineplot(x='real_purity', y='Dash_Loss_Ext', data=artificial_purities_raw_df, color='grey')\n",
    "\n",
    "plt.xlabel('Simulated purity')\n",
    "plt.ylabel('Sensitivity')\n",
    "#plt.title('DASH')\n",
    "plt.savefig('/rnd/users/rpyke/data/00-DASH/figures/DASH.sensitivity.purity.line.all_cell_lines.pdf', bbox_inches='tight')"
   ]
  },
  {
   "cell_type": "markdown",
   "metadata": {},
   "source": [
    "##### Sensitivity across variable clonalities"
   ]
  },
  {
   "cell_type": "code",
   "execution_count": 14,
   "metadata": {
    "scrolled": true
   },
   "outputs": [
    {
     "name": "stdout",
     "output_type": "stream",
     "text": [
      "10 10 1 0.10299999999999997\n",
      "10 20 2 0.10299999999999997\n",
      "10 30 3 0.10299999999999997\n",
      "10 40 4 0.10299999999999997\n",
      "10 50 5 0.10299999999999997\n",
      "10 60 6 0.10299999999999997\n",
      "10 70 7 0.10299999999999997\n",
      "10 80 8 0.10299999999999997\n",
      "10 90 9 0.10299999999999997\n",
      "10 100 10 0.10299999999999997\n",
      "20 10 2 0.1251428571428571\n",
      "20 20 4 0.1251428571428571\n",
      "20 30 6 0.1251428571428571\n",
      "20 40 8 0.1251428571428571\n",
      "20 50 10 0.1251428571428571\n",
      "20 60 12 0.1251428571428571\n",
      "20 70 14 0.1251428571428571\n",
      "20 80 16 0.1251428571428571\n",
      "20 90 18 0.1251428571428571\n",
      "20 100 20 0.1251428571428571\n",
      "30 10 3 0.15800000000000003\n",
      "30 20 6 0.15800000000000003\n",
      "30 30 9 0.15800000000000003\n",
      "30 40 12 0.15800000000000003\n",
      "30 50 15 0.15800000000000003\n",
      "30 60 18 0.15800000000000003\n",
      "30 70 21 0.15800000000000003\n",
      "30 80 24 0.15800000000000003\n",
      "30 90 27 0.15800000000000003\n",
      "30 100 30 0.15800000000000003\n",
      "40 10 4 0.21600000000000005\n",
      "40 20 8 0.21600000000000005\n",
      "40 30 12 0.21600000000000005\n",
      "40 40 16 0.21600000000000005\n",
      "40 50 20 0.21600000000000005\n",
      "40 60 24 0.21600000000000005\n",
      "40 70 28 0.21600000000000005\n",
      "40 80 32 0.21600000000000005\n",
      "40 90 36 0.21600000000000005\n",
      "40 100 40 0.21600000000000005\n",
      "50 10 5 0.2925714285714286\n",
      "50 20 10 0.2925714285714286\n",
      "50 30 15 0.2925714285714286\n",
      "50 40 20 0.2925714285714286\n",
      "50 50 25 0.2925714285714286\n",
      "50 60 30 0.2925714285714286\n",
      "50 70 35 0.2925714285714286\n",
      "50 80 40 0.2925714285714286\n",
      "50 90 45 0.2925714285714286\n",
      "50 100 50 0.2925714285714286\n",
      "60 10 6 0.3731428571428573\n",
      "60 20 12 0.3731428571428573\n",
      "60 30 18 0.3731428571428573\n",
      "60 40 24 0.3731428571428573\n",
      "60 50 30 0.3731428571428573\n",
      "60 60 36 0.3731428571428573\n",
      "60 70 42 0.3731428571428573\n",
      "60 80 48 0.3731428571428573\n",
      "60 90 54 0.3731428571428573\n",
      "60 100 60 0.3731428571428573\n",
      "70 10 7 0.4714285714285713\n",
      "70 20 14 0.4714285714285713\n",
      "70 30 21 0.4714285714285713\n",
      "70 40 28 0.4714285714285713\n",
      "70 50 35 0.4714285714285713\n",
      "70 60 42 0.4714285714285713\n",
      "70 70 49 0.4714285714285713\n",
      "70 80 56 0.4714285714285713\n",
      "70 90 63 0.4714285714285713\n",
      "70 100 70 0.4714285714285713\n",
      "80 10 8 0.600857142857143\n",
      "80 20 16 0.600857142857143\n",
      "80 30 24 0.600857142857143\n",
      "80 40 32 0.600857142857143\n",
      "80 50 40 0.600857142857143\n",
      "80 60 48 0.600857142857143\n",
      "80 70 56 0.600857142857143\n",
      "80 80 64 0.600857142857143\n",
      "80 90 72 0.600857142857143\n",
      "80 100 80 0.600857142857143\n",
      "90 10 9 0.7697142857142859\n",
      "90 20 18 0.7697142857142859\n",
      "90 30 27 0.7697142857142859\n",
      "90 40 36 0.7697142857142859\n",
      "90 50 45 0.7697142857142859\n",
      "90 60 54 0.7697142857142859\n",
      "90 70 63 0.7697142857142859\n",
      "90 80 72 0.7697142857142859\n",
      "90 90 81 0.7697142857142859\n",
      "90 100 90 0.7697142857142859\n",
      "100 10 10 1.0\n",
      "100 20 20 1.0\n",
      "100 30 30 1.0\n",
      "100 40 40 1.0\n",
      "100 50 50 1.0\n",
      "100 60 60 1.0\n",
      "100 70 70 1.0\n",
      "100 80 80 1.0\n",
      "100 90 90 1.0\n",
      "100 100 100 1.0\n"
     ]
    }
   ],
   "source": [
    "# Make new column: adjusted purity (to reflect subclonality)\n",
    "all_small_artificial_dfs = []\n",
    "purities = list(range(10, 110, 10))\n",
    "clonalities = list(range(10, 110, 10))\n",
    "for purity in purities:\n",
    "    for clonality in clonalities:\n",
    "        actual_purity = round(int(purity*clonality)/100)\n",
    "        tmp_df = artificial_purities_raw_df[artificial_purities_raw_df.real_purity == actual_purity]\n",
    "        # Adjust values to the purity/ploidy that would be called by sequenza!\n",
    "        sequenza_purity = artificial_purities_raw_df[artificial_purities_raw_df.real_purity == purity].Purity.mean()\n",
    "        tmp_df['adjusted_purity'] = sequenza_purity\n",
    "        sequenza_ploidy = artificial_purities_raw_df[artificial_purities_raw_df.real_purity == purity].Ploidy.mean()\n",
    "        tmp_df['adjusted_ploidy'] = sequenza_ploidy\n",
    "        all_small_artificial_dfs.append(tmp_df)\n",
    "        print(purity, clonality, actual_purity, sequenza_purity)\n",
    "\n",
    "artificial_purities_df = pd.concat(all_small_artificial_dfs)\n",
    "\n",
    "artificial_purities_df['old_purity'] = artificial_purities_df['Purity']\n",
    "# This line adjusts the purity input to the model based on clonality\n",
    "artificial_purities_df['purity'] = artificial_purities_df['adjusted_purity']\n",
    "artificial_purities_df['ploidy'] = artificial_purities_df['adjusted_ploidy']\n",
    "\n",
    "#artificial_purities_df['ploidy'] = artificial_purities_df['Ploidy']\n",
    "artificial_purities_df['sequenza_minor'] = [0 if x == True else 1 for x in artificial_purities_df['Sequenza_Loss']]\n",
    "artificial_purities_df['minMedCoverage'] = artificial_purities_df[['R1','R2']].min(axis=1)\n",
    "artificial_purities_df['baf_median'] = artificial_purities_df['BAF']\n",
    "artificial_purities_df['percCov'] = artificial_purities_df['consistency_of_coverage']\n",
    "artificial_purities_df['totalCoverage_median'] = artificial_purities_df['total_coverage']\n",
    "artificial_purities_df['Sequenza_Loss'] = ~artificial_purities_df['sequenza_minor'].astype(bool)"
   ]
  },
  {
   "cell_type": "code",
   "execution_count": 15,
   "metadata": {
    "scrolled": true
   },
   "outputs": [
    {
     "data": {
      "text/plain": [
       "Index(['Purity', 'R1', 'R2', 'BAF', 'Sequenza_Loss', 'Alternate_Loss',\n",
       "       'Dash_Loss', 'Ploidy', 'consistency_of_coverage',\n",
       "       'prediction_probability', 'secondary_check', 'total_coverage', 'Gene',\n",
       "       'Sample', 'ind', 'LOH', 'real_purity', 'Dash_Loss_Prob', 'R_min',\n",
       "       'Check_FP', 'Dash_Loss_Ext', 'adjusted_purity', 'adjusted_ploidy',\n",
       "       'old_purity', 'purity', 'ploidy', 'sequenza_minor', 'minMedCoverage',\n",
       "       'baf_median', 'percCov', 'totalCoverage_median'],\n",
       "      dtype='object')"
      ]
     },
     "execution_count": 15,
     "metadata": {},
     "output_type": "execute_result"
    }
   ],
   "source": [
    "artificial_purities_df.columns"
   ]
  },
  {
   "cell_type": "code",
   "execution_count": 16,
   "metadata": {},
   "outputs": [],
   "source": [
    "X_test = artificial_purities_df[training_columns]\n",
    "y_test = artificial_purities_df[['LOH']]\n",
    "\n",
    "predictions = model.predict(X_test)\n",
    "prediction_probs = model.predict_proba(X_test)[:, 1]"
   ]
  },
  {
   "cell_type": "code",
   "execution_count": 17,
   "metadata": {},
   "outputs": [],
   "source": [
    "# Adding second check\n",
    "artificial_purities_df['Check_FP'] = (artificial_purities_df.baf_median > BAF_cutoff) \\\n",
    "                                         &(artificial_purities_df.minMedCoverage < R_cutoff)\n",
    "\n",
    "artificial_purities_df['Dash_Loss_Ext'] = (artificial_purities_df.prediction_probability > cutoff) \\\n",
    "                                                &(artificial_purities_df.Check_FP)\n"
   ]
  },
  {
   "cell_type": "code",
   "execution_count": 18,
   "metadata": {},
   "outputs": [],
   "source": [
    "# Adjusting for cutoff\n",
    "lenient = []\n",
    "for x, check in zip(prediction_probs, artificial_purities_df['Check_FP']):\n",
    "    if (x > cutoff) and check:\n",
    "        lenient.append(1)\n",
    "    else:\n",
    "        lenient.append(0)\n",
    "artificial_purities_df['Dash_Loss_Ext'] = lenient"
   ]
  },
  {
   "cell_type": "code",
   "execution_count": 19,
   "metadata": {
    "scrolled": true
   },
   "outputs": [
    {
     "data": {
      "text/plain": [
       "real_purity\n",
       "1      0.000000\n",
       "2      0.000000\n",
       "3      0.014286\n",
       "4      0.104762\n",
       "5      0.142857\n",
       "6      0.267857\n",
       "7      0.328571\n",
       "8      0.400000\n",
       "9      0.542857\n",
       "10     0.582143\n",
       "12     0.645522\n",
       "14     0.692857\n",
       "15     0.692857\n",
       "16     0.714286\n",
       "18     0.714286\n",
       "20     0.714286\n",
       "21     0.701493\n",
       "24     0.880597\n",
       "25     0.971429\n",
       "27     1.000000\n",
       "28     1.000000\n",
       "30     1.000000\n",
       "32     1.000000\n",
       "35     1.000000\n",
       "36     1.000000\n",
       "40     1.000000\n",
       "42     1.000000\n",
       "45     0.985714\n",
       "48     0.985714\n",
       "49     0.985714\n",
       "50     1.000000\n",
       "54     1.000000\n",
       "56     1.000000\n",
       "60     1.000000\n",
       "63     1.000000\n",
       "64     1.000000\n",
       "70     1.000000\n",
       "72     1.000000\n",
       "80     1.000000\n",
       "81     1.000000\n",
       "90     1.000000\n",
       "100    1.000000\n",
       "Name: Dash_Loss_Ext, dtype: float64"
      ]
     },
     "execution_count": 19,
     "metadata": {},
     "output_type": "execute_result"
    }
   ],
   "source": [
    "artificial_purities_df.groupby('real_purity').Dash_Loss_Ext.mean()"
   ]
  },
  {
   "cell_type": "code",
   "execution_count": 20,
   "metadata": {
    "scrolled": false
   },
   "outputs": [
    {
     "name": "stdout",
     "output_type": "stream",
     "text": [
      "/rnd/users/rpyke/data/00-DASH/figures/DASH.sensitivity.purity_clonality.heatmap.all_cell_lines.pdf\n"
     ]
    },
    {
     "data": {
      "image/png": "[encoded data removed]",
      "text/plain": [
       "<Figure size 288x252 with 2 Axes>"
      ]
     },
     "metadata": {
      "needs_background": "light"
     },
     "output_type": "display_data"
    }
   ],
   "source": [
    "tmp_df = pd.DataFrame(artificial_purities_df.groupby('real_purity').Dash_Loss_Ext.mean()).reset_index()\n",
    "tmp_df.columns = ['simulated_purity', 'Dash_Accuracy']\n",
    "\n",
    "sns.set_context('talk', font_scale=0.7)\n",
    "plt.figure(figsize=(4, 3.5))\n",
    "accuracy_matrix = []\n",
    "for clonality in clonalities[::-1]:\n",
    "    accuracy_array = []\n",
    "    for purity in purities:\n",
    "        try:\n",
    "            accuracy_array.append(list(tmp_df[tmp_df.simulated_purity == \n",
    "                                              int(clonality*purity / 100)].Dash_Accuracy)[0] * 100)\n",
    "        except:\n",
    "            accuracy_array.append(np.nan)\n",
    "    accuracy_matrix.append(accuracy_array)\n",
    "\n",
    "sns.heatmap(accuracy_matrix, xticklabels=purities, yticklabels=clonalities[::-1], cmap=\"Blues\",\n",
    "           vmin=0, vmax=100, cbar_kws={'label': 'Sensitivity'}) #, annot=True, fmt='g')\n",
    "plt.xlabel('Purity')\n",
    "plt.ylabel('Clonality')\n",
    "\n",
    "plt.savefig('/rnd/users/rpyke/data/00-DASH/figures/DASH.sensitivity.purity_clonality.heatmap.all_cell_lines.pdf',\n",
    "           bbox_inches='tight')\n",
    "print('/rnd/users/rpyke/data/00-DASH/figures/DASH.sensitivity.purity_clonality.heatmap.all_cell_lines.pdf')\n"
   ]
  },
  {
   "cell_type": "code",
   "execution_count": 21,
   "metadata": {},
   "outputs": [
    {
     "data": {
      "text/html": [
       "[[58.214285714285715, 71.42857142857143, 100.0, 100.0, 100.0, 100.0, 100.0, 100.0, 100.0, 100.0], [54.285714285714285, 71.42857142857143, 100.0, 100.0, 98.57142857142858, 100.0, 100.0, 100.0, 100.0, 100.0], [40.0, 71.42857142857143, 88.05970149253731, 100.0, 100.0, 98.57142857142858, 100.0, 100.0, 100.0, 100.0], [32.857142857142854, 69.28571428571428, 70.1492537313433, 100.0, 100.0, 100.0, 98.57142857142858, 100.0, 100.0, 100.0], [26.785714285714285, 64.55223880597015, 71.42857142857143, 88.05970149253731, 100.0, 100.0, 100.0, 98.57142857142858, 100.0, 100.0], [14.285714285714285, 58.214285714285715, 69.28571428571428, 71.42857142857143, 97.14285714285714, 100.0, 100.0, 100.0, 98.57142857142858, 100.0], [10.476190476190476, 40.0, 64.55223880597015, 71.42857142857143, 71.42857142857143, 88.05970149253731, 100.0, 100.0, 100.0, 100.0], [1.4285714285714286, 26.785714285714285, 54.285714285714285, 64.55223880597015, 69.28571428571428, 71.42857142857143, 70.1492537313433, 88.05970149253731, 100.0, 100.0], [0.0, 10.476190476190476, 26.785714285714285, 40.0, 58.214285714285715, 64.55223880597015, 69.28571428571428, 71.42857142857143, 71.42857142857143, 71.42857142857143], [0.0, 0.0, 1.4285714285714286, 10.476190476190476, 14.285714285714285, 26.785714285714285, 32.857142857142854, 40.0, 54.285714285714285, 58.214285714285715]]"
      ],
      "text/plain": [
       "[[58.214285714285715,\n",
       "  71.42857142857143,\n",
       "  100.0,\n",
       "  100.0,\n",
       "  100.0,\n",
       "  100.0,\n",
       "  100.0,\n",
       "  100.0,\n",
       "  100.0,\n",
       "  100.0],\n",
       " [54.285714285714285,\n",
       "  71.42857142857143,\n",
       "  100.0,\n",
       "  100.0,\n",
       "  98.57142857142858,\n",
       "  100.0,\n",
       "  100.0,\n",
       "  100.0,\n",
       "  100.0,\n",
       "  100.0],\n",
       " [40.0,\n",
       "  71.42857142857143,\n",
       "  88.05970149253731,\n",
       "  100.0,\n",
       "  100.0,\n",
       "  98.57142857142858,\n",
       "  100.0,\n",
       "  100.0,\n",
       "  100.0,\n",
       "  100.0],\n",
       " [32.857142857142854,\n",
       "  69.28571428571428,\n",
       "  70.1492537313433,\n",
       "  100.0,\n",
       "  100.0,\n",
       "  100.0,\n",
       "  98.57142857142858,\n",
       "  100.0,\n",
       "  100.0,\n",
       "  100.0],\n",
       " [26.785714285714285,\n",
       "  64.55223880597015,\n",
       "  71.42857142857143,\n",
       "  88.05970149253731,\n",
       "  100.0,\n",
       "  100.0,\n",
       "  100.0,\n",
       "  98.57142857142858,\n",
       "  100.0,\n",
       "  100.0],\n",
       " [14.285714285714285,\n",
       "  58.214285714285715,\n",
       "  69.28571428571428,\n",
       "  71.42857142857143,\n",
       "  97.14285714285714,\n",
       "  100.0,\n",
       "  100.0,\n",
       "  100.0,\n",
       "  98.57142857142858,\n",
       "  100.0],\n",
       " [10.476190476190476,\n",
       "  40.0,\n",
       "  64.55223880597015,\n",
       "  71.42857142857143,\n",
       "  71.42857142857143,\n",
       "  88.05970149253731,\n",
       "  100.0,\n",
       "  100.0,\n",
       "  100.0,\n",
       "  100.0],\n",
       " [1.4285714285714286,\n",
       "  26.785714285714285,\n",
       "  54.285714285714285,\n",
       "  64.55223880597015,\n",
       "  69.28571428571428,\n",
       "  71.42857142857143,\n",
       "  70.1492537313433,\n",
       "  88.05970149253731,\n",
       "  100.0,\n",
       "  100.0],\n",
       " [0.0,\n",
       "  10.476190476190476,\n",
       "  26.785714285714285,\n",
       "  40.0,\n",
       "  58.214285714285715,\n",
       "  64.55223880597015,\n",
       "  69.28571428571428,\n",
       "  71.42857142857143,\n",
       "  71.42857142857143,\n",
       "  71.42857142857143],\n",
       " [0.0,\n",
       "  0.0,\n",
       "  1.4285714285714286,\n",
       "  10.476190476190476,\n",
       "  14.285714285714285,\n",
       "  26.785714285714285,\n",
       "  32.857142857142854,\n",
       "  40.0,\n",
       "  54.285714285714285,\n",
       "  58.214285714285715]]"
      ]
     },
     "execution_count": 21,
     "metadata": {},
     "output_type": "execute_result"
    }
   ],
   "source": [
    "accuracy_matrix"
   ]
  },
  {
   "cell_type": "markdown",
   "metadata": {},
   "source": [
    "##### Specificity with full clonality"
   ]
  },
  {
   "cell_type": "code",
   "execution_count": 22,
   "metadata": {
    "scrolled": true
   },
   "outputs": [
    {
     "name": "stdout",
     "output_type": "stream",
     "text": [
      "CRL-5922 ['Purity', 'R1', 'R2', 'BAF', 'Sequenza_Loss', 'Alternate_Loss', 'Dash_Loss', 'Ploidy', 'consistency_of_coverage', 'prediction_probability', 'secondary_check', 'total_coverage', 'Gene', 'Sample', 'ind']\n",
      "CRL-5911 ['Purity', 'R1', 'R2', 'BAF', 'Sequenza_Loss', 'Alternate_Loss', 'Dash_Loss', 'Ploidy', 'consistency_of_coverage', 'prediction_probability', 'secondary_check', 'total_coverage', 'Gene', 'Sample', 'ind']\n",
      "CRL-2314 ['Purity', 'R1', 'R2', 'BAF', 'Sequenza_Loss', 'Alternate_Loss', 'Dash_Loss', 'Ploidy', 'consistency_of_coverage', 'prediction_probability', 'secondary_check', 'total_coverage', 'Gene', 'Sample', 'ind']\n"
     ]
    }
   ],
   "source": [
    "tmp_dfs = []\n",
    "for cell_line in cell_lines:\n",
    "    tmp_df = pd.read_csv('/rnd/users/rpyke/data/00-DASH/manuscript_data_v2/validation.cell_line_dash_output.{0}.csv'.format(cell_line),\n",
    "                                         index_col=0)\n",
    "    print(cell_line, list(tmp_df.columns))\n",
    "    tmp_dfs.append(tmp_df)\n",
    "    \n",
    "artificial_purities_raw_df = pd.concat(tmp_dfs)\n",
    "\n",
    "\n",
    "artificial_purities_raw_df['LOH'] = True\n",
    "artificial_purities_raw_df['real_purity'] = artificial_purities_raw_df['Sample'].str.split('_p').str[1].str.split('_').str[0].astype(int)\n",
    "artificial_purities_raw_df['cell_line'] = artificial_purities_raw_df['Sample'].str.split('_tumor').str[0]\n",
    "artificial_purities_raw_df['replicate'] = artificial_purities_raw_df['Sample'].str.split('rep').str[1]\n",
    "\n",
    "# Only looking at purity with 100% clonality\n",
    "purities = list(artificial_purities_raw_df.real_purity.unique())\n",
    "no_loh_df = artificial_purities_raw_df[artificial_purities_raw_df.real_purity == 0]\n",
    "all_small_artificial_dfs = []\n",
    "for purity in purities:\n",
    "    actual_purity = purity\n",
    "    if actual_purity == 1:\n",
    "        continue\n",
    "    tmp_df = artificial_purities_raw_df[artificial_purities_raw_df.real_purity == actual_purity]\n",
    "    # Restricting to overlapping samples\n",
    "    tmp_restricted_df = pd.merge(tmp_df, no_loh_df[['Gene', 'cell_line', 'replicate']], \n",
    "                 on=['Gene', 'cell_line', 'replicate'], how='inner')\n",
    "    no_loh_restricted_df = pd.merge(tmp_df[['Gene', 'cell_line', 'replicate']], no_loh_df, \n",
    "                             on=['Gene', 'cell_line', 'replicate'], how='inner')\n",
    "    #print(actual_purity, len(tmp_df), len(no_loh_restricted_df))\n",
    "    \n",
    "    sequenza_purity = artificial_purities_raw_df[artificial_purities_raw_df.real_purity == purity].Purity.mean()\n",
    "    #print(actual_purity, sequenza_purity)\n",
    "    tmp_restricted_df['adjusted_purity'] = sequenza_purity\n",
    "    tmp_restricted_df['BAF'] = list(no_loh_restricted_df['BAF'])\n",
    "    tmp_restricted_df['R1'] = list(no_loh_restricted_df['R1'])\n",
    "    tmp_restricted_df['R2'] = list(no_loh_restricted_df['R2'])\n",
    "    tmp_restricted_df['consistency_of_coverage'] = list(no_loh_restricted_df['consistency_of_coverage'])\n",
    "    tmp_restricted_df['Sequenza_Loss'] = list(no_loh_restricted_df['Sequenza_Loss']) #True # Does this need to be updated? \n",
    "    all_small_artificial_dfs.append(tmp_restricted_df)\n",
    "\n",
    "artificial_purities_df = pd.concat(all_small_artificial_dfs)\n",
    "    \n",
    "\n",
    "# Fixing purity\n",
    "artificial_purities_df['old_purity'] = artificial_purities_df['Purity']\n",
    "artificial_purities_df['purity'] = artificial_purities_df['adjusted_purity']\n",
    "\n",
    "# Renaming other columns\n",
    "artificial_purities_df['ploidy'] = artificial_purities_df['Ploidy']\n",
    "artificial_purities_df['sequenza_minor'] = [0 if x == True else 1 for x in artificial_purities_df['Sequenza_Loss']]\n",
    "artificial_purities_df['minMedCoverage'] = artificial_purities_df[['R1','R2']].min(axis=1)\n",
    "artificial_purities_df['baf_median'] = artificial_purities_df['BAF']\n",
    "artificial_purities_df['percCov'] = artificial_purities_df['consistency_of_coverage']\n",
    "artificial_purities_df['totalCoverage_median'] = artificial_purities_df['total_coverage']\n",
    "artificial_purities_df['Sequenza_Loss'] = ~artificial_purities_df['sequenza_minor'].astype(bool)\n"
   ]
  },
  {
   "cell_type": "code",
   "execution_count": 23,
   "metadata": {},
   "outputs": [],
   "source": [
    "artificial_purities_df[training_columns]\n",
    "\n",
    "X_test = artificial_purities_df[training_columns]\n",
    "y_test = artificial_purities_df[['LOH']]\n",
    "\n",
    "predictions = model.predict(X_test) #predict_prob [:, 1]\n",
    "prediction_probs = model.predict_proba(X_test)[:, 1]"
   ]
  },
  {
   "cell_type": "code",
   "execution_count": 24,
   "metadata": {},
   "outputs": [],
   "source": [
    "artificial_purities_df['Check_FP'] = (artificial_purities_df.baf_median > BAF_cutoff) \\\n",
    "                                         &(artificial_purities_df.minMedCoverage < R_cutoff) #\\\n",
    "                                         #&(artificial_purities_df.sequenza_minor == 1)"
   ]
  },
  {
   "cell_type": "code",
   "execution_count": 25,
   "metadata": {},
   "outputs": [],
   "source": [
    "lenient = []\n",
    "for x, check in zip(prediction_probs, artificial_purities_df['Check_FP']):\n",
    "    if (x > cutoff) and (check):\n",
    "        lenient.append(0)\n",
    "    else:\n",
    "        lenient.append(1)\n",
    "artificial_purities_df['Dash_Loss_Ext'] = lenient"
   ]
  },
  {
   "cell_type": "code",
   "execution_count": 26,
   "metadata": {},
   "outputs": [
    {
     "data": {
      "image/png": "[encoded data removed]",
      "text/plain": [
       "<Figure size 252x180 with 1 Axes>"
      ]
     },
     "metadata": {
      "needs_background": "light"
     },
     "output_type": "display_data"
    }
   ],
   "source": [
    "plt.figure(figsize=(3.5, 2.5))\n",
    "sns.set_context('talk', font_scale=0.7)\n",
    "\n",
    "sns.lineplot(x='real_purity', y='Dash_Loss_Ext', data=artificial_purities_df, color='grey')\n",
    "\n",
    "plt.xlabel('Simulated purity')\n",
    "plt.ylabel('Specificity')\n",
    "plt.ylim(0, 1.05)\n",
    "#plt.title('DASH')\n",
    "plt.savefig('/rnd/users/rpyke/data/00-DASH/figures/DASH.specificity.purity.line.all_cell_lines.pdf', bbox_inches='tight')"
   ]
  },
  {
   "cell_type": "code",
   "execution_count": 27,
   "metadata": {
    "scrolled": true
   },
   "outputs": [
    {
     "data": {
      "text/html": [
       "<div>\n",
       "<style scoped>\n",
       "    .dataframe tbody tr th:only-of-type {\n",
       "        vertical-align: middle;\n",
       "    }\n",
       "\n",
       "    .dataframe tbody tr th {\n",
       "        vertical-align: top;\n",
       "    }\n",
       "\n",
       "    .dataframe thead th {\n",
       "        text-align: right;\n",
       "    }\n",
       "</style>\n",
       "<table border=\"1\" class=\"dataframe\">\n",
       "  <thead>\n",
       "    <tr style=\"text-align: right;\">\n",
       "      <th></th>\n",
       "      <th>Dash_Loss_Ext</th>\n",
       "    </tr>\n",
       "    <tr>\n",
       "      <th>real_purity</th>\n",
       "      <th></th>\n",
       "    </tr>\n",
       "  </thead>\n",
       "  <tbody>\n",
       "    <tr>\n",
       "      <th>0</th>\n",
       "      <td>1.000000</td>\n",
       "    </tr>\n",
       "    <tr>\n",
       "      <th>2</th>\n",
       "      <td>1.000000</td>\n",
       "    </tr>\n",
       "    <tr>\n",
       "      <th>3</th>\n",
       "      <td>1.000000</td>\n",
       "    </tr>\n",
       "    <tr>\n",
       "      <th>4</th>\n",
       "      <td>1.000000</td>\n",
       "    </tr>\n",
       "    <tr>\n",
       "      <th>5</th>\n",
       "      <td>0.985714</td>\n",
       "    </tr>\n",
       "    <tr>\n",
       "      <th>6</th>\n",
       "      <td>0.985714</td>\n",
       "    </tr>\n",
       "    <tr>\n",
       "      <th>7</th>\n",
       "      <td>0.985714</td>\n",
       "    </tr>\n",
       "    <tr>\n",
       "      <th>8</th>\n",
       "      <td>0.985714</td>\n",
       "    </tr>\n",
       "    <tr>\n",
       "      <th>9</th>\n",
       "      <td>1.000000</td>\n",
       "    </tr>\n",
       "    <tr>\n",
       "      <th>10</th>\n",
       "      <td>1.000000</td>\n",
       "    </tr>\n",
       "  </tbody>\n",
       "</table>\n",
       "</div>"
      ],
      "text/plain": [
       "             Dash_Loss_Ext\n",
       "real_purity               \n",
       "0                 1.000000\n",
       "2                 1.000000\n",
       "3                 1.000000\n",
       "4                 1.000000\n",
       "5                 0.985714\n",
       "6                 0.985714\n",
       "7                 0.985714\n",
       "8                 0.985714\n",
       "9                 1.000000\n",
       "10                1.000000"
      ]
     },
     "execution_count": 27,
     "metadata": {},
     "output_type": "execute_result"
    }
   ],
   "source": [
    "artificial_purities_df.groupby('real_purity')[['Dash_Loss_Ext']].mean().head(10)"
   ]
  },
  {
   "cell_type": "code",
   "execution_count": 28,
   "metadata": {},
   "outputs": [
    {
     "data": {
      "text/html": [
       "<div>\n",
       "<style scoped>\n",
       "    .dataframe tbody tr th:only-of-type {\n",
       "        vertical-align: middle;\n",
       "    }\n",
       "\n",
       "    .dataframe tbody tr th {\n",
       "        vertical-align: top;\n",
       "    }\n",
       "\n",
       "    .dataframe thead th {\n",
       "        text-align: right;\n",
       "    }\n",
       "</style>\n",
       "<table border=\"1\" class=\"dataframe\">\n",
       "  <thead>\n",
       "    <tr style=\"text-align: right;\">\n",
       "      <th></th>\n",
       "      <th>cell_line</th>\n",
       "      <th>replicate</th>\n",
       "      <th>Gene</th>\n",
       "      <th>real_purity</th>\n",
       "    </tr>\n",
       "  </thead>\n",
       "  <tbody>\n",
       "    <tr>\n",
       "      <th>42</th>\n",
       "      <td>CRL-2314</td>\n",
       "      <td>3</td>\n",
       "      <td>C</td>\n",
       "      <td>8</td>\n",
       "    </tr>\n",
       "    <tr>\n",
       "      <th>51</th>\n",
       "      <td>CRL-2314</td>\n",
       "      <td>3</td>\n",
       "      <td>C</td>\n",
       "      <td>7</td>\n",
       "    </tr>\n",
       "    <tr>\n",
       "      <th>54</th>\n",
       "      <td>CRL-2314</td>\n",
       "      <td>3</td>\n",
       "      <td>C</td>\n",
       "      <td>6</td>\n",
       "    </tr>\n",
       "    <tr>\n",
       "      <th>69</th>\n",
       "      <td>CRL-2314</td>\n",
       "      <td>3</td>\n",
       "      <td>C</td>\n",
       "      <td>5</td>\n",
       "    </tr>\n",
       "  </tbody>\n",
       "</table>\n",
       "</div>"
      ],
      "text/plain": [
       "   cell_line replicate Gene  real_purity\n",
       "42  CRL-2314         3    C            8\n",
       "51  CRL-2314         3    C            7\n",
       "54  CRL-2314         3    C            6\n",
       "69  CRL-2314         3    C            5"
      ]
     },
     "execution_count": 28,
     "metadata": {},
     "output_type": "execute_result"
    }
   ],
   "source": [
    "artificial_purities_df[artificial_purities_df.Dash_Loss_Ext == 0][['cell_line', 'replicate', 'Gene', 'real_purity']]"
   ]
  },
  {
   "cell_type": "markdown",
   "metadata": {},
   "source": [
    "##### Specificity across variable clonalities"
   ]
  },
  {
   "cell_type": "code",
   "execution_count": 29,
   "metadata": {},
   "outputs": [],
   "source": [
    "all_small_artificial_dfs = []\n",
    "purities = list(range(10, 110, 10))\n",
    "clonalities = list(range(10, 110, 10))\n",
    "no_loh_df = artificial_purities_raw_df[artificial_purities_raw_df.real_purity == 0]\n",
    "for purity in purities:\n",
    "    for clonality in clonalities:\n",
    "        actual_purity = round(int(purity*clonality)/100)\n",
    "        if actual_purity == 1:\n",
    "            continue\n",
    "        tmp_df = artificial_purities_raw_df[artificial_purities_raw_df.real_purity == actual_purity]\n",
    "        # Restricting to overlapping samples\n",
    "        tmp_restricted_df = pd.merge(tmp_df, no_loh_df[['Gene', 'cell_line', 'replicate']], \n",
    "                     on=['Gene', 'cell_line', 'replicate'], how='inner')\n",
    "        no_loh_restricted_df = pd.merge(tmp_df[['Gene', 'cell_line', 'replicate']], no_loh_df, \n",
    "                                 on=['Gene', 'cell_line', 'replicate'], how='inner')\n",
    "\n",
    "        sequenza_purity = artificial_purities_raw_df[artificial_purities_raw_df.real_purity == purity].Purity.mean()\n",
    "        tmp_restricted_df['adjusted_purity'] = sequenza_purity\n",
    "        sequenza_ploidy = artificial_purities_raw_df[artificial_purities_raw_df.real_purity == purity].Ploidy.mean()\n",
    "        tmp_restricted_df['adjusted_ploidy'] = sequenza_ploidy\n",
    "        \n",
    "        tmp_restricted_df['BAF'] = list(no_loh_restricted_df['BAF'])\n",
    "        tmp_restricted_df['R1'] = list(no_loh_restricted_df['R1'])\n",
    "        tmp_restricted_df['R2'] = list(no_loh_restricted_df['R2'])\n",
    "        tmp_restricted_df['consistency_of_coverage'] = list(no_loh_restricted_df['consistency_of_coverage'])\n",
    "        tmp_restricted_df['Sequenza_Loss'] = list(no_loh_restricted_df['Sequenza_Loss'])  \n",
    "        all_small_artificial_dfs.append(tmp_restricted_df)\n",
    "\n",
    "artificial_purities_df = pd.concat(all_small_artificial_dfs)\n",
    "    \n",
    "\n",
    "# Fixing purity/ploidy\n",
    "artificial_purities_df['old_purity'] = artificial_purities_df['Purity']\n",
    "artificial_purities_df['purity'] = artificial_purities_df['adjusted_purity']\n",
    "artificial_purities_df['old_ploidy'] = artificial_purities_df['Ploidy']\n",
    "artificial_purities_df['ploidy'] = artificial_purities_df['adjusted_ploidy']\n",
    "\n",
    "# Renaming other columns\n",
    "artificial_purities_df['sequenza_minor'] = [0 if x == True else 1 for x in artificial_purities_df['Sequenza_Loss']]\n",
    "artificial_purities_df['minMedCoverage'] = artificial_purities_df[['R1','R2']].min(axis=1)\n",
    "artificial_purities_df['baf_median'] = artificial_purities_df['BAF']\n",
    "artificial_purities_df['percCov'] = artificial_purities_df['consistency_of_coverage']\n",
    "artificial_purities_df['totalCoverage_median'] = artificial_purities_df['total_coverage']\n",
    "artificial_purities_df['Sequenza_Loss'] = ~artificial_purities_df['sequenza_minor'].astype(bool)"
   ]
  },
  {
   "cell_type": "code",
   "execution_count": 30,
   "metadata": {
    "scrolled": true
   },
   "outputs": [],
   "source": [
    "X_test = artificial_purities_df[training_columns]\n",
    "y_test = artificial_purities_df[['LOH']]\n",
    "\n",
    "predictions = model.predict(X_test) #predict_prob [:, 1]\n",
    "prediction_probs = model.predict_proba(X_test)[:, 1]"
   ]
  },
  {
   "cell_type": "code",
   "execution_count": 31,
   "metadata": {},
   "outputs": [],
   "source": [
    "# Adding secondary check\n",
    "artificial_purities_df['Check_FP'] = (artificial_purities_df.baf_median > BAF_cutoff) \\\n",
    "                                         &(artificial_purities_df.minMedCoverage < R_cutoff) #\\\n",
    "                                         #&(artificial_purities_df.sequenza_minor == 1)"
   ]
  },
  {
   "cell_type": "code",
   "execution_count": 32,
   "metadata": {},
   "outputs": [],
   "source": [
    "lenient = []\n",
    "for x, check in zip(prediction_probs, artificial_purities_df['Check_FP']):\n",
    "    if (x > cutoff) and (check):\n",
    "        lenient.append(1)\n",
    "    else:\n",
    "        lenient.append(0)\n",
    "artificial_purities_df['Dash_Loss_Ext'] = lenient"
   ]
  },
  {
   "cell_type": "code",
   "execution_count": 33,
   "metadata": {
    "scrolled": true
   },
   "outputs": [
    {
     "data": {
      "image/png": "[encoded data removed]",
      "text/plain": [
       "<Figure size 288x252 with 2 Axes>"
      ]
     },
     "metadata": {
      "needs_background": "light"
     },
     "output_type": "display_data"
    }
   ],
   "source": [
    "tmp_df = pd.DataFrame(artificial_purities_df.groupby('real_purity').Dash_Loss_Ext.mean()).reset_index()\n",
    "tmp_df.columns = ['simulated_purity', 'Dash_Accuracy']\n",
    "tmp_df['DASH_Specificity'] = 1 - tmp_df.Dash_Accuracy # Inverted for specificity (these are negatives)\n",
    "\n",
    "sns.set_context('talk', font_scale=0.7)\n",
    "plt.figure(figsize=(4, 3.5))\n",
    "accuracy_matrix = []\n",
    "for purity in purities[::-1]:\n",
    "    accuracy_array = []\n",
    "    for clonality in clonalities:\n",
    "        try:\n",
    "            accuracy_array.append(list(tmp_df[tmp_df.simulated_purity == \n",
    "                                              int(clonality*purity / 100)].DASH_Specificity)[0] * 100)\n",
    "        except:\n",
    "            accuracy_array.append(np.nan)\n",
    "    accuracy_matrix.append(accuracy_array)\n",
    "\n",
    "sns.heatmap(accuracy_matrix, xticklabels=purities, yticklabels=clonalities[::-1], cmap=\"Blues\",\n",
    "           vmin=0, vmax=100, cbar_kws={'label': 'Specificity'}) #, annot=True, fmt='g')\n",
    "plt.xlabel('Purity')\n",
    "plt.ylabel('Clonality')\n",
    "#plt.title('Updated Algorithm')\n",
    "plt.savefig('/rnd/users/rpyke/data/00-DASH/figures/DASH.specificity.purity_clonality.heatmap.lenient.blues_r.all_cell_lines.pdf',\n",
    "           bbox_inches='tight')"
   ]
  },
  {
   "cell_type": "code",
   "execution_count": 34,
   "metadata": {},
   "outputs": [
    {
     "data": {
      "text/html": [
       "[[100, 100, 100, 100, 100, 100, 100, 100, 100, 100], [100, 100, 100, 100, 100, 100, 100, 100, 100, 100], [100, 100, 100, 100, 100, 100, 100, 100, 100, 100], [100, 100, 100, 100, 100, 100, 100, 100, 100, 100], [100, 100, 100, 100, 100, 100, 100, 100, 100, 100], [100, 100, 100, 100, 100, 100, 100, 100, 100, 100], [100, 100, 100, 100, 100, 100, 100, 100, 100, 100], [100, 100, 100, 100, 100, 100, 100, 100, 100, 100], [100, 100, 100, 100, 100, 100, 100, 100, 100, 100], [nan, 100, 100, 100, 100, 100, 100, 100, 100, 100]]"
      ],
      "text/plain": [
       "[[100, 100, 100, 100, 100, 100, 100, 100, 100, 100],\n",
       " [100, 100, 100, 100, 100, 100, 100, 100, 100, 100],\n",
       " [100, 100, 100, 100, 100, 100, 100, 100, 100, 100],\n",
       " [100, 100, 100, 100, 100, 100, 100, 100, 100, 100],\n",
       " [100, 100, 100, 100, 100, 100, 100, 100, 100, 100],\n",
       " [100, 100, 100, 100, 100, 100, 100, 100, 100, 100],\n",
       " [100, 100, 100, 100, 100, 100, 100, 100, 100, 100],\n",
       " [100, 100, 100, 100, 100, 100, 100, 100, 100, 100],\n",
       " [100, 100, 100, 100, 100, 100, 100, 100, 100, 100],\n",
       " [nan, 100, 100, 100, 100, 100, 100, 100, 100, 100]]"
      ]
     },
     "execution_count": 34,
     "metadata": {},
     "output_type": "execute_result"
    }
   ],
   "source": [
    "accuracy_matrix"
   ]
  },
  {
   "cell_type": "code",
   "execution_count": null,
   "metadata": {},
   "outputs": [],
   "source": []
  }
 ],
 "metadata": {
  "kernelspec": {
   "display_name": "Python 3",
   "language": "python",
   "name": "python3"
  },
  "language_info": {
   "codemirror_mode": {
    "name": "ipython",
    "version": 3
   },
   "file_extension": ".py",
   "mimetype": "text/x-python",
   "name": "python",
   "nbconvert_exporter": "python",
   "pygments_lexer": "ipython3",
   "version": "3.7.3"
  }
 },
 "nbformat": 4,
 "nbformat_minor": 2
}
