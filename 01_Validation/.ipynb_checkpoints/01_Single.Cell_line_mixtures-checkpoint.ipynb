{
 "cells": [
  {
   "cell_type": "code",
   "execution_count": 1,
   "metadata": {},
   "outputs": [],
   "source": [
    "%run ../../bin/imports.ipynb\n",
    "from xgboost import XGBClassifier"
   ]
  },
  {
   "cell_type": "code",
   "execution_count": 2,
   "metadata": {},
   "outputs": [],
   "source": [
    "import warnings\n",
    "warnings.filterwarnings('ignore')"
   ]
  },
  {
   "cell_type": "markdown",
   "metadata": {},
   "source": [
    "# Fully clonal mixtures"
   ]
  },
  {
   "cell_type": "code",
   "execution_count": 51,
   "metadata": {},
   "outputs": [],
   "source": [
    "cell_lines = ['CRL-5911', 'CRL-2314', 'CRL-5922']\n",
    "cell_line = cell_lines[2]"
   ]
  },
  {
   "cell_type": "code",
   "execution_count": 52,
   "metadata": {},
   "outputs": [],
   "source": [
    "cutoff = 0.5\n",
    "BAF_cutoff = 0.02\n",
    "R_cutoff = 0.98"
   ]
  },
  {
   "cell_type": "code",
   "execution_count": 53,
   "metadata": {},
   "outputs": [],
   "source": [
    "training_columns = ['purity', 'ploidy', 'Sequenza_Loss',\n",
    "                    'minMedCoverage','baf_median', 'percCov', 'totalCoverage_median']\n",
    "\n",
    "output_ffn = '/rnd/users/rpyke/data/00-DASH/manuscript_data_v2/training.xgboost_model.2021_05_10.p'\n",
    "model = pickle.load(open(output_ffn, 'rb'))"
   ]
  },
  {
   "cell_type": "markdown",
   "metadata": {},
   "source": [
    "##### Sensitivity with fully clonal mixtures"
   ]
  },
  {
   "cell_type": "code",
   "execution_count": 54,
   "metadata": {},
   "outputs": [],
   "source": [
    "artificial_purities_raw_df = pd.read_csv('/rnd/users/rpyke/data/00-DASH/manuscript_data_v2/validation.cell_line_dash_output.{0}.csv'.format(cell_line),\n",
    "                                     index_col=0)\n",
    "artificial_purities_raw_df['LOH'] = True\n",
    "artificial_purities_raw_df['real_purity'] = artificial_purities_raw_df['Sample'].str.split('_p').str[1].str.split('_').str[0].astype(int)\n",
    "artificial_purities_raw_df['Dash_Loss_Prob'] = artificial_purities_raw_df['prediction_probability']\n",
    "#artificial_purities_raw_df['Dash_Loss_Ext'] = artificial_purities_raw_df.prediction_probability <= cutoff\n",
    "\n",
    "# Adding in another check\n",
    "artificial_purities_raw_df['R_min'] = artificial_purities_raw_df[['R1', 'R2']].min(axis=1)\n",
    "artificial_purities_raw_df['Check_FP'] = (artificial_purities_raw_df.BAF > BAF_cutoff) \\\n",
    "                                         &(artificial_purities_raw_df.R_min < R_cutoff) #\\\n",
    "                                         #&(artificial_purities_raw_df.Sequenza_Loss == False)\n",
    "\n",
    "artificial_purities_raw_df['Dash_Loss_Ext'] = (artificial_purities_raw_df.prediction_probability > cutoff) \\\n",
    "                                                &(artificial_purities_raw_df.Check_FP)\n"
   ]
  },
  {
   "cell_type": "code",
   "execution_count": 55,
   "metadata": {
    "scrolled": true
   },
   "outputs": [
    {
     "data": {
      "text/html": [
       "<div>\n",
       "<style scoped>\n",
       "    .dataframe tbody tr th:only-of-type {\n",
       "        vertical-align: middle;\n",
       "    }\n",
       "\n",
       "    .dataframe tbody tr th {\n",
       "        vertical-align: top;\n",
       "    }\n",
       "\n",
       "    .dataframe thead th {\n",
       "        text-align: right;\n",
       "    }\n",
       "</style>\n",
       "<table border=\"1\" class=\"dataframe\">\n",
       "  <thead>\n",
       "    <tr style=\"text-align: right;\">\n",
       "      <th></th>\n",
       "      <th>Purity</th>\n",
       "      <th>R1</th>\n",
       "      <th>R2</th>\n",
       "      <th>BAF</th>\n",
       "      <th>Sequenza_Loss</th>\n",
       "      <th>Alternate_Loss</th>\n",
       "      <th>Dash_Loss</th>\n",
       "      <th>Ploidy</th>\n",
       "      <th>consistency_of_coverage</th>\n",
       "      <th>prediction_probability</th>\n",
       "      <th>...</th>\n",
       "      <th>total_coverage</th>\n",
       "      <th>Gene</th>\n",
       "      <th>Sample</th>\n",
       "      <th>ind</th>\n",
       "      <th>LOH</th>\n",
       "      <th>real_purity</th>\n",
       "      <th>Dash_Loss_Prob</th>\n",
       "      <th>R_min</th>\n",
       "      <th>Check_FP</th>\n",
       "      <th>Dash_Loss_Ext</th>\n",
       "    </tr>\n",
       "  </thead>\n",
       "  <tbody>\n",
       "    <tr>\n",
       "      <th>0</th>\n",
       "      <td>1.00</td>\n",
       "      <td>0.000052</td>\n",
       "      <td>1.654309</td>\n",
       "      <td>0.505381</td>\n",
       "      <td>True</td>\n",
       "      <td>True</td>\n",
       "      <td>True</td>\n",
       "      <td>5</td>\n",
       "      <td>0.847826</td>\n",
       "      <td>0.994991</td>\n",
       "      <td>...</td>\n",
       "      <td>1.654356</td>\n",
       "      <td>B</td>\n",
       "      <td>CRL-5922_tumor_p100_rep1</td>\n",
       "      <td>0</td>\n",
       "      <td>True</td>\n",
       "      <td>100</td>\n",
       "      <td>0.994991</td>\n",
       "      <td>0.000052</td>\n",
       "      <td>True</td>\n",
       "      <td>True</td>\n",
       "    </tr>\n",
       "    <tr>\n",
       "      <th>1</th>\n",
       "      <td>1.00</td>\n",
       "      <td>0.000051</td>\n",
       "      <td>1.786976</td>\n",
       "      <td>0.496225</td>\n",
       "      <td>True</td>\n",
       "      <td>True</td>\n",
       "      <td>True</td>\n",
       "      <td>5</td>\n",
       "      <td>0.869565</td>\n",
       "      <td>0.995448</td>\n",
       "      <td>...</td>\n",
       "      <td>1.787059</td>\n",
       "      <td>C</td>\n",
       "      <td>CRL-5922_tumor_p100_rep1</td>\n",
       "      <td>1</td>\n",
       "      <td>True</td>\n",
       "      <td>100</td>\n",
       "      <td>0.995448</td>\n",
       "      <td>0.000051</td>\n",
       "      <td>True</td>\n",
       "      <td>True</td>\n",
       "    </tr>\n",
       "    <tr>\n",
       "      <th>2</th>\n",
       "      <td>0.77</td>\n",
       "      <td>0.099897</td>\n",
       "      <td>1.578995</td>\n",
       "      <td>0.445050</td>\n",
       "      <td>True</td>\n",
       "      <td>True</td>\n",
       "      <td>True</td>\n",
       "      <td>5</td>\n",
       "      <td>0.847826</td>\n",
       "      <td>0.800964</td>\n",
       "      <td>...</td>\n",
       "      <td>1.644918</td>\n",
       "      <td>B</td>\n",
       "      <td>CRL-5922_tumor_p90_rep1</td>\n",
       "      <td>2</td>\n",
       "      <td>True</td>\n",
       "      <td>90</td>\n",
       "      <td>0.800964</td>\n",
       "      <td>0.099897</td>\n",
       "      <td>True</td>\n",
       "      <td>True</td>\n",
       "    </tr>\n",
       "    <tr>\n",
       "      <th>3</th>\n",
       "      <td>0.77</td>\n",
       "      <td>0.098027</td>\n",
       "      <td>1.689733</td>\n",
       "      <td>0.444421</td>\n",
       "      <td>True</td>\n",
       "      <td>True</td>\n",
       "      <td>True</td>\n",
       "      <td>5</td>\n",
       "      <td>0.869565</td>\n",
       "      <td>0.995448</td>\n",
       "      <td>...</td>\n",
       "      <td>1.764339</td>\n",
       "      <td>C</td>\n",
       "      <td>CRL-5922_tumor_p90_rep1</td>\n",
       "      <td>3</td>\n",
       "      <td>True</td>\n",
       "      <td>90</td>\n",
       "      <td>0.995448</td>\n",
       "      <td>0.098027</td>\n",
       "      <td>True</td>\n",
       "      <td>True</td>\n",
       "    </tr>\n",
       "    <tr>\n",
       "      <th>4</th>\n",
       "      <td>0.62</td>\n",
       "      <td>0.187041</td>\n",
       "      <td>1.512448</td>\n",
       "      <td>0.390142</td>\n",
       "      <td>True</td>\n",
       "      <td>True</td>\n",
       "      <td>True</td>\n",
       "      <td>5</td>\n",
       "      <td>0.847826</td>\n",
       "      <td>0.800964</td>\n",
       "      <td>...</td>\n",
       "      <td>1.722242</td>\n",
       "      <td>B</td>\n",
       "      <td>CRL-5922_tumor_p81_rep1</td>\n",
       "      <td>4</td>\n",
       "      <td>True</td>\n",
       "      <td>81</td>\n",
       "      <td>0.800964</td>\n",
       "      <td>0.187041</td>\n",
       "      <td>True</td>\n",
       "      <td>True</td>\n",
       "    </tr>\n",
       "  </tbody>\n",
       "</table>\n",
       "<p>5 rows × 21 columns</p>\n",
       "</div>"
      ],
      "text/plain": [
       "   Purity        R1        R2       BAF  Sequenza_Loss  Alternate_Loss  \\\n",
       "0    1.00  0.000052  1.654309  0.505381           True            True   \n",
       "1    1.00  0.000051  1.786976  0.496225           True            True   \n",
       "2    0.77  0.099897  1.578995  0.445050           True            True   \n",
       "3    0.77  0.098027  1.689733  0.444421           True            True   \n",
       "4    0.62  0.187041  1.512448  0.390142           True            True   \n",
       "\n",
       "   Dash_Loss  Ploidy  consistency_of_coverage  prediction_probability  ...  \\\n",
       "0       True       5                 0.847826                0.994991  ...   \n",
       "1       True       5                 0.869565                0.995448  ...   \n",
       "2       True       5                 0.847826                0.800964  ...   \n",
       "3       True       5                 0.869565                0.995448  ...   \n",
       "4       True       5                 0.847826                0.800964  ...   \n",
       "\n",
       "   total_coverage  Gene                    Sample ind   LOH  real_purity  \\\n",
       "0        1.654356     B  CRL-5922_tumor_p100_rep1   0  True          100   \n",
       "1        1.787059     C  CRL-5922_tumor_p100_rep1   1  True          100   \n",
       "2        1.644918     B   CRL-5922_tumor_p90_rep1   2  True           90   \n",
       "3        1.764339     C   CRL-5922_tumor_p90_rep1   3  True           90   \n",
       "4        1.722242     B   CRL-5922_tumor_p81_rep1   4  True           81   \n",
       "\n",
       "   Dash_Loss_Prob     R_min  Check_FP  Dash_Loss_Ext  \n",
       "0        0.994991  0.000052      True           True  \n",
       "1        0.995448  0.000051      True           True  \n",
       "2        0.800964  0.099897      True           True  \n",
       "3        0.995448  0.098027      True           True  \n",
       "4        0.800964  0.187041      True           True  \n",
       "\n",
       "[5 rows x 21 columns]"
      ]
     },
     "execution_count": 55,
     "metadata": {},
     "output_type": "execute_result"
    }
   ],
   "source": [
    "artificial_purities_raw_df.head()"
   ]
  },
  {
   "cell_type": "code",
   "execution_count": 56,
   "metadata": {},
   "outputs": [
    {
     "data": {
      "text/plain": [
       "real_purity\n",
       "0      0.0\n",
       "1      0.0\n",
       "2      0.0\n",
       "3      0.0\n",
       "4      0.0\n",
       "5      0.0\n",
       "6      0.0\n",
       "7      0.0\n",
       "8      0.0\n",
       "9      0.1\n",
       "10     0.1\n",
       "12     0.0\n",
       "14     0.0\n",
       "15     0.0\n",
       "16     0.0\n",
       "18     0.0\n",
       "20     0.0\n",
       "21     0.0\n",
       "24     0.6\n",
       "25     0.9\n",
       "27     1.0\n",
       "28     1.0\n",
       "30     1.0\n",
       "32     1.0\n",
       "35     1.0\n",
       "36     1.0\n",
       "40     1.0\n",
       "42     1.0\n",
       "45     1.0\n",
       "48     1.0\n",
       "49     1.0\n",
       "50     1.0\n",
       "54     1.0\n",
       "56     1.0\n",
       "60     1.0\n",
       "63     1.0\n",
       "64     1.0\n",
       "70     1.0\n",
       "72     1.0\n",
       "80     1.0\n",
       "81     1.0\n",
       "90     1.0\n",
       "100    1.0\n",
       "Name: Dash_Loss_Ext, dtype: float64"
      ]
     },
     "execution_count": 56,
     "metadata": {},
     "output_type": "execute_result"
    }
   ],
   "source": [
    "artificial_purities_raw_df.groupby('real_purity').Dash_Loss_Ext.mean()"
   ]
  },
  {
   "cell_type": "code",
   "execution_count": 57,
   "metadata": {
    "scrolled": true
   },
   "outputs": [
    {
     "data": {
      "image/png": "[encoded data removed]",
      "text/plain": [
       "<Figure size 108x90 with 1 Axes>"
      ]
     },
     "metadata": {
      "needs_background": "light"
     },
     "output_type": "display_data"
    }
   ],
   "source": [
    "plt.figure(figsize=(1.5, 1.25))\n",
    "sns.set_context('talk', font_scale=0.4)\n",
    "\n",
    "sns.lineplot(x='real_purity', y='Dash_Loss_Ext', data=artificial_purities_raw_df, color='grey')\n",
    "\n",
    "plt.xlabel('Simulated purity')\n",
    "plt.ylabel('Sensitivity')\n",
    "#plt.title('DASH')\n",
    "plt.savefig('/rnd/users/rpyke/data/00-DASH/figures/DASH.sensitivity.purity.line.{0}.pdf'.format(cell_line),\n",
    "            bbox_inches='tight')"
   ]
  },
  {
   "cell_type": "markdown",
   "metadata": {},
   "source": [
    "##### Sensitivity across variable clonalities"
   ]
  },
  {
   "cell_type": "code",
   "execution_count": 58,
   "metadata": {
    "scrolled": true
   },
   "outputs": [
    {
     "name": "stdout",
     "output_type": "stream",
     "text": [
      "10 10 1 0.10100000000000002\n",
      "10 20 2 0.10100000000000002\n",
      "10 30 3 0.10100000000000002\n",
      "10 40 4 0.10100000000000002\n",
      "10 50 5 0.10100000000000002\n",
      "10 60 6 0.10100000000000002\n",
      "10 70 7 0.10100000000000002\n",
      "10 80 8 0.10100000000000002\n",
      "10 90 9 0.10100000000000002\n",
      "10 100 10 0.10100000000000002\n",
      "20 10 2 0.16899999999999998\n",
      "20 20 4 0.16899999999999998\n",
      "20 30 6 0.16899999999999998\n",
      "20 40 8 0.16899999999999998\n",
      "20 50 10 0.16899999999999998\n",
      "20 60 12 0.16899999999999998\n",
      "20 70 14 0.16899999999999998\n",
      "20 80 16 0.16899999999999998\n",
      "20 90 18 0.16899999999999998\n",
      "20 100 20 0.16899999999999998\n",
      "30 10 3 0.16800000000000004\n",
      "30 20 6 0.16800000000000004\n",
      "30 30 9 0.16800000000000004\n",
      "30 40 12 0.16800000000000004\n",
      "30 50 15 0.16800000000000004\n",
      "30 60 18 0.16800000000000004\n",
      "30 70 21 0.16800000000000004\n",
      "30 80 24 0.16800000000000004\n",
      "30 90 27 0.16800000000000004\n",
      "30 100 30 0.16800000000000004\n",
      "40 10 4 0.21800000000000003\n",
      "40 20 8 0.21800000000000003\n",
      "40 30 12 0.21800000000000003\n",
      "40 40 16 0.21800000000000003\n",
      "40 50 20 0.21800000000000003\n",
      "40 60 24 0.21800000000000003\n",
      "40 70 28 0.21800000000000003\n",
      "40 80 32 0.21800000000000003\n",
      "40 90 36 0.21800000000000003\n",
      "40 100 40 0.21800000000000003\n",
      "50 10 5 0.297\n",
      "50 20 10 0.297\n",
      "50 30 15 0.297\n",
      "50 40 20 0.297\n",
      "50 50 25 0.297\n",
      "50 60 30 0.297\n",
      "50 70 35 0.297\n",
      "50 80 40 0.297\n",
      "50 90 45 0.297\n",
      "50 100 50 0.297\n",
      "60 10 6 0.371\n",
      "60 20 12 0.371\n",
      "60 30 18 0.371\n",
      "60 40 24 0.371\n",
      "60 50 30 0.371\n",
      "60 60 36 0.371\n",
      "60 70 42 0.371\n",
      "60 80 48 0.371\n",
      "60 90 54 0.371\n",
      "60 100 60 0.371\n",
      "70 10 7 0.466\n",
      "70 20 14 0.466\n",
      "70 30 21 0.466\n",
      "70 40 28 0.466\n",
      "70 50 35 0.466\n",
      "70 60 42 0.466\n",
      "70 70 49 0.466\n",
      "70 80 56 0.466\n",
      "70 90 63 0.466\n",
      "70 100 70 0.466\n",
      "80 10 8 0.594\n",
      "80 20 16 0.594\n",
      "80 30 24 0.594\n",
      "80 40 32 0.594\n",
      "80 50 40 0.594\n",
      "80 60 48 0.594\n",
      "80 70 56 0.594\n",
      "80 80 64 0.594\n",
      "80 90 72 0.594\n",
      "80 100 80 0.594\n",
      "90 10 9 0.7689999999999999\n",
      "90 20 18 0.7689999999999999\n",
      "90 30 27 0.7689999999999999\n",
      "90 40 36 0.7689999999999999\n",
      "90 50 45 0.7689999999999999\n",
      "90 60 54 0.7689999999999999\n",
      "90 70 63 0.7689999999999999\n",
      "90 80 72 0.7689999999999999\n",
      "90 90 81 0.7689999999999999\n",
      "90 100 90 0.7689999999999999\n",
      "100 10 10 1.0\n",
      "100 20 20 1.0\n",
      "100 30 30 1.0\n",
      "100 40 40 1.0\n",
      "100 50 50 1.0\n",
      "100 60 60 1.0\n",
      "100 70 70 1.0\n",
      "100 80 80 1.0\n",
      "100 90 90 1.0\n",
      "100 100 100 1.0\n"
     ]
    }
   ],
   "source": [
    "# Make new column: adjusted purity (to reflect subclonality)\n",
    "all_small_artificial_dfs = []\n",
    "purities = list(range(10, 110, 10))\n",
    "clonalities = list(range(10, 110, 10))\n",
    "for purity in purities:\n",
    "    for clonality in clonalities:\n",
    "        actual_purity = round(int(purity*clonality)/100)\n",
    "        tmp_df = artificial_purities_raw_df[artificial_purities_raw_df.real_purity == actual_purity]\n",
    "        # Need to actually adjust this to the purity that would be called by sequenza!\n",
    "        sequenza_purity = artificial_purities_raw_df[artificial_purities_raw_df.real_purity == purity].Purity.mean()\n",
    "        tmp_df['adjusted_purity'] = sequenza_purity\n",
    "        # Trying ploidy\n",
    "        sequenza_ploidy = artificial_purities_raw_df[artificial_purities_raw_df.real_purity == purity].Ploidy.mean()\n",
    "        tmp_df['adjusted_ploidy'] = sequenza_ploidy\n",
    "        all_small_artificial_dfs.append(tmp_df)\n",
    "        print(purity, clonality, actual_purity, sequenza_purity)\n",
    "\n",
    "artificial_purities_df = pd.concat(all_small_artificial_dfs)\n",
    "\n",
    "artificial_purities_df['old_purity'] = artificial_purities_df['Purity']\n",
    "# This line adjusts the purity input to the model based on clonality\n",
    "artificial_purities_df['purity'] = artificial_purities_df['adjusted_purity']\n",
    "artificial_purities_df['ploidy'] = artificial_purities_df['adjusted_ploidy']\n",
    "\n",
    "#artificial_purities_df['ploidy'] = artificial_purities_df['Ploidy']\n",
    "artificial_purities_df['sequenza_minor'] = [0 if x == True else 1 for x in artificial_purities_df['Sequenza_Loss']]\n",
    "artificial_purities_df['minMedCoverage'] = artificial_purities_df[['R1','R2']].min(axis=1)\n",
    "artificial_purities_df['baf_median'] = artificial_purities_df['BAF']\n",
    "artificial_purities_df['percCov'] = artificial_purities_df['consistency_of_coverage']\n",
    "artificial_purities_df['totalCoverage_median'] = artificial_purities_df['total_coverage']\n",
    "artificial_purities_df['Sequenza_Loss'] = ~artificial_purities_df['sequenza_minor'].astype(bool)"
   ]
  },
  {
   "cell_type": "code",
   "execution_count": 59,
   "metadata": {},
   "outputs": [],
   "source": [
    "X_test = artificial_purities_df[training_columns]\n",
    "y_test = artificial_purities_df[['LOH']]\n",
    "\n",
    "predictions = model.predict(X_test)\n",
    "prediction_probs = model.predict_proba(X_test)[:, 1]"
   ]
  },
  {
   "cell_type": "code",
   "execution_count": 60,
   "metadata": {},
   "outputs": [],
   "source": [
    "# Adding second check\n",
    "artificial_purities_df['Check_FP'] = (artificial_purities_df.baf_median > BAF_cutoff) \\\n",
    "                                         &(artificial_purities_df.minMedCoverage < R_cutoff) #\\\n",
    "\n",
    "artificial_purities_df['Dash_Loss_Ext'] = (artificial_purities_df.prediction_probability > cutoff) \\\n",
    "                                                &(artificial_purities_df.Check_FP)\n"
   ]
  },
  {
   "cell_type": "code",
   "execution_count": 61,
   "metadata": {},
   "outputs": [],
   "source": [
    "# Lenient\n",
    "lenient = []\n",
    "for x, check in zip(prediction_probs, artificial_purities_df['Check_FP']):\n",
    "    if (x > cutoff) and check:\n",
    "        lenient.append(1)\n",
    "    else:\n",
    "        lenient.append(0)\n",
    "artificial_purities_df['Dash_Loss_Ext'] = lenient"
   ]
  },
  {
   "cell_type": "code",
   "execution_count": 62,
   "metadata": {},
   "outputs": [
    {
     "data": {
      "text/plain": [
       "real_purity\n",
       "1      0.000000\n",
       "2      0.000000\n",
       "3      0.000000\n",
       "4      0.000000\n",
       "5      0.000000\n",
       "6      0.000000\n",
       "7      0.000000\n",
       "8      0.000000\n",
       "9      0.033333\n",
       "10     0.037500\n",
       "12     0.000000\n",
       "14     0.000000\n",
       "15     0.000000\n",
       "16     0.000000\n",
       "18     0.000000\n",
       "20     0.000000\n",
       "21     0.000000\n",
       "24     0.600000\n",
       "25     0.900000\n",
       "27     1.000000\n",
       "28     1.000000\n",
       "30     1.000000\n",
       "32     1.000000\n",
       "35     1.000000\n",
       "36     1.000000\n",
       "40     1.000000\n",
       "42     1.000000\n",
       "45     1.000000\n",
       "48     1.000000\n",
       "49     1.000000\n",
       "50     1.000000\n",
       "54     1.000000\n",
       "56     1.000000\n",
       "60     1.000000\n",
       "63     1.000000\n",
       "64     1.000000\n",
       "70     1.000000\n",
       "72     1.000000\n",
       "80     1.000000\n",
       "81     1.000000\n",
       "90     1.000000\n",
       "100    1.000000\n",
       "Name: Dash_Loss_Ext, dtype: float64"
      ]
     },
     "execution_count": 62,
     "metadata": {},
     "output_type": "execute_result"
    }
   ],
   "source": [
    "artificial_purities_df.groupby('real_purity').Dash_Loss_Ext.mean()"
   ]
  },
  {
   "cell_type": "code",
   "execution_count": 63,
   "metadata": {
    "scrolled": true
   },
   "outputs": [
    {
     "data": {
      "image/png": "[encoded data removed]",
      "text/plain": [
       "<Figure size 108x90 with 2 Axes>"
      ]
     },
     "metadata": {
      "needs_background": "light"
     },
     "output_type": "display_data"
    }
   ],
   "source": [
    "tmp_df = pd.DataFrame(artificial_purities_df.groupby('real_purity').Dash_Loss_Ext.mean()).reset_index()\n",
    "tmp_df.columns = ['simulated_purity', 'Dash_Accuracy']\n",
    "\n",
    "sns.set_context('talk', font_scale=0.4)\n",
    "plt.figure(figsize=(1.5, 1.25))\n",
    "accuracy_matrix = []\n",
    "for clonality in clonalities[::-1]:\n",
    "    accuracy_array = []\n",
    "    for purity in purities:\n",
    "        try:\n",
    "            accuracy_array.append(list(tmp_df[tmp_df.simulated_purity == \n",
    "                                              int(clonality*purity / 100)].Dash_Accuracy)[0] * 100)\n",
    "        except:\n",
    "            accuracy_array.append(np.nan)\n",
    "    accuracy_matrix.append(accuracy_array)\n",
    "\n",
    "sns.heatmap(accuracy_matrix, xticklabels=purities, yticklabels=clonalities[::-1], cmap=\"Blues\",\n",
    "           vmin=0, vmax=100, cbar_kws={'label': 'Sensitivity'}) #, annot=True, fmt='g')\n",
    "plt.xlabel('Purity')\n",
    "plt.ylabel('Clonality')\n",
    "plt.savefig('/rnd/users/rpyke/data/00-DASH/figures/DASH.sensitivity.purity_clonality.heatmap.lenient.blues_r.{0}.pdf'.format(cell_line),\n",
    "           bbox_inches='tight')"
   ]
  },
  {
   "cell_type": "markdown",
   "metadata": {},
   "source": [
    "##### Specificity with full clonality"
   ]
  },
  {
   "cell_type": "code",
   "execution_count": 64,
   "metadata": {},
   "outputs": [],
   "source": [
    "artificial_purities_raw_df = pd.read_csv('/rnd/users/rpyke/data/00-DASH/manuscript_data_v2/validation.cell_line_dash_output.{0}.csv'.format(cell_line),\n",
    "                                     index_col=0)\n",
    "artificial_purities_raw_df['LOH'] = True\n",
    "artificial_purities_raw_df['real_purity'] = artificial_purities_raw_df['Sample'].str.split('_p').str[1].str.split('_').str[0].astype(int)\n",
    "artificial_purities_raw_df['cell_line'] = artificial_purities_raw_df['Sample'].str.split('_tumor').str[0]\n",
    "artificial_purities_raw_df['replicate'] = artificial_purities_raw_df['Sample'].str.split('rep').str[1]\n",
    "\n",
    "\n",
    "# Only looking at purity with 100% clonality\n",
    "purities = list(artificial_purities_raw_df.real_purity.unique())\n",
    "no_loh_df = artificial_purities_raw_df[artificial_purities_raw_df.real_purity == 0]\n",
    "all_small_artificial_dfs = []\n",
    "for purity in purities:\n",
    "    actual_purity = purity\n",
    "    if actual_purity == 1:\n",
    "        continue\n",
    "    tmp_df = artificial_purities_raw_df[artificial_purities_raw_df.real_purity == actual_purity]\n",
    "    tmp_restricted_df = pd.merge(tmp_df, no_loh_df[['Gene', 'cell_line', 'replicate']], \n",
    "                 on=['Gene', 'cell_line', 'replicate'], how='inner')\n",
    "    no_loh_restricted_df = pd.merge(tmp_df[['Gene', 'cell_line', 'replicate']], no_loh_df, \n",
    "                             on=['Gene', 'cell_line', 'replicate'], how='inner')\n",
    "    \n",
    "    sequenza_purity = artificial_purities_raw_df[artificial_purities_raw_df.real_purity == purity].Purity.mean()\n",
    "    #print(actual_purity, sequenza_purity)\n",
    "    tmp_restricted_df['adjusted_purity'] = sequenza_purity\n",
    "    tmp_restricted_df['BAF'] = list(no_loh_restricted_df['BAF'])\n",
    "    tmp_restricted_df['R1'] = list(no_loh_restricted_df['R1'])\n",
    "    tmp_restricted_df['R2'] = list(no_loh_restricted_df['R2'])\n",
    "    tmp_restricted_df['consistency_of_coverage'] = list(no_loh_restricted_df['consistency_of_coverage'])\n",
    "    tmp_restricted_df['Sequenza_Loss'] = True\n",
    "    all_small_artificial_dfs.append(tmp_restricted_df)\n",
    "\n",
    "artificial_purities_df = pd.concat(all_small_artificial_dfs)\n",
    "    \n",
    "\n",
    "# Fixing purity\n",
    "artificial_purities_df['old_purity'] = artificial_purities_df['Purity']\n",
    "artificial_purities_df['purity'] = artificial_purities_df['adjusted_purity']\n",
    "\n",
    "\n",
    "# Renaming other columns\n",
    "artificial_purities_df['ploidy'] = artificial_purities_df['Ploidy']\n",
    "artificial_purities_df['sequenza_minor'] = [0 if x == True else 1 for x in artificial_purities_df['Sequenza_Loss']]\n",
    "artificial_purities_df['minMedCoverage'] = artificial_purities_df[['R1','R2']].min(axis=1)\n",
    "artificial_purities_df['baf_median'] = artificial_purities_df['BAF']\n",
    "artificial_purities_df['percCov'] = artificial_purities_df['consistency_of_coverage']\n",
    "artificial_purities_df['totalCoverage_median'] = artificial_purities_df['total_coverage']\n",
    "artificial_purities_df['Sequenza_Loss'] = ~artificial_purities_df['sequenza_minor'].astype(bool)"
   ]
  },
  {
   "cell_type": "code",
   "execution_count": 65,
   "metadata": {},
   "outputs": [],
   "source": [
    "artificial_purities_df[training_columns]\n",
    "\n",
    "X_test = artificial_purities_df[training_columns]\n",
    "y_test = artificial_purities_df[['LOH']]\n",
    "\n",
    "predictions = model.predict(X_test) #predict_prob [:, 1]\n",
    "prediction_probs = model.predict_proba(X_test)[:, 1]"
   ]
  },
  {
   "cell_type": "code",
   "execution_count": 66,
   "metadata": {},
   "outputs": [],
   "source": [
    "artificial_purities_df['Check_FP'] = (artificial_purities_df.baf_median > BAF_cutoff) \\\n",
    "                                         &(artificial_purities_df.minMedCoverage < R_cutoff) #\\\n",
    "                                         #&(artificial_purities_df.sequenza_minor == 1)"
   ]
  },
  {
   "cell_type": "code",
   "execution_count": 67,
   "metadata": {},
   "outputs": [],
   "source": [
    "lenient = []\n",
    "for x, check in zip(prediction_probs, artificial_purities_df['Check_FP']):\n",
    "    if (x > cutoff) and (check):\n",
    "        lenient.append(0)\n",
    "    else:\n",
    "        lenient.append(1)\n",
    "artificial_purities_df['Dash_Loss_Ext'] = lenient"
   ]
  },
  {
   "cell_type": "code",
   "execution_count": 68,
   "metadata": {},
   "outputs": [
    {
     "data": {
      "image/png": "[encoded data removed]",
      "text/plain": [
       "<Figure size 108x90 with 1 Axes>"
      ]
     },
     "metadata": {
      "needs_background": "light"
     },
     "output_type": "display_data"
    }
   ],
   "source": [
    "plt.figure(figsize=(1.5, 1.25))\n",
    "sns.set_context('talk', font_scale=0.4)\n",
    "\n",
    "sns.lineplot(x='real_purity', y='Dash_Loss_Ext', data=artificial_purities_df, color='grey')\n",
    "\n",
    "plt.xlabel('Simulated purity')\n",
    "plt.ylabel('Specificity')\n",
    "plt.ylim(0, 1.05)\n",
    "#plt.title('DASH')\n",
    "plt.savefig('/rnd/users/rpyke/data/00-DASH/figures/DASH.specificity.purity.line.{0}.pdf'.format(cell_line), bbox_inches='tight')"
   ]
  },
  {
   "cell_type": "code",
   "execution_count": 69,
   "metadata": {
    "scrolled": true
   },
   "outputs": [
    {
     "data": {
      "text/plain": [
       "real_purity\n",
       "0      1\n",
       "2      1\n",
       "3      1\n",
       "4      1\n",
       "5      1\n",
       "6      1\n",
       "7      1\n",
       "8      1\n",
       "9      1\n",
       "10     1\n",
       "12     1\n",
       "14     1\n",
       "15     1\n",
       "16     1\n",
       "18     1\n",
       "20     1\n",
       "21     1\n",
       "24     1\n",
       "25     1\n",
       "27     1\n",
       "28     1\n",
       "30     1\n",
       "32     1\n",
       "35     1\n",
       "36     1\n",
       "40     1\n",
       "42     1\n",
       "45     1\n",
       "48     1\n",
       "49     1\n",
       "50     1\n",
       "54     1\n",
       "56     1\n",
       "60     1\n",
       "63     1\n",
       "64     1\n",
       "70     1\n",
       "72     1\n",
       "80     1\n",
       "81     1\n",
       "90     1\n",
       "100    1\n",
       "Name: Dash_Loss_Ext, dtype: int64"
      ]
     },
     "execution_count": 69,
     "metadata": {},
     "output_type": "execute_result"
    }
   ],
   "source": [
    "artificial_purities_df.groupby('real_purity')['Dash_Loss_Ext'].mean()"
   ]
  },
  {
   "cell_type": "markdown",
   "metadata": {},
   "source": [
    "##### Specificity across variable clonalities"
   ]
  },
  {
   "cell_type": "code",
   "execution_count": 70,
   "metadata": {},
   "outputs": [],
   "source": [
    "all_small_artificial_dfs = []\n",
    "purities = list(range(10, 110, 10))\n",
    "clonalities = list(range(10, 110, 10))\n",
    "no_loh_df = artificial_purities_raw_df[artificial_purities_raw_df.real_purity == 0]\n",
    "for purity in purities:\n",
    "    for clonality in clonalities:\n",
    "        actual_purity = round(int(purity*clonality)/100)\n",
    "        if actual_purity == 1:\n",
    "            continue\n",
    "        tmp_df = artificial_purities_raw_df[artificial_purities_raw_df.real_purity == actual_purity]\n",
    "        tmp_restricted_df = pd.merge(tmp_df, no_loh_df[['Gene', 'cell_line', 'replicate']], \n",
    "                     on=['Gene', 'cell_line', 'replicate'], how='inner')\n",
    "        no_loh_restricted_df = pd.merge(tmp_df[['Gene', 'cell_line', 'replicate']], no_loh_df, \n",
    "                             on=['Gene', 'cell_line', 'replicate'], how='inner')\n",
    "        \n",
    "        sequenza_purity = artificial_purities_raw_df[artificial_purities_raw_df.real_purity == purity].Purity.mean()\n",
    "        tmp_restricted_df['adjusted_purity'] = sequenza_purity\n",
    "        sequenza_ploidy = artificial_purities_raw_df[artificial_purities_raw_df.real_purity == purity].Ploidy.mean()\n",
    "        tmp_restricted_df['adjusted_ploidy'] = sequenza_ploidy\n",
    "        tmp_restricted_df['BAF'] = list(no_loh_restricted_df['BAF'])\n",
    "        tmp_restricted_df['R1'] = list(no_loh_restricted_df['R1'])\n",
    "        tmp_restricted_df['R2'] = list(no_loh_restricted_df['R2'])\n",
    "        tmp_restricted_df['consistency_of_coverage'] = list(no_loh_restricted_df['consistency_of_coverage'])\n",
    "        tmp_restricted_df['Sequenza_Loss'] = list(no_loh_restricted_df['Sequenza_Loss'])\n",
    "        all_small_artificial_dfs.append(tmp_restricted_df)\n",
    "\n",
    "artificial_purities_df = pd.concat(all_small_artificial_dfs)\n",
    "    \n",
    "\n",
    "# Fixing purity/ploidy\n",
    "artificial_purities_df['old_purity'] = artificial_purities_df['Purity']\n",
    "artificial_purities_df['purity'] = artificial_purities_df['adjusted_purity']\n",
    "artificial_purities_df['old_ploidy'] = artificial_purities_df['Ploidy']\n",
    "artificial_purities_df['ploidy'] = artificial_purities_df['adjusted_ploidy']\n",
    "\n",
    "# Renaming other columns\n",
    "artificial_purities_df['sequenza_minor'] = [0 if x == True else 1 for x in artificial_purities_df['Sequenza_Loss']]\n",
    "artificial_purities_df['minMedCoverage'] = artificial_purities_df[['R1','R2']].min(axis=1)\n",
    "artificial_purities_df['baf_median'] = artificial_purities_df['BAF']\n",
    "artificial_purities_df['percCov'] = artificial_purities_df['consistency_of_coverage']\n",
    "artificial_purities_df['totalCoverage_median'] = artificial_purities_df['total_coverage']\n",
    "artificial_purities_df['Sequenza_Loss'] = ~artificial_purities_df['sequenza_minor'].astype(bool)"
   ]
  },
  {
   "cell_type": "code",
   "execution_count": 71,
   "metadata": {},
   "outputs": [],
   "source": [
    "X_test = artificial_purities_df[training_columns]\n",
    "y_test = artificial_purities_df[['LOH']]\n",
    "\n",
    "predictions = model.predict(X_test) #predict_prob [:, 1]\n",
    "prediction_probs = model.predict_proba(X_test)[:, 1]"
   ]
  },
  {
   "cell_type": "code",
   "execution_count": 72,
   "metadata": {},
   "outputs": [],
   "source": [
    "# Adding secondary check\n",
    "artificial_purities_df['Check_FP'] = (artificial_purities_df.baf_median > BAF_cutoff) \\\n",
    "                                         &(artificial_purities_df.minMedCoverage < R_cutoff) #\\\n",
    "                                         #&(artificial_purities_df.sequenza_minor == 1)"
   ]
  },
  {
   "cell_type": "code",
   "execution_count": 73,
   "metadata": {},
   "outputs": [],
   "source": [
    "lenient = []\n",
    "for x, check in zip(prediction_probs, artificial_purities_df['Check_FP']):\n",
    "    if (x > cutoff) and (check):\n",
    "        lenient.append(1)\n",
    "    else:\n",
    "        lenient.append(0)\n",
    "artificial_purities_df['Dash_Loss_Ext'] = lenient"
   ]
  },
  {
   "cell_type": "code",
   "execution_count": 74,
   "metadata": {
    "scrolled": true
   },
   "outputs": [
    {
     "data": {
      "image/png": "[encoded data removed]",
      "text/plain": [
       "<Figure size 108x90 with 2 Axes>"
      ]
     },
     "metadata": {
      "needs_background": "light"
     },
     "output_type": "display_data"
    }
   ],
   "source": [
    "tmp_df = pd.DataFrame(artificial_purities_df.groupby('real_purity').Dash_Loss_Ext.mean()).reset_index()\n",
    "tmp_df.columns = ['simulated_purity', 'Dash_Accuracy']\n",
    "tmp_df['DASH_Specificity'] = 1 - tmp_df.Dash_Accuracy # Inverted for specificity (these are negatives)\n",
    "\n",
    "sns.set_context('talk', font_scale=0.4)\n",
    "plt.figure(figsize=(1.5, 1.25))\n",
    "accuracy_matrix = []\n",
    "for purity in purities[::-1]:\n",
    "    accuracy_array = []\n",
    "    for clonality in clonalities:\n",
    "        try:\n",
    "            accuracy_array.append(list(tmp_df[tmp_df.simulated_purity == \n",
    "                                              int(clonality*purity / 100)].DASH_Specificity)[0] * 100)\n",
    "        except:\n",
    "            accuracy_array.append(np.nan)\n",
    "    accuracy_matrix.append(accuracy_array)\n",
    "\n",
    "sns.heatmap(accuracy_matrix, xticklabels=purities, yticklabels=clonalities[::-1], cmap=\"Blues\",\n",
    "           vmin=0, vmax=100, cbar_kws={'label': 'Specificity'}) #, annot=True, fmt='g')\n",
    "plt.xlabel('Purity')\n",
    "plt.ylabel('Clonality')\n",
    "#plt.title('Updated Algorithm')\n",
    "plt.savefig('/rnd/users/rpyke/data/00-DASH/figures/DASH.specificity.purity_clonality.heatmap.lenient.blues_r.{0}.pdf'.format(cell_line),\n",
    "           bbox_inches='tight')"
   ]
  },
  {
   "cell_type": "code",
   "execution_count": null,
   "metadata": {},
   "outputs": [],
   "source": []
  },
  {
   "cell_type": "code",
   "execution_count": null,
   "metadata": {},
   "outputs": [],
   "source": []
  }
 ],
 "metadata": {
  "kernelspec": {
   "display_name": "Python 3",
   "language": "python",
   "name": "python3"
  },
  "language_info": {
   "codemirror_mode": {
    "name": "ipython",
    "version": 3
   },
   "file_extension": ".py",
   "mimetype": "text/x-python",
   "name": "python",
   "nbconvert_exporter": "python",
   "pygments_lexer": "ipython3",
   "version": "3.7.3"
  }
 },
 "nbformat": 4,
 "nbformat_minor": 2
}
