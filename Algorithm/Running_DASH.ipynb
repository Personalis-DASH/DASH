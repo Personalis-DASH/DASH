{
 "cells": [
  {
   "cell_type": "code",
   "execution_count": 1,
   "metadata": {},
   "outputs": [],
   "source": [
    "import pandas as pd"
   ]
  },
  {
   "cell_type": "markdown",
   "metadata": {},
   "source": [
    "# DASH algorithm"
   ]
  },
  {
   "cell_type": "markdown",
   "metadata": {},
   "source": [
    "Please see the reference the Software License agreement for non-commerical usage. If you would like to use this code in a commercial capacitity, please contact dash@personalis.com."
   ]
  },
  {
   "cell_type": "markdown",
   "metadata": {},
   "source": [
    "## How to run the DASH algorithm:"
   ]
  },
  {
   "cell_type": "markdown",
   "metadata": {},
   "source": [
    "### Parameters needed: <br>\n",
    "* --purity: Tumor purity\n",
    "* --ploidy: Tumor ploidy\n",
    "* --hla_types: HLA types (ex: A\\*24:02:01:01,A\\*02:01:01:01,B\\*40:01:02,B\\*51:08,C\\*16:02:01,C\\*02:02:02)\n",
    "* --normal_fastq: Fastq with reads from normal sample\n",
    "* --tumor_fastq: Fastq with reads from tumor sample\n",
    "* --hla_somatic_mutations: HLA somatic mutations (polysolver file)\n",
    "* --normal_read_count: Number of reads from normal sample\n",
    "* --tumor_read_count: Number of reads from tumor sample\n",
    "* --b_allele_flanking_loh: LOH in flanking regions of HLA genes (1 corresponds to a deletion within 10,000 bp for each gene; Values should be ordered as followed: HLA-A, -B and -C; ex:''0,1,0')\n",
    "* --all_allele_reference: Reference database of genomic sequences for all alleles\n",
    "* --model_filename: Model file name (This file needs to be requested from authors. Please send an email to bioinformatics.science@personalis.com.)\n",
    "* --output_dir: Output directory\n"
   ]
  },
  {
   "cell_type": "markdown",
   "metadata": {},
   "source": [
    "### Environmental variables needed: <br>\n",
    "* SAMTOOLS (1.9)\n",
    "* BWA (0.7.12)"
   ]
  },
  {
   "cell_type": "markdown",
   "metadata": {},
   "source": [
    "### Python libraries needed: <br>\n",
    "\n",
    "*Standard*: <br>\n",
    "* os\n",
    "* sys\n",
    "* math\n",
    "* pickle\n",
    "* argparse\n",
    "* subprocess\n",
    "\n",
    "*Plotting*: <br>\n",
    "* matplotlib (2.2.3)\n",
    "* seaborn (0.9.0)\n",
    "\n",
    "*Scientifc*: <br>\n",
    "* numpy (1.15.4)\n",
    "* pandas (0.23.4)\n",
    "* pysam (0.8.3)\n",
    "* biopython (1.72)\n",
    "* xgboost (0.82)\n",
    "* sklearn (0.20.1)"
   ]
  },
  {
   "cell_type": "markdown",
   "metadata": {},
   "source": [
    "## Test example"
   ]
  },
  {
   "cell_type": "markdown",
   "metadata": {},
   "source": [
    "python DASH.manuscript.py --purity 0.22 --ploidy 4 --hla_types A\\*24:02:01:01,A\\*02:01:01:01,B\\*40:01:02,B\\*51:08,C\\*16:02:01,C\\*02:02:02 --normal_fastq ./test_data/HLA_reads.normal.fasta --tumor_fastq ./test_data/HLA_reads.tumor.fasta --hla_somatic_mutations ./test_data/hla_mutations.merged.vcf --normal_read_count 166545259 --tumor_read_count 333050764 --b_allele_flanking_loh 1,1,1 --all_allele_reference ./test_data/hla_gen.fasta.IMGTv312.txt --model_filename ./test_data/training.xgboost_model.2021_05_10.p --output_dir ./test_output"
   ]
  },
  {
   "cell_type": "markdown",
   "metadata": {},
   "source": [
    "Expected output"
   ]
  },
  {
   "cell_type": "code",
   "execution_count": 2,
   "metadata": {
    "scrolled": true
   },
   "outputs": [],
   "source": [
    "data_df = pd.read_csv('./test_output_example/DASH.output.txt', sep='\\t')"
   ]
  },
  {
   "cell_type": "code",
   "execution_count": 3,
   "metadata": {},
   "outputs": [
    {
     "data": {
      "text/html": [
       "<div>\n",
       "<style scoped>\n",
       "    .dataframe tbody tr th:only-of-type {\n",
       "        vertical-align: middle;\n",
       "    }\n",
       "\n",
       "    .dataframe tbody tr th {\n",
       "        vertical-align: top;\n",
       "    }\n",
       "\n",
       "    .dataframe thead th {\n",
       "        text-align: right;\n",
       "    }\n",
       "</style>\n",
       "<table border=\"1\" class=\"dataframe\">\n",
       "  <thead>\n",
       "    <tr style=\"text-align: right;\">\n",
       "      <th></th>\n",
       "      <th>Alleles</th>\n",
       "      <th>DASH_deletion</th>\n",
       "      <th>Secondary_check</th>\n",
       "      <th>Confidence</th>\n",
       "      <th>Flanking_region_LOH</th>\n",
       "      <th>Adjusted_BAF</th>\n",
       "      <th>AS_Coverage</th>\n",
       "      <th>Purities</th>\n",
       "      <th>Ploidies</th>\n",
       "      <th>Percentage_Coverage</th>\n",
       "      <th>Total_Coverage</th>\n",
       "    </tr>\n",
       "  </thead>\n",
       "  <tbody>\n",
       "    <tr>\n",
       "      <th>0</th>\n",
       "      <td>hla_a_24_02_01_01</td>\n",
       "      <td>False</td>\n",
       "      <td>False</td>\n",
       "      <td>0.995409</td>\n",
       "      <td>1</td>\n",
       "      <td>0.158207</td>\n",
       "      <td>0.628504</td>\n",
       "      <td>0.22</td>\n",
       "      <td>4</td>\n",
       "      <td>0.937500</td>\n",
       "      <td>0.968030</td>\n",
       "    </tr>\n",
       "    <tr>\n",
       "      <th>1</th>\n",
       "      <td>hla_a_02_01_01_01</td>\n",
       "      <td>True</td>\n",
       "      <td>False</td>\n",
       "      <td>0.995409</td>\n",
       "      <td>1</td>\n",
       "      <td>0.158207</td>\n",
       "      <td>0.323384</td>\n",
       "      <td>0.22</td>\n",
       "      <td>4</td>\n",
       "      <td>0.937500</td>\n",
       "      <td>0.968030</td>\n",
       "    </tr>\n",
       "    <tr>\n",
       "      <th>2</th>\n",
       "      <td>hla_b_40_01_02</td>\n",
       "      <td>False</td>\n",
       "      <td>False</td>\n",
       "      <td>0.995409</td>\n",
       "      <td>1</td>\n",
       "      <td>0.155510</td>\n",
       "      <td>0.688908</td>\n",
       "      <td>0.22</td>\n",
       "      <td>4</td>\n",
       "      <td>0.913043</td>\n",
       "      <td>1.003585</td>\n",
       "    </tr>\n",
       "    <tr>\n",
       "      <th>3</th>\n",
       "      <td>hla_b_51_08</td>\n",
       "      <td>True</td>\n",
       "      <td>False</td>\n",
       "      <td>0.995409</td>\n",
       "      <td>1</td>\n",
       "      <td>0.155510</td>\n",
       "      <td>0.337993</td>\n",
       "      <td>0.22</td>\n",
       "      <td>4</td>\n",
       "      <td>0.913043</td>\n",
       "      <td>1.003585</td>\n",
       "    </tr>\n",
       "    <tr>\n",
       "      <th>4</th>\n",
       "      <td>hla_c_16_02_01</td>\n",
       "      <td>True</td>\n",
       "      <td>False</td>\n",
       "      <td>0.993031</td>\n",
       "      <td>1</td>\n",
       "      <td>0.142395</td>\n",
       "      <td>0.367640</td>\n",
       "      <td>0.22</td>\n",
       "      <td>4</td>\n",
       "      <td>0.869565</td>\n",
       "      <td>1.004726</td>\n",
       "    </tr>\n",
       "    <tr>\n",
       "      <th>5</th>\n",
       "      <td>hla_c_02_02_02</td>\n",
       "      <td>False</td>\n",
       "      <td>False</td>\n",
       "      <td>0.993031</td>\n",
       "      <td>1</td>\n",
       "      <td>0.142395</td>\n",
       "      <td>0.656072</td>\n",
       "      <td>0.22</td>\n",
       "      <td>4</td>\n",
       "      <td>0.869565</td>\n",
       "      <td>1.004726</td>\n",
       "    </tr>\n",
       "  </tbody>\n",
       "</table>\n",
       "</div>"
      ],
      "text/plain": [
       "             Alleles  DASH_deletion  Secondary_check  Confidence  \\\n",
       "0  hla_a_24_02_01_01          False            False    0.995409   \n",
       "1  hla_a_02_01_01_01           True            False    0.995409   \n",
       "2     hla_b_40_01_02          False            False    0.995409   \n",
       "3        hla_b_51_08           True            False    0.995409   \n",
       "4     hla_c_16_02_01           True            False    0.993031   \n",
       "5     hla_c_02_02_02          False            False    0.993031   \n",
       "\n",
       "   Flanking_region_LOH  Adjusted_BAF  AS_Coverage  Purities  Ploidies  \\\n",
       "0                    1      0.158207     0.628504      0.22         4   \n",
       "1                    1      0.158207     0.323384      0.22         4   \n",
       "2                    1      0.155510     0.688908      0.22         4   \n",
       "3                    1      0.155510     0.337993      0.22         4   \n",
       "4                    1      0.142395     0.367640      0.22         4   \n",
       "5                    1      0.142395     0.656072      0.22         4   \n",
       "\n",
       "   Percentage_Coverage  Total_Coverage  \n",
       "0             0.937500        0.968030  \n",
       "1             0.937500        0.968030  \n",
       "2             0.913043        1.003585  \n",
       "3             0.913043        1.003585  \n",
       "4             0.869565        1.004726  \n",
       "5             0.869565        1.004726  "
      ]
     },
     "execution_count": 3,
     "metadata": {},
     "output_type": "execute_result"
    }
   ],
   "source": [
    "data_df"
   ]
  },
  {
   "cell_type": "code",
   "execution_count": null,
   "metadata": {},
   "outputs": [],
   "source": []
  }
 ],
 "metadata": {
  "kernelspec": {
   "display_name": "Python 3 (ipykernel)",
   "language": "python",
   "name": "python3"
  },
  "language_info": {
   "codemirror_mode": {
    "name": "ipython",
    "version": 3
   },
   "file_extension": ".py",
   "mimetype": "text/x-python",
   "name": "python",
   "nbconvert_exporter": "python",
   "pygments_lexer": "ipython3",
   "version": "3.7.12"
  }
 },
 "nbformat": 4,
 "nbformat_minor": 4
}
