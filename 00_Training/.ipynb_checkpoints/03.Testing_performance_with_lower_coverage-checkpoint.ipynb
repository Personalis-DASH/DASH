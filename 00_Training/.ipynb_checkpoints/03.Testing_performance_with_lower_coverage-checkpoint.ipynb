{
 "cells": [
  {
   "cell_type": "code",
   "execution_count": 1,
   "metadata": {},
   "outputs": [],
   "source": [
    "%run ../../bin/imports.ipynb"
   ]
  },
  {
   "cell_type": "code",
   "execution_count": 2,
   "metadata": {},
   "outputs": [],
   "source": [
    "import statistics"
   ]
  },
  {
   "cell_type": "markdown",
   "metadata": {},
   "source": [
    "## Testing performance with lower coverage"
   ]
  },
  {
   "cell_type": "markdown",
   "metadata": {},
   "source": [
    "Read input data"
   ]
  },
  {
   "cell_type": "code",
   "execution_count": 3,
   "metadata": {},
   "outputs": [],
   "source": [
    "combined_dash = pd.read_csv('/rnd/users/rpyke/data/00-DASH/manuscript_data_v2/training.pancancer_downsampling.tab',\n",
    "                          sep='\\t')"
   ]
  },
  {
   "cell_type": "code",
   "execution_count": 4,
   "metadata": {},
   "outputs": [],
   "source": [
    "annotated_loh = pd.read_csv('/rnd/users/rpyke/data/00-DASH/manuscript_data_v2/training.all_data.csv')"
   ]
  },
  {
   "cell_type": "code",
   "execution_count": 5,
   "metadata": {},
   "outputs": [],
   "source": [
    "total_data = pd.read_csv('/rnd/users/rpyke/data/00-DASH/manuscript_data_v2/pancancer.dash_output.csv')"
   ]
  },
  {
   "cell_type": "markdown",
   "metadata": {},
   "source": [
    "#### Plotting the overall F1 scores"
   ]
  },
  {
   "cell_type": "code",
   "execution_count": 6,
   "metadata": {
    "scrolled": true
   },
   "outputs": [
    {
     "name": "stdout",
     "output_type": "stream",
     "text": [
      "Depth: 10\n",
      "Depth: 30\n",
      "Depth: 50\n",
      "Depth: 100\n",
      "Depth: 200\n"
     ]
    }
   ],
   "source": [
    "# Create new dataframe for each depth\n",
    "depths = [10, 30, 50, 100, 200]\n",
    "seeds = [10, 20, 30, 40, 50, 60, 70, 80, 90, 100]\n",
    "depth_dataframes = []\n",
    "for depth in depths:\n",
    "    print('Depth:', depth)\n",
    "    df = pd.DataFrame()\n",
    "    \n",
    "    depth_combined_dash = combined_dash[combined_dash['dash_depths'] == depth]\n",
    "    \n",
    "    annotated_samples = list(annotated_loh['sample'])\n",
    "    annotated_genes = list(annotated_loh['gene'])\n",
    "    annotated_dashs = list(annotated_loh['LOH'])\n",
    "    \n",
    "    depth_dash_calls = []\n",
    "    depth_f1 = []\n",
    "    output_seeds = []\n",
    "    annotated_samples_extended = []\n",
    "    annotated_genes_extended = []\n",
    "    annotated_dashs_extended = []\n",
    "    \n",
    "    for annotated_sample, annotated_gene, annotated_dash in zip(annotated_samples, annotated_genes, annotated_dashs):\n",
    "        for seed in seeds:\n",
    "            #print(F\"{annotated_sample} {seed}\")\n",
    "            downsampled_subset = depth_combined_dash[(depth_combined_dash['sample'] == annotated_sample) & (depth_combined_dash['genes'] == annotated_gene) &\n",
    "                                                     (depth_combined_dash['seed'] == seed)]\n",
    "            dash_calls = list(downsampled_subset['dash_deletions'])\n",
    "\n",
    "            final_dash_call = False\n",
    "            if True in dash_calls:\n",
    "                final_dash_call = True\n",
    "\n",
    "            f1_value = None\n",
    "            # check downsampled dash call vs. the annotated dash call for TP, TN, FP, FN\n",
    "            if final_dash_call and annotated_dash:\n",
    "                f1_value = \"TP\"\n",
    "            elif final_dash_call and not annotated_dash:\n",
    "                f1_value = \"FP\"\n",
    "            elif not final_dash_call and not annotated_dash:\n",
    "                f1_value = \"TN\"\n",
    "            elif not final_dash_call and annotated_dash:\n",
    "                f1_value = \"FN\"\n",
    "\n",
    "\n",
    "            depth_dash_calls.append(final_dash_call)\n",
    "            depth_f1.append(f1_value)\n",
    "            output_seeds.append(seed)\n",
    "            annotated_samples_extended.append(annotated_sample)\n",
    "            annotated_genes_extended.append(annotated_gene)\n",
    "            annotated_dashs_extended.append(annotated_dash)\n",
    "        \n",
    "    \n",
    "    df['sample'] = annotated_samples_extended\n",
    "    df['gene'] = annotated_genes_extended\n",
    "    df['LOH'] = annotated_dashs_extended\n",
    "    df['downsampled_dash'] = depth_dash_calls\n",
    "    df['F1'] = depth_f1\n",
    "    df['seed'] = output_seeds\n",
    "    \n",
    "    depth_dataframes.append(df)\n"
   ]
  },
  {
   "cell_type": "code",
   "execution_count": 7,
   "metadata": {},
   "outputs": [],
   "source": [
    "def calculate_f1(sensitivity_specificity_df):\n",
    "    # True positives / True positives + 1/2(False positives + false negatives)\n",
    "    true_positives = len(sensitivity_specificity_df[sensitivity_specificity_df['F1'] == 'TP'])\n",
    "    false_positives = len(sensitivity_specificity_df[sensitivity_specificity_df['F1'] == 'FP'])\n",
    "    false_negatives = len(sensitivity_specificity_df[sensitivity_specificity_df['F1'] == 'FN'])\n",
    "    \n",
    "    f1 = true_positives/(true_positives + (.5*(false_positives + false_negatives)))\n",
    "    return f1"
   ]
  },
  {
   "cell_type": "code",
   "execution_count": 8,
   "metadata": {},
   "outputs": [],
   "source": [
    "depths = [10, 30, 50, 100, 200]\n",
    "seeds = [10, 20, 30, 40, 50, 60, 70, 80, 90, 100]\n",
    "score_df = pd.DataFrame()\n",
    "for depth_dataframe, depth in zip(depth_dataframes, depths):\n",
    "    for seed in seeds:\n",
    "        #print(F\"-----Depth: {depth}X Seed: {seed}-----\\n\")\n",
    "        depth_dataframe_seed = depth_dataframe[depth_dataframe['seed'] == seed]\n",
    "\n",
    "        f1 = calculate_f1(depth_dataframe_seed)\n",
    "        #print(F\"F1: {f1}\\n\")\n",
    "\n",
    "        temp_df = {'depth': F\"{depth}\", 'f1': f1}\n",
    "\n",
    "        score_df = score_df.append(temp_df, ignore_index=True)"
   ]
  },
  {
   "cell_type": "code",
   "execution_count": 9,
   "metadata": {},
   "outputs": [],
   "source": [
    "# plot as bar graph\n",
    "score_df_melted = pd.melt(score_df, id_vars=['depth'], value_vars=['f1'])\n"
   ]
  },
  {
   "cell_type": "code",
   "execution_count": 10,
   "metadata": {
    "scrolled": true
   },
   "outputs": [
    {
     "data": {
      "text/html": [
       "<div>\n",
       "<style scoped>\n",
       "    .dataframe tbody tr th:only-of-type {\n",
       "        vertical-align: middle;\n",
       "    }\n",
       "\n",
       "    .dataframe tbody tr th {\n",
       "        vertical-align: top;\n",
       "    }\n",
       "\n",
       "    .dataframe thead th {\n",
       "        text-align: right;\n",
       "    }\n",
       "</style>\n",
       "<table border=\"1\" class=\"dataframe\">\n",
       "  <thead>\n",
       "    <tr style=\"text-align: right;\">\n",
       "      <th></th>\n",
       "      <th>depth</th>\n",
       "      <th>variable</th>\n",
       "      <th>value</th>\n",
       "    </tr>\n",
       "  </thead>\n",
       "  <tbody>\n",
       "    <tr>\n",
       "      <th>0</th>\n",
       "      <td>10</td>\n",
       "      <td>f1</td>\n",
       "      <td>0.114650</td>\n",
       "    </tr>\n",
       "    <tr>\n",
       "      <th>1</th>\n",
       "      <td>10</td>\n",
       "      <td>f1</td>\n",
       "      <td>0.112500</td>\n",
       "    </tr>\n",
       "    <tr>\n",
       "      <th>2</th>\n",
       "      <td>10</td>\n",
       "      <td>f1</td>\n",
       "      <td>0.139241</td>\n",
       "    </tr>\n",
       "    <tr>\n",
       "      <th>3</th>\n",
       "      <td>10</td>\n",
       "      <td>f1</td>\n",
       "      <td>0.150943</td>\n",
       "    </tr>\n",
       "    <tr>\n",
       "      <th>4</th>\n",
       "      <td>10</td>\n",
       "      <td>f1</td>\n",
       "      <td>0.161491</td>\n",
       "    </tr>\n",
       "  </tbody>\n",
       "</table>\n",
       "</div>"
      ],
      "text/plain": [
       "  depth variable     value\n",
       "0    10       f1  0.114650\n",
       "1    10       f1  0.112500\n",
       "2    10       f1  0.139241\n",
       "3    10       f1  0.150943\n",
       "4    10       f1  0.161491"
      ]
     },
     "execution_count": 10,
     "metadata": {},
     "output_type": "execute_result"
    }
   ],
   "source": [
    "score_df_melted.head()"
   ]
  },
  {
   "cell_type": "code",
   "execution_count": 11,
   "metadata": {},
   "outputs": [
    {
     "data": {
      "text/plain": [
       "depth        object\n",
       "variable     object\n",
       "value       float64\n",
       "dtype: object"
      ]
     },
     "execution_count": 11,
     "metadata": {},
     "output_type": "execute_result"
    }
   ],
   "source": [
    "score_df_melted.dtypes"
   ]
  },
  {
   "cell_type": "code",
   "execution_count": 12,
   "metadata": {},
   "outputs": [],
   "source": [
    "# Adding data from full ImmunoID NeXT run\n",
    "score_df_melted.loc[len(score_df_melted)] = ['587', 'f1', 0.9386281588447654]"
   ]
  },
  {
   "cell_type": "code",
   "execution_count": 13,
   "metadata": {
    "scrolled": true
   },
   "outputs": [
    {
     "data": {
      "text/html": [
       "<div>\n",
       "<style scoped>\n",
       "    .dataframe tbody tr th:only-of-type {\n",
       "        vertical-align: middle;\n",
       "    }\n",
       "\n",
       "    .dataframe tbody tr th {\n",
       "        vertical-align: top;\n",
       "    }\n",
       "\n",
       "    .dataframe thead th {\n",
       "        text-align: right;\n",
       "    }\n",
       "</style>\n",
       "<table border=\"1\" class=\"dataframe\">\n",
       "  <thead>\n",
       "    <tr style=\"text-align: right;\">\n",
       "      <th></th>\n",
       "      <th>value</th>\n",
       "    </tr>\n",
       "    <tr>\n",
       "      <th>depth</th>\n",
       "      <th></th>\n",
       "    </tr>\n",
       "  </thead>\n",
       "  <tbody>\n",
       "    <tr>\n",
       "      <th>10</th>\n",
       "      <td>0.129267</td>\n",
       "    </tr>\n",
       "    <tr>\n",
       "      <th>100</th>\n",
       "      <td>0.881167</td>\n",
       "    </tr>\n",
       "    <tr>\n",
       "      <th>200</th>\n",
       "      <td>0.894920</td>\n",
       "    </tr>\n",
       "    <tr>\n",
       "      <th>30</th>\n",
       "      <td>0.770039</td>\n",
       "    </tr>\n",
       "    <tr>\n",
       "      <th>50</th>\n",
       "      <td>0.854246</td>\n",
       "    </tr>\n",
       "    <tr>\n",
       "      <th>587</th>\n",
       "      <td>0.938628</td>\n",
       "    </tr>\n",
       "  </tbody>\n",
       "</table>\n",
       "</div>"
      ],
      "text/plain": [
       "          value\n",
       "depth          \n",
       "10     0.129267\n",
       "100    0.881167\n",
       "200    0.894920\n",
       "30     0.770039\n",
       "50     0.854246\n",
       "587    0.938628"
      ]
     },
     "execution_count": 13,
     "metadata": {},
     "output_type": "execute_result"
    }
   ],
   "source": [
    "score_df_melted.groupby('depth').mean()"
   ]
  },
  {
   "cell_type": "code",
   "execution_count": 14,
   "metadata": {},
   "outputs": [
    {
     "data": {
      "text/plain": [
       "0.057460999999999984"
      ]
     },
     "execution_count": 14,
     "metadata": {},
     "output_type": "execute_result"
    }
   ],
   "source": [
    "0.938628 - 0.881167"
   ]
  },
  {
   "cell_type": "code",
   "execution_count": 15,
   "metadata": {
    "scrolled": true
   },
   "outputs": [
    {
     "data": {
      "image/png": "[encoded data removed]",
      "text/plain": [
       "<Figure size 144x288 with 1 Axes>"
      ]
     },
     "metadata": {
      "needs_background": "light"
     },
     "output_type": "display_data"
    }
   ],
   "source": [
    "plt.figure(figsize=(2, 4))\n",
    "\n",
    "sns.set_context('talk', font_scale=0.7)\n",
    "\n",
    "sns.set_style(style=\"whitegrid\")\n",
    "g = sns.barplot(x=\"depth\", y='value', hue='variable', data=score_df_melted,\n",
    "                   order=['10', '30', '50', '100', '200', '587'], palette=['darkgrey'])\n",
    "plt.legend([],[], frameon=False)\n",
    "\n",
    "plt.ylabel('F1-score')\n",
    "plt.xlabel('Sequencing depth')\n",
    "plt.ylim(0, 1)\n",
    "plt.xticks(rotation=90)\n",
    "\n",
    "plt.savefig('/rnd/users/rpyke/data/00-DASH/figures/downsampling.f1_scores_barplot.pdf', \n",
    "            bbox_inches='tight')"
   ]
  },
  {
   "cell_type": "markdown",
   "metadata": {},
   "source": [
    "#### Plotting the F1 scores by purity"
   ]
  },
  {
   "cell_type": "code",
   "execution_count": 16,
   "metadata": {},
   "outputs": [
    {
     "name": "stdout",
     "output_type": "stream",
     "text": [
      "Depth: 10, Purity:0.2\n",
      "Depth: 10, Purity:0.4\n",
      "Depth: 10, Purity:0.6\n",
      "Depth: 10, Purity:0.8\n",
      "Depth: 10, Purity:1.0\n",
      "Depth: 30, Purity:0.2\n",
      "Depth: 30, Purity:0.4\n",
      "Depth: 30, Purity:0.6\n",
      "Depth: 30, Purity:0.8\n",
      "Depth: 30, Purity:1.0\n",
      "Depth: 50, Purity:0.2\n",
      "Depth: 50, Purity:0.4\n",
      "Depth: 50, Purity:0.6\n",
      "Depth: 50, Purity:0.8\n",
      "Depth: 50, Purity:1.0\n",
      "Depth: 100, Purity:0.2\n",
      "Depth: 100, Purity:0.4\n",
      "Depth: 100, Purity:0.6\n",
      "Depth: 100, Purity:0.8\n",
      "Depth: 100, Purity:1.0\n",
      "Depth: 200, Purity:0.2\n",
      "Depth: 200, Purity:0.4\n",
      "Depth: 200, Purity:0.6\n",
      "Depth: 200, Purity:0.8\n",
      "Depth: 200, Purity:1.0\n"
     ]
    }
   ],
   "source": [
    "# using manual annotations\n",
    "# Create new dataframe for each depth\n",
    "depths = [10, 30, 50, 100, 200]\n",
    "purities = [.20, .40, .60, .80, 1.0]\n",
    "seeds = [10, 20, 30, 40, 50, 60, 70, 80, 90, 100]\n",
    "depth_dataframes_purities = []\n",
    "for depth in depths:\n",
    "    for purity in purities:\n",
    "        print(F\"Depth: {depth}, Purity:{purity}\")\n",
    "        \n",
    "        df = pd.DataFrame()\n",
    "\n",
    "        # subset dataframe by depth & by purity\n",
    "        depth_combined_dash = combined_dash[(combined_dash['dash_depths'] == depth) & (combined_dash['purities'] <= purity)]\n",
    "        annotated_loh_purity = annotated_loh[annotated_loh['purity'] <= purity]\n",
    "        \n",
    "        annotated_samples = list(annotated_loh_purity['sample'])\n",
    "        annotated_genes = list(annotated_loh_purity['gene'])\n",
    "        annotated_dashs = list(annotated_loh_purity['LOH'])\n",
    "        annotated_purities = list(annotated_loh_purity['purity'])\n",
    "\n",
    "        depth_dash_calls = []\n",
    "        depth_f1 = []\n",
    "        annotated_samples_extended = []\n",
    "        annotated_genes_extended = []\n",
    "        annotated_dashs_extended = []\n",
    "        annotated_purities_extended = []\n",
    "        output_seeds = []\n",
    "        output_depths = []\n",
    "\n",
    "        for annotated_sample, annotated_gene, annotated_dash in zip(annotated_samples, annotated_genes, annotated_dashs):\n",
    "            for seed in seeds:\n",
    "                downsampled_subset = depth_combined_dash[(depth_combined_dash['sample'] == annotated_sample) & (depth_combined_dash['genes'] == annotated_gene) &\n",
    "                                                         (depth_combined_dash['seed'] == seed)]\n",
    "                dash_calls = list(downsampled_subset['dash_deletions'])\n",
    "\n",
    "                final_dash_call = False\n",
    "                if True in dash_calls:\n",
    "                    final_dash_call = True\n",
    "\n",
    "                f1_value = None\n",
    "                # check downsampled dash call vs. the annotated dash call for TP, TN, FP, FN\n",
    "                if final_dash_call and annotated_dash:\n",
    "                    f1_value = \"TP\"\n",
    "                elif final_dash_call and not annotated_dash:\n",
    "                    f1_value = \"FP\"\n",
    "                elif not final_dash_call and not annotated_dash:\n",
    "                    f1_value = \"TN\"\n",
    "                elif not final_dash_call and annotated_dash:\n",
    "                    f1_value = \"FN\"\n",
    "\n",
    "\n",
    "                depth_dash_calls.append(final_dash_call)\n",
    "                depth_f1.append(f1_value)\n",
    "                output_seeds.append(seed)\n",
    "                annotated_samples_extended.append(annotated_sample)\n",
    "                annotated_genes_extended.append(annotated_gene)\n",
    "                annotated_dashs_extended.append(annotated_dash)\n",
    "                annotated_purities_extended.append(purity)\n",
    "                output_depths.append(depth)\n",
    "\n",
    "\n",
    "        df['sample'] = annotated_samples_extended\n",
    "        df['gene'] = annotated_genes_extended\n",
    "        df['LOH'] = annotated_dashs_extended\n",
    "        df['purity'] = annotated_purities_extended\n",
    "        df['downsampled_dash'] = depth_dash_calls\n",
    "        df['F1'] = depth_f1\n",
    "        df['seed'] = output_seeds\n",
    "        df['depth'] = output_depths\n",
    "\n",
    "        depth_dataframes_purities.append(df)\n"
   ]
  },
  {
   "cell_type": "code",
   "execution_count": 17,
   "metadata": {},
   "outputs": [],
   "source": [
    "depths = [10, 30, 50, 100, 200]\n",
    "purities = [.20, .40, .60, .80, 1]\n",
    "seeds = [10, 20, 30, 40, 50, 60, 70, 80, 90, 100]\n",
    "i = 0\n",
    "score_df_purities = pd.DataFrame()\n",
    "\n",
    "for depth_dataframe in depth_dataframes_purities:\n",
    "    purity = depth_dataframe['purity'].iloc[0]\n",
    "    depth = depth_dataframe['depth'].iloc[0]\n",
    "    f1 = calculate_f1(depth_dataframe)\n",
    "    \n",
    "    temp_df = {'depth': F\"{depth}\", 'f1': f1, 'purity': purity}\n",
    "\n",
    "    score_df_purities = score_df_purities.append(temp_df, ignore_index=True)\n",
    "    \n",
    "\n",
    "annotated_samples = list(annotated_loh['sample'])\n",
    "annotated_genes = list(annotated_loh['gene'])\n",
    "annotated_dashs = list(annotated_loh['LOH'])\n",
    "\n",
    "total_data_subset = total_data[['hla_locus', 'purity', 'ploidy', 'dash_deletion', 'Sample']]\n"
   ]
  },
  {
   "cell_type": "code",
   "execution_count": 18,
   "metadata": {},
   "outputs": [
    {
     "data": {
      "text/html": [
       "<div>\n",
       "<style scoped>\n",
       "    .dataframe tbody tr th:only-of-type {\n",
       "        vertical-align: middle;\n",
       "    }\n",
       "\n",
       "    .dataframe tbody tr th {\n",
       "        vertical-align: top;\n",
       "    }\n",
       "\n",
       "    .dataframe thead th {\n",
       "        text-align: right;\n",
       "    }\n",
       "</style>\n",
       "<table border=\"1\" class=\"dataframe\">\n",
       "  <thead>\n",
       "    <tr style=\"text-align: right;\">\n",
       "      <th></th>\n",
       "      <th>hla_locus</th>\n",
       "      <th>purity</th>\n",
       "      <th>ploidy</th>\n",
       "      <th>dash_deletion</th>\n",
       "      <th>Sample</th>\n",
       "    </tr>\n",
       "  </thead>\n",
       "  <tbody>\n",
       "    <tr>\n",
       "      <th>0</th>\n",
       "      <td>A</td>\n",
       "      <td>0.59</td>\n",
       "      <td>2</td>\n",
       "      <td>False</td>\n",
       "      <td>DNA_S000460823</td>\n",
       "    </tr>\n",
       "    <tr>\n",
       "      <th>1</th>\n",
       "      <td>A</td>\n",
       "      <td>0.59</td>\n",
       "      <td>2</td>\n",
       "      <td>False</td>\n",
       "      <td>DNA_S000460823</td>\n",
       "    </tr>\n",
       "    <tr>\n",
       "      <th>2</th>\n",
       "      <td>B</td>\n",
       "      <td>0.59</td>\n",
       "      <td>2</td>\n",
       "      <td>False</td>\n",
       "      <td>DNA_S000460823</td>\n",
       "    </tr>\n",
       "    <tr>\n",
       "      <th>3</th>\n",
       "      <td>B</td>\n",
       "      <td>0.59</td>\n",
       "      <td>2</td>\n",
       "      <td>False</td>\n",
       "      <td>DNA_S000460823</td>\n",
       "    </tr>\n",
       "    <tr>\n",
       "      <th>4</th>\n",
       "      <td>C</td>\n",
       "      <td>0.59</td>\n",
       "      <td>2</td>\n",
       "      <td>False</td>\n",
       "      <td>DNA_S000460823</td>\n",
       "    </tr>\n",
       "  </tbody>\n",
       "</table>\n",
       "</div>"
      ],
      "text/plain": [
       "  hla_locus  purity  ploidy  dash_deletion          Sample\n",
       "0         A    0.59       2          False  DNA_S000460823\n",
       "1         A    0.59       2          False  DNA_S000460823\n",
       "2         B    0.59       2          False  DNA_S000460823\n",
       "3         B    0.59       2          False  DNA_S000460823\n",
       "4         C    0.59       2          False  DNA_S000460823"
      ]
     },
     "execution_count": 18,
     "metadata": {},
     "output_type": "execute_result"
    }
   ],
   "source": [
    "total_data_subset.head()"
   ]
  },
  {
   "cell_type": "code",
   "execution_count": 19,
   "metadata": {},
   "outputs": [],
   "source": [
    "immunoid_df = pd.DataFrame()\n",
    "\n",
    "immunoid_dash_output = []\n",
    "immunoid_purities_output = []\n",
    "\n",
    "for annotated_sample, annotated_gene, annotated_dash in zip(annotated_samples, annotated_genes, annotated_dashs):\n",
    "    tmp_df = total_data_subset[(total_data_subset['Sample'] == annotated_sample) & \n",
    "                               (total_data_subset['hla_locus'] == annotated_gene)]\n",
    "    immunoid_dashs = list(tmp_df['dash_deletion'])\n",
    "    immunoid_dash = False\n",
    "    if True in immunoid_dashs:\n",
    "        immunoid_dash = True\n",
    "    \n",
    "    immunoid_dash_output.append(immunoid_dash)\n",
    "    purity = tmp_df['purity'].iloc[0]\n",
    "    immunoid_purities_output.append(purity)\n",
    "    \n",
    "immunoid_df['sample'] = annotated_samples\n",
    "immunoid_df['gene'] = annotated_genes\n",
    "immunoid_df['LOH'] = annotated_dashs\n",
    "immunoid_df['dash_call'] = immunoid_dash_output\n",
    "immunoid_df['purity'] = immunoid_purities_output"
   ]
  },
  {
   "cell_type": "code",
   "execution_count": 20,
   "metadata": {},
   "outputs": [],
   "source": [
    "# add f1 column\n",
    "def add_f1(row):\n",
    "    f1 = None\n",
    "    if row['LOH'] == False:\n",
    "        if row['dash_call'] == True:\n",
    "            f1 = \"FP\"\n",
    "        else:\n",
    "            f1 = \"TN\"\n",
    "    if row['LOH'] == True:\n",
    "        if row['dash_call'] == True:\n",
    "            f1 = \"TP\"\n",
    "        else:\n",
    "            f1 = \"FN\"\n",
    "    return f1"
   ]
  },
  {
   "cell_type": "code",
   "execution_count": 21,
   "metadata": {},
   "outputs": [],
   "source": [
    "immunoid_df['F1'] = immunoid_df.apply(lambda row: add_f1(row), axis=1)"
   ]
  },
  {
   "cell_type": "code",
   "execution_count": 22,
   "metadata": {
    "scrolled": true
   },
   "outputs": [
    {
     "data": {
      "text/html": [
       "<div>\n",
       "<style scoped>\n",
       "    .dataframe tbody tr th:only-of-type {\n",
       "        vertical-align: middle;\n",
       "    }\n",
       "\n",
       "    .dataframe tbody tr th {\n",
       "        vertical-align: top;\n",
       "    }\n",
       "\n",
       "    .dataframe thead th {\n",
       "        text-align: right;\n",
       "    }\n",
       "</style>\n",
       "<table border=\"1\" class=\"dataframe\">\n",
       "  <thead>\n",
       "    <tr style=\"text-align: right;\">\n",
       "      <th></th>\n",
       "      <th>sample</th>\n",
       "      <th>gene</th>\n",
       "      <th>LOH</th>\n",
       "      <th>dash_call</th>\n",
       "      <th>purity</th>\n",
       "      <th>F1</th>\n",
       "    </tr>\n",
       "  </thead>\n",
       "  <tbody>\n",
       "    <tr>\n",
       "      <th>0</th>\n",
       "      <td>DNA_S000443705</td>\n",
       "      <td>A</td>\n",
       "      <td>False</td>\n",
       "      <td>False</td>\n",
       "      <td>0.64</td>\n",
       "      <td>TN</td>\n",
       "    </tr>\n",
       "    <tr>\n",
       "      <th>1</th>\n",
       "      <td>DNA_S000443705</td>\n",
       "      <td>B</td>\n",
       "      <td>False</td>\n",
       "      <td>False</td>\n",
       "      <td>0.64</td>\n",
       "      <td>TN</td>\n",
       "    </tr>\n",
       "    <tr>\n",
       "      <th>2</th>\n",
       "      <td>DNA_S000443705</td>\n",
       "      <td>C</td>\n",
       "      <td>False</td>\n",
       "      <td>False</td>\n",
       "      <td>0.64</td>\n",
       "      <td>TN</td>\n",
       "    </tr>\n",
       "    <tr>\n",
       "      <th>3</th>\n",
       "      <td>DNA_302298</td>\n",
       "      <td>A</td>\n",
       "      <td>False</td>\n",
       "      <td>False</td>\n",
       "      <td>0.35</td>\n",
       "      <td>TN</td>\n",
       "    </tr>\n",
       "    <tr>\n",
       "      <th>4</th>\n",
       "      <td>DNA_302298</td>\n",
       "      <td>C</td>\n",
       "      <td>False</td>\n",
       "      <td>False</td>\n",
       "      <td>0.35</td>\n",
       "      <td>TN</td>\n",
       "    </tr>\n",
       "  </tbody>\n",
       "</table>\n",
       "</div>"
      ],
      "text/plain": [
       "           sample gene    LOH  dash_call  purity  F1\n",
       "0  DNA_S000443705    A  False      False    0.64  TN\n",
       "1  DNA_S000443705    B  False      False    0.64  TN\n",
       "2  DNA_S000443705    C  False      False    0.64  TN\n",
       "3      DNA_302298    A  False      False    0.35  TN\n",
       "4      DNA_302298    C  False      False    0.35  TN"
      ]
     },
     "execution_count": 22,
     "metadata": {},
     "output_type": "execute_result"
    }
   ],
   "source": [
    "immunoid_df.head()"
   ]
  },
  {
   "cell_type": "code",
   "execution_count": 23,
   "metadata": {
    "scrolled": true
   },
   "outputs": [
    {
     "data": {
      "text/html": [
       "<div>\n",
       "<style scoped>\n",
       "    .dataframe tbody tr th:only-of-type {\n",
       "        vertical-align: middle;\n",
       "    }\n",
       "\n",
       "    .dataframe tbody tr th {\n",
       "        vertical-align: top;\n",
       "    }\n",
       "\n",
       "    .dataframe thead th {\n",
       "        text-align: right;\n",
       "    }\n",
       "</style>\n",
       "<table border=\"1\" class=\"dataframe\">\n",
       "  <thead>\n",
       "    <tr style=\"text-align: right;\">\n",
       "      <th></th>\n",
       "      <th>depth</th>\n",
       "      <th>f1</th>\n",
       "      <th>purity</th>\n",
       "    </tr>\n",
       "  </thead>\n",
       "  <tbody>\n",
       "    <tr>\n",
       "      <th>0</th>\n",
       "      <td>ImmunoID NeXT</td>\n",
       "      <td>0.757576</td>\n",
       "      <td>0.2</td>\n",
       "    </tr>\n",
       "    <tr>\n",
       "      <th>1</th>\n",
       "      <td>ImmunoID NeXT</td>\n",
       "      <td>0.898734</td>\n",
       "      <td>0.4</td>\n",
       "    </tr>\n",
       "    <tr>\n",
       "      <th>2</th>\n",
       "      <td>ImmunoID NeXT</td>\n",
       "      <td>0.923077</td>\n",
       "      <td>0.6</td>\n",
       "    </tr>\n",
       "    <tr>\n",
       "      <th>3</th>\n",
       "      <td>ImmunoID NeXT</td>\n",
       "      <td>0.930612</td>\n",
       "      <td>0.8</td>\n",
       "    </tr>\n",
       "    <tr>\n",
       "      <th>4</th>\n",
       "      <td>ImmunoID NeXT</td>\n",
       "      <td>0.933333</td>\n",
       "      <td>1.0</td>\n",
       "    </tr>\n",
       "  </tbody>\n",
       "</table>\n",
       "</div>"
      ],
      "text/plain": [
       "           depth        f1  purity\n",
       "0  ImmunoID NeXT  0.757576     0.2\n",
       "1  ImmunoID NeXT  0.898734     0.4\n",
       "2  ImmunoID NeXT  0.923077     0.6\n",
       "3  ImmunoID NeXT  0.930612     0.8\n",
       "4  ImmunoID NeXT  0.933333     1.0"
      ]
     },
     "execution_count": 23,
     "metadata": {},
     "output_type": "execute_result"
    }
   ],
   "source": [
    "purities = [.20, .40, .60, .80, 1]\n",
    "immunoid_score_df = pd.DataFrame()\n",
    "for purity in purities:\n",
    "    purity_df = immunoid_df[immunoid_df['purity'] <= purity]\n",
    "    depth = \"ImmunoID NeXT\"\n",
    "    # calculate sensitivity/specficity across purities\n",
    "    f1 = calculate_f1(purity_df)\n",
    "\n",
    "    #print(F\"Sensitivity: {sensitivity}\")\n",
    "    #print(F\"Specificity: {specificity}\")\n",
    "    #print(F\"F1: {f1}\\n\")\n",
    "\n",
    "    temp_df = {'depth': F\"{depth}\", 'f1': f1, 'purity': purity}\n",
    "\n",
    "    immunoid_score_df = immunoid_score_df.append(temp_df, ignore_index=True)\n",
    "    \n",
    "immunoid_score_df.head()"
   ]
  },
  {
   "cell_type": "code",
   "execution_count": 24,
   "metadata": {},
   "outputs": [
    {
     "data": {
      "text/html": [
       "<div>\n",
       "<style scoped>\n",
       "    .dataframe tbody tr th:only-of-type {\n",
       "        vertical-align: middle;\n",
       "    }\n",
       "\n",
       "    .dataframe tbody tr th {\n",
       "        vertical-align: top;\n",
       "    }\n",
       "\n",
       "    .dataframe thead th {\n",
       "        text-align: right;\n",
       "    }\n",
       "</style>\n",
       "<table border=\"1\" class=\"dataframe\">\n",
       "  <thead>\n",
       "    <tr style=\"text-align: right;\">\n",
       "      <th></th>\n",
       "      <th>depth</th>\n",
       "      <th>f1</th>\n",
       "      <th>purity</th>\n",
       "    </tr>\n",
       "  </thead>\n",
       "  <tbody>\n",
       "    <tr>\n",
       "      <th>0</th>\n",
       "      <td>587</td>\n",
       "      <td>0.757576</td>\n",
       "      <td>0.2</td>\n",
       "    </tr>\n",
       "    <tr>\n",
       "      <th>1</th>\n",
       "      <td>587</td>\n",
       "      <td>0.898734</td>\n",
       "      <td>0.4</td>\n",
       "    </tr>\n",
       "    <tr>\n",
       "      <th>2</th>\n",
       "      <td>587</td>\n",
       "      <td>0.923077</td>\n",
       "      <td>0.6</td>\n",
       "    </tr>\n",
       "    <tr>\n",
       "      <th>3</th>\n",
       "      <td>587</td>\n",
       "      <td>0.930612</td>\n",
       "      <td>0.8</td>\n",
       "    </tr>\n",
       "    <tr>\n",
       "      <th>4</th>\n",
       "      <td>587</td>\n",
       "      <td>0.933333</td>\n",
       "      <td>1.0</td>\n",
       "    </tr>\n",
       "  </tbody>\n",
       "</table>\n",
       "</div>"
      ],
      "text/plain": [
       "   depth        f1  purity\n",
       "0    587  0.757576     0.2\n",
       "1    587  0.898734     0.4\n",
       "2    587  0.923077     0.6\n",
       "3    587  0.930612     0.8\n",
       "4    587  0.933333     1.0"
      ]
     },
     "execution_count": 24,
     "metadata": {},
     "output_type": "execute_result"
    }
   ],
   "source": [
    "# Average depth of ImmunoID NeXT: ~600\n",
    "\n",
    "# update immunoid_df to have mean tumor_Depth as its depth\n",
    "immunoid_score_df['depth'] = 587\n",
    "immunoid_score_df.head()"
   ]
  },
  {
   "cell_type": "code",
   "execution_count": 25,
   "metadata": {},
   "outputs": [
    {
     "data": {
      "text/html": [
       "<div>\n",
       "<style scoped>\n",
       "    .dataframe tbody tr th:only-of-type {\n",
       "        vertical-align: middle;\n",
       "    }\n",
       "\n",
       "    .dataframe tbody tr th {\n",
       "        vertical-align: top;\n",
       "    }\n",
       "\n",
       "    .dataframe thead th {\n",
       "        text-align: right;\n",
       "    }\n",
       "</style>\n",
       "<table border=\"1\" class=\"dataframe\">\n",
       "  <thead>\n",
       "    <tr style=\"text-align: right;\">\n",
       "      <th></th>\n",
       "      <th>depth</th>\n",
       "      <th>f1</th>\n",
       "      <th>purity</th>\n",
       "    </tr>\n",
       "  </thead>\n",
       "  <tbody>\n",
       "    <tr>\n",
       "      <th>0</th>\n",
       "      <td>587</td>\n",
       "      <td>0.757576</td>\n",
       "      <td>0.2</td>\n",
       "    </tr>\n",
       "    <tr>\n",
       "      <th>1</th>\n",
       "      <td>587</td>\n",
       "      <td>0.898734</td>\n",
       "      <td>0.4</td>\n",
       "    </tr>\n",
       "    <tr>\n",
       "      <th>2</th>\n",
       "      <td>587</td>\n",
       "      <td>0.923077</td>\n",
       "      <td>0.6</td>\n",
       "    </tr>\n",
       "    <tr>\n",
       "      <th>3</th>\n",
       "      <td>587</td>\n",
       "      <td>0.930612</td>\n",
       "      <td>0.8</td>\n",
       "    </tr>\n",
       "    <tr>\n",
       "      <th>4</th>\n",
       "      <td>587</td>\n",
       "      <td>0.933333</td>\n",
       "      <td>1.0</td>\n",
       "    </tr>\n",
       "  </tbody>\n",
       "</table>\n",
       "</div>"
      ],
      "text/plain": [
       "  depth        f1  purity\n",
       "0   587  0.757576     0.2\n",
       "1   587  0.898734     0.4\n",
       "2   587  0.923077     0.6\n",
       "3   587  0.930612     0.8\n",
       "4   587  0.933333     1.0"
      ]
     },
     "execution_count": 25,
     "metadata": {},
     "output_type": "execute_result"
    }
   ],
   "source": [
    "combined_score_df = pd.concat([immunoid_score_df, score_df_purities])\n",
    "combined_score_df.head()"
   ]
  },
  {
   "cell_type": "code",
   "execution_count": 26,
   "metadata": {},
   "outputs": [
    {
     "data": {
      "text/html": [
       "<div>\n",
       "<style scoped>\n",
       "    .dataframe tbody tr th:only-of-type {\n",
       "        vertical-align: middle;\n",
       "    }\n",
       "\n",
       "    .dataframe tbody tr th {\n",
       "        vertical-align: top;\n",
       "    }\n",
       "\n",
       "    .dataframe thead th {\n",
       "        text-align: right;\n",
       "    }\n",
       "</style>\n",
       "<table border=\"1\" class=\"dataframe\">\n",
       "  <thead>\n",
       "    <tr style=\"text-align: right;\">\n",
       "      <th>purity</th>\n",
       "      <th>0.2</th>\n",
       "      <th>0.4</th>\n",
       "      <th>0.6</th>\n",
       "      <th>0.8</th>\n",
       "      <th>1.0</th>\n",
       "    </tr>\n",
       "    <tr>\n",
       "      <th>depth</th>\n",
       "      <th></th>\n",
       "      <th></th>\n",
       "      <th></th>\n",
       "      <th></th>\n",
       "      <th></th>\n",
       "    </tr>\n",
       "  </thead>\n",
       "  <tbody>\n",
       "    <tr>\n",
       "      <th>587</th>\n",
       "      <td>0.757576</td>\n",
       "      <td>0.898734</td>\n",
       "      <td>0.923077</td>\n",
       "      <td>0.930612</td>\n",
       "      <td>0.933333</td>\n",
       "    </tr>\n",
       "    <tr>\n",
       "      <th>200</th>\n",
       "      <td>0.660274</td>\n",
       "      <td>0.838280</td>\n",
       "      <td>0.874419</td>\n",
       "      <td>0.886680</td>\n",
       "      <td>0.894947</td>\n",
       "    </tr>\n",
       "    <tr>\n",
       "      <th>100</th>\n",
       "      <td>0.657497</td>\n",
       "      <td>0.819129</td>\n",
       "      <td>0.859287</td>\n",
       "      <td>0.873849</td>\n",
       "      <td>0.881232</td>\n",
       "    </tr>\n",
       "    <tr>\n",
       "      <th>50</th>\n",
       "      <td>0.662404</td>\n",
       "      <td>0.789886</td>\n",
       "      <td>0.829246</td>\n",
       "      <td>0.846790</td>\n",
       "      <td>0.854250</td>\n",
       "    </tr>\n",
       "    <tr>\n",
       "      <th>30</th>\n",
       "      <td>0.595420</td>\n",
       "      <td>0.711990</td>\n",
       "      <td>0.738061</td>\n",
       "      <td>0.761243</td>\n",
       "      <td>0.770214</td>\n",
       "    </tr>\n",
       "    <tr>\n",
       "      <th>10</th>\n",
       "      <td>0.103837</td>\n",
       "      <td>0.100840</td>\n",
       "      <td>0.101059</td>\n",
       "      <td>0.125000</td>\n",
       "      <td>0.129397</td>\n",
       "    </tr>\n",
       "  </tbody>\n",
       "</table>\n",
       "</div>"
      ],
      "text/plain": [
       "purity       0.2       0.4       0.6       0.8       1.0\n",
       "depth                                                   \n",
       "587     0.757576  0.898734  0.923077  0.930612  0.933333\n",
       "200     0.660274  0.838280  0.874419  0.886680  0.894947\n",
       "100     0.657497  0.819129  0.859287  0.873849  0.881232\n",
       "50      0.662404  0.789886  0.829246  0.846790  0.854250\n",
       "30      0.595420  0.711990  0.738061  0.761243  0.770214\n",
       "10      0.103837  0.100840  0.101059  0.125000  0.129397"
      ]
     },
     "execution_count": 26,
     "metadata": {},
     "output_type": "execute_result"
    }
   ],
   "source": [
    "df = combined_score_df.pivot_table(index='depth', columns='purity', values='f1')\n",
    "df.index = df.index.astype(int)\n",
    "df = df.sort_index(ascending=False)\n",
    "df"
   ]
  },
  {
   "cell_type": "code",
   "execution_count": 27,
   "metadata": {},
   "outputs": [],
   "source": [
    "df.columns = [20, 40, 60, 80, 100]"
   ]
  },
  {
   "cell_type": "code",
   "execution_count": 28,
   "metadata": {},
   "outputs": [
    {
     "data": {
      "image/png": "[encoded data removed]",
      "text/plain": [
       "<Figure size 360x288 with 2 Axes>"
      ]
     },
     "metadata": {},
     "output_type": "display_data"
    }
   ],
   "source": [
    "# need to add ImmunoID NeXT & ~600 in illustrator for this image\n",
    "plt.figure(figsize=(5, 4))\n",
    "sns.set_context('talk', font_scale=0.6)\n",
    "\n",
    "sns.heatmap(df, annot=True, cmap=\"YlGnBu\")\n",
    "plt.xlabel('Tumor purity')\n",
    "plt.ylabel('Sequencing depth inclusion threshold')\n",
    "\n",
    "plt.savefig('/rnd/users/rpyke/data/00-DASH/figures/downsampling.heatmap_by_purity.pdf', \n",
    "            bbox_inches='tight')"
   ]
  },
  {
   "cell_type": "markdown",
   "metadata": {},
   "source": [
    "#### Get the average depths of ImmunoID NeXT and a standard exome"
   ]
  },
  {
   "cell_type": "code",
   "execution_count": 29,
   "metadata": {},
   "outputs": [
    {
     "name": "stdout",
     "output_type": "stream",
     "text": [
      "586.4990146501771 568.90842821899\n"
     ]
    },
    {
     "data": {
      "image/png": "[encoded data removed]",
      "text/plain": [
       "<Figure size 216x216 with 1 Axes>"
      ]
     },
     "metadata": {},
     "output_type": "display_data"
    }
   ],
   "source": [
    "# calculate average depth of immunoid next\n",
    "run_dir = '/rnd/users/rpyke/data/00-DASH/output/pipeline_nextDB_08'\n",
    "dash_directories = os.listdir(run_dir)\n",
    "dash_output_paths = [F'{run_dir}/{dash_directory}' for dash_directory in dash_directories]\n",
    "\n",
    "# check these paths all exists\n",
    "for path in dash_output_paths:\n",
    "    if not os.path.exists(path):\n",
    "        print(F\"Path: {path} doesn't exist\")\n",
    "\n",
    "# grab DASH.all_positions for A B C & calculate the mean depth\n",
    "normal_depths = []\n",
    "tumor_depths = []\n",
    "for dash_output_path in dash_output_paths:\n",
    "    gene_files = ['DASH.all_positions_A.csv', 'DASH.all_positions_B.csv', 'DASH.all_positions_C.csv']\n",
    "    \n",
    "    for gene_file in gene_files:\n",
    "        alleles = [1, 2]\n",
    "        try:\n",
    "            depth_df = pd.read_csv(F'{dash_output_path}/{gene_file}')\n",
    "            for allele in alleles:\n",
    "                depth_normal = statistics.mean(list(depth_df[F'coverage_normal_{allele}']))\n",
    "                depth_tumor = statistics.mean(list(depth_df[F'coverage_tumor_{allele}']))\n",
    "                normal_depths.append(depth_normal)\n",
    "                tumor_depths.append(depth_tumor)\n",
    "        except Exception as e:\n",
    "            pass\n",
    "\n",
    "print(np.mean(tumor_depths), np.median(tumor_depths))\n",
    "\n",
    "plt.figure(figsize=(3, 3))\n",
    "sns.set_context('talk', font_scale=0.7)\n",
    "\n",
    "pd.Series(tumor_depths).hist(bins=20, color='darkgrey')\n",
    "plt.xlabel('Sequencing depth')\n",
    "plt.ylabel('Number of\\nHLA gene loci')\n",
    "\n",
    "plt.savefig('/rnd/users/rpyke/data/00-DASH/figures/downsampling.ImmunoID_NeXT_coverage_histogram.pdf', \n",
    "            bbox_inches='tight')"
   ]
  },
  {
   "cell_type": "code",
   "execution_count": 30,
   "metadata": {},
   "outputs": [
    {
     "name": "stdout",
     "output_type": "stream",
     "text": [
      "161.05997886886743 136.90458167793216\n"
     ]
    },
    {
     "data": {
      "image/png": "[encoded data removed]",
      "text/plain": [
       "<Figure size 216x216 with 1 Axes>"
      ]
     },
     "metadata": {},
     "output_type": "display_data"
    }
   ],
   "source": [
    "# calculate average depth of immunoid next\n",
    "run_dir = '/rnd/users/rpyke/data/00-DASH/output/dbGap_02'\n",
    "dash_directories = os.listdir(run_dir)\n",
    "dash_output_paths = [F'{run_dir}/{dash_directory}' for dash_directory in dash_directories]\n",
    "\n",
    "# check these paths all exists\n",
    "for path in dash_output_paths:\n",
    "    if not os.path.exists(path):\n",
    "        print(F\"Path: {path} doesn't exist\")\n",
    "\n",
    "# grab DASH.all_positions for A B C & calculate the mean depth\n",
    "normal_depths = []\n",
    "tumor_depths = []\n",
    "for dash_output_path in dash_output_paths:\n",
    "    gene_files = ['DASH.all_positions_A.csv', 'DASH.all_positions_B.csv', 'DASH.all_positions_C.csv']\n",
    "    \n",
    "    for gene_file in gene_files:\n",
    "        alleles = [1, 2]\n",
    "        try:\n",
    "            depth_df = pd.read_csv(F'{dash_output_path}/{gene_file}')\n",
    "            for allele in alleles:\n",
    "                depth_normal = statistics.mean(list(depth_df[F'coverage_normal_{allele}']))\n",
    "                depth_tumor = statistics.mean(list(depth_df[F'coverage_tumor_{allele}']))\n",
    "                normal_depths.append(depth_normal)\n",
    "                tumor_depths.append(depth_tumor)\n",
    "        except Exception as e:\n",
    "            pass\n",
    "\n",
    "print(np.mean(tumor_depths), np.median(tumor_depths))\n",
    "            \n",
    "\n",
    "plt.figure(figsize=(3, 3))\n",
    "sns.set_context('talk', font_scale=0.7)\n",
    "\n",
    "pd.Series(tumor_depths).hist(bins=20, color='darkgrey')\n",
    "plt.xlabel('Sequencing depth')\n",
    "plt.ylabel('Number of\\nHLA gene loci')\n",
    "\n",
    "plt.savefig('/rnd/users/rpyke/data/00-DASH/figures/downsampling.Standard_exome_coverage_histogram.pdf', \n",
    "            bbox_inches='tight')"
   ]
  },
  {
   "cell_type": "code",
   "execution_count": 31,
   "metadata": {},
   "outputs": [
    {
     "data": {
      "text/plain": [
       "count    842.000000\n",
       "mean     161.059979\n",
       "std       93.661363\n",
       "min       24.443343\n",
       "25%       97.962577\n",
       "50%      136.904582\n",
       "75%      190.928813\n",
       "max      786.505184\n",
       "dtype: float64"
      ]
     },
     "execution_count": 31,
     "metadata": {},
     "output_type": "execute_result"
    }
   ],
   "source": [
    "pd.Series(tumor_depths).describe()"
   ]
  },
  {
   "cell_type": "code",
   "execution_count": null,
   "metadata": {},
   "outputs": [],
   "source": []
  }
 ],
 "metadata": {
  "kernelspec": {
   "display_name": "Python 3",
   "language": "python",
   "name": "python3"
  },
  "language_info": {
   "codemirror_mode": {
    "name": "ipython",
    "version": 3
   },
   "file_extension": ".py",
   "mimetype": "text/x-python",
   "name": "python",
   "nbconvert_exporter": "python",
   "pygments_lexer": "ipython3",
   "version": "3.7.3"
  }
 },
 "nbformat": 4,
 "nbformat_minor": 2
}
