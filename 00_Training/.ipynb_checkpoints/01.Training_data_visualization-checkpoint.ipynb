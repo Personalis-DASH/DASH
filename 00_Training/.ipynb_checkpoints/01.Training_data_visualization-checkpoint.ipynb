{
 "cells": [
  {
   "cell_type": "code",
   "execution_count": 1,
   "metadata": {},
   "outputs": [],
   "source": [
    "%run ../../bin/imports.ipynb"
   ]
  },
  {
   "cell_type": "markdown",
   "metadata": {},
   "source": [
    "## Visualizing the training data"
   ]
  },
  {
   "cell_type": "markdown",
   "metadata": {},
   "source": [
    "##### Import dataset"
   ]
  },
  {
   "cell_type": "code",
   "execution_count": 2,
   "metadata": {},
   "outputs": [],
   "source": [
    "train_df = pd.read_csv('/rnd/users/rpyke/data/00-DASH/manuscript_data_v2/training.all_data.csv')\n"
   ]
  },
  {
   "cell_type": "code",
   "execution_count": 3,
   "metadata": {},
   "outputs": [
    {
     "data": {
      "text/html": [
       "<div>\n",
       "<style scoped>\n",
       "    .dataframe tbody tr th:only-of-type {\n",
       "        vertical-align: middle;\n",
       "    }\n",
       "\n",
       "    .dataframe tbody tr th {\n",
       "        vertical-align: top;\n",
       "    }\n",
       "\n",
       "    .dataframe thead th {\n",
       "        text-align: right;\n",
       "    }\n",
       "</style>\n",
       "<table border=\"1\" class=\"dataframe\">\n",
       "  <thead>\n",
       "    <tr style=\"text-align: right;\">\n",
       "      <th></th>\n",
       "      <th>sample</th>\n",
       "      <th>gene</th>\n",
       "      <th>purity</th>\n",
       "      <th>ploidy</th>\n",
       "      <th>sequenza_major</th>\n",
       "      <th>sequenza_minor</th>\n",
       "      <th>baf_0</th>\n",
       "      <th>baf_1</th>\n",
       "      <th>baf_2</th>\n",
       "      <th>baf_3</th>\n",
       "      <th>...</th>\n",
       "      <th>numMismatch_19</th>\n",
       "      <th>numMismatch_20</th>\n",
       "      <th>numMismatch_21</th>\n",
       "      <th>numMismatch_22</th>\n",
       "      <th>numMismatch_23</th>\n",
       "      <th>ind</th>\n",
       "      <th>LOH</th>\n",
       "      <th>Changed</th>\n",
       "      <th>Notes</th>\n",
       "      <th>-</th>\n",
       "    </tr>\n",
       "  </thead>\n",
       "  <tbody>\n",
       "    <tr>\n",
       "      <th>0</th>\n",
       "      <td>DNA_S000443705</td>\n",
       "      <td>A</td>\n",
       "      <td>0.64</td>\n",
       "      <td>2</td>\n",
       "      <td>2.0</td>\n",
       "      <td>2.0</td>\n",
       "      <td>NaN</td>\n",
       "      <td>NaN</td>\n",
       "      <td>-0.026054</td>\n",
       "      <td>-0.035957</td>\n",
       "      <td>...</td>\n",
       "      <td>4</td>\n",
       "      <td>4</td>\n",
       "      <td>3</td>\n",
       "      <td>0</td>\n",
       "      <td>0.0</td>\n",
       "      <td>513</td>\n",
       "      <td>False</td>\n",
       "      <td>NaN</td>\n",
       "      <td>NaN</td>\n",
       "      <td>NaN</td>\n",
       "    </tr>\n",
       "    <tr>\n",
       "      <th>1</th>\n",
       "      <td>DNA_S000443705</td>\n",
       "      <td>B</td>\n",
       "      <td>0.64</td>\n",
       "      <td>2</td>\n",
       "      <td>2.0</td>\n",
       "      <td>1.0</td>\n",
       "      <td>NaN</td>\n",
       "      <td>NaN</td>\n",
       "      <td>-0.024833</td>\n",
       "      <td>0.002578</td>\n",
       "      <td>...</td>\n",
       "      <td>1</td>\n",
       "      <td>7</td>\n",
       "      <td>1</td>\n",
       "      <td>0</td>\n",
       "      <td>NaN</td>\n",
       "      <td>514</td>\n",
       "      <td>False</td>\n",
       "      <td>NaN</td>\n",
       "      <td>NaN</td>\n",
       "      <td>NaN</td>\n",
       "    </tr>\n",
       "    <tr>\n",
       "      <th>2</th>\n",
       "      <td>DNA_S000443705</td>\n",
       "      <td>C</td>\n",
       "      <td>0.64</td>\n",
       "      <td>2</td>\n",
       "      <td>2.0</td>\n",
       "      <td>2.0</td>\n",
       "      <td>0.046311</td>\n",
       "      <td>0.032911</td>\n",
       "      <td>-0.014469</td>\n",
       "      <td>-0.029771</td>\n",
       "      <td>...</td>\n",
       "      <td>0</td>\n",
       "      <td>1</td>\n",
       "      <td>0</td>\n",
       "      <td>0</td>\n",
       "      <td>NaN</td>\n",
       "      <td>515</td>\n",
       "      <td>False</td>\n",
       "      <td>NaN</td>\n",
       "      <td>NaN</td>\n",
       "      <td>NaN</td>\n",
       "    </tr>\n",
       "    <tr>\n",
       "      <th>3</th>\n",
       "      <td>DNA_302298</td>\n",
       "      <td>A</td>\n",
       "      <td>0.35</td>\n",
       "      <td>2</td>\n",
       "      <td>1.0</td>\n",
       "      <td>1.0</td>\n",
       "      <td>-0.011801</td>\n",
       "      <td>0.011353</td>\n",
       "      <td>0.059889</td>\n",
       "      <td>0.058102</td>\n",
       "      <td>...</td>\n",
       "      <td>0</td>\n",
       "      <td>5</td>\n",
       "      <td>3</td>\n",
       "      <td>2</td>\n",
       "      <td>0.0</td>\n",
       "      <td>516</td>\n",
       "      <td>False</td>\n",
       "      <td>NaN</td>\n",
       "      <td>NaN</td>\n",
       "      <td>NaN</td>\n",
       "    </tr>\n",
       "    <tr>\n",
       "      <th>4</th>\n",
       "      <td>DNA_302298</td>\n",
       "      <td>C</td>\n",
       "      <td>0.35</td>\n",
       "      <td>2</td>\n",
       "      <td>1.0</td>\n",
       "      <td>1.0</td>\n",
       "      <td>-0.024988</td>\n",
       "      <td>-0.025108</td>\n",
       "      <td>-0.029734</td>\n",
       "      <td>-0.065980</td>\n",
       "      <td>...</td>\n",
       "      <td>5</td>\n",
       "      <td>6</td>\n",
       "      <td>1</td>\n",
       "      <td>0</td>\n",
       "      <td>NaN</td>\n",
       "      <td>518</td>\n",
       "      <td>False</td>\n",
       "      <td>NaN</td>\n",
       "      <td>NaN</td>\n",
       "      <td>NaN</td>\n",
       "    </tr>\n",
       "  </tbody>\n",
       "</table>\n",
       "<p>5 rows × 107 columns</p>\n",
       "</div>"
      ],
      "text/plain": [
       "           sample gene  purity  ploidy  sequenza_major  sequenza_minor  \\\n",
       "0  DNA_S000443705    A    0.64       2             2.0             2.0   \n",
       "1  DNA_S000443705    B    0.64       2             2.0             1.0   \n",
       "2  DNA_S000443705    C    0.64       2             2.0             2.0   \n",
       "3      DNA_302298    A    0.35       2             1.0             1.0   \n",
       "4      DNA_302298    C    0.35       2             1.0             1.0   \n",
       "\n",
       "      baf_0     baf_1     baf_2     baf_3  ...  numMismatch_19  \\\n",
       "0       NaN       NaN -0.026054 -0.035957  ...               4   \n",
       "1       NaN       NaN -0.024833  0.002578  ...               1   \n",
       "2  0.046311  0.032911 -0.014469 -0.029771  ...               0   \n",
       "3 -0.011801  0.011353  0.059889  0.058102  ...               0   \n",
       "4 -0.024988 -0.025108 -0.029734 -0.065980  ...               5   \n",
       "\n",
       "   numMismatch_20  numMismatch_21  numMismatch_22  numMismatch_23  ind    LOH  \\\n",
       "0               4               3               0             0.0  513  False   \n",
       "1               7               1               0             NaN  514  False   \n",
       "2               1               0               0             NaN  515  False   \n",
       "3               5               3               2             0.0  516  False   \n",
       "4               6               1               0             NaN  518  False   \n",
       "\n",
       "   Changed  Notes    -  \n",
       "0      NaN    NaN  NaN  \n",
       "1      NaN    NaN  NaN  \n",
       "2      NaN    NaN  NaN  \n",
       "3      NaN    NaN  NaN  \n",
       "4      NaN    NaN  NaN  \n",
       "\n",
       "[5 rows x 107 columns]"
      ]
     },
     "execution_count": 3,
     "metadata": {},
     "output_type": "execute_result"
    }
   ],
   "source": [
    "train_df.head()"
   ]
  },
  {
   "cell_type": "code",
   "execution_count": 4,
   "metadata": {},
   "outputs": [
    {
     "data": {
      "text/plain": [
       "267"
      ]
     },
     "execution_count": 4,
     "metadata": {},
     "output_type": "execute_result"
    }
   ],
   "source": [
    "# 12 patients have been dropped because of poor data or ambiguous HLA LOH state\n",
    "len(set(list(train_df['sample'].unique())))"
   ]
  },
  {
   "cell_type": "code",
   "execution_count": 5,
   "metadata": {
    "scrolled": true
   },
   "outputs": [
    {
     "data": {
      "text/plain": [
       "720"
      ]
     },
     "execution_count": 5,
     "metadata": {},
     "output_type": "execute_result"
    }
   ],
   "source": [
    "len(train_df)"
   ]
  },
  {
   "cell_type": "code",
   "execution_count": 6,
   "metadata": {},
   "outputs": [
    {
     "data": {
      "text/plain": [
       "False    579\n",
       "True     141\n",
       "Name: LOH, dtype: int64"
      ]
     },
     "execution_count": 6,
     "metadata": {},
     "output_type": "execute_result"
    }
   ],
   "source": [
    "train_df.LOH.value_counts()"
   ]
  },
  {
   "cell_type": "code",
   "execution_count": 7,
   "metadata": {},
   "outputs": [
    {
     "data": {
      "text/plain": [
       "0.19583333333333333"
      ]
     },
     "execution_count": 7,
     "metadata": {},
     "output_type": "execute_result"
    }
   ],
   "source": [
    "len(train_df[train_df.LOH]) / len(train_df)"
   ]
  },
  {
   "cell_type": "code",
   "execution_count": 8,
   "metadata": {},
   "outputs": [],
   "source": [
    "green = '#77c722'\n",
    "blue = '#3864b5'"
   ]
  },
  {
   "cell_type": "code",
   "execution_count": 9,
   "metadata": {},
   "outputs": [],
   "source": [
    "plotting_df = pd.DataFrame({'LOH': ['True', 'False'],\n",
    "             'Set': ['Train', 'Train'],\n",
    "             'Number of\\nHeterozygous Genes': [len(train_df[train_df.LOH]), \n",
    "                                               len(train_df[~train_df.LOH])]})"
   ]
  },
  {
   "cell_type": "code",
   "execution_count": 10,
   "metadata": {},
   "outputs": [
    {
     "data": {
      "text/plain": [
       "<matplotlib.axes._subplots.AxesSubplot at 0x14bf72eaf080>"
      ]
     },
     "execution_count": 10,
     "metadata": {},
     "output_type": "execute_result"
    },
    {
     "data": {
      "image/png": "[encoded data removed]",
      "text/plain": [
       "<Figure size 216x324 with 1 Axes>"
      ]
     },
     "metadata": {
      "needs_background": "light"
     },
     "output_type": "display_data"
    }
   ],
   "source": [
    "sns.set_context('talk', font_scale=0.7)\n",
    "plt.figure(figsize=(3, 4.5))\n",
    "sns.barplot(x='Set', y='Number of\\nHeterozygous Genes', hue='LOH', data=plotting_df, palette=[blue, green])\n",
    "#plt.savefig('/rnd/users/rpyke/data/00-DASH/figures/training.train_test_split.bar.pdf', \n",
    "#            bbox_inches='tight')"
   ]
  },
  {
   "cell_type": "markdown",
   "metadata": {},
   "source": [
    "##### Generate all features"
   ]
  },
  {
   "cell_type": "code",
   "execution_count": 11,
   "metadata": {},
   "outputs": [],
   "source": [
    "original_columns_names = ['sample', 'gene', 'purity', 'ploidy', 'sequenza_major', 'sequenza_minor'] + \\\n",
    "                ['baf_'+str(x) for x in range(0, 24)] + ['coverage1_'+str(x) for x in range(0, 24)] + \\\n",
    "                ['coverage2_'+str(x) for x in range(0, 24)] + ['numMismatch_'+str(x) for x in range(0, 24)]"
   ]
  },
  {
   "cell_type": "code",
   "execution_count": 12,
   "metadata": {},
   "outputs": [],
   "source": [
    "# Need to get this on the same scale, regardless of which is lower\n",
    "def get_lower_value(x):\n",
    "    if math.isnan(x[0]):\n",
    "        return 0.5\n",
    "    elif x[0] < x[1]:\n",
    "        return 0\n",
    "    else:\n",
    "        return 1"
   ]
  },
  {
   "cell_type": "code",
   "execution_count": 13,
   "metadata": {},
   "outputs": [],
   "source": [
    "def get_new_features(df):\n",
    "    for i in range(0, 24):\n",
    "        df['minCoverage_'+str(i)] = np.min(df[['coverage1_'+str(i), 'coverage2_'+str(i)]], axis=1)\n",
    "        #df['medCoverage1'+str(i)] = df[['coverage1_'+str(i)]]\n",
    "        df['a1lowerCov_'+str(i)] = df[['coverage1_'+str(i), 'coverage2_'+str(i)]].apply(get_lower_value, axis=1)\n",
    "        df['a2lowerCov_'+str(i)] = df[['coverage2_'+str(i), 'coverage1_'+str(i)]].apply(get_lower_value, axis=1)\n",
    "        df['sumCoverage_'+str(i)] = df[['coverage1_'+str(i), 'coverage2_'+str(i)]].sum(axis=1)\n",
    "    df['baf_median'] = abs(df[[x for x in list(df.columns) if 'baf_' in x]].median(axis=1))\n",
    "    df['baf_sum'] = df[[x for x in list(df.columns) if 'baf_' in x]].sum(axis=1)\n",
    "    df['baf_sum_abs'] = abs(df['baf_sum'])\n",
    "    \n",
    "    df['totalCoverage_median'] = df[[x for x in list(df.columns) if 'sumCoverage_' in x]].median(axis=1)\n",
    "    df['minCoverage_median'] = df[[x for x in list(df.columns) if 'minCoverage_' in x]].median(axis=1)\n",
    "    df['medCoverage1'] = df[[x for x in list(df.columns) if 'coverage1_' in x]].median(axis=1)\n",
    "    df['medCoverage2'] = df[[x for x in list(df.columns) if 'coverage2_' in x]].median(axis=1)\n",
    "    #df['minMedCoverage'] = df[['medCoverage1', 'medCoverage2']].apply(get_lower_value, axis=1)\n",
    "    df['minMedCoverage'] = df[['medCoverage1', 'medCoverage2']].min(axis=1)\n",
    "    df['a1PercCov'] = df[[x for x in list(df.columns) if 'a1lowerCov_' in x]].mean(axis=1)\n",
    "    df['a2PercCov'] = df[[x for x in list(df.columns) if 'a2lowerCov_' in x]].mean(axis=1)\n",
    "    df['percCov'] = df[['a1PercCov', 'a2PercCov']].max(axis=1)\n",
    "    df['Sequenza_Loss'] = ~df.sequenza_minor.astype(bool)\n",
    "    df['Sequenza_imbalance'] = df['sequenza_major'] != df['sequenza_minor']\n",
    "    df['Sequenza_difference'] = df['sequenza_major'] - df['sequenza_minor']\n",
    "    return df"
   ]
  },
  {
   "cell_type": "code",
   "execution_count": 14,
   "metadata": {},
   "outputs": [],
   "source": [
    "# Adding new features\n",
    "train_df = get_new_features(train_df)"
   ]
  },
  {
   "cell_type": "markdown",
   "metadata": {},
   "source": [
    "##### Visualize features"
   ]
  },
  {
   "cell_type": "code",
   "execution_count": 15,
   "metadata": {
    "scrolled": false
   },
   "outputs": [
    {
     "name": "stderr",
     "output_type": "stream",
     "text": [
      "\n",
      "A value is trying to be set on a copy of a slice from a DataFrame.\n",
      "Try using .loc[row_indexer,col_indexer] = value instead\n",
      "\n",
      "See the caveats in the documentation: http://pandas.pydata.org/pandas-docs/stable/indexing.html#indexing-view-versus-copy\n"
     ]
    }
   ],
   "source": [
    "training_columns_without_seq = ['purity', 'ploidy', \n",
    "                    'minMedCoverage','baf_median', 'percCov', 'totalCoverage_median']\n",
    "plotting_df = train_df[training_columns_without_seq + ['Sequenza_Loss', 'LOH']]\n",
    "plotting_df['HLA LOH'] = plotting_df['LOH']"
   ]
  },
  {
   "cell_type": "code",
   "execution_count": 16,
   "metadata": {
    "scrolled": true
   },
   "outputs": [
    {
     "name": "stdout",
     "output_type": "stream",
     "text": [
      "F1:  0.8481012658227848\n",
      "Accuracy:  0.9333333333333333\n"
     ]
    }
   ],
   "source": [
    "##### Accuracy with just Sequenza ####\n",
    "print('F1: ', sklearn.metrics.f1_score(plotting_df.Sequenza_Loss, plotting_df.LOH))\n",
    "print('Accuracy: ', sklearn.metrics.accuracy_score(plotting_df.Sequenza_Loss, plotting_df.LOH))"
   ]
  },
  {
   "cell_type": "code",
   "execution_count": 17,
   "metadata": {},
   "outputs": [
    {
     "data": {
      "image/png": "[encoded data removed]",
      "text/plain": [
       "<Figure size 252x216 with 1 Axes>"
      ]
     },
     "metadata": {
      "needs_background": "light"
     },
     "output_type": "display_data"
    }
   ],
   "source": [
    "sns.set_context('talk', font_scale=0.7)\n",
    "plt.figure(figsize=(3.5, 3))\n",
    "sns.scatterplot(x='purity', y='baf_median', data=plotting_df, hue='HLA LOH', s=20, palette=[green, blue])\n",
    "plt.ylabel('Adjusted b-allele\\nfrequency')\n",
    "plt.xlabel('Purity')\n",
    "plt.savefig('/rnd/users/rpyke/data/00-DASH/figures/features.adjusted_baf.scatter.pdf', \n",
    "            bbox_inches='tight')"
   ]
  },
  {
   "cell_type": "code",
   "execution_count": 18,
   "metadata": {},
   "outputs": [
    {
     "data": {
      "image/png": "[encoded data removed]",
      "text/plain": [
       "<Figure size 252x216 with 1 Axes>"
      ]
     },
     "metadata": {
      "needs_background": "light"
     },
     "output_type": "display_data"
    }
   ],
   "source": [
    "sns.set_context('talk', font_scale=0.7)\n",
    "plt.figure(figsize=(3.5, 3))\n",
    "sns.scatterplot(x='purity', y='minMedCoverage', data=plotting_df, hue='HLA LOH', s=20, palette=[green, blue])\n",
    "plt.ylabel('Allele-specific\\ncoverage ratio')\n",
    "plt.xlabel('Purity')\n",
    "plt.savefig('/rnd/users/rpyke/data/00-DASH/figures/features.allele_coverage_ratio.scatter.pdf', \n",
    "            bbox_inches='tight')"
   ]
  },
  {
   "cell_type": "code",
   "execution_count": 19,
   "metadata": {},
   "outputs": [
    {
     "data": {
      "image/png": "[encoded data removed]",
      "text/plain": [
       "<Figure size 144x216 with 1 Axes>"
      ]
     },
     "metadata": {
      "needs_background": "light"
     },
     "output_type": "display_data"
    }
   ],
   "source": [
    "sns.set_context('talk', font_scale=0.7)\n",
    "plt.figure(figsize=(2, 3))\n",
    "sns.boxplot(x='HLA LOH', y='percCov', data=plotting_df, palette=[green, blue])\n",
    "plt.ylabel('Consistency of\\ncoverage')\n",
    "plt.savefig('/rnd/users/rpyke/data/00-DASH/figures/features.consistency_of_coverage.box.pdf', \n",
    "            bbox_inches='tight')"
   ]
  },
  {
   "cell_type": "code",
   "execution_count": 20,
   "metadata": {},
   "outputs": [
    {
     "data": {
      "text/plain": [
       "Ttest_indResult(statistic=11.999707391578374, pvalue=2.3024360795157734e-30)"
      ]
     },
     "execution_count": 20,
     "metadata": {},
     "output_type": "execute_result"
    }
   ],
   "source": [
    "sp.ttest_ind(list(plotting_df[plotting_df['HLA LOH']].percCov),\n",
    "                 list(plotting_df[~plotting_df['HLA LOH']].percCov))"
   ]
  },
  {
   "cell_type": "code",
   "execution_count": 21,
   "metadata": {},
   "outputs": [
    {
     "data": {
      "image/png": "[encoded data removed]",
      "text/plain": [
       "<Figure size 144x216 with 1 Axes>"
      ]
     },
     "metadata": {
      "needs_background": "light"
     },
     "output_type": "display_data"
    }
   ],
   "source": [
    "sns.set_context('talk', font_scale=0.7)\n",
    "plt.figure(figsize=(2, 3))\n",
    "sns.boxplot(x='HLA LOH', y='totalCoverage_median', data=plotting_df, palette=[green, blue])\n",
    "plt.ylabel('Total coverage')\n",
    "plt.savefig('/rnd/users/rpyke/data/00-DASH/figures/features.total_coverage.box.pdf', \n",
    "            bbox_inches='tight')"
   ]
  },
  {
   "cell_type": "code",
   "execution_count": 22,
   "metadata": {},
   "outputs": [
    {
     "data": {
      "text/plain": [
       "Ttest_indResult(statistic=-3.586322644596364, pvalue=0.000358107391342126)"
      ]
     },
     "execution_count": 22,
     "metadata": {},
     "output_type": "execute_result"
    }
   ],
   "source": [
    "sp.ttest_ind(list(plotting_df[plotting_df['HLA LOH']].totalCoverage_median),\n",
    "                 list(plotting_df[~plotting_df['HLA LOH']].totalCoverage_median))"
   ]
  },
  {
   "cell_type": "code",
   "execution_count": 23,
   "metadata": {},
   "outputs": [
    {
     "data": {
      "text/html": [
       "<div>\n",
       "<style scoped>\n",
       "    .dataframe tbody tr th:only-of-type {\n",
       "        vertical-align: middle;\n",
       "    }\n",
       "\n",
       "    .dataframe tbody tr th {\n",
       "        vertical-align: top;\n",
       "    }\n",
       "\n",
       "    .dataframe thead th {\n",
       "        text-align: right;\n",
       "    }\n",
       "</style>\n",
       "<table border=\"1\" class=\"dataframe\">\n",
       "  <thead>\n",
       "    <tr style=\"text-align: right;\">\n",
       "      <th></th>\n",
       "      <th>purity</th>\n",
       "      <th>ploidy</th>\n",
       "      <th>minMedCoverage</th>\n",
       "      <th>baf_median</th>\n",
       "      <th>percCov</th>\n",
       "      <th>totalCoverage_median</th>\n",
       "      <th>Sequenza_Loss</th>\n",
       "      <th>LOH</th>\n",
       "      <th>HLA LOH</th>\n",
       "    </tr>\n",
       "  </thead>\n",
       "  <tbody>\n",
       "    <tr>\n",
       "      <th>0</th>\n",
       "      <td>0.64</td>\n",
       "      <td>2</td>\n",
       "      <td>0.711237</td>\n",
       "      <td>0.035957</td>\n",
       "      <td>0.729167</td>\n",
       "      <td>1.376258</td>\n",
       "      <td>False</td>\n",
       "      <td>False</td>\n",
       "      <td>False</td>\n",
       "    </tr>\n",
       "    <tr>\n",
       "      <th>1</th>\n",
       "      <td>0.64</td>\n",
       "      <td>2</td>\n",
       "      <td>0.634174</td>\n",
       "      <td>0.008579</td>\n",
       "      <td>0.500000</td>\n",
       "      <td>1.058356</td>\n",
       "      <td>False</td>\n",
       "      <td>False</td>\n",
       "      <td>False</td>\n",
       "    </tr>\n",
       "    <tr>\n",
       "      <th>2</th>\n",
       "      <td>0.64</td>\n",
       "      <td>2</td>\n",
       "      <td>0.767484</td>\n",
       "      <td>0.029771</td>\n",
       "      <td>0.562500</td>\n",
       "      <td>1.018322</td>\n",
       "      <td>False</td>\n",
       "      <td>False</td>\n",
       "      <td>False</td>\n",
       "    </tr>\n",
       "    <tr>\n",
       "      <th>3</th>\n",
       "      <td>0.35</td>\n",
       "      <td>2</td>\n",
       "      <td>0.983976</td>\n",
       "      <td>0.011144</td>\n",
       "      <td>0.583333</td>\n",
       "      <td>1.987818</td>\n",
       "      <td>False</td>\n",
       "      <td>False</td>\n",
       "      <td>False</td>\n",
       "    </tr>\n",
       "    <tr>\n",
       "      <th>4</th>\n",
       "      <td>0.35</td>\n",
       "      <td>2</td>\n",
       "      <td>1.089240</td>\n",
       "      <td>0.006574</td>\n",
       "      <td>0.625000</td>\n",
       "      <td>2.191885</td>\n",
       "      <td>False</td>\n",
       "      <td>False</td>\n",
       "      <td>False</td>\n",
       "    </tr>\n",
       "  </tbody>\n",
       "</table>\n",
       "</div>"
      ],
      "text/plain": [
       "   purity  ploidy  minMedCoverage  baf_median   percCov  totalCoverage_median  \\\n",
       "0    0.64       2        0.711237    0.035957  0.729167              1.376258   \n",
       "1    0.64       2        0.634174    0.008579  0.500000              1.058356   \n",
       "2    0.64       2        0.767484    0.029771  0.562500              1.018322   \n",
       "3    0.35       2        0.983976    0.011144  0.583333              1.987818   \n",
       "4    0.35       2        1.089240    0.006574  0.625000              2.191885   \n",
       "\n",
       "   Sequenza_Loss    LOH  HLA LOH  \n",
       "0          False  False    False  \n",
       "1          False  False    False  \n",
       "2          False  False    False  \n",
       "3          False  False    False  \n",
       "4          False  False    False  "
      ]
     },
     "execution_count": 23,
     "metadata": {},
     "output_type": "execute_result"
    }
   ],
   "source": [
    "plotting_df.head()"
   ]
  },
  {
   "cell_type": "code",
   "execution_count": 24,
   "metadata": {},
   "outputs": [],
   "source": [
    "# Saving source data\n",
    "panel_name = 'supp_figure_1a-d'\n",
    "plotting_df[['baf_median', 'minMedCoverage', 'percCov', 'totalCoverage_median', \n",
    "             'HLA LOH']].to_excel('/rnd/users/rpyke/data/00-DASH/manuscript_source_data/{0}.xlsx'.format(panel_name),\n",
    "                                 index=None)"
   ]
  },
  {
   "cell_type": "code",
   "execution_count": 25,
   "metadata": {},
   "outputs": [
    {
     "data": {
      "image/png": "[encoded data removed]",
      "text/plain": [
       "<Figure size 252x216 with 1 Axes>"
      ]
     },
     "metadata": {
      "needs_background": "light"
     },
     "output_type": "display_data"
    }
   ],
   "source": [
    "sns.set_context('talk', font_scale=0.7)\n",
    "plt.figure(figsize=(3.5, 3))\n",
    "train_df[~train_df['LOH']].drop_duplicates('sample').purity.hist(label='No HLA LOH', \n",
    "                                                color=green)\n",
    "train_df[train_df['LOH']].drop_duplicates('sample').purity.hist(label='HLA LOH', \n",
    "                                                color=blue)\n",
    "plt.legend()\n",
    "plt.xlabel('Tumor purity')\n",
    "plt.ylabel('Number of patients')\n",
    "plt.savefig('/rnd/users/rpyke/data/00-DASH/figures/features.purity.histogram.pdf', \n",
    "            bbox_inches='tight')"
   ]
  },
  {
   "cell_type": "code",
   "execution_count": 26,
   "metadata": {},
   "outputs": [
    {
     "data": {
      "image/png": "[encoded data removed]",
      "text/plain": [
       "<Figure size 144x216 with 1 Axes>"
      ]
     },
     "metadata": {
      "needs_background": "light"
     },
     "output_type": "display_data"
    }
   ],
   "source": [
    "sns.set_context('talk', font_scale=0.7)\n",
    "plt.figure(figsize=(2, 3))\n",
    "train_df[~train_df['LOH']].drop_duplicates('sample').ploidy.value_counts().plot(kind='bar', label='No HLA LOH', \n",
    "                                                color=green)\n",
    "train_df[train_df['LOH']].drop_duplicates('sample').ploidy.value_counts().plot(kind='bar', label='HLA LOH', \n",
    "                                                color=blue)\n",
    "plt.legend()\n",
    "plt.xlabel('Tumor Ploidy')\n",
    "plt.ylabel('Number of Patients')\n",
    "plt.savefig('/rnd/users/rpyke/data/00-DASH/figures/features.ploidy.bar.pdf', \n",
    "            bbox_inches='tight')"
   ]
  },
  {
   "cell_type": "code",
   "execution_count": 27,
   "metadata": {},
   "outputs": [],
   "source": [
    "# Saving source data\n",
    "panel_name = 'supp_figure_1e-f'\n",
    "pd.concat([train_df[~train_df['LOH']].drop_duplicates('sample')[['purity', 'ploidy']],\n",
    "           train_df[train_df['LOH']].drop_duplicates('sample')[['purity', 'ploidy']]]).to_excel('/rnd/users/rpyke/data/00-DASH/manuscript_source_data/{0}.xlsx'.format(panel_name),\n",
    "                                 index=None)"
   ]
  },
  {
   "cell_type": "markdown",
   "metadata": {},
   "source": [
    "##### CNV size for HLA region - Need patient data moved to new system location to generate this plot"
   ]
  },
  {
   "cell_type": "code",
   "execution_count": 28,
   "metadata": {},
   "outputs": [],
   "source": [
    "input_df = pd.read_csv('/rnd/users/rpyke/data/00-DASH/manuscript_data_v2/pancancer.readdata.csv')\n",
    "patients = list(input_df.sample_name_tumor)\n"
   ]
  },
  {
   "cell_type": "code",
   "execution_count": 29,
   "metadata": {},
   "outputs": [],
   "source": [
    "genome_wide_sizes = pd.read_csv('/rnd/users/rpyke/data/00-DASH/manuscript_data_v2/pancancer.genome_wide_LOH.csv', index_col=0)"
   ]
  },
  {
   "cell_type": "code",
   "execution_count": 30,
   "metadata": {},
   "outputs": [
    {
     "data": {
      "text/html": [
       "<div>\n",
       "<style scoped>\n",
       "    .dataframe tbody tr th:only-of-type {\n",
       "        vertical-align: middle;\n",
       "    }\n",
       "\n",
       "    .dataframe tbody tr th {\n",
       "        vertical-align: top;\n",
       "    }\n",
       "\n",
       "    .dataframe thead th {\n",
       "        text-align: right;\n",
       "    }\n",
       "</style>\n",
       "<table border=\"1\" class=\"dataframe\">\n",
       "  <thead>\n",
       "    <tr style=\"text-align: right;\">\n",
       "      <th></th>\n",
       "      <th>cancer_home</th>\n",
       "      <th>neo_home</th>\n",
       "      <th>normal_home</th>\n",
       "      <th>rna_home</th>\n",
       "      <th>sample_name_normal</th>\n",
       "      <th>sample_name_tumor</th>\n",
       "      <th>tumor_home</th>\n",
       "      <th>run_id</th>\n",
       "      <th>hla_type</th>\n",
       "      <th>sequenza_confints_cp</th>\n",
       "      <th>hla_somatic_mutations</th>\n",
       "      <th>normal_qc_summary</th>\n",
       "      <th>tumor_qc_summary</th>\n",
       "      <th>sequenza_cnv</th>\n",
       "      <th>normal_fastq</th>\n",
       "      <th>tumor_fastq</th>\n",
       "    </tr>\n",
       "  </thead>\n",
       "  <tbody>\n",
       "    <tr>\n",
       "      <th>0</th>\n",
       "      <td>/rnd/projects/next_db/5984/148683/12764210/PIP...</td>\n",
       "      <td>/rnd/projects/next_db/5984/148683/12764210/PIP...</td>\n",
       "      <td>/rnd/projects/next_db/5984/148683/12764210/PIP...</td>\n",
       "      <td>/rnd/projects/next_db/5984/148683/12764210/PIP...</td>\n",
       "      <td>DNA_S000460822</td>\n",
       "      <td>DNA_S000460823</td>\n",
       "      <td>/rnd/projects/next_db/5984/148683/12764210/PIP...</td>\n",
       "      <td>5984</td>\n",
       "      <td>/rnd/projects/next_db/5984/148683/12764210/PIP...</td>\n",
       "      <td>/rnd/projects/next_db/5984/148683/12764210/PIP...</td>\n",
       "      <td>/rnd/projects/next_db/5984/148683/12764210/PIP...</td>\n",
       "      <td>/rnd/projects/next_db/5984/148683/12764210/PIP...</td>\n",
       "      <td>/rnd/projects/next_db/5984/148683/12764210/PIP...</td>\n",
       "      <td>/rnd/projects/next_db/5984/148683/12764210/PIP...</td>\n",
       "      <td>/rnd/projects/next_db/5984/148683/12764210/PIP...</td>\n",
       "      <td>/rnd/projects/next_db/5984/148683/12764210/PIP...</td>\n",
       "    </tr>\n",
       "    <tr>\n",
       "      <th>1</th>\n",
       "      <td>/rnd/projects/next_db/5984/148655/12761588/PIP...</td>\n",
       "      <td>/rnd/projects/next_db/5984/148655/12761588/PIP...</td>\n",
       "      <td>/rnd/projects/next_db/5984/148655/12761588/PIP...</td>\n",
       "      <td>/rnd/projects/next_db/5984/148655/12761588/PIP...</td>\n",
       "      <td>DNA_D00689998_B1</td>\n",
       "      <td>DNA_D00689998_A1</td>\n",
       "      <td>/rnd/projects/next_db/5984/148655/12761588/PIP...</td>\n",
       "      <td>5984</td>\n",
       "      <td>/rnd/projects/next_db/5984/148655/12761588/PIP...</td>\n",
       "      <td>/rnd/projects/next_db/5984/148655/12761588/PIP...</td>\n",
       "      <td>/rnd/projects/next_db/5984/148655/12761588/PIP...</td>\n",
       "      <td>/rnd/projects/next_db/5984/148655/12761588/PIP...</td>\n",
       "      <td>/rnd/projects/next_db/5984/148655/12761588/PIP...</td>\n",
       "      <td>/rnd/projects/next_db/5984/148655/12761588/PIP...</td>\n",
       "      <td>/rnd/projects/next_db/5984/148655/12761588/PIP...</td>\n",
       "      <td>/rnd/projects/next_db/5984/148655/12761588/PIP...</td>\n",
       "    </tr>\n",
       "    <tr>\n",
       "      <th>2</th>\n",
       "      <td>/rnd/projects/next_db/5984/148659/12761945/PIP...</td>\n",
       "      <td>/rnd/projects/next_db/5984/148659/12761945/PIP...</td>\n",
       "      <td>/rnd/projects/next_db/5984/148659/12761945/PIP...</td>\n",
       "      <td>/rnd/projects/next_db/5984/148659/12761945/PIP...</td>\n",
       "      <td>DNA_D00689957_B1</td>\n",
       "      <td>DNA_D00689957_A1</td>\n",
       "      <td>/rnd/projects/next_db/5984/148659/12761945/PIP...</td>\n",
       "      <td>5984</td>\n",
       "      <td>/rnd/projects/next_db/5984/148659/12761945/PIP...</td>\n",
       "      <td>/rnd/projects/next_db/5984/148659/12761945/PIP...</td>\n",
       "      <td>/rnd/projects/next_db/5984/148659/12761945/PIP...</td>\n",
       "      <td>/rnd/projects/next_db/5984/148659/12761945/PIP...</td>\n",
       "      <td>/rnd/projects/next_db/5984/148659/12761945/PIP...</td>\n",
       "      <td>/rnd/projects/next_db/5984/148659/12761945/PIP...</td>\n",
       "      <td>/rnd/projects/next_db/5984/148659/12761945/PIP...</td>\n",
       "      <td>/rnd/projects/next_db/5984/148659/12761945/PIP...</td>\n",
       "    </tr>\n",
       "    <tr>\n",
       "      <th>3</th>\n",
       "      <td>/rnd/projects/next_db/5984/148665/12762499/PIP...</td>\n",
       "      <td>/rnd/projects/next_db/5984/148665/12762499/PIP...</td>\n",
       "      <td>/rnd/projects/next_db/5984/148665/12762499/PIP...</td>\n",
       "      <td>/rnd/projects/next_db/5984/148665/12762499/PIP...</td>\n",
       "      <td>DNA_D00689946_A2c</td>\n",
       "      <td>DNA_D00689946_A2a</td>\n",
       "      <td>/rnd/projects/next_db/5984/148665/12762499/PIP...</td>\n",
       "      <td>5984</td>\n",
       "      <td>/rnd/projects/next_db/5984/148665/12762499/PIP...</td>\n",
       "      <td>/rnd/projects/next_db/5984/148665/12762499/PIP...</td>\n",
       "      <td>/rnd/projects/next_db/5984/148665/12762499/PIP...</td>\n",
       "      <td>/rnd/projects/next_db/5984/148665/12762499/PIP...</td>\n",
       "      <td>/rnd/projects/next_db/5984/148665/12762499/PIP...</td>\n",
       "      <td>/rnd/projects/next_db/5984/148665/12762499/PIP...</td>\n",
       "      <td>/rnd/projects/next_db/5984/148665/12762499/PIP...</td>\n",
       "      <td>/rnd/projects/next_db/5984/148665/12762499/PIP...</td>\n",
       "    </tr>\n",
       "    <tr>\n",
       "      <th>4</th>\n",
       "      <td>/rnd/projects/next_db/5984/148689/12764764/PIP...</td>\n",
       "      <td>/rnd/projects/next_db/5984/148689/12764764/PIP...</td>\n",
       "      <td>/rnd/projects/next_db/5984/148689/12764764/PIP...</td>\n",
       "      <td>/rnd/projects/next_db/5984/148689/12764764/PIP...</td>\n",
       "      <td>DNA_S000465411</td>\n",
       "      <td>DNA_S000465410</td>\n",
       "      <td>/rnd/projects/next_db/5984/148689/12764764/PIP...</td>\n",
       "      <td>5984</td>\n",
       "      <td>/rnd/projects/next_db/5984/148689/12764764/PIP...</td>\n",
       "      <td>/rnd/projects/next_db/5984/148689/12764764/PIP...</td>\n",
       "      <td>/rnd/projects/next_db/5984/148689/12764764/PIP...</td>\n",
       "      <td>/rnd/projects/next_db/5984/148689/12764764/PIP...</td>\n",
       "      <td>/rnd/projects/next_db/5984/148689/12764764/PIP...</td>\n",
       "      <td>/rnd/projects/next_db/5984/148689/12764764/PIP...</td>\n",
       "      <td>/rnd/projects/next_db/5984/148689/12764764/PIP...</td>\n",
       "      <td>/rnd/projects/next_db/5984/148689/12764764/PIP...</td>\n",
       "    </tr>\n",
       "  </tbody>\n",
       "</table>\n",
       "</div>"
      ],
      "text/plain": [
       "                                         cancer_home  \\\n",
       "0  /rnd/projects/next_db/5984/148683/12764210/PIP...   \n",
       "1  /rnd/projects/next_db/5984/148655/12761588/PIP...   \n",
       "2  /rnd/projects/next_db/5984/148659/12761945/PIP...   \n",
       "3  /rnd/projects/next_db/5984/148665/12762499/PIP...   \n",
       "4  /rnd/projects/next_db/5984/148689/12764764/PIP...   \n",
       "\n",
       "                                            neo_home  \\\n",
       "0  /rnd/projects/next_db/5984/148683/12764210/PIP...   \n",
       "1  /rnd/projects/next_db/5984/148655/12761588/PIP...   \n",
       "2  /rnd/projects/next_db/5984/148659/12761945/PIP...   \n",
       "3  /rnd/projects/next_db/5984/148665/12762499/PIP...   \n",
       "4  /rnd/projects/next_db/5984/148689/12764764/PIP...   \n",
       "\n",
       "                                         normal_home  \\\n",
       "0  /rnd/projects/next_db/5984/148683/12764210/PIP...   \n",
       "1  /rnd/projects/next_db/5984/148655/12761588/PIP...   \n",
       "2  /rnd/projects/next_db/5984/148659/12761945/PIP...   \n",
       "3  /rnd/projects/next_db/5984/148665/12762499/PIP...   \n",
       "4  /rnd/projects/next_db/5984/148689/12764764/PIP...   \n",
       "\n",
       "                                            rna_home sample_name_normal  \\\n",
       "0  /rnd/projects/next_db/5984/148683/12764210/PIP...     DNA_S000460822   \n",
       "1  /rnd/projects/next_db/5984/148655/12761588/PIP...   DNA_D00689998_B1   \n",
       "2  /rnd/projects/next_db/5984/148659/12761945/PIP...   DNA_D00689957_B1   \n",
       "3  /rnd/projects/next_db/5984/148665/12762499/PIP...  DNA_D00689946_A2c   \n",
       "4  /rnd/projects/next_db/5984/148689/12764764/PIP...     DNA_S000465411   \n",
       "\n",
       "   sample_name_tumor                                         tumor_home  \\\n",
       "0     DNA_S000460823  /rnd/projects/next_db/5984/148683/12764210/PIP...   \n",
       "1   DNA_D00689998_A1  /rnd/projects/next_db/5984/148655/12761588/PIP...   \n",
       "2   DNA_D00689957_A1  /rnd/projects/next_db/5984/148659/12761945/PIP...   \n",
       "3  DNA_D00689946_A2a  /rnd/projects/next_db/5984/148665/12762499/PIP...   \n",
       "4     DNA_S000465410  /rnd/projects/next_db/5984/148689/12764764/PIP...   \n",
       "\n",
       "  run_id                                           hla_type  \\\n",
       "0   5984  /rnd/projects/next_db/5984/148683/12764210/PIP...   \n",
       "1   5984  /rnd/projects/next_db/5984/148655/12761588/PIP...   \n",
       "2   5984  /rnd/projects/next_db/5984/148659/12761945/PIP...   \n",
       "3   5984  /rnd/projects/next_db/5984/148665/12762499/PIP...   \n",
       "4   5984  /rnd/projects/next_db/5984/148689/12764764/PIP...   \n",
       "\n",
       "                                sequenza_confints_cp  \\\n",
       "0  /rnd/projects/next_db/5984/148683/12764210/PIP...   \n",
       "1  /rnd/projects/next_db/5984/148655/12761588/PIP...   \n",
       "2  /rnd/projects/next_db/5984/148659/12761945/PIP...   \n",
       "3  /rnd/projects/next_db/5984/148665/12762499/PIP...   \n",
       "4  /rnd/projects/next_db/5984/148689/12764764/PIP...   \n",
       "\n",
       "                               hla_somatic_mutations  \\\n",
       "0  /rnd/projects/next_db/5984/148683/12764210/PIP...   \n",
       "1  /rnd/projects/next_db/5984/148655/12761588/PIP...   \n",
       "2  /rnd/projects/next_db/5984/148659/12761945/PIP...   \n",
       "3  /rnd/projects/next_db/5984/148665/12762499/PIP...   \n",
       "4  /rnd/projects/next_db/5984/148689/12764764/PIP...   \n",
       "\n",
       "                                   normal_qc_summary  \\\n",
       "0  /rnd/projects/next_db/5984/148683/12764210/PIP...   \n",
       "1  /rnd/projects/next_db/5984/148655/12761588/PIP...   \n",
       "2  /rnd/projects/next_db/5984/148659/12761945/PIP...   \n",
       "3  /rnd/projects/next_db/5984/148665/12762499/PIP...   \n",
       "4  /rnd/projects/next_db/5984/148689/12764764/PIP...   \n",
       "\n",
       "                                    tumor_qc_summary  \\\n",
       "0  /rnd/projects/next_db/5984/148683/12764210/PIP...   \n",
       "1  /rnd/projects/next_db/5984/148655/12761588/PIP...   \n",
       "2  /rnd/projects/next_db/5984/148659/12761945/PIP...   \n",
       "3  /rnd/projects/next_db/5984/148665/12762499/PIP...   \n",
       "4  /rnd/projects/next_db/5984/148689/12764764/PIP...   \n",
       "\n",
       "                                        sequenza_cnv  \\\n",
       "0  /rnd/projects/next_db/5984/148683/12764210/PIP...   \n",
       "1  /rnd/projects/next_db/5984/148655/12761588/PIP...   \n",
       "2  /rnd/projects/next_db/5984/148659/12761945/PIP...   \n",
       "3  /rnd/projects/next_db/5984/148665/12762499/PIP...   \n",
       "4  /rnd/projects/next_db/5984/148689/12764764/PIP...   \n",
       "\n",
       "                                        normal_fastq  \\\n",
       "0  /rnd/projects/next_db/5984/148683/12764210/PIP...   \n",
       "1  /rnd/projects/next_db/5984/148655/12761588/PIP...   \n",
       "2  /rnd/projects/next_db/5984/148659/12761945/PIP...   \n",
       "3  /rnd/projects/next_db/5984/148665/12762499/PIP...   \n",
       "4  /rnd/projects/next_db/5984/148689/12764764/PIP...   \n",
       "\n",
       "                                         tumor_fastq  \n",
       "0  /rnd/projects/next_db/5984/148683/12764210/PIP...  \n",
       "1  /rnd/projects/next_db/5984/148655/12761588/PIP...  \n",
       "2  /rnd/projects/next_db/5984/148659/12761945/PIP...  \n",
       "3  /rnd/projects/next_db/5984/148665/12762499/PIP...  \n",
       "4  /rnd/projects/next_db/5984/148689/12764764/PIP...  "
      ]
     },
     "execution_count": 30,
     "metadata": {},
     "output_type": "execute_result"
    }
   ],
   "source": [
    "input_df.head()"
   ]
  },
  {
   "cell_type": "code",
   "execution_count": 31,
   "metadata": {},
   "outputs": [],
   "source": [
    "# A: chr6:29,910,247-29,913,661\n",
    "A_start, A_end = 29910247, 29913661\n",
    "# B: chr6:31,321,649-31,324,989 \n",
    "B_start, B_end = 31321649, 31324989\n",
    "# C: chr6:31,236,526-31,239,913\n",
    "C_start, C_end = 31236526, 31239913\n",
    "\n",
    "boundary = 10000\n",
    "def find_loss(x):\n",
    "    start = x[0]\n",
    "    end = x[1]\n",
    "    loss = False\n",
    "    \n",
    "    # Within the gene region\n",
    "    if start < B_end and end > A_start:\n",
    "        loss = True\n",
    "    \n",
    "    # Before the gene region (anything within 1000 bp?)\n",
    "    if start <  A_start and end > A_start - boundary:\n",
    "        loss = True\n",
    "    \n",
    "    # After the gene region (anything within 1000 bp?)\n",
    "    if start <  B_end + boundary and end > B_end:\n",
    "        loss = True\n",
    "    \n",
    "    return loss"
   ]
  },
  {
   "cell_type": "code",
   "execution_count": 32,
   "metadata": {
    "scrolled": true
   },
   "outputs": [
    {
     "name": "stdout",
     "output_type": "stream",
     "text": [
      "0\n"
     ]
    },
    {
     "name": "stderr",
     "output_type": "stream",
     "text": [
      "\n",
      "A value is trying to be set on a copy of a slice from a DataFrame.\n",
      "Try using .loc[row_indexer,col_indexer] = value instead\n",
      "\n",
      "See the caveats in the documentation: http://pandas.pydata.org/pandas-docs/stable/indexing.html#indexing-view-versus-copy\n",
      "\n",
      "A value is trying to be set on a copy of a slice from a DataFrame.\n",
      "Try using .loc[row_indexer,col_indexer] = value instead\n",
      "\n",
      "See the caveats in the documentation: http://pandas.pydata.org/pandas-docs/stable/indexing.html#indexing-view-versus-copy\n"
     ]
    },
    {
     "name": "stdout",
     "output_type": "stream",
     "text": [
      "100\n",
      "200\n",
      "300\n",
      "400\n",
      "500\n",
      "600\n"
     ]
    }
   ],
   "source": [
    "all_sizes = []\n",
    "for i, patient in enumerate(patients):\n",
    "    if i % 100 == 0:\n",
    "        print(i)\n",
    "    \n",
    "    try:\n",
    "        cancer_home = list(input_df[input_df.sample_name_tumor == patient].loc[:, 'cancer_home'])[0]\n",
    "\n",
    "        segments_fn = [x for x in os.listdir('{0}/Sequenza'.format(cancer_home)) if '_segments.txt' in x][0]\n",
    "        segments_ffn = '{0}/Sequenza/{1}'.format(cancer_home, segments_fn)\n",
    "\n",
    "        seq_df = pd.read_csv(segments_ffn, sep='\\t')\n",
    "        seq_6_df = seq_df[(seq_df.chromosome == '6')&(seq_df.B == 0)]\n",
    "        seq_6_df['size'] = seq_6_df['end.pos'] - seq_6_df['start.pos']\n",
    "        seq_6_df['HLA_overlap'] = seq_6_df[['start.pos', 'end.pos']].apply(find_loss, axis=1)\n",
    "        if len(seq_6_df[seq_6_df['HLA_overlap']]) > 0:\n",
    "            all_sizes.append(seq_6_df[seq_6_df['HLA_overlap']]['size'].max())\n",
    "    except:\n",
    "        None\n",
    "    \n"
   ]
  },
  {
   "cell_type": "code",
   "execution_count": 33,
   "metadata": {},
   "outputs": [
    {
     "name": "stderr",
     "output_type": "stream",
     "text": [
      "\n",
      "The 'normed' kwarg was deprecated in Matplotlib 2.1 and will be removed in 3.1. Use 'density' instead.\n"
     ]
    },
    {
     "data": {
      "image/png": "[encoded data removed]",
      "text/plain": [
       "<Figure size 252x216 with 1 Axes>"
      ]
     },
     "metadata": {
      "needs_background": "light"
     },
     "output_type": "display_data"
    }
   ],
   "source": [
    "plt.figure(figsize=(3.5, 3))\n",
    "sns.set_context('talk', font_scale=0.7)\n",
    "\n",
    "pd.Series(all_sizes).apply(np.log10).hist(normed=True, color='green', alpha=0.3, label='HLA')\n",
    "pd.Series(genome_wide_sizes.sizes.apply(np.log10)).hist(normed=True, alpha=0.3, color='blue', label='Genome-wide')\n",
    "plt.xlabel('Size of LOH containing HLA\\n(log10 base pairs)')\n",
    "plt.ylabel('Normalized\\nfrequency of patients')\n",
    "plt.legend()\n",
    "\n",
    "plt.savefig('/rnd/users/rpyke/data/00-DASH/figures/features.HLA_deletion_size.histogram.pdf',\n",
    "           bbox_inches='tight')"
   ]
  },
  {
   "cell_type": "code",
   "execution_count": 35,
   "metadata": {},
   "outputs": [
    {
     "data": {
      "text/plain": [
       "27937"
      ]
     },
     "execution_count": 35,
     "metadata": {},
     "output_type": "execute_result"
    }
   ],
   "source": [
    "len(genome_wide_sizes)"
   ]
  },
  {
   "cell_type": "code",
   "execution_count": 34,
   "metadata": {
    "scrolled": true
   },
   "outputs": [],
   "source": [
    "source_df = pd.DataFrame({'HLA deletions': pd.Series(all_sizes).apply(np.log10),\n",
    "             'Genome-wide deletions': pd.Series(genome_wide_sizes.sizes.apply(np.log10))})"
   ]
  },
  {
   "cell_type": "code",
   "execution_count": 35,
   "metadata": {},
   "outputs": [],
   "source": [
    "# Saving source data\n",
    "panel_name = 'supp_figure_1g'\n",
    "source_df.to_excel('/rnd/users/rpyke/data/00-DASH/manuscript_source_data/{0}.xlsx'.format(panel_name),\n",
    "                                 index=None)"
   ]
  },
  {
   "cell_type": "code",
   "execution_count": 36,
   "metadata": {},
   "outputs": [
    {
     "data": {
      "text/plain": [
       "0.7330097087378641"
      ]
     },
     "execution_count": 36,
     "metadata": {},
     "output_type": "execute_result"
    }
   ],
   "source": [
    "len([x for x in all_sizes if x > 100000]) / len(all_sizes)"
   ]
  },
  {
   "cell_type": "markdown",
   "metadata": {},
   "source": [
    "##### Example sample"
   ]
  },
  {
   "cell_type": "code",
   "execution_count": 37,
   "metadata": {},
   "outputs": [
    {
     "name": "stdout",
     "output_type": "stream",
     "text": [
      "   purity  ploidy\n",
      "0    0.46       2\n",
      "79\n"
     ]
    },
    {
     "data": {
      "image/png": "[encoded data removed]",
      "text/plain": [
       "<Figure size 288x288 with 4 Axes>"
      ]
     },
     "metadata": {
      "needs_background": "light"
     },
     "output_type": "display_data"
    }
   ],
   "source": [
    "%matplotlib inline\n",
    "\n",
    "sample_name, gene = 'DNA_NGT-CER-1905004T', 'B'\n",
    "\n",
    "pp =  pd.read_csv('/rnd/users/rpyke/data/00-DASH/output/pipeline_nextDB_06/{0}/purity_ploidy.txt'.format(sample_name),\n",
    "                 sep='\\t')\n",
    "print(pp)\n",
    "purity = list(pp.loc[0, ['purity']])[0]\n",
    "df =  pd.read_csv('/rnd/users/rpyke/data/00-DASH/output/pipeline_nextDB_06/{0}/DASH.mismatches_{1}.csv'.format(sample_name,\n",
    "                                                                                                 gene))\n",
    "df['R1'] = df.logR_1.apply(math.exp)\n",
    "df['R2'] = df.logR_2.apply(math.exp)\n",
    "print(len(df))\n",
    "all_positions_df =  pd.read_csv('/rnd/users/rpyke/data/00-DASH/output/pipeline_nextDB_06/{0}/DASH.all_positions_{1}.csv'.format(sample_name, \n",
    "                                                                                                                      gene))\n",
    "dash_df = pd.read_csv('/rnd/users/rpyke/data/00-DASH/output/pipeline_nextDB_06/{0}/DASH.output.txt'.format(sample_name),\n",
    "                     sep='\\t')\n",
    "alleles = list(dash_df[dash_df.hla_locus == gene].hla_assign_allele)\n",
    "\n",
    "allele1 = alleles[0] #'HLA-C*08:01'\n",
    "allele2 = alleles[1] #'HLA-C*01:02'\n",
    "\n",
    "bin_size = 150\n",
    "\n",
    "sns.set_context('poster', font_scale=0.4)\n",
    "\n",
    "\n",
    "plt.figure(figsize=(4, 4))\n",
    "plt.subplot(4, 1, 1)\n",
    "all_positions_df.coverage_normal_1.plot(c=blue, lw=2)\n",
    "all_positions_df.coverage_normal_2.plot(c=green, lw=2)\n",
    "plt.legend(['{0}'.format(allele1), '{0}'.format(allele2)])\n",
    "plt.xlim(0, len(all_positions_df))\n",
    "plt.ylabel('Normal\\nCoverage')\n",
    "plt.xticks([])\n",
    "#plt.title('{0} - Gene: {1}'.format(sample_name, gene))\n",
    "\n",
    "for mismatch in df.Mismatch_positions_1:\n",
    "    plt.axvline(mismatch, color='k', alpha=0.2, lw=1)\n",
    "\n",
    "plt.subplot(4, 1, 2)\n",
    "all_positions_df.coverage_tumor_1.plot(c=blue, lw=2)\n",
    "all_positions_df.coverage_tumor_2.plot(c=green, lw=2)\n",
    "plt.legend(['{0}'.format(allele1), '{0}'.format(allele2)])\n",
    "plt.xlim(0, len(all_positions_df))\n",
    "plt.xticks([])\n",
    "plt.ylabel('Tumor\\nCoverage')\n",
    "\n",
    "for mismatch in df.Mismatch_positions_1:\n",
    "    plt.axvline(mismatch, color='k', alpha=0.2, lw=1)\n",
    "\n",
    "plt.subplot(4, 1, 3)\n",
    "\n",
    "plt.scatter(df.Mismatch_positions_1, df.BAF, color='black', s=10)\n",
    "plt.scatter(df.Mismatch_positions_1, df.BAF_normal, color='darkgrey', s=10)\n",
    "plt.legend(['Tumor', 'Normal'])\n",
    "plt.axhline(0.5, color='grey', linestyle='--', lw=1)\n",
    "plt.xlim(0, len(all_positions_df))\n",
    "plt.ylim(0, 1)\n",
    "plt.xticks([])\n",
    "plt.ylabel('B-Allele\\nFrequency\\n(BAF)')\n",
    "\n",
    "plt.subplot(4, 1, 4)\n",
    "plt.scatter(df.Alignment_mismatch, df.R1, color=blue, s=10)\n",
    "plt.scatter(df.Alignment_mismatch, df.R2, color=green, s=10)\n",
    "plt.legend(['{0}'.format(allele1), '{0}'.format(allele2)])\n",
    "plt.axhline(1, color='grey', linestyle='--', lw=1)\n",
    "plt.xlim(0, len(all_positions_df))\n",
    "max_R = max(df.R1.quantile(.9),df.R2.quantile(.9))\n",
    "if max_R > 10:\n",
    "    max_R = 10\n",
    "if max_R < 3:\n",
    "    max_R = 3\n",
    "plt.ylim(0, max_R)\n",
    "plt.ylabel('Tumor\\n/Normal\\nCoverage\\nRatio (R)')\n",
    "plt.xlabel('Genomic position')\n",
    "plt.savefig('/rnd/users/rpyke/data/00-DASH/figures/LOH_example.for_figure1.pdf')\n"
   ]
  },
  {
   "cell_type": "code",
   "execution_count": null,
   "metadata": {},
   "outputs": [],
   "source": []
  },
  {
   "cell_type": "code",
   "execution_count": null,
   "metadata": {},
   "outputs": [],
   "source": []
  }
 ],
 "metadata": {
  "kernelspec": {
   "display_name": "Python 3",
   "language": "python",
   "name": "python3"
  },
  "language_info": {
   "codemirror_mode": {
    "name": "ipython",
    "version": 3
   },
   "file_extension": ".py",
   "mimetype": "text/x-python",
   "name": "python",
   "nbconvert_exporter": "python",
   "pygments_lexer": "ipython3",
   "version": "3.7.3"
  }
 },
 "nbformat": 4,
 "nbformat_minor": 2
}
