{
 "cells": [
  {
   "cell_type": "code",
   "execution_count": 13,
   "metadata": {},
   "outputs": [],
   "source": [
    "%run ../../bin/imports.ipynb\n",
    "import random\n",
    "from Bio.Seq import Seq\n",
    "from Bio.Alphabet import generic_dna"
   ]
  },
  {
   "cell_type": "markdown",
   "metadata": {},
   "source": [
    "Meta data for tumor types"
   ]
  },
  {
   "cell_type": "code",
   "execution_count": 112,
   "metadata": {},
   "outputs": [],
   "source": [
    "nextdb_meta = pd.read_csv('/rnd/users/rpyke/data/00-DASH/readata-sc/readdata.input_df.NeXTdb_sherpa_inova.csv')"
   ]
  },
  {
   "cell_type": "code",
   "execution_count": 113,
   "metadata": {
    "scrolled": true
   },
   "outputs": [
    {
     "data": {
      "text/plain": [
       "754"
      ]
     },
     "execution_count": 113,
     "metadata": {},
     "output_type": "execute_result"
    }
   ],
   "source": [
    "nextdb_meta = pd.read_csv('/rnd/users/rpyke/data/00-DASH/data/nextdb_metadata_limited_042920.csv')\n",
    "nextdb_meta = nextdb_meta[nextdb_meta.Tumor_Normal == 'Tumor']\n",
    "nextdb_meta = nextdb_meta.replace('LIver', 'Liver')\n",
    "\n",
    "nextdb_meta = nextdb_meta.replace('D00688993.Aa', 'D00688993-Aa')\n",
    "nextdb_meta = nextdb_meta.replace('C00085612.3b', 'C00085612-3b')\n",
    "nextdb_meta = nextdb_meta.replace('C00085585.1a', 'C00085585-1a')\n",
    "nextdb_meta = nextdb_meta.replace('D00689003.Aa', 'D00689003-Aa')\n",
    "nextdb_meta = nextdb_meta.replace('C00084290.1b', 'C00084290-1b')\n",
    "nextdb_meta = nextdb_meta.replace('D00689009.A', 'D00689009-A')\n",
    "nextdb_meta = nextdb_meta.replace('51925РТ3', '51925PT3')\n",
    "nextdb_meta = nextdb_meta.replace('D00689541.A4b', 'D00689541-A4b')\n",
    "nextdb_meta = nextdb_meta.replace('51855 PT2', '51855_PT2')\n",
    "nextdb_meta = nextdb_meta.replace('C00085615.14c', 'C00085615-14c')\n",
    "nextdb_meta = nextdb_meta.replace('C00085391.1ca', 'C00085391-1ca')\n",
    "nextdb_meta = nextdb_meta.replace('C00085405.1aa', 'C00085405-1aa')\n",
    "nextdb_meta = nextdb_meta.replace('C00083684.1ca', 'C00083684-1ca')\n",
    "nextdb_meta = nextdb_meta.replace('C00085311.1ba', 'C00085311-1ba')\n",
    "nextdb_meta = nextdb_meta.replace('D00689540.Ab', 'D00689540-Ab')\n",
    "nextdb_meta = nextdb_meta.replace('D00688995.A2a', 'D00688995-A2a')\n",
    "nextdb_meta = nextdb_meta.replace('D00689544.Ab', 'D00689544-Ab')\n",
    "nextdb_meta = nextdb_meta.replace('D00689005.Aa', 'D00689005-Aa')\n",
    "nextdb_meta = nextdb_meta.replace('C00084278.1ba', 'C00084278_1ba')\n",
    "nextdb_meta = nextdb_meta.replace('D00690000.A1', 'D00690000_A1')\n",
    "nextdb_meta = nextdb_meta.replace('D00689957.A1', 'D00689957_A1')\n",
    "nextdb_meta = nextdb_meta.replace('D00689995.A1', 'D00689995_A1')\n",
    "nextdb_meta = nextdb_meta.replace('D00689884.D6ca', 'D00689884_D6ca')\n",
    "nextdb_meta = nextdb_meta.replace('D00689924.A', 'D00689924_A')\n",
    "nextdb_meta = nextdb_meta.replace('D00689822.A1', 'D00689822_A1')\n",
    "nextdb_meta = nextdb_meta.replace('D00689961.A1a', 'D00689961_A1a')\n",
    "nextdb_meta = nextdb_meta.replace('D00689950.1b', 'D00689950_2a')\n",
    "nextdb_meta = nextdb_meta.replace('9G-5941', '9G-5941')\n",
    "nextdb_meta = nextdb_meta.replace('D00689998.A1', 'D00689998_A1')\n",
    "nextdb_meta = nextdb_meta.replace('D00689950.1b', 'D00689950_2a')\n",
    "nextdb_meta = nextdb_meta.replace('D00689962.A3b', 'D00689962_A3b')\n",
    "nextdb_meta = nextdb_meta.replace('D00688640.3b', 'D00688640_3b')\n",
    "nextdb_meta = nextdb_meta.replace('D00689955.A1', 'D00689955_A1')\n",
    "nextdb_meta = nextdb_meta.replace('D00689947.A2a', 'D00689947_A2a')\n",
    "nextdb_meta = nextdb_meta.replace('D00689819.A1', 'D00689819_A1')\n",
    "nextdb_meta = nextdb_meta.replace('D00689949.Aba', 'D00689949_Aba')\n",
    "nextdb_meta = nextdb_meta.replace('D00689946.A2a', 'D00689946_A2a')\n",
    "nextdb_meta = nextdb_meta.replace('D00689950.1b', 'D00689950_2a')\n",
    "nextdb_meta = nextdb_meta.replace('D00689934.Ab', 'D00689934_Ab')\n",
    "nextdb_meta = nextdb_meta.replace('D00689944.A8b', 'D00689944_A8b')\n",
    "nextdb_meta = nextdb_meta.replace('D00689821.A1', 'D00689821_A1')\n",
    "nextdb_meta = nextdb_meta.replace('D00689937.Ab', 'D00689937_Ab')\n",
    "nextdb_meta = nextdb_meta.replace('D00689950.1b', 'D00689950_2a')\n",
    "\n",
    "len(nextdb_meta)\n"
   ]
  },
  {
   "cell_type": "code",
   "execution_count": 114,
   "metadata": {},
   "outputs": [],
   "source": [
    "nextdb_meta = nextdb_meta[['Specimen_ID', 'Cancer_type']]\n",
    "nextdb_meta = nextdb_meta.dropna()"
   ]
  },
  {
   "cell_type": "code",
   "execution_count": 115,
   "metadata": {},
   "outputs": [],
   "source": [
    "inova_ids = ['INOVA_068_B', 'Inova_012_B', 'Inova_016_B', \n",
    "             'INOVA_080_B', 'INOVA_075_B', 'Inova_028_B', \n",
    "             'Inova_065B', 'Inova_009_B', 'INOVA_056B', \n",
    "             'Inova_030_B', 'Inova_021_B', 'INOVA_054B_C', \n",
    "             'Inova_029_B', 'INOVA_081_B', 'Inova_020_B', \n",
    "             'Inova_025_B', 'INOVA_061B_C', 'Inova_018_B', \n",
    "             'Inova_001_B_replacement', 'Inova_042_B', \n",
    "             'INOVA_063B_C', 'INOVA_083_B', 'Inova_033_B', \n",
    "             'Inova_008_B', 'Inova_035_B', 'Inova_014_B', \n",
    "             'INOVA_082_B', 'INOVA_053B_C', 'Inova_005_B', \n",
    "             'Inova_007_B', 'INOVA_067B_C', 'INOVA_059B', \n",
    "             'Inova_002_B', 'Inova_041_B', \n",
    "             'Inova_019_B_replacement', 'Inova_010_B', \n",
    "             'INOVA_058_B', 'INOVA_062_B', 'Inova_040_B', \n",
    "             'INOVA_043B', 'Inova_011_B', 'INOVA_060B', \n",
    "             'Inova_003_B', 'Inova_017_B_replacement', \n",
    "             'INOVA_044B', 'Inova_037_B', \n",
    "             'Inova_038_B_replacement', 'INOVA_079_B', \n",
    "             'Inova_013_B', 'Inova_023_B_replacement', \n",
    "             'INOVA_057B', 'Inova_006_B']\n",
    "inova_cancer_types = ['Melanoma' for x in inova_ids]"
   ]
  },
  {
   "cell_type": "code",
   "execution_count": 116,
   "metadata": {},
   "outputs": [],
   "source": [
    "sherpa_ids = ['1070865F-5012', '1070865FA1-5013', \n",
    "              '1071227F-5012', '1071227FA1-5013', \n",
    "              '1080171F-5012', '1080171FA1-5013', \n",
    "              '1114162F-5012', '1114162FA1-5013', \n",
    "              '1134036F-5012', '1134036FA1-5013', \n",
    "              '1160324F-5012', '1160324FA1-5013', \n",
    "              '1167916F-5012', '1167916FA1-5013', \n",
    "              '117794A1-5012', '117794F-5013', \n",
    "              '1180157F-5012', '1180157FA1-5013', \n",
    "              '1180402F-5012', '1180402FA1-5013', \n",
    "              '1183384F-5012', '1183384FA1-5013', \n",
    "              '122716A1-5012', '122716F-5013', \n",
    "              '124768B1-5012', '124768F-5013', \n",
    "              '30686B1-5012', '30686F-5013']\n",
    "sherpa_cancer_types = ['Lung-LCC', 'Lung-LCC',\n",
    "                      'NSCLC_SCC', 'NSCLC_SCC',\n",
    "                      'NSCLC_SCC', 'NSCLC_SCC',\n",
    "                      'Colorectal', 'Colorectal',\n",
    "                      'NSCLC_adenocarcinoma', 'NSCLC_adenocarcinoma',\n",
    "                      'NSCLC_adenocarcinoma', 'NSCLC_adenocarcinoma',\n",
    "                      'NSCLC_SCC', 'NSCLC_SCC',\n",
    "                      'Colorectal', 'Colorectal',\n",
    "                      'NSCLC_SCC', 'NSCLC_SCC',\n",
    "                      'NSCLC_SCC', 'NSCLC_SCC',\n",
    "                      'NSCLC_SCC', 'NSCLC_SCC',\n",
    "                      'Colorectal', 'Colorectal',\n",
    "                      'Colorectal', 'Colorectal',\n",
    "                      'Colorectal', 'Colorectal']"
   ]
  },
  {
   "cell_type": "code",
   "execution_count": 117,
   "metadata": {},
   "outputs": [],
   "source": [
    "# Fill in the cancer types that won't cooperate\n",
    "filler_df = pd.DataFrame({'Specimen_ID': ['D00689924_A', 'D00689950_2a', '9G-5941', '26300'] + inova_ids + sherpa_ids,\n",
    "                         'Cancer_type': ['Liver', 'Cervical', 'Breast', 'NSCLC_adenocarcinoma'] + inova_cancer_types + sherpa_cancer_types})"
   ]
  },
  {
   "cell_type": "code",
   "execution_count": 118,
   "metadata": {},
   "outputs": [],
   "source": [
    "pici_df = pd.read_csv('/rnd/users/sdea/07-collaborations/readdata/pici_dash_readdata.csv')"
   ]
  },
  {
   "cell_type": "code",
   "execution_count": 148,
   "metadata": {},
   "outputs": [],
   "source": [
    "def get_tumor_type(x):\n",
    "    if 'PRINCE' in x:\n",
    "        return 'Pancreatic'\n",
    "    elif 'PORTER' in x:\n",
    "        return 'Prostate'\n",
    "    else:\n",
    "        return np.nan\n",
    "pici_df['Cancer_type'] = pici_df['normal_home'].apply(get_tumor_type)"
   ]
  },
  {
   "cell_type": "code",
   "execution_count": 149,
   "metadata": {},
   "outputs": [
    {
     "data": {
      "text/html": [
       "<div>\n",
       "<style scoped>\n",
       "    .dataframe tbody tr th:only-of-type {\n",
       "        vertical-align: middle;\n",
       "    }\n",
       "\n",
       "    .dataframe tbody tr th {\n",
       "        vertical-align: top;\n",
       "    }\n",
       "\n",
       "    .dataframe thead th {\n",
       "        text-align: right;\n",
       "    }\n",
       "</style>\n",
       "<table border=\"1\" class=\"dataframe\">\n",
       "  <thead>\n",
       "    <tr style=\"text-align: right;\">\n",
       "      <th></th>\n",
       "      <th>Unnamed: 0</th>\n",
       "      <th>projectid</th>\n",
       "      <th>sample_name_lee</th>\n",
       "      <th>normal_home</th>\n",
       "      <th>tumor_home</th>\n",
       "      <th>cancer_home</th>\n",
       "      <th>cancer_rna</th>\n",
       "      <th>cancer_rna_tcr</th>\n",
       "      <th>neo_home</th>\n",
       "      <th>sample_name_normal</th>\n",
       "      <th>sample_name_tumor</th>\n",
       "      <th>Cancer_type</th>\n",
       "    </tr>\n",
       "  </thead>\n",
       "  <tbody>\n",
       "    <tr>\n",
       "      <th>0</th>\n",
       "      <td>0</td>\n",
       "      <td>PICI0033-111-0009_runid_152027</td>\n",
       "      <td>10791957BL;DNA_10791957BL;DNA_10830465EB;RNA_1...</td>\n",
       "      <td>/rnd/Collaboration/Parker_Institute/porter/POR...</td>\n",
       "      <td>/rnd/Collaboration/Parker_Institute/porter/POR...</td>\n",
       "      <td>/rnd/Collaboration/Parker_Institute/porter/POR...</td>\n",
       "      <td>/rnd/Collaboration/Parker_Institute/porter/POR...</td>\n",
       "      <td>/rnd/Collaboration/Parker_Institute/porter/POR...</td>\n",
       "      <td>/rnd/Collaboration/Parker_Institute/porter/POR...</td>\n",
       "      <td>DNA_10830465EB</td>\n",
       "      <td>DNA_10791957BL</td>\n",
       "      <td>Prostate</td>\n",
       "    </tr>\n",
       "    <tr>\n",
       "      <th>1</th>\n",
       "      <td>1</td>\n",
       "      <td>840-100600-004_runid_117968</td>\n",
       "      <td>RNA_BK01183BL02;DNA_BK01183BL02;LAV7350A301;LA...</td>\n",
       "      <td>/rnd/Collaboration/Parker_Institute/prince/PRI...</td>\n",
       "      <td>/rnd/Collaboration/Parker_Institute/prince/PRI...</td>\n",
       "      <td>/rnd/Collaboration/Parker_Institute/prince/PRI...</td>\n",
       "      <td>/rnd/Collaboration/Parker_Institute/prince/PRI...</td>\n",
       "      <td>/rnd/Collaboration/Parker_Institute/prince/PRI...</td>\n",
       "      <td>/rnd/Collaboration/Parker_Institute/prince/PRI...</td>\n",
       "      <td>DNA_BK00058EB03</td>\n",
       "      <td>DNA_BK01183BL02</td>\n",
       "      <td>Pancreatic</td>\n",
       "    </tr>\n",
       "    <tr>\n",
       "      <th>2</th>\n",
       "      <td>2</td>\n",
       "      <td>PICI0033-111-0010_runid_152040</td>\n",
       "      <td>10822856SL;DNA_10822856SL;DNA_10792708EB;RNA_1...</td>\n",
       "      <td>/rnd/Collaboration/Parker_Institute/porter/POR...</td>\n",
       "      <td>/rnd/Collaboration/Parker_Institute/porter/POR...</td>\n",
       "      <td>/rnd/Collaboration/Parker_Institute/porter/POR...</td>\n",
       "      <td>/rnd/Collaboration/Parker_Institute/porter/POR...</td>\n",
       "      <td>/rnd/Collaboration/Parker_Institute/porter/POR...</td>\n",
       "      <td>/rnd/Collaboration/Parker_Institute/porter/POR...</td>\n",
       "      <td>DNA_10792708EB</td>\n",
       "      <td>DNA_10822856SL</td>\n",
       "      <td>Prostate</td>\n",
       "    </tr>\n",
       "    <tr>\n",
       "      <th>3</th>\n",
       "      <td>3</td>\n",
       "      <td>102-0024_runid_87658</td>\n",
       "      <td>DNA_PICI0025_102-0024_BL_Tumor;LAV5652A174;PIC...</td>\n",
       "      <td>/rnd/Collaboration/Parker_Institute/amadeus/AM...</td>\n",
       "      <td>/rnd/Collaboration/Parker_Institute/amadeus/AM...</td>\n",
       "      <td>/rnd/Collaboration/Parker_Institute/amadeus/AM...</td>\n",
       "      <td>/rnd/Collaboration/Parker_Institute/amadeus/AM...</td>\n",
       "      <td>/rnd/Collaboration/Parker_Institute/amadeus/AM...</td>\n",
       "      <td>/rnd/Collaboration/Parker_Institute/amadeus/AM...</td>\n",
       "      <td>DNA_PICI0025_102-0024_BL_Normal</td>\n",
       "      <td>DNA_PICI0025_102-0024_BL_Tumor</td>\n",
       "      <td>NaN</td>\n",
       "    </tr>\n",
       "    <tr>\n",
       "      <th>4</th>\n",
       "      <td>4</td>\n",
       "      <td>PICI0033-110-0003_runid_152022</td>\n",
       "      <td>10796480EB;DNA_10779480-11;DNA_10796480EB;RNA_...</td>\n",
       "      <td>/rnd/Collaboration/Parker_Institute/porter/POR...</td>\n",
       "      <td>/rnd/Collaboration/Parker_Institute/porter/POR...</td>\n",
       "      <td>/rnd/Collaboration/Parker_Institute/porter/POR...</td>\n",
       "      <td>/rnd/Collaboration/Parker_Institute/porter/POR...</td>\n",
       "      <td>/rnd/Collaboration/Parker_Institute/porter/POR...</td>\n",
       "      <td>/rnd/Collaboration/Parker_Institute/porter/POR...</td>\n",
       "      <td>DNA_10796480EB</td>\n",
       "      <td>DNA_10779480-11</td>\n",
       "      <td>Prostate</td>\n",
       "    </tr>\n",
       "  </tbody>\n",
       "</table>\n",
       "</div>"
      ],
      "text/plain": [
       "   Unnamed: 0                       projectid  \\\n",
       "0           0  PICI0033-111-0009_runid_152027   \n",
       "1           1     840-100600-004_runid_117968   \n",
       "2           2  PICI0033-111-0010_runid_152040   \n",
       "3           3            102-0024_runid_87658   \n",
       "4           4  PICI0033-110-0003_runid_152022   \n",
       "\n",
       "                                     sample_name_lee  \\\n",
       "0  10791957BL;DNA_10791957BL;DNA_10830465EB;RNA_1...   \n",
       "1  RNA_BK01183BL02;DNA_BK01183BL02;LAV7350A301;LA...   \n",
       "2  10822856SL;DNA_10822856SL;DNA_10792708EB;RNA_1...   \n",
       "3  DNA_PICI0025_102-0024_BL_Tumor;LAV5652A174;PIC...   \n",
       "4  10796480EB;DNA_10779480-11;DNA_10796480EB;RNA_...   \n",
       "\n",
       "                                         normal_home  \\\n",
       "0  /rnd/Collaboration/Parker_Institute/porter/POR...   \n",
       "1  /rnd/Collaboration/Parker_Institute/prince/PRI...   \n",
       "2  /rnd/Collaboration/Parker_Institute/porter/POR...   \n",
       "3  /rnd/Collaboration/Parker_Institute/amadeus/AM...   \n",
       "4  /rnd/Collaboration/Parker_Institute/porter/POR...   \n",
       "\n",
       "                                          tumor_home  \\\n",
       "0  /rnd/Collaboration/Parker_Institute/porter/POR...   \n",
       "1  /rnd/Collaboration/Parker_Institute/prince/PRI...   \n",
       "2  /rnd/Collaboration/Parker_Institute/porter/POR...   \n",
       "3  /rnd/Collaboration/Parker_Institute/amadeus/AM...   \n",
       "4  /rnd/Collaboration/Parker_Institute/porter/POR...   \n",
       "\n",
       "                                         cancer_home  \\\n",
       "0  /rnd/Collaboration/Parker_Institute/porter/POR...   \n",
       "1  /rnd/Collaboration/Parker_Institute/prince/PRI...   \n",
       "2  /rnd/Collaboration/Parker_Institute/porter/POR...   \n",
       "3  /rnd/Collaboration/Parker_Institute/amadeus/AM...   \n",
       "4  /rnd/Collaboration/Parker_Institute/porter/POR...   \n",
       "\n",
       "                                          cancer_rna  \\\n",
       "0  /rnd/Collaboration/Parker_Institute/porter/POR...   \n",
       "1  /rnd/Collaboration/Parker_Institute/prince/PRI...   \n",
       "2  /rnd/Collaboration/Parker_Institute/porter/POR...   \n",
       "3  /rnd/Collaboration/Parker_Institute/amadeus/AM...   \n",
       "4  /rnd/Collaboration/Parker_Institute/porter/POR...   \n",
       "\n",
       "                                      cancer_rna_tcr  \\\n",
       "0  /rnd/Collaboration/Parker_Institute/porter/POR...   \n",
       "1  /rnd/Collaboration/Parker_Institute/prince/PRI...   \n",
       "2  /rnd/Collaboration/Parker_Institute/porter/POR...   \n",
       "3  /rnd/Collaboration/Parker_Institute/amadeus/AM...   \n",
       "4  /rnd/Collaboration/Parker_Institute/porter/POR...   \n",
       "\n",
       "                                            neo_home  \\\n",
       "0  /rnd/Collaboration/Parker_Institute/porter/POR...   \n",
       "1  /rnd/Collaboration/Parker_Institute/prince/PRI...   \n",
       "2  /rnd/Collaboration/Parker_Institute/porter/POR...   \n",
       "3  /rnd/Collaboration/Parker_Institute/amadeus/AM...   \n",
       "4  /rnd/Collaboration/Parker_Institute/porter/POR...   \n",
       "\n",
       "                sample_name_normal               sample_name_tumor Cancer_type  \n",
       "0                   DNA_10830465EB                  DNA_10791957BL    Prostate  \n",
       "1                  DNA_BK00058EB03                 DNA_BK01183BL02  Pancreatic  \n",
       "2                   DNA_10792708EB                  DNA_10822856SL    Prostate  \n",
       "3  DNA_PICI0025_102-0024_BL_Normal  DNA_PICI0025_102-0024_BL_Tumor         NaN  \n",
       "4                   DNA_10796480EB                 DNA_10779480-11    Prostate  "
      ]
     },
     "execution_count": 149,
     "metadata": {},
     "output_type": "execute_result"
    }
   ],
   "source": [
    "pici_df.head()"
   ]
  },
  {
   "cell_type": "code",
   "execution_count": 150,
   "metadata": {},
   "outputs": [],
   "source": [
    "meta_df = pd.concat([nextdb_meta, filler_df], sort=True)"
   ]
  },
  {
   "cell_type": "code",
   "execution_count": 151,
   "metadata": {},
   "outputs": [],
   "source": [
    "meta_df['sample_name_tumor'] = 'DNA_' + meta_df.Specimen_ID"
   ]
  },
  {
   "cell_type": "code",
   "execution_count": 152,
   "metadata": {},
   "outputs": [],
   "source": [
    "meta_df = pd.concat([meta_df, pici_df[['Cancer_type', 'sample_name_tumor']]], sort=True)"
   ]
  },
  {
   "cell_type": "code",
   "execution_count": 153,
   "metadata": {
    "scrolled": true
   },
   "outputs": [
    {
     "data": {
      "text/plain": [
       "(939, 830)"
      ]
     },
     "execution_count": 153,
     "metadata": {},
     "output_type": "execute_result"
    }
   ],
   "source": [
    "len(meta_df), len(meta_df.dropna())"
   ]
  },
  {
   "cell_type": "code",
   "execution_count": 154,
   "metadata": {},
   "outputs": [
    {
     "data": {
      "text/html": [
       "<div>\n",
       "<style scoped>\n",
       "    .dataframe tbody tr th:only-of-type {\n",
       "        vertical-align: middle;\n",
       "    }\n",
       "\n",
       "    .dataframe tbody tr th {\n",
       "        vertical-align: top;\n",
       "    }\n",
       "\n",
       "    .dataframe thead th {\n",
       "        text-align: right;\n",
       "    }\n",
       "</style>\n",
       "<table border=\"1\" class=\"dataframe\">\n",
       "  <thead>\n",
       "    <tr style=\"text-align: right;\">\n",
       "      <th></th>\n",
       "      <th>Cancer_type</th>\n",
       "      <th>Specimen_ID</th>\n",
       "      <th>sample_name_tumor</th>\n",
       "    </tr>\n",
       "  </thead>\n",
       "  <tbody>\n",
       "    <tr>\n",
       "      <th>104</th>\n",
       "      <td>Pancreatic</td>\n",
       "      <td>NaN</td>\n",
       "      <td>DNA_BK00364TS</td>\n",
       "    </tr>\n",
       "    <tr>\n",
       "      <th>105</th>\n",
       "      <td>Pancreatic</td>\n",
       "      <td>NaN</td>\n",
       "      <td>DNA_BK00463BL01</td>\n",
       "    </tr>\n",
       "    <tr>\n",
       "      <th>106</th>\n",
       "      <td>Prostate</td>\n",
       "      <td>NaN</td>\n",
       "      <td>DNA_10822858BL01</td>\n",
       "    </tr>\n",
       "    <tr>\n",
       "      <th>107</th>\n",
       "      <td>Pancreatic</td>\n",
       "      <td>NaN</td>\n",
       "      <td>DNA_BK02569BL01</td>\n",
       "    </tr>\n",
       "    <tr>\n",
       "      <th>108</th>\n",
       "      <td>Pancreatic</td>\n",
       "      <td>NaN</td>\n",
       "      <td>DNA_BK02568BL01</td>\n",
       "    </tr>\n",
       "  </tbody>\n",
       "</table>\n",
       "</div>"
      ],
      "text/plain": [
       "    Cancer_type Specimen_ID sample_name_tumor\n",
       "104  Pancreatic         NaN     DNA_BK00364TS\n",
       "105  Pancreatic         NaN   DNA_BK00463BL01\n",
       "106    Prostate         NaN  DNA_10822858BL01\n",
       "107  Pancreatic         NaN   DNA_BK02569BL01\n",
       "108  Pancreatic         NaN   DNA_BK02568BL01"
      ]
     },
     "execution_count": 154,
     "metadata": {},
     "output_type": "execute_result"
    }
   ],
   "source": [
    "meta_df.tail()"
   ]
  },
  {
   "cell_type": "markdown",
   "metadata": {},
   "source": [
    "DASH output for HLA LOH"
   ]
  },
  {
   "cell_type": "code",
   "execution_count": 155,
   "metadata": {
    "scrolled": true
   },
   "outputs": [
    {
     "name": "stderr",
     "output_type": "stream",
     "text": [
      "Sorting because non-concatenation axis is not aligned. A future version\n",
      "of pandas will change to not sort by default.\n",
      "\n",
      "To accept the future behavior, pass 'sort=False'.\n",
      "\n",
      "To retain the current behavior and silence the warning, pass 'sort=True'.\n",
      "\n"
     ]
    }
   ],
   "source": [
    "dash_output1 = pd.read_csv('/rnd/users/rpyke/data/00-DASH/output/nextDB_06.output.csv', index_col=0)\n",
    "dash_output2 = pd.read_csv('/rnd/users/sdea/07-collaborations/data/reports/combined_next_pici_dash_features.csv', index_col=0)\n",
    "dash_output2['Sample'] = dash_output2['sample']\n",
    "\n",
    "dash_output = pd.concat([dash_output1, dash_output2])\n",
    "dash_output['Allele'] = dash_output.hla_assign_allele.str[:7]"
   ]
  },
  {
   "cell_type": "code",
   "execution_count": 156,
   "metadata": {},
   "outputs": [
    {
     "data": {
      "text/html": [
       "<div>\n",
       "<style scoped>\n",
       "    .dataframe tbody tr th:only-of-type {\n",
       "        vertical-align: middle;\n",
       "    }\n",
       "\n",
       "    .dataframe tbody tr th {\n",
       "        vertical-align: top;\n",
       "    }\n",
       "\n",
       "    .dataframe thead th {\n",
       "        text-align: right;\n",
       "    }\n",
       "</style>\n",
       "<table border=\"1\" class=\"dataframe\">\n",
       "  <thead>\n",
       "    <tr style=\"text-align: right;\">\n",
       "      <th></th>\n",
       "      <th>Sample</th>\n",
       "      <th>alternate_allelic_imbalance</th>\n",
       "      <th>alternate_copy_number</th>\n",
       "      <th>alternate_deletion</th>\n",
       "      <th>consistency_of_coverage</th>\n",
       "      <th>dash_adj_baf</th>\n",
       "      <th>dash_allele</th>\n",
       "      <th>dash_deletion</th>\n",
       "      <th>dash_r</th>\n",
       "      <th>hla_assign_allele</th>\n",
       "      <th>...</th>\n",
       "      <th>hla_locus_cntr</th>\n",
       "      <th>ploidy</th>\n",
       "      <th>prediction_probability</th>\n",
       "      <th>purity</th>\n",
       "      <th>raw_dash_deletion</th>\n",
       "      <th>sample</th>\n",
       "      <th>secondary_check</th>\n",
       "      <th>sequenza_majors</th>\n",
       "      <th>sequenza_minors</th>\n",
       "      <th>Allele</th>\n",
       "    </tr>\n",
       "  </thead>\n",
       "  <tbody>\n",
       "    <tr>\n",
       "      <th>0</th>\n",
       "      <td>DNA_S000460823</td>\n",
       "      <td>0.1396995991856002</td>\n",
       "      <td>0.954528661480121</td>\n",
       "      <td>False</td>\n",
       "      <td>0.562500</td>\n",
       "      <td>0.013659546387627177</td>\n",
       "      <td>hla_a_11_01_01</td>\n",
       "      <td>False</td>\n",
       "      <td>1.0101327646302274</td>\n",
       "      <td>A*11:01:01</td>\n",
       "      <td>...</td>\n",
       "      <td>1</td>\n",
       "      <td>2</td>\n",
       "      <td>0.005693</td>\n",
       "      <td>0.59</td>\n",
       "      <td>False</td>\n",
       "      <td>NaN</td>\n",
       "      <td>True</td>\n",
       "      <td>1.0</td>\n",
       "      <td>1.0</td>\n",
       "      <td>A*11:01</td>\n",
       "    </tr>\n",
       "    <tr>\n",
       "      <th>1</th>\n",
       "      <td>DNA_S000460823</td>\n",
       "      <td>0.1396995991856002</td>\n",
       "      <td>1.1057150882186553</td>\n",
       "      <td>False</td>\n",
       "      <td>0.562500</td>\n",
       "      <td>0.013659546387627177</td>\n",
       "      <td>hla_a_02_01_01_01</td>\n",
       "      <td>False</td>\n",
       "      <td>0.978562589275474</td>\n",
       "      <td>A*02:01:01:01</td>\n",
       "      <td>...</td>\n",
       "      <td>2</td>\n",
       "      <td>2</td>\n",
       "      <td>0.005693</td>\n",
       "      <td>0.59</td>\n",
       "      <td>False</td>\n",
       "      <td>NaN</td>\n",
       "      <td>True</td>\n",
       "      <td>1.0</td>\n",
       "      <td>1.0</td>\n",
       "      <td>A*02:01</td>\n",
       "    </tr>\n",
       "    <tr>\n",
       "      <th>2</th>\n",
       "      <td>DNA_S000460823</td>\n",
       "      <td>5.46589459102549e-09</td>\n",
       "      <td>1.2609575305311944</td>\n",
       "      <td>False</td>\n",
       "      <td>0.586957</td>\n",
       "      <td>0.024985149802174426</td>\n",
       "      <td>hla_b_07_02_01</td>\n",
       "      <td>False</td>\n",
       "      <td>1.1222587728426323</td>\n",
       "      <td>B*07:02:01</td>\n",
       "      <td>...</td>\n",
       "      <td>1</td>\n",
       "      <td>2</td>\n",
       "      <td>0.001960</td>\n",
       "      <td>0.59</td>\n",
       "      <td>False</td>\n",
       "      <td>NaN</td>\n",
       "      <td>True</td>\n",
       "      <td>1.0</td>\n",
       "      <td>1.0</td>\n",
       "      <td>B*07:02</td>\n",
       "    </tr>\n",
       "    <tr>\n",
       "      <th>3</th>\n",
       "      <td>DNA_S000460823</td>\n",
       "      <td>5.46589459102549e-09</td>\n",
       "      <td>0.92425847923387</td>\n",
       "      <td>False</td>\n",
       "      <td>0.586957</td>\n",
       "      <td>0.024985149802174426</td>\n",
       "      <td>hla_b_44_02_01_01</td>\n",
       "      <td>False</td>\n",
       "      <td>1.0166830101556927</td>\n",
       "      <td>B*44:02:01:01</td>\n",
       "      <td>...</td>\n",
       "      <td>2</td>\n",
       "      <td>2</td>\n",
       "      <td>0.001960</td>\n",
       "      <td>0.59</td>\n",
       "      <td>False</td>\n",
       "      <td>NaN</td>\n",
       "      <td>True</td>\n",
       "      <td>1.0</td>\n",
       "      <td>1.0</td>\n",
       "      <td>B*44:02</td>\n",
       "    </tr>\n",
       "    <tr>\n",
       "      <th>4</th>\n",
       "      <td>DNA_S000460823</td>\n",
       "      <td>0.0014113193379766864</td>\n",
       "      <td>1.217143898726644</td>\n",
       "      <td>False</td>\n",
       "      <td>0.608696</td>\n",
       "      <td>0.010062652916660196</td>\n",
       "      <td>hla_c_07_04_01</td>\n",
       "      <td>False</td>\n",
       "      <td>1.1476173426890357</td>\n",
       "      <td>C*07:04:01</td>\n",
       "      <td>...</td>\n",
       "      <td>1</td>\n",
       "      <td>2</td>\n",
       "      <td>0.001722</td>\n",
       "      <td>0.59</td>\n",
       "      <td>False</td>\n",
       "      <td>NaN</td>\n",
       "      <td>True</td>\n",
       "      <td>1.0</td>\n",
       "      <td>1.0</td>\n",
       "      <td>C*07:04</td>\n",
       "    </tr>\n",
       "  </tbody>\n",
       "</table>\n",
       "<p>5 rows × 21 columns</p>\n",
       "</div>"
      ],
      "text/plain": [
       "           Sample alternate_allelic_imbalance alternate_copy_number  \\\n",
       "0  DNA_S000460823          0.1396995991856002     0.954528661480121   \n",
       "1  DNA_S000460823          0.1396995991856002    1.1057150882186553   \n",
       "2  DNA_S000460823        5.46589459102549e-09    1.2609575305311944   \n",
       "3  DNA_S000460823        5.46589459102549e-09      0.92425847923387   \n",
       "4  DNA_S000460823       0.0014113193379766864     1.217143898726644   \n",
       "\n",
       "   alternate_deletion  consistency_of_coverage          dash_adj_baf  \\\n",
       "0               False                 0.562500  0.013659546387627177   \n",
       "1               False                 0.562500  0.013659546387627177   \n",
       "2               False                 0.586957  0.024985149802174426   \n",
       "3               False                 0.586957  0.024985149802174426   \n",
       "4               False                 0.608696  0.010062652916660196   \n",
       "\n",
       "         dash_allele  dash_deletion              dash_r hla_assign_allele  \\\n",
       "0     hla_a_11_01_01          False  1.0101327646302274        A*11:01:01   \n",
       "1  hla_a_02_01_01_01          False   0.978562589275474     A*02:01:01:01   \n",
       "2     hla_b_07_02_01          False  1.1222587728426323        B*07:02:01   \n",
       "3  hla_b_44_02_01_01          False  1.0166830101556927     B*44:02:01:01   \n",
       "4     hla_c_07_04_01          False  1.1476173426890357        C*07:04:01   \n",
       "\n",
       "   ... hla_locus_cntr  ploidy  prediction_probability  purity  \\\n",
       "0  ...              1       2                0.005693    0.59   \n",
       "1  ...              2       2                0.005693    0.59   \n",
       "2  ...              1       2                0.001960    0.59   \n",
       "3  ...              2       2                0.001960    0.59   \n",
       "4  ...              1       2                0.001722    0.59   \n",
       "\n",
       "   raw_dash_deletion  sample secondary_check  sequenza_majors  \\\n",
       "0              False     NaN            True              1.0   \n",
       "1              False     NaN            True              1.0   \n",
       "2              False     NaN            True              1.0   \n",
       "3              False     NaN            True              1.0   \n",
       "4              False     NaN            True              1.0   \n",
       "\n",
       "   sequenza_minors   Allele  \n",
       "0              1.0  A*11:01  \n",
       "1              1.0  A*02:01  \n",
       "2              1.0  B*07:02  \n",
       "3              1.0  B*44:02  \n",
       "4              1.0  C*07:04  \n",
       "\n",
       "[5 rows x 21 columns]"
      ]
     },
     "execution_count": 156,
     "metadata": {},
     "output_type": "execute_result"
    }
   ],
   "source": [
    "dash_output.head()"
   ]
  },
  {
   "cell_type": "code",
   "execution_count": 157,
   "metadata": {},
   "outputs": [],
   "source": [
    "all_samples = list(dash_output.Sample.unique())"
   ]
  },
  {
   "cell_type": "code",
   "execution_count": 158,
   "metadata": {},
   "outputs": [],
   "source": [
    "# Create lists\n",
    "all_tumor_sample_names, all_lost_hlas, all_retained_hlas, all_homozygous_hlas = [], [], [], []\n",
    "for name in all_samples:\n",
    "    tmp_df = dash_output[dash_output['Sample'] == name]\n",
    "    \n",
    "    if len(tmp_df) > 0:\n",
    "        # Lost\n",
    "        all_lost_hlas.append(','.join(list(tmp_df[tmp_df.dash_deletion == True].Allele)))\n",
    "\n",
    "        # Retained\n",
    "        all_retained_hlas.append(','.join(list(tmp_df[(tmp_df.dash_deletion == False)\n",
    "                                                        &~(tmp_df.dash_r == '-')].Allele)))\n",
    "\n",
    "        # Homozygous\n",
    "        all_homozygous_hlas.append(','.join(list(tmp_df[(tmp_df.dash_deletion == False)\n",
    "                                                        &(tmp_df.dash_r == '-')].Allele)))\n",
    "    else:\n",
    "        all_lost_hlas.append('')\n",
    "        all_retained_hlas.append('')\n",
    "        all_homozygous_hlas.append('')\n",
    "        \n",
    "    all_tumor_sample_names.append(name)"
   ]
  },
  {
   "cell_type": "code",
   "execution_count": 159,
   "metadata": {},
   "outputs": [],
   "source": [
    "tmp_output_df = pd.DataFrame({'sample_name_tumor': all_tumor_sample_names,\n",
    "                             'Alleles_lost': all_lost_hlas, 'Alleles_retained': all_retained_hlas,\n",
    "                             'Alleles_homozygous': all_homozygous_hlas})"
   ]
  },
  {
   "cell_type": "code",
   "execution_count": 160,
   "metadata": {},
   "outputs": [
    {
     "data": {
      "text/html": [
       "<div>\n",
       "<style scoped>\n",
       "    .dataframe tbody tr th:only-of-type {\n",
       "        vertical-align: middle;\n",
       "    }\n",
       "\n",
       "    .dataframe tbody tr th {\n",
       "        vertical-align: top;\n",
       "    }\n",
       "\n",
       "    .dataframe thead th {\n",
       "        text-align: right;\n",
       "    }\n",
       "</style>\n",
       "<table border=\"1\" class=\"dataframe\">\n",
       "  <thead>\n",
       "    <tr style=\"text-align: right;\">\n",
       "      <th></th>\n",
       "      <th>sample_name_tumor</th>\n",
       "      <th>Alleles_lost</th>\n",
       "      <th>Alleles_retained</th>\n",
       "      <th>Alleles_homozygous</th>\n",
       "    </tr>\n",
       "  </thead>\n",
       "  <tbody>\n",
       "    <tr>\n",
       "      <th>0</th>\n",
       "      <td>DNA_S000460823</td>\n",
       "      <td></td>\n",
       "      <td>A*11:01,A*02:01,B*07:02,B*44:02,C*07:04,C*07:02</td>\n",
       "      <td></td>\n",
       "    </tr>\n",
       "    <tr>\n",
       "      <th>1</th>\n",
       "      <td>DNA_D00689998_A1</td>\n",
       "      <td></td>\n",
       "      <td>A*24:02,A*11:01,B*07:02,B*44:03,C*07:02,C*16:01</td>\n",
       "      <td></td>\n",
       "    </tr>\n",
       "    <tr>\n",
       "      <th>2</th>\n",
       "      <td>DNA_D00689957_A1</td>\n",
       "      <td>A*32:01,B*53:01,C*04:01</td>\n",
       "      <td>A*68:02,B*81:01,C*18:01</td>\n",
       "      <td></td>\n",
       "    </tr>\n",
       "    <tr>\n",
       "      <th>3</th>\n",
       "      <td>DNA_D00689946_A2a</td>\n",
       "      <td></td>\n",
       "      <td>A*33:01,A*68:01,B*07:02,B*14:02,C*08:02,C*07:02</td>\n",
       "      <td></td>\n",
       "    </tr>\n",
       "    <tr>\n",
       "      <th>4</th>\n",
       "      <td>DNA_S000465410</td>\n",
       "      <td></td>\n",
       "      <td>A*25:01,A*02:01,B*27:02,B*18:01,C*02:02,C*12:03</td>\n",
       "      <td></td>\n",
       "    </tr>\n",
       "  </tbody>\n",
       "</table>\n",
       "</div>"
      ],
      "text/plain": [
       "   sample_name_tumor             Alleles_lost  \\\n",
       "0     DNA_S000460823                            \n",
       "1   DNA_D00689998_A1                            \n",
       "2   DNA_D00689957_A1  A*32:01,B*53:01,C*04:01   \n",
       "3  DNA_D00689946_A2a                            \n",
       "4     DNA_S000465410                            \n",
       "\n",
       "                                  Alleles_retained Alleles_homozygous  \n",
       "0  A*11:01,A*02:01,B*07:02,B*44:02,C*07:04,C*07:02                     \n",
       "1  A*24:02,A*11:01,B*07:02,B*44:03,C*07:02,C*16:01                     \n",
       "2                          A*68:02,B*81:01,C*18:01                     \n",
       "3  A*33:01,A*68:01,B*07:02,B*14:02,C*08:02,C*07:02                     \n",
       "4  A*25:01,A*02:01,B*27:02,B*18:01,C*02:02,C*12:03                     "
      ]
     },
     "execution_count": 160,
     "metadata": {},
     "output_type": "execute_result"
    }
   ],
   "source": [
    "tmp_output_df.head()"
   ]
  },
  {
   "cell_type": "code",
   "execution_count": 161,
   "metadata": {},
   "outputs": [],
   "source": [
    "data_df = pd.merge(tmp_output_df, meta_df, on='sample_name_tumor', how='outer')"
   ]
  },
  {
   "cell_type": "code",
   "execution_count": 162,
   "metadata": {},
   "outputs": [],
   "source": [
    "data_df['Has_HLALOH'] = ~(data_df['Alleles_lost'] == '')"
   ]
  },
  {
   "cell_type": "code",
   "execution_count": 163,
   "metadata": {},
   "outputs": [],
   "source": [
    "data_df = data_df[~data_df.Alleles_lost.isna()]"
   ]
  },
  {
   "cell_type": "code",
   "execution_count": 164,
   "metadata": {},
   "outputs": [
    {
     "data": {
      "text/html": [
       "<div>\n",
       "<style scoped>\n",
       "    .dataframe tbody tr th:only-of-type {\n",
       "        vertical-align: middle;\n",
       "    }\n",
       "\n",
       "    .dataframe tbody tr th {\n",
       "        vertical-align: top;\n",
       "    }\n",
       "\n",
       "    .dataframe thead th {\n",
       "        text-align: right;\n",
       "    }\n",
       "</style>\n",
       "<table border=\"1\" class=\"dataframe\">\n",
       "  <thead>\n",
       "    <tr style=\"text-align: right;\">\n",
       "      <th></th>\n",
       "      <th>sample_name_tumor</th>\n",
       "      <th>Alleles_lost</th>\n",
       "      <th>Alleles_retained</th>\n",
       "      <th>Alleles_homozygous</th>\n",
       "      <th>Cancer_type</th>\n",
       "      <th>Specimen_ID</th>\n",
       "      <th>Has_HLALOH</th>\n",
       "    </tr>\n",
       "  </thead>\n",
       "  <tbody>\n",
       "    <tr>\n",
       "      <th>0</th>\n",
       "      <td>DNA_S000460823</td>\n",
       "      <td></td>\n",
       "      <td>A*11:01,A*02:01,B*07:02,B*44:02,C*07:04,C*07:02</td>\n",
       "      <td></td>\n",
       "      <td>Bladder</td>\n",
       "      <td>S000460823</td>\n",
       "      <td>False</td>\n",
       "    </tr>\n",
       "    <tr>\n",
       "      <th>1</th>\n",
       "      <td>DNA_D00689998_A1</td>\n",
       "      <td></td>\n",
       "      <td>A*24:02,A*11:01,B*07:02,B*44:03,C*07:02,C*16:01</td>\n",
       "      <td></td>\n",
       "      <td>Melanoma</td>\n",
       "      <td>D00689998_A1</td>\n",
       "      <td>False</td>\n",
       "    </tr>\n",
       "    <tr>\n",
       "      <th>2</th>\n",
       "      <td>DNA_D00689957_A1</td>\n",
       "      <td>A*32:01,B*53:01,C*04:01</td>\n",
       "      <td>A*68:02,B*81:01,C*18:01</td>\n",
       "      <td></td>\n",
       "      <td>Colorectal</td>\n",
       "      <td>D00689957_A1</td>\n",
       "      <td>True</td>\n",
       "    </tr>\n",
       "    <tr>\n",
       "      <th>3</th>\n",
       "      <td>DNA_D00689946_A2a</td>\n",
       "      <td></td>\n",
       "      <td>A*33:01,A*68:01,B*07:02,B*14:02,C*08:02,C*07:02</td>\n",
       "      <td></td>\n",
       "      <td>Pancreatic</td>\n",
       "      <td>D00689946_A2a</td>\n",
       "      <td>False</td>\n",
       "    </tr>\n",
       "    <tr>\n",
       "      <th>4</th>\n",
       "      <td>DNA_S000465410</td>\n",
       "      <td></td>\n",
       "      <td>A*25:01,A*02:01,B*27:02,B*18:01,C*02:02,C*12:03</td>\n",
       "      <td></td>\n",
       "      <td>Uterine</td>\n",
       "      <td>S000465410</td>\n",
       "      <td>False</td>\n",
       "    </tr>\n",
       "  </tbody>\n",
       "</table>\n",
       "</div>"
      ],
      "text/plain": [
       "   sample_name_tumor             Alleles_lost  \\\n",
       "0     DNA_S000460823                            \n",
       "1   DNA_D00689998_A1                            \n",
       "2   DNA_D00689957_A1  A*32:01,B*53:01,C*04:01   \n",
       "3  DNA_D00689946_A2a                            \n",
       "4     DNA_S000465410                            \n",
       "\n",
       "                                  Alleles_retained Alleles_homozygous  \\\n",
       "0  A*11:01,A*02:01,B*07:02,B*44:02,C*07:04,C*07:02                      \n",
       "1  A*24:02,A*11:01,B*07:02,B*44:03,C*07:02,C*16:01                      \n",
       "2                          A*68:02,B*81:01,C*18:01                      \n",
       "3  A*33:01,A*68:01,B*07:02,B*14:02,C*08:02,C*07:02                      \n",
       "4  A*25:01,A*02:01,B*27:02,B*18:01,C*02:02,C*12:03                      \n",
       "\n",
       "  Cancer_type    Specimen_ID  Has_HLALOH  \n",
       "0     Bladder     S000460823       False  \n",
       "1    Melanoma   D00689998_A1       False  \n",
       "2  Colorectal   D00689957_A1        True  \n",
       "3  Pancreatic  D00689946_A2a       False  \n",
       "4     Uterine     S000465410       False  "
      ]
     },
     "execution_count": 164,
     "metadata": {},
     "output_type": "execute_result"
    }
   ],
   "source": [
    "data_df.head()"
   ]
  },
  {
   "cell_type": "code",
   "execution_count": 165,
   "metadata": {},
   "outputs": [
    {
     "data": {
      "text/plain": [
       "(755, 626)"
      ]
     },
     "execution_count": 165,
     "metadata": {},
     "output_type": "execute_result"
    }
   ],
   "source": [
    "len(data_df), len(data_df.dropna())"
   ]
  },
  {
   "cell_type": "code",
   "execution_count": null,
   "metadata": {},
   "outputs": [],
   "source": []
  },
  {
   "cell_type": "code",
   "execution_count": null,
   "metadata": {},
   "outputs": [],
   "source": []
  },
  {
   "cell_type": "markdown",
   "metadata": {},
   "source": [
    "### Plotting"
   ]
  },
  {
   "cell_type": "code",
   "execution_count": 178,
   "metadata": {},
   "outputs": [
    {
     "name": "stdout",
     "output_type": "stream",
     "text": [
      "8\n",
      "17\n",
      "['Bladder' 'Melanoma' 'Colorectal' 'Pancreatic' 'Uterine' 'Head_Neck'\n",
      " 'Cervical' 'NSCLC_SCC' 'Liver' 'NSCLC_adenocarcinoma' 'Breast' 'Thyroid'\n",
      " 'Kidney_RCC' 'Ovarian' 'Lung-LCC' 'Prostate' nan]\n"
     ]
    }
   ],
   "source": [
    "# Cancer types with at least 10 patients with HLA LOH\n",
    "cancer_types = list(data_df[data_df.Has_HLALOH].Cancer_type.value_counts()\n",
    "                    [data_df[data_df.Has_HLALOH].Cancer_type.value_counts() >= 10].index)\n",
    "print(len(cancer_types))\n",
    "\n",
    "# All cancer types\n",
    "print(len(data_df.Cancer_type.unique()))\n",
    "print(data_df.Cancer_type.unique())"
   ]
  },
  {
   "cell_type": "code",
   "execution_count": 179,
   "metadata": {},
   "outputs": [
    {
     "data": {
      "text/plain": [
       "Pancreatic              108\n",
       "NSCLC_adenocarcinoma     87\n",
       "Colorectal               85\n",
       "Melanoma                 85\n",
       "Breast                   68\n",
       "Kidney_RCC               61\n",
       "Bladder                  41\n",
       "Uterine                  40\n",
       "NSCLC_SCC                32\n",
       "Liver                    28\n",
       "Ovarian                  28\n",
       "Head_Neck                20\n",
       "Prostate                 19\n",
       "Cervical                 18\n",
       "Thyroid                   2\n",
       "Lung-LCC                  1\n",
       "Name: Cancer_type, dtype: int64"
      ]
     },
     "execution_count": 179,
     "metadata": {},
     "output_type": "execute_result"
    }
   ],
   "source": [
    "data_df.Cancer_type.value_counts()"
   ]
  },
  {
   "cell_type": "markdown",
   "metadata": {},
   "source": [
    "### Frequency across tumor types"
   ]
  },
  {
   "cell_type": "code",
   "execution_count": 168,
   "metadata": {},
   "outputs": [
    {
     "data": {
      "text/plain": [
       "0.2370860927152318"
      ]
     },
     "execution_count": 168,
     "metadata": {},
     "output_type": "execute_result"
    }
   ],
   "source": [
    "data_df.Has_HLALOH.mean()"
   ]
  },
  {
   "cell_type": "code",
   "execution_count": 169,
   "metadata": {},
   "outputs": [
    {
     "data": {
      "text/plain": [
       "Index(['sample_name_tumor', 'Alleles_lost', 'Alleles_retained',\n",
       "       'Alleles_homozygous', 'Cancer_type', 'Specimen_ID', 'Has_HLALOH'],\n",
       "      dtype='object')"
      ]
     },
     "execution_count": 169,
     "metadata": {},
     "output_type": "execute_result"
    }
   ],
   "source": [
    "data_df.columns"
   ]
  },
  {
   "cell_type": "code",
   "execution_count": 170,
   "metadata": {},
   "outputs": [],
   "source": [
    "total_df = data_df.Cancer_type.value_counts().reset_index()\n",
    "total_df.columns = ['Cancer_type', 'Total_patients']"
   ]
  },
  {
   "cell_type": "code",
   "execution_count": 171,
   "metadata": {},
   "outputs": [],
   "source": [
    "loh_df = data_df[data_df.Has_HLALOH].Cancer_type.value_counts().reset_index()\n",
    "loh_df.columns = ['Cancer_type', 'HLALOH_patients']"
   ]
  },
  {
   "cell_type": "code",
   "execution_count": 172,
   "metadata": {},
   "outputs": [],
   "source": [
    "freq_df = pd.merge(total_df, loh_df, on='Cancer_type', how='left').fillna(0)"
   ]
  },
  {
   "cell_type": "code",
   "execution_count": 173,
   "metadata": {},
   "outputs": [],
   "source": [
    "freq_df['Fraction'] = freq_df['HLALOH_patients'] / freq_df['Total_patients']"
   ]
  },
  {
   "cell_type": "code",
   "execution_count": 176,
   "metadata": {},
   "outputs": [],
   "source": [
    "cancer_type_map = {'Cervical': 'Cervical', 'Head_Neck': 'HNSCC', 'NSCLC_SCC': 'NSCLC-SCC',\n",
    "                   'NSCLC_adenocarcinoma': 'NSCLC-A', 'Pancreatic': 'Pancreatic',\n",
    "                   'Bladder': 'Blader', 'Colorectal': 'Colorectal', 'Kidney_RCC': 'Kidney',\n",
    "                   'Breast': 'Breast', 'Melanoma': 'Melanoma', 'Ovarian': 'Ovarian',\n",
    "                   'Uterine': 'Uterine', 'Liver':'Liver', 'Prostate': 'Prostate'}"
   ]
  },
  {
   "cell_type": "code",
   "execution_count": 180,
   "metadata": {},
   "outputs": [
    {
     "data": {
      "image/png": "[encoded data removed]",
      "text/plain": [
       "<Figure size 360x252 with 2 Axes>"
      ]
     },
     "metadata": {
      "needs_background": "light"
     },
     "output_type": "display_data"
    }
   ],
   "source": [
    "size_constraint = freq_df.Total_patients > 10\n",
    "\n",
    "plt.figure(figsize=(5, 3.5))\n",
    "sns.set_context('talk', font_scale=0.7)\n",
    "gs = gridspec.GridSpec(1, 2, width_ratios=[1, 2]) \n",
    "\n",
    "\n",
    "ax0 = plt.subplot(gs[1])\n",
    "sns.barplot(y='Cancer_type', x='Fraction', data=freq_df, color='grey', \n",
    "            order=freq_df[size_constraint].sort_values('Fraction', ascending=False).Cancer_type, ax = ax0)\n",
    "plt.xlabel('Fraction of\\npatients\\nwith HLA LOH')\n",
    "plt.yticks([])\n",
    "plt.ylabel('')\n",
    "\n",
    "ax1 = plt.subplot(gs[0])\n",
    "sns.barplot(y='Cancer_type', x='Total_patients', data=freq_df, color='grey', \n",
    "            order=freq_df[size_constraint].sort_values('Fraction', ascending=False).Cancer_type, ax=ax1)\n",
    "plt.xticks(rotation=90)\n",
    "plt.xlabel('Number of\\npatients')\n",
    "ax1.set(yticklabels=[cancer_type_map[x] for x in \n",
    "                     list(freq_df[size_constraint].sort_values('Fraction', ascending=False).Cancer_type)])\n",
    "plt.ylabel('')\n",
    "\n",
    "plt.savefig('/rnd/users/rpyke/data/00-DASH/figures/nextdb.frequency_of_hlaloh.2021_03_09.pdf',\n",
    "           bbox_inches='tight')"
   ]
  },
  {
   "cell_type": "code",
   "execution_count": 181,
   "metadata": {},
   "outputs": [
    {
     "data": {
      "text/plain": [
       "723"
      ]
     },
     "execution_count": 181,
     "metadata": {},
     "output_type": "execute_result"
    }
   ],
   "source": [
    "freq_df.Total_patients.sum()"
   ]
  },
  {
   "cell_type": "code",
   "execution_count": 182,
   "metadata": {},
   "outputs": [
    {
     "data": {
      "text/html": [
       "<div>\n",
       "<style scoped>\n",
       "    .dataframe tbody tr th:only-of-type {\n",
       "        vertical-align: middle;\n",
       "    }\n",
       "\n",
       "    .dataframe tbody tr th {\n",
       "        vertical-align: top;\n",
       "    }\n",
       "\n",
       "    .dataframe thead th {\n",
       "        text-align: right;\n",
       "    }\n",
       "</style>\n",
       "<table border=\"1\" class=\"dataframe\">\n",
       "  <thead>\n",
       "    <tr style=\"text-align: right;\">\n",
       "      <th></th>\n",
       "      <th>Cancer_type</th>\n",
       "      <th>Total_patients</th>\n",
       "      <th>HLALOH_patients</th>\n",
       "      <th>Fraction</th>\n",
       "    </tr>\n",
       "  </thead>\n",
       "  <tbody>\n",
       "    <tr>\n",
       "      <th>14</th>\n",
       "      <td>Thyroid</td>\n",
       "      <td>2</td>\n",
       "      <td>0.0</td>\n",
       "      <td>0.000000</td>\n",
       "    </tr>\n",
       "    <tr>\n",
       "      <th>15</th>\n",
       "      <td>Lung-LCC</td>\n",
       "      <td>1</td>\n",
       "      <td>0.0</td>\n",
       "      <td>0.000000</td>\n",
       "    </tr>\n",
       "    <tr>\n",
       "      <th>9</th>\n",
       "      <td>Liver</td>\n",
       "      <td>28</td>\n",
       "      <td>3.0</td>\n",
       "      <td>0.107143</td>\n",
       "    </tr>\n",
       "    <tr>\n",
       "      <th>7</th>\n",
       "      <td>Uterine</td>\n",
       "      <td>40</td>\n",
       "      <td>5.0</td>\n",
       "      <td>0.125000</td>\n",
       "    </tr>\n",
       "    <tr>\n",
       "      <th>3</th>\n",
       "      <td>Melanoma</td>\n",
       "      <td>85</td>\n",
       "      <td>12.0</td>\n",
       "      <td>0.141176</td>\n",
       "    </tr>\n",
       "    <tr>\n",
       "      <th>10</th>\n",
       "      <td>Ovarian</td>\n",
       "      <td>28</td>\n",
       "      <td>4.0</td>\n",
       "      <td>0.142857</td>\n",
       "    </tr>\n",
       "    <tr>\n",
       "      <th>4</th>\n",
       "      <td>Breast</td>\n",
       "      <td>68</td>\n",
       "      <td>10.0</td>\n",
       "      <td>0.147059</td>\n",
       "    </tr>\n",
       "    <tr>\n",
       "      <th>0</th>\n",
       "      <td>Pancreatic</td>\n",
       "      <td>108</td>\n",
       "      <td>22.0</td>\n",
       "      <td>0.203704</td>\n",
       "    </tr>\n",
       "    <tr>\n",
       "      <th>12</th>\n",
       "      <td>Prostate</td>\n",
       "      <td>19</td>\n",
       "      <td>4.0</td>\n",
       "      <td>0.210526</td>\n",
       "    </tr>\n",
       "    <tr>\n",
       "      <th>5</th>\n",
       "      <td>Kidney_RCC</td>\n",
       "      <td>61</td>\n",
       "      <td>14.0</td>\n",
       "      <td>0.229508</td>\n",
       "    </tr>\n",
       "    <tr>\n",
       "      <th>2</th>\n",
       "      <td>Colorectal</td>\n",
       "      <td>85</td>\n",
       "      <td>25.0</td>\n",
       "      <td>0.294118</td>\n",
       "    </tr>\n",
       "    <tr>\n",
       "      <th>6</th>\n",
       "      <td>Bladder</td>\n",
       "      <td>41</td>\n",
       "      <td>13.0</td>\n",
       "      <td>0.317073</td>\n",
       "    </tr>\n",
       "    <tr>\n",
       "      <th>1</th>\n",
       "      <td>NSCLC_adenocarcinoma</td>\n",
       "      <td>87</td>\n",
       "      <td>28.0</td>\n",
       "      <td>0.321839</td>\n",
       "    </tr>\n",
       "    <tr>\n",
       "      <th>8</th>\n",
       "      <td>NSCLC_SCC</td>\n",
       "      <td>32</td>\n",
       "      <td>11.0</td>\n",
       "      <td>0.343750</td>\n",
       "    </tr>\n",
       "    <tr>\n",
       "      <th>11</th>\n",
       "      <td>Head_Neck</td>\n",
       "      <td>20</td>\n",
       "      <td>8.0</td>\n",
       "      <td>0.400000</td>\n",
       "    </tr>\n",
       "    <tr>\n",
       "      <th>13</th>\n",
       "      <td>Cervical</td>\n",
       "      <td>18</td>\n",
       "      <td>8.0</td>\n",
       "      <td>0.444444</td>\n",
       "    </tr>\n",
       "  </tbody>\n",
       "</table>\n",
       "</div>"
      ],
      "text/plain": [
       "             Cancer_type  Total_patients  HLALOH_patients  Fraction\n",
       "14               Thyroid               2              0.0  0.000000\n",
       "15              Lung-LCC               1              0.0  0.000000\n",
       "9                  Liver              28              3.0  0.107143\n",
       "7                Uterine              40              5.0  0.125000\n",
       "3               Melanoma              85             12.0  0.141176\n",
       "10               Ovarian              28              4.0  0.142857\n",
       "4                 Breast              68             10.0  0.147059\n",
       "0             Pancreatic             108             22.0  0.203704\n",
       "12              Prostate              19              4.0  0.210526\n",
       "5             Kidney_RCC              61             14.0  0.229508\n",
       "2             Colorectal              85             25.0  0.294118\n",
       "6                Bladder              41             13.0  0.317073\n",
       "1   NSCLC_adenocarcinoma              87             28.0  0.321839\n",
       "8              NSCLC_SCC              32             11.0  0.343750\n",
       "11             Head_Neck              20              8.0  0.400000\n",
       "13              Cervical              18              8.0  0.444444"
      ]
     },
     "execution_count": 182,
     "metadata": {},
     "output_type": "execute_result"
    }
   ],
   "source": [
    "freq_df.sort_values('Fraction')"
   ]
  },
  {
   "cell_type": "markdown",
   "metadata": {},
   "source": [
    "### Check # of alleles lost if starting with only heterozygous patients"
   ]
  },
  {
   "cell_type": "code",
   "execution_count": 183,
   "metadata": {},
   "outputs": [],
   "source": [
    "data_df['Allele_lost_A'] = data_df['Alleles_lost'].str.contains('A').fillna(False).astype(int)\n",
    "data_df['Allele_lost_B'] = data_df['Alleles_lost'].str.contains('B').fillna(False).astype(int)\n",
    "data_df['Allele_lost_C'] = data_df['Alleles_lost'].str.contains('C').fillna(False).astype(int)"
   ]
  },
  {
   "cell_type": "code",
   "execution_count": 184,
   "metadata": {},
   "outputs": [],
   "source": [
    "# restrict to fully heterozygous alleles\n",
    "heterozygous_data_df = data_df[data_df.Alleles_homozygous == '']"
   ]
  },
  {
   "cell_type": "code",
   "execution_count": 185,
   "metadata": {},
   "outputs": [],
   "source": [
    "gene_count_df = heterozygous_data_df[['Allele_lost_A', 'Allele_lost_B', 'Allele_lost_C']].sum(axis=1) \\\n",
    "                        .value_counts().reset_index()\n",
    "gene_count_df.columns = ['Number of HLA genes with LOH', 'Number of patients']"
   ]
  },
  {
   "cell_type": "code",
   "execution_count": 186,
   "metadata": {
    "scrolled": true
   },
   "outputs": [
    {
     "data": {
      "text/html": [
       "<div>\n",
       "<style scoped>\n",
       "    .dataframe tbody tr th:only-of-type {\n",
       "        vertical-align: middle;\n",
       "    }\n",
       "\n",
       "    .dataframe tbody tr th {\n",
       "        vertical-align: top;\n",
       "    }\n",
       "\n",
       "    .dataframe thead th {\n",
       "        text-align: right;\n",
       "    }\n",
       "</style>\n",
       "<table border=\"1\" class=\"dataframe\">\n",
       "  <thead>\n",
       "    <tr style=\"text-align: right;\">\n",
       "      <th></th>\n",
       "      <th>Number of HLA genes with LOH</th>\n",
       "      <th>Number of patients</th>\n",
       "    </tr>\n",
       "  </thead>\n",
       "  <tbody>\n",
       "    <tr>\n",
       "      <th>0</th>\n",
       "      <td>0</td>\n",
       "      <td>408</td>\n",
       "    </tr>\n",
       "    <tr>\n",
       "      <th>1</th>\n",
       "      <td>3</td>\n",
       "      <td>93</td>\n",
       "    </tr>\n",
       "    <tr>\n",
       "      <th>2</th>\n",
       "      <td>1</td>\n",
       "      <td>28</td>\n",
       "    </tr>\n",
       "    <tr>\n",
       "      <th>3</th>\n",
       "      <td>2</td>\n",
       "      <td>15</td>\n",
       "    </tr>\n",
       "  </tbody>\n",
       "</table>\n",
       "</div>"
      ],
      "text/plain": [
       "   Number of HLA genes with LOH  Number of patients\n",
       "0                             0                 408\n",
       "1                             3                  93\n",
       "2                             1                  28\n",
       "3                             2                  15"
      ]
     },
     "execution_count": 186,
     "metadata": {},
     "output_type": "execute_result"
    }
   ],
   "source": [
    "gene_count_df.head()"
   ]
  },
  {
   "cell_type": "code",
   "execution_count": 188,
   "metadata": {},
   "outputs": [
    {
     "data": {
      "image/png": "[encoded data removed]",
      "text/plain": [
       "<Figure size 72x252 with 1 Axes>"
      ]
     },
     "metadata": {
      "needs_background": "light"
     },
     "output_type": "display_data"
    }
   ],
   "source": [
    "plt.figure(figsize=(1, 3.5))\n",
    "sns.set_context('talk', font_scale=0.7)\n",
    "sns.barplot(x='Number of HLA genes with LOH', y='Number of patients', data=gene_count_df,\n",
    "           order=[1, 2, 3], color='grey')\n",
    "plt.xticks(rotation=0)\n",
    "plt.ylabel('Number of fully\\nheterozygous patients')\n",
    "plt.xlabel('Number of HLA\\ngenes with LOH')\n",
    "\n",
    "plt.savefig('/rnd/users/rpyke/data/00-DASH/figures/nextdb.number_of_genes_impacted.2021_03_09.pdf',\n",
    "           bbox_inches='tight')"
   ]
  },
  {
   "cell_type": "code",
   "execution_count": 24,
   "metadata": {
    "scrolled": false
   },
   "outputs": [
    {
     "name": "stdout",
     "output_type": "stream",
     "text": [
      "0.6981132075471698\n",
      "0.19811320754716982\n",
      "0.09433962264150944\n"
     ]
    }
   ],
   "source": [
    "print(74 / (74+22+10))\n",
    "print(21 / (74+22+10))\n",
    "print(10 / (74+22+10))"
   ]
  },
  {
   "cell_type": "code",
   "execution_count": null,
   "metadata": {},
   "outputs": [],
   "source": []
  },
  {
   "cell_type": "code",
   "execution_count": null,
   "metadata": {},
   "outputs": [],
   "source": []
  },
  {
   "cell_type": "code",
   "execution_count": null,
   "metadata": {},
   "outputs": [],
   "source": []
  },
  {
   "cell_type": "code",
   "execution_count": null,
   "metadata": {},
   "outputs": [],
   "source": []
  }
 ],
 "metadata": {
  "kernelspec": {
   "display_name": "Python 3",
   "language": "python",
   "name": "python3"
  },
  "language_info": {
   "codemirror_mode": {
    "name": "ipython",
    "version": 3
   },
   "file_extension": ".py",
   "mimetype": "text/x-python",
   "name": "python",
   "nbconvert_exporter": "python",
   "pygments_lexer": "ipython3",
   "version": "3.7.3"
  }
 },
 "nbformat": 4,
 "nbformat_minor": 2
}
