{
 "cells": [
  {
   "cell_type": "code",
   "execution_count": 1,
   "metadata": {},
   "outputs": [],
   "source": [
    "%run ../../bin/imports.ipynb\n",
    "from matplotlib import gridspec\n",
    "import random\n",
    "import warnings\n",
    "warnings.filterwarnings('ignore')"
   ]
  },
  {
   "cell_type": "markdown",
   "metadata": {},
   "source": [
    "### Looking for interesting biology in pre/post immunotherapy data"
   ]
  },
  {
   "cell_type": "code",
   "execution_count": 2,
   "metadata": {},
   "outputs": [],
   "source": [
    "# Get Stanford-sunwoo samples\n",
    "samples_df = pd.read_csv('/rnd/users/rpyke/data/00-DASH/manuscript_data/stanford.output.csv', index_col=0)"
   ]
  },
  {
   "cell_type": "code",
   "execution_count": 3,
   "metadata": {},
   "outputs": [],
   "source": [
    "patients = samples_df['sample'].str.split('_').str[0].unique()"
   ]
  },
  {
   "cell_type": "code",
   "execution_count": 4,
   "metadata": {},
   "outputs": [
    {
     "data": {
      "text/html": [
       "<div>\n",
       "<style scoped>\n",
       "    .dataframe tbody tr th:only-of-type {\n",
       "        vertical-align: middle;\n",
       "    }\n",
       "\n",
       "    .dataframe tbody tr th {\n",
       "        vertical-align: top;\n",
       "    }\n",
       "\n",
       "    .dataframe thead th {\n",
       "        text-align: right;\n",
       "    }\n",
       "</style>\n",
       "<table border=\"1\" class=\"dataframe\">\n",
       "  <thead>\n",
       "    <tr style=\"text-align: right;\">\n",
       "      <th></th>\n",
       "      <th>sample</th>\n",
       "      <th>dash_allele</th>\n",
       "      <th>prediction_probability</th>\n",
       "    </tr>\n",
       "  </thead>\n",
       "  <tbody>\n",
       "    <tr>\n",
       "      <th>2</th>\n",
       "      <td>40425-0013_Post_Tumor_DNA</td>\n",
       "      <td>hla_b_55_01_01</td>\n",
       "      <td>0.980794</td>\n",
       "    </tr>\n",
       "    <tr>\n",
       "      <th>4</th>\n",
       "      <td>40425-0013_Post_Tumor_DNA</td>\n",
       "      <td>hla_c_03_03_01</td>\n",
       "      <td>0.980794</td>\n",
       "    </tr>\n",
       "    <tr>\n",
       "      <th>3</th>\n",
       "      <td>40425-0008_Post_Tumor_DNA</td>\n",
       "      <td>hla_b_54_01_01</td>\n",
       "      <td>0.985992</td>\n",
       "    </tr>\n",
       "    <tr>\n",
       "      <th>5</th>\n",
       "      <td>40425-0008_Post_Tumor_DNA</td>\n",
       "      <td>hla_c_01_02_01</td>\n",
       "      <td>0.987766</td>\n",
       "    </tr>\n",
       "    <tr>\n",
       "      <th>0</th>\n",
       "      <td>40425-0009_Pre_Tumor_DNA</td>\n",
       "      <td>hla_a_33_03_01</td>\n",
       "      <td>0.982861</td>\n",
       "    </tr>\n",
       "    <tr>\n",
       "      <th>2</th>\n",
       "      <td>40425-0009_Pre_Tumor_DNA</td>\n",
       "      <td>hla_b_58_01_01</td>\n",
       "      <td>0.956692</td>\n",
       "    </tr>\n",
       "    <tr>\n",
       "      <th>5</th>\n",
       "      <td>40425-0009_Pre_Tumor_DNA</td>\n",
       "      <td>hla_c_03_02_02_01</td>\n",
       "      <td>0.982193</td>\n",
       "    </tr>\n",
       "    <tr>\n",
       "      <th>1</th>\n",
       "      <td>40425-0002_Pre_TumorDNA_ACE3</td>\n",
       "      <td>hla_a_02_01_01_01</td>\n",
       "      <td>0.979805</td>\n",
       "    </tr>\n",
       "    <tr>\n",
       "      <th>2</th>\n",
       "      <td>40425-0002_Pre_TumorDNA_ACE3</td>\n",
       "      <td>hla_b_35_03_01</td>\n",
       "      <td>0.965336</td>\n",
       "    </tr>\n",
       "    <tr>\n",
       "      <th>2</th>\n",
       "      <td>40425-0013_Pre_Tumor_DNA</td>\n",
       "      <td>hla_b_55_01_01</td>\n",
       "      <td>0.982752</td>\n",
       "    </tr>\n",
       "    <tr>\n",
       "      <th>4</th>\n",
       "      <td>40425-0013_Pre_Tumor_DNA</td>\n",
       "      <td>hla_c_03_03_01</td>\n",
       "      <td>0.982752</td>\n",
       "    </tr>\n",
       "    <tr>\n",
       "      <th>3</th>\n",
       "      <td>40425-0008_Pre_Tumor_DNA</td>\n",
       "      <td>hla_b_54_01_01</td>\n",
       "      <td>0.985992</td>\n",
       "    </tr>\n",
       "    <tr>\n",
       "      <th>5</th>\n",
       "      <td>40425-0008_Pre_Tumor_DNA</td>\n",
       "      <td>hla_c_01_02_01</td>\n",
       "      <td>0.987766</td>\n",
       "    </tr>\n",
       "    <tr>\n",
       "      <th>0</th>\n",
       "      <td>40425-0009_Post_Tumor_DNA</td>\n",
       "      <td>hla_a_33_03_01</td>\n",
       "      <td>0.852083</td>\n",
       "    </tr>\n",
       "    <tr>\n",
       "      <th>2</th>\n",
       "      <td>40425-0009_Post_Tumor_DNA</td>\n",
       "      <td>hla_b_58_01_01</td>\n",
       "      <td>0.313017</td>\n",
       "    </tr>\n",
       "    <tr>\n",
       "      <th>5</th>\n",
       "      <td>40425-0009_Post_Tumor_DNA</td>\n",
       "      <td>hla_c_03_02_02_01</td>\n",
       "      <td>0.419054</td>\n",
       "    </tr>\n",
       "  </tbody>\n",
       "</table>\n",
       "</div>"
      ],
      "text/plain": [
       "                         sample        dash_allele  prediction_probability\n",
       "2     40425-0013_Post_Tumor_DNA     hla_b_55_01_01                0.980794\n",
       "4     40425-0013_Post_Tumor_DNA     hla_c_03_03_01                0.980794\n",
       "3     40425-0008_Post_Tumor_DNA     hla_b_54_01_01                0.985992\n",
       "5     40425-0008_Post_Tumor_DNA     hla_c_01_02_01                0.987766\n",
       "0      40425-0009_Pre_Tumor_DNA     hla_a_33_03_01                0.982861\n",
       "2      40425-0009_Pre_Tumor_DNA     hla_b_58_01_01                0.956692\n",
       "5      40425-0009_Pre_Tumor_DNA  hla_c_03_02_02_01                0.982193\n",
       "1  40425-0002_Pre_TumorDNA_ACE3  hla_a_02_01_01_01                0.979805\n",
       "2  40425-0002_Pre_TumorDNA_ACE3     hla_b_35_03_01                0.965336\n",
       "2      40425-0013_Pre_Tumor_DNA     hla_b_55_01_01                0.982752\n",
       "4      40425-0013_Pre_Tumor_DNA     hla_c_03_03_01                0.982752\n",
       "3      40425-0008_Pre_Tumor_DNA     hla_b_54_01_01                0.985992\n",
       "5      40425-0008_Pre_Tumor_DNA     hla_c_01_02_01                0.987766\n",
       "0     40425-0009_Post_Tumor_DNA     hla_a_33_03_01                0.852083\n",
       "2     40425-0009_Post_Tumor_DNA     hla_b_58_01_01                0.313017\n",
       "5     40425-0009_Post_Tumor_DNA  hla_c_03_02_02_01                0.419054"
      ]
     },
     "execution_count": 4,
     "metadata": {},
     "output_type": "execute_result"
    }
   ],
   "source": [
    "samples_df[samples_df.dash_deletion][['sample', 'dash_allele', 'prediction_probability']]"
   ]
  },
  {
   "cell_type": "markdown",
   "metadata": {},
   "source": [
    "### DASH Results"
   ]
  },
  {
   "cell_type": "code",
   "execution_count": 5,
   "metadata": {
    "scrolled": true
   },
   "outputs": [],
   "source": [
    "results = pd.read_csv('/rnd/users/rpyke/data/00-DASH/data/pipeline_results.stanford_sunwoo.extended.csv', index_col=0)\n",
    "results['patient'] = results['sample'].str.split('_').str[0]"
   ]
  },
  {
   "cell_type": "markdown",
   "metadata": {},
   "source": [
    "### Neoantigen predictions"
   ]
  },
  {
   "cell_type": "markdown",
   "metadata": {},
   "source": [
    "SHERPA"
   ]
  },
  {
   "cell_type": "code",
   "execution_count": 6,
   "metadata": {},
   "outputs": [
    {
     "name": "stdout",
     "output_type": "stream",
     "text": [
      "PRESENTATION\n",
      "0 40425-0013_Post_Tumor_DNA\n",
      "40425-0011_Post_Tumor_DNA\n",
      "7140_Post_Tumor_DNA\n",
      "10 40425-0012_Pre_Tumor_DNA\n"
     ]
    }
   ],
   "source": [
    "#for model in ['BINDING', 'PRESENTATION']:\n",
    "model = 'PRESENTATION'\n",
    "\n",
    "print(model)\n",
    "all_dfs = []\n",
    "for i, sample in enumerate(results['sample'].unique()):\n",
    "    if i % 10 == 0:\n",
    "        print(i, sample)\n",
    "    try:\n",
    "        tmp_df = pd.read_csv('/rnd/users/rpyke/data/03-public_MS/applications/NeXTDB/merged_output/{0}.{1}.all.vMAN.tab'.format(sample, model), sep='\\t')\n",
    "        tmp_df['sample'] = sample.split('_')[0]\n",
    "        tmp_df['Allele'] = tmp_df.allele\n",
    "        tmp_df['Rank'] = tmp_df.sherpa_calibrated\n",
    "        tmp_df['Peptide'] = tmp_df.pepseq\n",
    "        tmp_df['time'] = sample.split('_')[1]\n",
    "        all_dfs.append(tmp_df)\n",
    "    except:\n",
    "        print(sample)\n",
    "\n",
    "neo_df = pd.concat(all_dfs)\n",
    "\n",
    "# For neoantigens\n",
    "#neo_df = neo_df.sort_values('Rank').drop_duplicates(['#peptide_id', 'Allele'])\n",
    "\n",
    "neo_df_restricted = neo_df[['#peptide_id', 'Peptide', 'Rank', 'Allele', 'sample', 'time']].drop_duplicates()\n"
   ]
  },
  {
   "cell_type": "code",
   "execution_count": 7,
   "metadata": {},
   "outputs": [],
   "source": [
    "#bpseq_df = pd.read_csv('/rnd/users/mp-wsrv-hmc01/sherpa/data/bpseq.tab', sep='\\t')\n",
    "#all_needed_alleles = [x.strip() for x in open('/rnd/users/rpyke/data/03-public_MS/data/all_multi_alleles.txt').readlines() if x.strip() in list(bpseq_df.allele)]\n",
    "#all_mono_alleles = [x.strip() for x in open('/rnd/users/mp-wsrv-hmc01/sherpa/data/alleles.txt').readlines() if x.strip() in list(bpseq_df.allele)]\n",
    "neo_alleles = list(neo_df.allele.unique())\n"
   ]
  },
  {
   "cell_type": "code",
   "execution_count": 8,
   "metadata": {},
   "outputs": [],
   "source": [
    "#neo_strong_df = neo_df_restricted[neo_df_restricted.Rank < 0.5]"
   ]
  },
  {
   "cell_type": "code",
   "execution_count": 9,
   "metadata": {
    "scrolled": true
   },
   "outputs": [],
   "source": [
    "#neo_strong_df = neo_strong_df.sort_values('Rank').drop_duplicates(subset=['#peptide_id', 'Peptide', 'sample', 'time'])"
   ]
  },
  {
   "cell_type": "markdown",
   "metadata": {},
   "source": [
    "### Novel epitopes"
   ]
  },
  {
   "cell_type": "code",
   "execution_count": 10,
   "metadata": {},
   "outputs": [],
   "source": [
    "cutoff = 0.5"
   ]
  },
  {
   "cell_type": "code",
   "execution_count": 11,
   "metadata": {},
   "outputs": [],
   "source": [
    "loh_colors = sns.color_palette('Reds', 3)\n",
    "non_loh_colors = sns.color_palette('Greys', 3)"
   ]
  },
  {
   "cell_type": "code",
   "execution_count": 12,
   "metadata": {},
   "outputs": [],
   "source": [
    "patients_with_loh = ['40425-0009', '40425-0002', '40425-0008', '40425-0013']\n",
    "patients_without_loh = ['40425-0001', '40425-0014', '40425-0011']"
   ]
  },
  {
   "cell_type": "code",
   "execution_count": 13,
   "metadata": {},
   "outputs": [
    {
     "name": "stdout",
     "output_type": "stream",
     "text": [
      "Alleles lost:  B*55:01:01, C*03:03:01\n",
      "Alleles lost:  B*54:01:01, C*01:02:01\n",
      "Alleles lost:  A*33:03:01, B*58:01:01, C*03:02:02\n",
      "Alleles lost:  \n",
      "No data.\n",
      "Alleles lost:  A*02:01:01, B*35:03:01\n",
      "Alleles lost:  \n",
      "Alleles lost:  \n",
      "Alleles lost:  \n"
     ]
    }
   ],
   "source": [
    "all_samples, all_lohs = [], []\n",
    "for patient in patients:\n",
    "    try:\n",
    "        tmp = pd.read_csv('/rnd/users/rpyke/data/00-DASH/output/pipeline_nextDB_02/{0}/DASH.output.txt'.format([x for x in os.listdir('/rnd/users/rpyke/data/00-DASH/output/pipeline_v07/') \n",
    "                 if patient in x and 'Pre' in x][0]), sep='\\t')\n",
    "        lost_alleles = list(tmp[tmp.dash_deletion == True].hla_assign_allele)\n",
    "        print(\"Alleles lost: \", ', '.join(lost_alleles))\n",
    "        if len(lost_alleles) > 0:\n",
    "            all_lohs.extend(lost_alleles)\n",
    "            all_samples.extend([patient for x in lost_alleles])\n",
    "    except:\n",
    "        print('No data.')"
   ]
  },
  {
   "cell_type": "code",
   "execution_count": 14,
   "metadata": {},
   "outputs": [],
   "source": [
    "def format_allele(x):\n",
    "    return 'HLA-' + x[0] + x[2:-3]\n",
    "\n",
    "lost_alleles_df = pd.DataFrame({'sample': all_samples, 'Allele': all_lohs})\n",
    "\n",
    "lost_alleles_df.Allele = lost_alleles_df.Allele.apply(format_allele)\n",
    "lost_alleles_df['LOH'] = True"
   ]
  },
  {
   "cell_type": "code",
   "execution_count": 15,
   "metadata": {},
   "outputs": [],
   "source": [
    "# Get a neoantigen dataframe with LOH included\n",
    "neo_novel_loh_df = pd.merge(neo_df_restricted, lost_alleles_df, \n",
    "                               on=['Allele', 'sample'], how='outer').fillna(False)\n",
    "neo_novel_loh_df['gene'] = neo_novel_loh_df.Allele.str[4]"
   ]
  },
  {
   "cell_type": "code",
   "execution_count": 16,
   "metadata": {},
   "outputs": [],
   "source": [
    "lost_alleles_df['gene'] = lost_alleles_df.Allele.str[4]"
   ]
  },
  {
   "cell_type": "code",
   "execution_count": 17,
   "metadata": {},
   "outputs": [
    {
     "name": "stdout",
     "output_type": "stream",
     "text": [
      "40425-0013\n",
      "40425-0008\n",
      "40425-0009\n",
      "40425-0002\n"
     ]
    }
   ],
   "source": [
    "# Note: may need to exclude homozygous\n",
    "\n",
    "# Per patient summary\n",
    "all_novel_dfs = []\n",
    "\n",
    "for sample in list(lost_alleles_df['sample'].unique()):\n",
    "    print(sample)\n",
    "    \n",
    "    pre_df = neo_novel_loh_df[(neo_novel_loh_df['sample'] == sample)&(neo_novel_loh_df.time == 'Pre')]\n",
    "    post_df = neo_novel_loh_df[(neo_novel_loh_df['sample'] == sample)&(neo_novel_loh_df.time == 'Post')]\n",
    "    \n",
    "    novel_df = post_df[~post_df.Peptide.isin(list(pre_df.Peptide))]\n",
    "    \n",
    "    # Do the restriction here instead\n",
    "    novel_df = novel_df[novel_df.Rank < cutoff]\n",
    "    #novel_df = novel_df.sort_values('Rank').drop_duplicates(subset=['#peptide_id', 'Peptide', 'sample'])\n",
    "    \n",
    "    all_novel_dfs.append(novel_df)\n",
    "                   \n",
    "all_novel_df = pd.concat(all_novel_dfs)"
   ]
  },
  {
   "cell_type": "code",
   "execution_count": 18,
   "metadata": {},
   "outputs": [
    {
     "name": "stdout",
     "output_type": "stream",
     "text": [
      "40425-0013 B\n",
      "40425-0013 B 45\n",
      "40425-0013 C\n",
      "40425-0013 C 45\n",
      "40425-0008 B\n",
      "40425-0008 B 116\n",
      "40425-0008 C\n",
      "40425-0008 C 116\n",
      "40425-0009 A\n",
      "40425-0009 A 84\n",
      "40425-0009 B\n",
      "40425-0009 B 84\n",
      "40425-0009 C\n",
      "40425-0009 C 84\n",
      "40425-0002 A\n",
      "40425-0002 A 138\n",
      "40425-0002 B\n",
      "40425-0002 B 138\n"
     ]
    }
   ],
   "source": [
    "# Per allele summary\n",
    "kept_novel_neo, lost_novel_neo, novel_sample, novel_gene = [], [], [], []\n",
    "\n",
    "for sample, gene in zip(list(lost_alleles_df['sample']), list(lost_alleles_df.gene)):\n",
    "    print(sample, gene)\n",
    "    \n",
    "    pre_df = neo_novel_loh_df[(neo_novel_loh_df['sample'] == sample)&(neo_novel_loh_df.time == 'Pre')]\n",
    "    post_df = neo_novel_loh_df[(neo_novel_loh_df['sample'] == sample)&(neo_novel_loh_df.time == 'Post')]\n",
    "    \n",
    "    novel_df = post_df[~post_df.Peptide.isin(list(pre_df.Peptide))]\n",
    "    \n",
    "    # Do the restriction here instead\n",
    "    novel_df = novel_df[novel_df.Rank < cutoff]\n",
    "    #novel_df = novel_df.sort_values('Rank').drop_duplicates(subset=['#peptide_id', 'Peptide', 'sample'])\n",
    "    \n",
    "    print(sample, gene, len(novel_df.Peptide.unique()))\n",
    "    lost_novel_neo.append(len(novel_df[(novel_df.gene == gene)&(novel_df.LOH == True)]))\n",
    "    kept_novel_neo.append(len(novel_df[(novel_df.gene == gene)&(novel_df.LOH == False)]))\n",
    "    novel_sample.append(sample)\n",
    "    novel_gene.append(gene)\n",
    "    \n",
    "plotting_df = pd.DataFrame({'Sample': novel_sample + novel_sample,\n",
    "                            'Gene': novel_gene + novel_gene,\n",
    "                         'Novel_Neo': kept_novel_neo + lost_novel_neo,\n",
    "                           'LOH': [False for x in kept_novel_neo] + [True for x in lost_novel_neo]})"
   ]
  },
  {
   "cell_type": "code",
   "execution_count": 19,
   "metadata": {},
   "outputs": [],
   "source": [
    "with pd.ExcelWriter('/rnd/users/rpyke/data/00-DASH/tables/novel_neoepitopes.vMAN.xlsx') as writer:  \n",
    "    all_novel_df.to_excel(writer, sheet_name='Novel Neoepitopes', index=None)\n",
    "    plotting_df.to_excel(writer, sheet_name='Summary Statistics', index=None)"
   ]
  },
  {
   "cell_type": "code",
   "execution_count": 20,
   "metadata": {},
   "outputs": [],
   "source": [
    "patient_plotting_df = plotting_df.groupby(['Sample', 'LOH']).sum()['Novel_Neo'].reset_index()"
   ]
  },
  {
   "cell_type": "code",
   "execution_count": 21,
   "metadata": {},
   "outputs": [],
   "source": [
    "loh_colors = sns.color_palette(\"Blues\", 4)\n",
    "non_loh_colors = sns.color_palette(\"Greens\", 4)\n",
    "\n",
    "def get_color(x):\n",
    "    gene = x[0]\n",
    "    loh = x[1]\n",
    "    if loh == True:\n",
    "        if gene == 'C':\n",
    "            return loh_colors[0]\n",
    "        elif gene == 'B':\n",
    "            return loh_colors[1]\n",
    "        else:\n",
    "            return loh_colors[2]\n",
    "    else:\n",
    "        if gene == 'C':\n",
    "            return non_loh_colors[0]\n",
    "        elif gene == 'B':\n",
    "            return non_loh_colors[1]\n",
    "        else:\n",
    "            return non_loh_colors[2]"
   ]
  },
  {
   "cell_type": "code",
   "execution_count": 22,
   "metadata": {
    "scrolled": false
   },
   "outputs": [
    {
     "data": {
      "text/plain": [
       "WilcoxonResult(statistic=0.0, pvalue=0.027707849358079864)"
      ]
     },
     "execution_count": 22,
     "metadata": {},
     "output_type": "execute_result"
    }
   ],
   "source": [
    "sp.wilcoxon(plotting_df[plotting_df.Gene.isin(['A', 'B'])&(plotting_df.LOH)].Novel_Neo, \n",
    "            plotting_df[plotting_df.Gene.isin(['A', 'B'])&(plotting_df.LOH == False)].Novel_Neo)"
   ]
  },
  {
   "cell_type": "code",
   "execution_count": 24,
   "metadata": {
    "scrolled": true
   },
   "outputs": [
    {
     "data": {
      "image/png": "[encoded data removed]",
      "text/plain": [
       "<Figure size 216x252 with 1 Axes>"
      ]
     },
     "metadata": {
      "needs_background": "light"
     },
     "output_type": "display_data"
    }
   ],
   "source": [
    "line_df = pd.merge(plotting_df[plotting_df.LOH == True][['Sample', 'Gene', 'Novel_Neo']],\n",
    "         plotting_df[plotting_df.LOH == False][['Sample', 'Gene', 'Novel_Neo']], \n",
    "                                               on=['Sample', 'Gene'])\n",
    "line_df.columns = ['Sample', 'Gene', 'Lost', 'Kept']\n",
    "\n",
    "plt.figure(figsize=(3, 3.5))\n",
    "sns.set_context('talk', font_scale=0.7)\n",
    "genes = ['A', 'B']\n",
    "\n",
    "for lost, kept, gene in zip(line_df[(line_df.Gene.isin(genes))]['Kept'], \n",
    "                            line_df[(line_df.Gene.isin(genes))]['Lost'],\n",
    "                            line_df[(line_df.Gene.isin(genes))]['Gene']):\n",
    "    if gene == 'A':\n",
    "        plt.scatter(1, lost, color=non_loh_colors[2])\n",
    "        plt.scatter(2, kept, color=loh_colors[2])\n",
    "        plt.plot((1, 2), (lost,kept), color='grey', alpha=0.2)\n",
    "    else:\n",
    "        plt.scatter(1, lost, color=non_loh_colors[1])\n",
    "        plt.scatter(2, kept, color=loh_colors[1])\n",
    "        plt.plot((1, 2), (lost,kept), color='grey', alpha=0.2)\n",
    "\n",
    "\n",
    "#plt.ylim(0, 16)\n",
    "plt.xticks([1, 2], ['Kept\\nAllele', 'Lost\\nAllele'])\n",
    "plt.ylabel('Novel predicted\\nallele-specific neoepitopes')\n",
    "plt.savefig('/rnd/users/rpyke/data/00-DASH/figures/stanford.novel_neos.line.vMAN.pdf',\n",
    "           bbox_inches='tight')\n"
   ]
  },
  {
   "cell_type": "code",
   "execution_count": 25,
   "metadata": {},
   "outputs": [
    {
     "data": {
      "text/html": [
       "['40425-0009', '40425-0002', '40425-0008', '40425-0013']"
      ],
      "text/plain": [
       "['40425-0009', '40425-0002', '40425-0008', '40425-0013']"
      ]
     },
     "execution_count": 25,
     "metadata": {},
     "output_type": "execute_result"
    }
   ],
   "source": [
    "patients_with_loh"
   ]
  },
  {
   "cell_type": "code",
   "execution_count": 26,
   "metadata": {},
   "outputs": [
    {
     "name": "stdout",
     "output_type": "stream",
     "text": [
      "40425-0009 96\n",
      "40425-0002 155\n",
      "40425-0008 148\n",
      "40425-0013 50\n"
     ]
    },
    {
     "data": {
      "image/png": "[encoded data removed]",
      "text/plain": [
       "<Figure size 252x252 with 4 Axes>"
      ]
     },
     "metadata": {},
     "output_type": "display_data"
    }
   ],
   "source": [
    "#for gene, loh_color, non_loh_color in zip(['A', 'B'], loh_colors[:2], non_loh_colors[:2]):\n",
    "plt.figure(figsize=(3.5, 3.5))\n",
    "sns.set_context('talk', font_scale=0.7)\n",
    "gs = gridspec.GridSpec(2, 2)\n",
    "\n",
    "size = 0.3\n",
    "loh_color, non_loh_color = loh_colors[3], non_loh_colors[3]\n",
    "for i, sample in enumerate(patients_with_loh):\n",
    "    ax0 = plt.subplot(gs[i])\n",
    "    print(sample, patient_plotting_df[(patient_plotting_df.Sample == sample)].Novel_Neo.sum())\n",
    "    plt.pie(list(patient_plotting_df[(patient_plotting_df.Sample == sample)].sort_values('LOH').Novel_Neo),\n",
    "            colors=[non_loh_color]+[loh_color], radius=1, wedgeprops=dict(width=size, edgecolor='w'))\n",
    "    \n",
    "    patient_specific_plotting_df = plotting_df[(plotting_df.Sample == sample)]\n",
    "    patient_specific_plotting_df['color'] = patient_specific_plotting_df.loc[:, ['Gene', 'LOH']].apply(get_color, axis=1)\n",
    "    plt.pie(list(plotting_df[(plotting_df.Sample == sample)].sort_values('LOH').Novel_Neo),\n",
    "            colors=patient_specific_plotting_df['color'],\n",
    "            radius=1-size, wedgeprops=dict(width=size, edgecolor='w'))\n",
    "    plt.title(sample.split('-')[1])\n",
    "    #plt.clf()\n",
    "    \n",
    "\n",
    "plt.savefig('/rnd/users/rpyke/data/00-DASH/figures/stanford.novel_neos.circles.vMAN.pdf')\n"
   ]
  },
  {
   "cell_type": "code",
   "execution_count": 27,
   "metadata": {},
   "outputs": [
    {
     "data": {
      "text/html": [
       "<div>\n",
       "<style scoped>\n",
       "    .dataframe tbody tr th:only-of-type {\n",
       "        vertical-align: middle;\n",
       "    }\n",
       "\n",
       "    .dataframe tbody tr th {\n",
       "        vertical-align: top;\n",
       "    }\n",
       "\n",
       "    .dataframe thead th {\n",
       "        text-align: right;\n",
       "    }\n",
       "</style>\n",
       "<table border=\"1\" class=\"dataframe\">\n",
       "  <thead>\n",
       "    <tr style=\"text-align: right;\">\n",
       "      <th></th>\n",
       "      <th>Sample</th>\n",
       "      <th>LOH</th>\n",
       "      <th>Novel_Neo</th>\n",
       "    </tr>\n",
       "  </thead>\n",
       "  <tbody>\n",
       "    <tr>\n",
       "      <th>0</th>\n",
       "      <td>40425-0002</td>\n",
       "      <td>False</td>\n",
       "      <td>65</td>\n",
       "    </tr>\n",
       "    <tr>\n",
       "      <th>1</th>\n",
       "      <td>40425-0002</td>\n",
       "      <td>True</td>\n",
       "      <td>90</td>\n",
       "    </tr>\n",
       "    <tr>\n",
       "      <th>2</th>\n",
       "      <td>40425-0008</td>\n",
       "      <td>False</td>\n",
       "      <td>73</td>\n",
       "    </tr>\n",
       "    <tr>\n",
       "      <th>3</th>\n",
       "      <td>40425-0008</td>\n",
       "      <td>True</td>\n",
       "      <td>75</td>\n",
       "    </tr>\n",
       "    <tr>\n",
       "      <th>4</th>\n",
       "      <td>40425-0009</td>\n",
       "      <td>False</td>\n",
       "      <td>37</td>\n",
       "    </tr>\n",
       "    <tr>\n",
       "      <th>5</th>\n",
       "      <td>40425-0009</td>\n",
       "      <td>True</td>\n",
       "      <td>59</td>\n",
       "    </tr>\n",
       "    <tr>\n",
       "      <th>6</th>\n",
       "      <td>40425-0013</td>\n",
       "      <td>False</td>\n",
       "      <td>27</td>\n",
       "    </tr>\n",
       "    <tr>\n",
       "      <th>7</th>\n",
       "      <td>40425-0013</td>\n",
       "      <td>True</td>\n",
       "      <td>23</td>\n",
       "    </tr>\n",
       "  </tbody>\n",
       "</table>\n",
       "</div>"
      ],
      "text/plain": [
       "       Sample    LOH  Novel_Neo\n",
       "0  40425-0002  False         65\n",
       "1  40425-0002   True         90\n",
       "2  40425-0008  False         73\n",
       "3  40425-0008   True         75\n",
       "4  40425-0009  False         37\n",
       "5  40425-0009   True         59\n",
       "6  40425-0013  False         27\n",
       "7  40425-0013   True         23"
      ]
     },
     "execution_count": 27,
     "metadata": {},
     "output_type": "execute_result"
    }
   ],
   "source": [
    "patient_plotting_df"
   ]
  },
  {
   "cell_type": "code",
   "execution_count": 28,
   "metadata": {},
   "outputs": [
    {
     "data": {
      "text/plain": [
       "155"
      ]
     },
     "execution_count": 28,
     "metadata": {},
     "output_type": "execute_result"
    }
   ],
   "source": [
    "65+90"
   ]
  },
  {
   "cell_type": "markdown",
   "metadata": {},
   "source": [
    "Example legend"
   ]
  },
  {
   "cell_type": "code",
   "execution_count": 29,
   "metadata": {},
   "outputs": [
    {
     "name": "stdout",
     "output_type": "stream",
     "text": [
      "40425-0013 50\n"
     ]
    },
    {
     "data": {
      "image/png": "[encoded data removed]",
      "text/plain": [
       "<Figure size 252x252 with 1 Axes>"
      ]
     },
     "metadata": {},
     "output_type": "display_data"
    }
   ],
   "source": [
    "plt.figure(figsize=(3.5, 3.5))\n",
    "sns.set_context('talk', font_scale=0.7)\n",
    "\n",
    "size = 0.3\n",
    "loh_color, non_loh_color = loh_colors[3], non_loh_colors[3]\n",
    "\n",
    "print(sample, patient_plotting_df[(patient_plotting_df.Sample == sample)].Novel_Neo.sum())\n",
    "plt.pie([30, 30],\n",
    "        colors=[non_loh_color]+[loh_color], radius=1, wedgeprops=dict(width=size, edgecolor='w'))\n",
    "\n",
    "patient_specific_plotting_df = plotting_df[(plotting_df.Sample == sample)]\n",
    "patient_specific_plotting_df['color'] = patient_specific_plotting_df.loc[:, ['Gene', 'LOH']].apply(get_color, axis=1)\n",
    "plt.pie([10, 10, 10, 10, 10, 10],\n",
    "        colors=patient_specific_plotting_df['color'],\n",
    "        radius=1-size, wedgeprops=dict(width=size, edgecolor='w'))\n",
    "#plt.clf()\n",
    "\n",
    "plt.savefig('/rnd/users/rpyke/data/00-DASH/figures/stanford.novel_neos.circles.example.pdf')\n"
   ]
  },
  {
   "cell_type": "code",
   "execution_count": null,
   "metadata": {},
   "outputs": [],
   "source": []
  },
  {
   "cell_type": "code",
   "execution_count": null,
   "metadata": {},
   "outputs": [],
   "source": []
  },
  {
   "cell_type": "code",
   "execution_count": null,
   "metadata": {},
   "outputs": [],
   "source": []
  },
  {
   "cell_type": "code",
   "execution_count": null,
   "metadata": {},
   "outputs": [],
   "source": []
  }
 ],
 "metadata": {
  "kernelspec": {
   "display_name": "Python 3",
   "language": "python",
   "name": "python3"
  },
  "language_info": {
   "codemirror_mode": {
    "name": "ipython",
    "version": 3
   },
   "file_extension": ".py",
   "mimetype": "text/x-python",
   "name": "python",
   "nbconvert_exporter": "python",
   "pygments_lexer": "ipython3",
   "version": "3.7.3"
  }
 },
 "nbformat": 4,
 "nbformat_minor": 2
}
