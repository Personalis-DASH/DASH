{
 "cells": [
  {
   "cell_type": "code",
   "execution_count": 1,
   "metadata": {},
   "outputs": [],
   "source": [
    "%run ../../bin/imports.ipynb"
   ]
  },
  {
   "cell_type": "markdown",
   "metadata": {},
   "source": [
    "## Merging data for easier analysis"
   ]
  },
  {
   "cell_type": "code",
   "execution_count": 2,
   "metadata": {},
   "outputs": [],
   "source": [
    "meta_df = pd.read_csv('/rnd/users/rpyke/data/00-DASH/manuscript_data_v2/pancancer.metadata.tab',\n",
    "           sep='\\t').dropna(subset=['sample_name_tumor']).drop_duplicates('sample_name_tumor')\n",
    "msi_df = pd.read_csv('/rnd/users/rpyke/data/00-DASH/manuscript_data_v2/pancancer.msi_percentage.tab',\n",
    "           sep='\\t').dropna(subset=['sample_name_tumor']).drop_duplicates('sample_name_tumor')\n",
    "expression_df = pd.read_csv('/rnd/users/rpyke/data/00-DASH/manuscript_data_v2/pancancer.expression.tab',\n",
    "           sep='\\t').dropna(subset=['sample_name_tumor']).drop_duplicates('sample_name_tumor')\n",
    "HED_df = pd.read_csv('/rnd/users/rpyke/data/00-DASH/manuscript_data_v2/pancancer.HED_LOD_allele.tab',\n",
    "           sep='\\t').dropna(subset=['sample_name_tumor']).drop_duplicates('sample_name_tumor')\n",
    "oncovirus_df = pd.read_csv('/rnd/users/rpyke/data/00-DASH/manuscript_data_v2/pancancer.oncovirus.tab',\n",
    "           sep='\\t').dropna(subset=['sample_name_tumor']).drop_duplicates('sample_name_tumor')\n",
    "tcr_df = pd.read_csv('/rnd/users/rpyke/data/00-DASH/manuscript_data_v2/pancancer.TCR_BCR_TIL.tab',\n",
    "           sep='\\t').dropna(subset=['sample_name_tumor']).drop_duplicates('sample_name_tumor')\n",
    "TMB_df = pd.read_csv('/rnd/users/rpyke/data/00-DASH/manuscript_data_v2/pancancer.TMB_neoantigen.tab',\n",
    "           sep='\\t').dropna(subset=['sample_name_tumor']).drop_duplicates('sample_name_tumor')\n",
    "CNV_df = pd.read_csv('/rnd/users/rpyke/data/00-DASH/manuscript_data_v2/pancancer.CNV.tab',\n",
    "           sep='\\t').dropna(subset=['sample_name_tumor']).drop_duplicates('sample_name_tumor')"
   ]
  },
  {
   "cell_type": "code",
   "execution_count": 3,
   "metadata": {
    "scrolled": true
   },
   "outputs": [
    {
     "name": "stdout",
     "output_type": "stream",
     "text": [
      "611 579 608 609 461 590 606 610\n"
     ]
    }
   ],
   "source": [
    "print(len(meta_df.sample_name_tumor.dropna().drop_duplicates()), len(msi_df.sample_name_tumor.drop_duplicates()),\n",
    "len(expression_df.sample_name_tumor.drop_duplicates()), len(HED_df.sample_name_tumor.drop_duplicates()),\n",
    "len(oncovirus_df.sample_name_tumor.drop_duplicates()), len(tcr_df.sample_name_tumor.drop_duplicates()),\n",
    "len(TMB_df.sample_name_tumor.drop_duplicates()), len(CNV_df.sample_name_tumor.drop_duplicates()))"
   ]
  },
  {
   "cell_type": "code",
   "execution_count": 4,
   "metadata": {},
   "outputs": [
    {
     "data": {
      "text/plain": [
       "(611, 579, 608, 609, 461, 590, 606, 610)"
      ]
     },
     "execution_count": 4,
     "metadata": {},
     "output_type": "execute_result"
    }
   ],
   "source": [
    "len(meta_df), len(msi_df), len(expression_df), len(HED_df), len(oncovirus_df), len(tcr_df), len(TMB_df), len(CNV_df)"
   ]
  },
  {
   "cell_type": "code",
   "execution_count": 5,
   "metadata": {},
   "outputs": [
    {
     "data": {
      "text/html": [
       "<div>\n",
       "<style scoped>\n",
       "    .dataframe tbody tr th:only-of-type {\n",
       "        vertical-align: middle;\n",
       "    }\n",
       "\n",
       "    .dataframe tbody tr th {\n",
       "        vertical-align: top;\n",
       "    }\n",
       "\n",
       "    .dataframe thead th {\n",
       "        text-align: right;\n",
       "    }\n",
       "</style>\n",
       "<table border=\"1\" class=\"dataframe\">\n",
       "  <thead>\n",
       "    <tr style=\"text-align: right;\">\n",
       "      <th></th>\n",
       "      <th>sample_name_tumor</th>\n",
       "      <th>AJCC_UICC_Stage_Group</th>\n",
       "      <th>Cancer_type</th>\n",
       "      <th>Specimen_ID</th>\n",
       "      <th>Simple_Stage</th>\n",
       "      <th>purity</th>\n",
       "      <th>MATH</th>\n",
       "    </tr>\n",
       "  </thead>\n",
       "  <tbody>\n",
       "    <tr>\n",
       "      <th>0</th>\n",
       "      <td>DNA_S000460823</td>\n",
       "      <td>II</td>\n",
       "      <td>Bladder</td>\n",
       "      <td>S000460823</td>\n",
       "      <td>II</td>\n",
       "      <td>0.59</td>\n",
       "      <td>NaN</td>\n",
       "    </tr>\n",
       "    <tr>\n",
       "      <th>1</th>\n",
       "      <td>DNA_D00689998_A1</td>\n",
       "      <td>IV</td>\n",
       "      <td>Melanoma</td>\n",
       "      <td>D00689998_A1</td>\n",
       "      <td>IV</td>\n",
       "      <td>0.39</td>\n",
       "      <td>NaN</td>\n",
       "    </tr>\n",
       "    <tr>\n",
       "      <th>2</th>\n",
       "      <td>DNA_D00689957_A1</td>\n",
       "      <td>III</td>\n",
       "      <td>Colorectal</td>\n",
       "      <td>D00689957_A1</td>\n",
       "      <td>III</td>\n",
       "      <td>0.50</td>\n",
       "      <td>NaN</td>\n",
       "    </tr>\n",
       "    <tr>\n",
       "      <th>3</th>\n",
       "      <td>DNA_D00689946_A2a</td>\n",
       "      <td>III</td>\n",
       "      <td>Pancreatic</td>\n",
       "      <td>D00689946_A2a</td>\n",
       "      <td>III</td>\n",
       "      <td>0.16</td>\n",
       "      <td>NaN</td>\n",
       "    </tr>\n",
       "    <tr>\n",
       "      <th>4</th>\n",
       "      <td>DNA_S000465410</td>\n",
       "      <td>II</td>\n",
       "      <td>Uterine</td>\n",
       "      <td>S000465410</td>\n",
       "      <td>II</td>\n",
       "      <td>0.31</td>\n",
       "      <td>NaN</td>\n",
       "    </tr>\n",
       "  </tbody>\n",
       "</table>\n",
       "</div>"
      ],
      "text/plain": [
       "   sample_name_tumor AJCC_UICC_Stage_Group Cancer_type    Specimen_ID  \\\n",
       "0     DNA_S000460823                    II     Bladder     S000460823   \n",
       "1   DNA_D00689998_A1                    IV    Melanoma   D00689998_A1   \n",
       "2   DNA_D00689957_A1                   III  Colorectal   D00689957_A1   \n",
       "3  DNA_D00689946_A2a                   III  Pancreatic  D00689946_A2a   \n",
       "4     DNA_S000465410                    II     Uterine     S000465410   \n",
       "\n",
       "  Simple_Stage  purity  MATH  \n",
       "0           II    0.59   NaN  \n",
       "1           IV    0.39   NaN  \n",
       "2          III    0.50   NaN  \n",
       "3          III    0.16   NaN  \n",
       "4           II    0.31   NaN  "
      ]
     },
     "execution_count": 5,
     "metadata": {},
     "output_type": "execute_result"
    }
   ],
   "source": [
    "meta_df.head()"
   ]
  },
  {
   "cell_type": "code",
   "execution_count": 6,
   "metadata": {},
   "outputs": [],
   "source": [
    "meta_df = meta_df.drop('Specimen_ID', axis=1)"
   ]
  },
  {
   "cell_type": "code",
   "execution_count": 7,
   "metadata": {},
   "outputs": [],
   "source": [
    "merged_df = pd.merge(pd.merge(pd.merge(meta_df, msi_df, on='sample_name_tumor', how='left'),\n",
    "                             pd.merge(expression_df, HED_df, on='sample_name_tumor', how='left'),\n",
    "                      on='sample_name_tumor', how='left'),\n",
    "                    pd.merge(pd.merge(oncovirus_df, tcr_df, on='sample_name_tumor', how='outer'),\n",
    "                             pd.merge(CNV_df, TMB_df, on='sample_name_tumor', how='left'),\n",
    "                    on='sample_name_tumor', how='right'), \n",
    "            on='sample_name_tumor', how='left')"
   ]
  },
  {
   "cell_type": "code",
   "execution_count": 8,
   "metadata": {},
   "outputs": [
    {
     "data": {
      "text/plain": [
       "609"
      ]
     },
     "execution_count": 8,
     "metadata": {},
     "output_type": "execute_result"
    }
   ],
   "source": [
    "samples_with_hlaloh_calls = list(HED_df.sample_name_tumor.unique())\n",
    "len(samples_with_hlaloh_calls)"
   ]
  },
  {
   "cell_type": "code",
   "execution_count": 9,
   "metadata": {},
   "outputs": [],
   "source": [
    "merged_df = merged_df[merged_df.sample_name_tumor.isin(samples_with_hlaloh_calls)]"
   ]
  },
  {
   "cell_type": "code",
   "execution_count": 10,
   "metadata": {},
   "outputs": [
    {
     "data": {
      "text/plain": [
       "609"
      ]
     },
     "execution_count": 10,
     "metadata": {},
     "output_type": "execute_result"
    }
   ],
   "source": [
    "len(merged_df)"
   ]
  },
  {
   "cell_type": "code",
   "execution_count": 11,
   "metadata": {},
   "outputs": [],
   "source": [
    "merged_df.to_csv('/rnd/users/rpyke/data/00-DASH/manuscript_data_v2/pancancer.merged_data.tab', \n",
    "                 sep='\\t', index=None)"
   ]
  },
  {
   "cell_type": "code",
   "execution_count": null,
   "metadata": {},
   "outputs": [],
   "source": []
  },
  {
   "cell_type": "code",
   "execution_count": null,
   "metadata": {},
   "outputs": [],
   "source": []
  }
 ],
 "metadata": {
  "kernelspec": {
   "display_name": "Python 3",
   "language": "python",
   "name": "python3"
  },
  "language_info": {
   "codemirror_mode": {
    "name": "ipython",
    "version": 3
   },
   "file_extension": ".py",
   "mimetype": "text/x-python",
   "name": "python",
   "nbconvert_exporter": "python",
   "pygments_lexer": "ipython3",
   "version": "3.7.3"
  }
 },
 "nbformat": 4,
 "nbformat_minor": 2
}
