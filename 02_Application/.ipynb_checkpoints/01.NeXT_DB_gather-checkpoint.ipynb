{
 "cells": [
  {
   "cell_type": "code",
   "execution_count": 1,
   "metadata": {},
   "outputs": [],
   "source": [
    "%run ../../bin/imports.ipynb"
   ]
  },
  {
   "cell_type": "markdown",
   "metadata": {},
   "source": [
    "## Gather NeXT DB Data"
   ]
  },
  {
   "cell_type": "markdown",
   "metadata": {},
   "source": [
    "#### Helper methods"
   ]
  },
  {
   "cell_type": "code",
   "execution_count": 2,
   "metadata": {},
   "outputs": [],
   "source": [
    "def strip_DNA(x):\n",
    "    #if '-' in x:\n",
    "    #    x = '.'.join(x.split('-'))\n",
    "    if x[:4] == 'DNA_':\n",
    "        return x[4:]\n",
    "    elif x[-4:]:\n",
    "        return x[:-4]\n",
    "    else:\n",
    "        return x\n",
    "\n",
    "def add_dna(x):\n",
    "    return 'DNA_'+x\n",
    "\n",
    "def get_indication(x):\n",
    "    group = x[0]\n",
    "    tt = x[1]\n",
    "    if group == 'Inova_II':\n",
    "        return 'Melanoma'\n",
    "    elif group == 'UNM':\n",
    "        return 'Ovarian'\n",
    "    elif group == 'MSI':\n",
    "        return 'Colorectal'\n",
    "    elif group == 'stanford_sunwoo':\n",
    "        return 'Head_Neck'\n",
    "    elif group == 'MDA':\n",
    "        return 'GIST'\n",
    "    else:\n",
    "        return tt"
   ]
  },
  {
   "cell_type": "markdown",
   "metadata": {},
   "source": [
    "### Import data"
   ]
  },
  {
   "cell_type": "code",
   "execution_count": 3,
   "metadata": {},
   "outputs": [
    {
     "name": "stdout",
     "output_type": "stream",
     "text": [
      "3750\n"
     ]
    }
   ],
   "source": [
    "hla_loh_df = pd.read_csv('/rnd/users/rpyke/data/00-DASH/manuscript_data/nextDB_05.output.csv', index_col=0)\n",
    "hla_loh_df = hla_loh_df[['hla_locus', 'dash_allele', 'purity', 'ploidy', 'prediction_probability', \n",
    "                         'dash_deletion', 'alternate_deletion', 'sample']]\n",
    "hla_loh_df['Specimen_ID'] = hla_loh_df['sample'].apply(strip_DNA)\n",
    "hla_loh_df['gene'] = hla_loh_df['hla_locus']\n",
    "hla_loh_df = hla_loh_df[hla_loh_df.Specimen_ID != '26300']\n",
    "print(len(hla_loh_df))\n"
   ]
  },
  {
   "cell_type": "code",
   "execution_count": 4,
   "metadata": {
    "scrolled": false
   },
   "outputs": [
    {
     "data": {
      "text/plain": [
       "610"
      ]
     },
     "execution_count": 4,
     "metadata": {},
     "output_type": "execute_result"
    }
   ],
   "source": [
    "len(hla_loh_df.drop_duplicates('Specimen_ID'))"
   ]
  },
  {
   "cell_type": "markdown",
   "metadata": {},
   "source": [
    "### Analysis"
   ]
  },
  {
   "cell_type": "markdown",
   "metadata": {},
   "source": [
    "Collect metadata\n",
    "\n",
    "UNM - Ovarian <br>\n",
    "Inova - Melanoma <br>\n",
    "MD Anderson - GIST <br>\n",
    "Stanford - head and neck <br>\n",
    "MSI - Colorectal "
   ]
  },
  {
   "cell_type": "code",
   "execution_count": 5,
   "metadata": {},
   "outputs": [],
   "source": [
    "# Neoantigen summary\n",
    "neo_df = pd.read_csv('/rnd/users/rpyke/data/03-public_MS/applications/NeXTDB/neoantigen_summary.vMAN.tab',\n",
    "                    sep='\\t')\n",
    "neo_df['Specimen_ID'] = neo_df['Sample'].apply(strip_DNA)"
   ]
  },
  {
   "cell_type": "code",
   "execution_count": 6,
   "metadata": {
    "scrolled": false
   },
   "outputs": [
    {
     "data": {
      "text/plain": [
       "513"
      ]
     },
     "execution_count": 6,
     "metadata": {},
     "output_type": "execute_result"
    }
   ],
   "source": [
    "len(neo_df['Specimen_ID'].drop_duplicates())"
   ]
  },
  {
   "cell_type": "code",
   "execution_count": 7,
   "metadata": {
    "scrolled": false
   },
   "outputs": [
    {
     "data": {
      "text/plain": [
       "754"
      ]
     },
     "execution_count": 7,
     "metadata": {},
     "output_type": "execute_result"
    }
   ],
   "source": [
    "nextdb_meta = pd.read_csv('/rnd/users/rpyke/data/00-DASH/data/nextdb_metadata_limited_042920.csv')\n",
    "nextdb_meta = nextdb_meta[nextdb_meta.Tumor_Normal == 'Tumor']\n",
    "nextdb_meta = nextdb_meta.replace('LIver', 'Liver')\n",
    "\n",
    "nextdb_meta = nextdb_meta.replace('D00688993.Aa', 'D00688993-Aa')\n",
    "nextdb_meta = nextdb_meta.replace('C00085612.3b', 'C00085612-3b')\n",
    "nextdb_meta = nextdb_meta.replace('C00085585.1a', 'C00085585-1a')\n",
    "nextdb_meta = nextdb_meta.replace('D00689003.Aa', 'D00689003-Aa')\n",
    "nextdb_meta = nextdb_meta.replace('C00084290.1b', 'C00084290-1b')\n",
    "nextdb_meta = nextdb_meta.replace('D00689009.A', 'D00689009-A')\n",
    "nextdb_meta = nextdb_meta.replace('51925РТ3', '51925PT3')\n",
    "nextdb_meta = nextdb_meta.replace('D00689541.A4b', 'D00689541-A4b')\n",
    "nextdb_meta = nextdb_meta.replace('51855 PT2', '51855_PT2')\n",
    "nextdb_meta = nextdb_meta.replace('C00085615.14c', 'C00085615-14c')\n",
    "nextdb_meta = nextdb_meta.replace('C00085391.1ca', 'C00085391-1ca')\n",
    "nextdb_meta = nextdb_meta.replace('C00085405.1aa', 'C00085405-1aa')\n",
    "nextdb_meta = nextdb_meta.replace('C00083684.1ca', 'C00083684-1ca')\n",
    "nextdb_meta = nextdb_meta.replace('C00085311.1ba', 'C00085311-1ba')\n",
    "nextdb_meta = nextdb_meta.replace('D00689540.Ab', 'D00689540-Ab')\n",
    "nextdb_meta = nextdb_meta.replace('D00688995.A2a', 'D00688995-A2a')\n",
    "nextdb_meta = nextdb_meta.replace('D00689544.Ab', 'D00689544-Ab')\n",
    "nextdb_meta = nextdb_meta.replace('D00689005.Aa', 'D00689005-Aa')\n",
    "nextdb_meta = nextdb_meta.replace('C00084278.1ba', 'C00084278_1ba')\n",
    "nextdb_meta = nextdb_meta.replace('D00690000.A1', 'D00690000_A1')\n",
    "nextdb_meta = nextdb_meta.replace('D00689957.A1', 'D00689957_A1')\n",
    "nextdb_meta = nextdb_meta.replace('D00689995.A1', 'D00689995_A1')\n",
    "nextdb_meta = nextdb_meta.replace('D00689884.D6ca', 'D00689884_D6ca')\n",
    "nextdb_meta = nextdb_meta.replace('D00689924.A', 'D00689924_A')\n",
    "nextdb_meta = nextdb_meta.replace('D00689822.A1', 'D00689822_A1')\n",
    "nextdb_meta = nextdb_meta.replace('D00689961.A1a', 'D00689961_A1a')\n",
    "nextdb_meta = nextdb_meta.replace('D00689950.1b', 'D00689950_2a')\n",
    "nextdb_meta = nextdb_meta.replace('9G-5941', '9G-5941')\n",
    "nextdb_meta = nextdb_meta.replace('D00689998.A1', 'D00689998_A1')\n",
    "nextdb_meta = nextdb_meta.replace('D00689950.1b', 'D00689950_2a')\n",
    "nextdb_meta = nextdb_meta.replace('D00689962.A3b', 'D00689962_A3b')\n",
    "nextdb_meta = nextdb_meta.replace('D00688640.3b', 'D00688640_3b')\n",
    "nextdb_meta = nextdb_meta.replace('D00689955.A1', 'D00689955_A1')\n",
    "nextdb_meta = nextdb_meta.replace('D00689947.A2a', 'D00689947_A2a')\n",
    "nextdb_meta = nextdb_meta.replace('D00689819.A1', 'D00689819_A1')\n",
    "nextdb_meta = nextdb_meta.replace('D00689949.Aba', 'D00689949_Aba')\n",
    "nextdb_meta = nextdb_meta.replace('D00689946.A2a', 'D00689946_A2a')\n",
    "nextdb_meta = nextdb_meta.replace('D00689950.1b', 'D00689950_2a')\n",
    "nextdb_meta = nextdb_meta.replace('D00689934.Ab', 'D00689934_Ab')\n",
    "nextdb_meta = nextdb_meta.replace('D00689944.A8b', 'D00689944_A8b')\n",
    "nextdb_meta = nextdb_meta.replace('D00689821.A1', 'D00689821_A1')\n",
    "nextdb_meta = nextdb_meta.replace('D00689937.Ab', 'D00689937_Ab')\n",
    "nextdb_meta = nextdb_meta.replace('D00689950.1b', 'D00689950_2a')\n",
    "\n",
    "\n",
    "all_meta = nextdb_meta.copy()\n",
    "len(all_meta)"
   ]
  },
  {
   "cell_type": "code",
   "execution_count": 8,
   "metadata": {
    "scrolled": true
   },
   "outputs": [
    {
     "data": {
      "text/plain": [
       "Colorectal              108\n",
       "NSCLC_adenocarcinoma    105\n",
       "Breast                   90\n",
       "Kidney_RCC               82\n",
       "Uterine                  51\n",
       "Melanoma                 49\n",
       "Bladder                  46\n",
       "NSCLC_SCC                39\n",
       "Ovarian                  38\n",
       "Head_Neck                36\n",
       "Pancreatic               36\n",
       "Liver                    34\n",
       "Cervical                 28\n",
       "Thyroid                   4\n",
       "Name: Cancer_type, dtype: int64"
      ]
     },
     "execution_count": 8,
     "metadata": {},
     "output_type": "execute_result"
    }
   ],
   "source": [
    "all_meta.Cancer_type.value_counts()"
   ]
  },
  {
   "cell_type": "code",
   "execution_count": 9,
   "metadata": {},
   "outputs": [
    {
     "data": {
      "text/plain": [
       "746"
      ]
     },
     "execution_count": 9,
     "metadata": {},
     "output_type": "execute_result"
    }
   ],
   "source": [
    "all_meta.Cancer_type.value_counts().sum()"
   ]
  },
  {
   "cell_type": "code",
   "execution_count": 10,
   "metadata": {},
   "outputs": [],
   "source": [
    "filler_df = pd.DataFrame({'Specimen_ID': ['D00689924_A', 'D00689950_2a', '9G-5941'],\n",
    "                         'Cancer_type': ['Liver', 'Cervical', 'Breast']})"
   ]
  },
  {
   "cell_type": "code",
   "execution_count": 11,
   "metadata": {},
   "outputs": [],
   "source": [
    "loh_df = hla_loh_df.sort_values('dash_deletion', \n",
    "                        ascending=False).drop_duplicates(['sample','hla_locus'])[['Specimen_ID', 'hla_locus', 'purity', 'ploidy', 'prediction_probability', 'dash_deletion', 'alternate_deletion']]\n",
    "loh_df.columns = ['Specimen_ID', 'hla_locus', 'purity', 'ploidy', 'prediction_probability', 'LOH', 'LOHHLA_deletion']\n",
    "loh_df.loc[:, 'LOH'] = loh_df.LOH.astype(bool)\n",
    "loh_df = pd.merge(loh_df, all_meta, on='Specimen_ID', how='left')\n"
   ]
  },
  {
   "cell_type": "code",
   "execution_count": 12,
   "metadata": {},
   "outputs": [
    {
     "data": {
      "text/plain": [
       "Index(['Specimen_ID', 'hla_locus', 'purity', 'ploidy',\n",
       "       'prediction_probability', 'LOH', 'LOHHLA_deletion', 'Provider',\n",
       "       'Case_ID', 'LIMSID', 'Tumor_Normal', 'Specimen_Matrix', 'Anatomic_Site',\n",
       "       'Procurement_Date_Year', 'Sex', 'Age', 'Ethnicity', 'Cancer_type',\n",
       "       'Indication', 'Clinical_Diagnosis_Patient', 'Tumor_Size_mm_x_mm_x_mm',\n",
       "       'AJCC_UICC_Stage', 'AJCC_UICC_Stage_Group', 'Grade', 'Tumor_percent',\n",
       "       'Tumor_percent_gt_level', 'Height_cm', 'Weight_kg', 'BMI',\n",
       "       'Smoking_Status', 'Cigarettes_per_day', 'Smoking_Duration_years',\n",
       "       'Alcohol_Status', 'Drinks_per_day', 'Alcohol_Duration'],\n",
       "      dtype='object')"
      ]
     },
     "execution_count": 12,
     "metadata": {},
     "output_type": "execute_result"
    }
   ],
   "source": [
    "loh_df.columns"
   ]
  },
  {
   "cell_type": "code",
   "execution_count": 13,
   "metadata": {
    "scrolled": true
   },
   "outputs": [],
   "source": [
    "# Fill in the cancer types that won't cooperate\n",
    "loh_df['Cancer_type'] = pd.Series(['Liver']*len(loh_df)).where(loh_df['Specimen_ID'] == 'D00689924_A', loh_df['Cancer_type'])\n",
    "loh_df['Cancer_type'] = pd.Series(['Cervical']*len(loh_df)).where(loh_df['Specimen_ID'] == 'D00689950_2a', loh_df['Cancer_type'])\n",
    "loh_df['Cancer_type'] = pd.Series(['Breast']*len(loh_df)).where(loh_df['Specimen_ID'] == '9G-5941', loh_df['Cancer_type'])\n"
   ]
  },
  {
   "cell_type": "code",
   "execution_count": 14,
   "metadata": {
    "scrolled": true
   },
   "outputs": [
    {
     "data": {
      "text/html": [
       "<div>\n",
       "<style scoped>\n",
       "    .dataframe tbody tr th:only-of-type {\n",
       "        vertical-align: middle;\n",
       "    }\n",
       "\n",
       "    .dataframe tbody tr th {\n",
       "        vertical-align: top;\n",
       "    }\n",
       "\n",
       "    .dataframe thead th {\n",
       "        text-align: right;\n",
       "    }\n",
       "</style>\n",
       "<table border=\"1\" class=\"dataframe\">\n",
       "  <thead>\n",
       "    <tr style=\"text-align: right;\">\n",
       "      <th></th>\n",
       "      <th>Specimen_ID</th>\n",
       "      <th>hla_locus</th>\n",
       "      <th>purity</th>\n",
       "      <th>ploidy</th>\n",
       "      <th>prediction_probability</th>\n",
       "      <th>LOH</th>\n",
       "      <th>LOHHLA_deletion</th>\n",
       "      <th>Provider</th>\n",
       "      <th>Case_ID</th>\n",
       "      <th>LIMSID</th>\n",
       "      <th>...</th>\n",
       "      <th>Tumor_percent_gt_level</th>\n",
       "      <th>Height_cm</th>\n",
       "      <th>Weight_kg</th>\n",
       "      <th>BMI</th>\n",
       "      <th>Smoking_Status</th>\n",
       "      <th>Cigarettes_per_day</th>\n",
       "      <th>Smoking_Duration_years</th>\n",
       "      <th>Alcohol_Status</th>\n",
       "      <th>Drinks_per_day</th>\n",
       "      <th>Alcohol_Duration</th>\n",
       "    </tr>\n",
       "  </thead>\n",
       "  <tbody>\n",
       "    <tr>\n",
       "      <th>0</th>\n",
       "      <td>NGT-BLA-1901003T</td>\n",
       "      <td>C</td>\n",
       "      <td>0.11</td>\n",
       "      <td>3</td>\n",
       "      <td>0.225264</td>\n",
       "      <td>True</td>\n",
       "      <td>False</td>\n",
       "      <td>ReproCell_China</td>\n",
       "      <td>NGT-BLA-1901003</td>\n",
       "      <td>ABB5556A299</td>\n",
       "      <td>...</td>\n",
       "      <td>30.0</td>\n",
       "      <td>NaN</td>\n",
       "      <td>NaN</td>\n",
       "      <td>NaN</td>\n",
       "      <td>NaN</td>\n",
       "      <td>NaN</td>\n",
       "      <td>NaN</td>\n",
       "      <td>NaN</td>\n",
       "      <td>NaN</td>\n",
       "      <td>NaN</td>\n",
       "    </tr>\n",
       "    <tr>\n",
       "      <th>1</th>\n",
       "      <td>NGT-LCA-1901001T</td>\n",
       "      <td>B</td>\n",
       "      <td>0.42</td>\n",
       "      <td>6</td>\n",
       "      <td>0.978249</td>\n",
       "      <td>True</td>\n",
       "      <td>True</td>\n",
       "      <td>ReproCell_China</td>\n",
       "      <td>NGT-LCA-1901001</td>\n",
       "      <td>ABB5556A305</td>\n",
       "      <td>...</td>\n",
       "      <td>30.0</td>\n",
       "      <td>NaN</td>\n",
       "      <td>NaN</td>\n",
       "      <td>NaN</td>\n",
       "      <td>NaN</td>\n",
       "      <td>NaN</td>\n",
       "      <td>NaN</td>\n",
       "      <td>NaN</td>\n",
       "      <td>NaN</td>\n",
       "      <td>NaN</td>\n",
       "    </tr>\n",
       "    <tr>\n",
       "      <th>2</th>\n",
       "      <td>S000443761</td>\n",
       "      <td>C</td>\n",
       "      <td>0.34</td>\n",
       "      <td>4</td>\n",
       "      <td>0.787515</td>\n",
       "      <td>True</td>\n",
       "      <td>True</td>\n",
       "      <td>bocabio</td>\n",
       "      <td>D000063628</td>\n",
       "      <td>NaN</td>\n",
       "      <td>...</td>\n",
       "      <td>NaN</td>\n",
       "      <td>NaN</td>\n",
       "      <td>NaN</td>\n",
       "      <td>NaN</td>\n",
       "      <td>NaN</td>\n",
       "      <td>NaN</td>\n",
       "      <td>NaN</td>\n",
       "      <td>NaN</td>\n",
       "      <td>NaN</td>\n",
       "      <td>NaN</td>\n",
       "    </tr>\n",
       "    <tr>\n",
       "      <th>3</th>\n",
       "      <td>D00688993-Aa</td>\n",
       "      <td>A</td>\n",
       "      <td>0.10</td>\n",
       "      <td>2</td>\n",
       "      <td>0.938287</td>\n",
       "      <td>True</td>\n",
       "      <td>True</td>\n",
       "      <td>discovery life sciences</td>\n",
       "      <td>900017881</td>\n",
       "      <td>NaN</td>\n",
       "      <td>...</td>\n",
       "      <td>NaN</td>\n",
       "      <td>NaN</td>\n",
       "      <td>NaN</td>\n",
       "      <td>NaN</td>\n",
       "      <td>NaN</td>\n",
       "      <td>NaN</td>\n",
       "      <td>NaN</td>\n",
       "      <td>NaN</td>\n",
       "      <td>NaN</td>\n",
       "      <td>NaN</td>\n",
       "    </tr>\n",
       "    <tr>\n",
       "      <th>4</th>\n",
       "      <td>NGT-OVA-1907002T</td>\n",
       "      <td>C</td>\n",
       "      <td>0.87</td>\n",
       "      <td>6</td>\n",
       "      <td>0.974519</td>\n",
       "      <td>True</td>\n",
       "      <td>True</td>\n",
       "      <td>reprocell</td>\n",
       "      <td>NGT-OVA-1907002</td>\n",
       "      <td>NaN</td>\n",
       "      <td>...</td>\n",
       "      <td>NaN</td>\n",
       "      <td>NaN</td>\n",
       "      <td>NaN</td>\n",
       "      <td>NaN</td>\n",
       "      <td>NaN</td>\n",
       "      <td>NaN</td>\n",
       "      <td>NaN</td>\n",
       "      <td>NaN</td>\n",
       "      <td>NaN</td>\n",
       "      <td>NaN</td>\n",
       "    </tr>\n",
       "  </tbody>\n",
       "</table>\n",
       "<p>5 rows × 35 columns</p>\n",
       "</div>"
      ],
      "text/plain": [
       "        Specimen_ID hla_locus  purity  ploidy  prediction_probability   LOH  \\\n",
       "0  NGT-BLA-1901003T         C    0.11       3                0.225264  True   \n",
       "1  NGT-LCA-1901001T         B    0.42       6                0.978249  True   \n",
       "2        S000443761         C    0.34       4                0.787515  True   \n",
       "3      D00688993-Aa         A    0.10       2                0.938287  True   \n",
       "4  NGT-OVA-1907002T         C    0.87       6                0.974519  True   \n",
       "\n",
       "   LOHHLA_deletion                 Provider          Case_ID       LIMSID  \\\n",
       "0            False          ReproCell_China  NGT-BLA-1901003  ABB5556A299   \n",
       "1             True          ReproCell_China  NGT-LCA-1901001  ABB5556A305   \n",
       "2             True                  bocabio       D000063628          NaN   \n",
       "3             True  discovery life sciences        900017881          NaN   \n",
       "4             True                reprocell  NGT-OVA-1907002          NaN   \n",
       "\n",
       "   ... Tumor_percent_gt_level Height_cm Weight_kg  BMI Smoking_Status  \\\n",
       "0  ...                   30.0       NaN       NaN  NaN            NaN   \n",
       "1  ...                   30.0       NaN       NaN  NaN            NaN   \n",
       "2  ...                    NaN       NaN       NaN  NaN            NaN   \n",
       "3  ...                    NaN       NaN       NaN  NaN            NaN   \n",
       "4  ...                    NaN       NaN       NaN  NaN            NaN   \n",
       "\n",
       "  Cigarettes_per_day Smoking_Duration_years Alcohol_Status Drinks_per_day  \\\n",
       "0                NaN                    NaN            NaN            NaN   \n",
       "1                NaN                    NaN            NaN            NaN   \n",
       "2                NaN                    NaN            NaN            NaN   \n",
       "3                NaN                    NaN            NaN            NaN   \n",
       "4                NaN                    NaN            NaN            NaN   \n",
       "\n",
       "  Alcohol_Duration  \n",
       "0              NaN  \n",
       "1              NaN  \n",
       "2              NaN  \n",
       "3              NaN  \n",
       "4              NaN  \n",
       "\n",
       "[5 rows x 35 columns]"
      ]
     },
     "execution_count": 14,
     "metadata": {},
     "output_type": "execute_result"
    }
   ],
   "source": [
    "loh_df.head()"
   ]
  },
  {
   "cell_type": "code",
   "execution_count": 15,
   "metadata": {},
   "outputs": [],
   "source": [
    "# To get the group\n",
    "input_df = pd.read_csv('/rnd/users/rpyke/data/00-DASH/manuscript_data/readdata.input_df.NeXTdb_collaborations.2020_10_05.csv',\n",
    "                      index_col=0)\n",
    "group_df =input_df[['sample_name_tumor', 'group']].drop_duplicates()\n",
    "group_df['Specimen_ID'] = group_df['sample_name_tumor'].apply(strip_DNA)\n",
    "group_df = group_df[['Specimen_ID', 'group']]"
   ]
  },
  {
   "cell_type": "code",
   "execution_count": 16,
   "metadata": {},
   "outputs": [],
   "source": [
    "loh_df = pd.merge(loh_df, group_df, on='Specimen_ID', how='left')\n",
    "loh_df['Cancer_type'] = loh_df[['group', 'Cancer_type']].apply(get_indication, axis=1)"
   ]
  },
  {
   "cell_type": "code",
   "execution_count": 17,
   "metadata": {
    "scrolled": true
   },
   "outputs": [
    {
     "data": {
      "text/plain": [
       "NeXTdb             1626\n",
       "Inova_II            300\n",
       "stanford_sunwoo      48\n",
       "Name: group, dtype: int64"
      ]
     },
     "execution_count": 17,
     "metadata": {},
     "output_type": "execute_result"
    }
   ],
   "source": [
    "loh_df.group.value_counts()"
   ]
  },
  {
   "cell_type": "code",
   "execution_count": 18,
   "metadata": {
    "scrolled": false
   },
   "outputs": [
    {
     "data": {
      "text/plain": [
       "610"
      ]
     },
     "execution_count": 18,
     "metadata": {},
     "output_type": "execute_result"
    }
   ],
   "source": [
    "len(loh_df.Specimen_ID.unique())"
   ]
  },
  {
   "cell_type": "code",
   "execution_count": 19,
   "metadata": {
    "scrolled": false
   },
   "outputs": [
    {
     "data": {
      "text/plain": [
       "610"
      ]
     },
     "execution_count": 19,
     "metadata": {},
     "output_type": "execute_result"
    }
   ],
   "source": [
    "loh_df.drop_duplicates('Specimen_ID').Cancer_type.value_counts().sum()"
   ]
  },
  {
   "cell_type": "code",
   "execution_count": 20,
   "metadata": {
    "scrolled": false
   },
   "outputs": [
    {
     "data": {
      "text/html": [
       "<div>\n",
       "<style scoped>\n",
       "    .dataframe tbody tr th:only-of-type {\n",
       "        vertical-align: middle;\n",
       "    }\n",
       "\n",
       "    .dataframe tbody tr th {\n",
       "        vertical-align: top;\n",
       "    }\n",
       "\n",
       "    .dataframe thead th {\n",
       "        text-align: right;\n",
       "    }\n",
       "</style>\n",
       "<table border=\"1\" class=\"dataframe\">\n",
       "  <thead>\n",
       "    <tr style=\"text-align: right;\">\n",
       "      <th></th>\n",
       "      <th>Specimen_ID</th>\n",
       "      <th>hla_locus</th>\n",
       "      <th>purity</th>\n",
       "      <th>ploidy</th>\n",
       "      <th>prediction_probability</th>\n",
       "      <th>LOH</th>\n",
       "      <th>LOHHLA_deletion</th>\n",
       "      <th>Provider</th>\n",
       "      <th>Case_ID</th>\n",
       "      <th>LIMSID</th>\n",
       "      <th>...</th>\n",
       "      <th>Height_cm</th>\n",
       "      <th>Weight_kg</th>\n",
       "      <th>BMI</th>\n",
       "      <th>Smoking_Status</th>\n",
       "      <th>Cigarettes_per_day</th>\n",
       "      <th>Smoking_Duration_years</th>\n",
       "      <th>Alcohol_Status</th>\n",
       "      <th>Drinks_per_day</th>\n",
       "      <th>Alcohol_Duration</th>\n",
       "      <th>group</th>\n",
       "    </tr>\n",
       "  </thead>\n",
       "  <tbody>\n",
       "  </tbody>\n",
       "</table>\n",
       "<p>0 rows × 36 columns</p>\n",
       "</div>"
      ],
      "text/plain": [
       "Empty DataFrame\n",
       "Columns: [Specimen_ID, hla_locus, purity, ploidy, prediction_probability, LOH, LOHHLA_deletion, Provider, Case_ID, LIMSID, Tumor_Normal, Specimen_Matrix, Anatomic_Site, Procurement_Date_Year, Sex, Age, Ethnicity, Cancer_type, Indication, Clinical_Diagnosis_Patient, Tumor_Size_mm_x_mm_x_mm, AJCC_UICC_Stage, AJCC_UICC_Stage_Group, Grade, Tumor_percent, Tumor_percent_gt_level, Height_cm, Weight_kg, BMI, Smoking_Status, Cigarettes_per_day, Smoking_Duration_years, Alcohol_Status, Drinks_per_day, Alcohol_Duration, group]\n",
       "Index: []\n",
       "\n",
       "[0 rows x 36 columns]"
      ]
     },
     "execution_count": 20,
     "metadata": {},
     "output_type": "execute_result"
    }
   ],
   "source": [
    "loh_df[loh_df.Cancer_type.isna()]"
   ]
  },
  {
   "cell_type": "markdown",
   "metadata": {},
   "source": [
    "Add in other variables"
   ]
  },
  {
   "cell_type": "code",
   "execution_count": 21,
   "metadata": {},
   "outputs": [],
   "source": [
    "cnv_df = pd.read_csv('/rnd/users/rpyke/data/00-DASH/data/nextDB/cnv_rate.csv')\n",
    "mutation_df = pd.read_csv('/rnd/users/rpyke/data/00-DASH/data/nextDB/mutation_burden.csv')\n",
    "HED_df = pd.read_csv('/rnd/users/rpyke/data/00-DASH/data/nextDB/HED.csv')\n",
    "til_df = pd.read_csv('/rnd/users/rpyke/data/00-DASH/data/nextdb_TILs_ssGSEA_4-27-20.csv')\n",
    "clonality_df = pd.read_csv('/rnd/users/rpyke/data/00-DASH/data/nextdb_trb_out_4-27-20.csv')"
   ]
  },
  {
   "cell_type": "code",
   "execution_count": 22,
   "metadata": {},
   "outputs": [],
   "source": [
    "cnv_df['Specimen_ID'] = cnv_df.Sample.apply(strip_DNA)\n",
    "mutation_df['Specimen_ID'] = mutation_df.Sample.apply(strip_DNA)\n",
    "HED_df['Specimen_ID'] = HED_df.Sample.apply(strip_DNA)"
   ]
  },
  {
   "cell_type": "code",
   "execution_count": 23,
   "metadata": {},
   "outputs": [
    {
     "data": {
      "text/plain": [
       "(516, 486)"
      ]
     },
     "execution_count": 23,
     "metadata": {},
     "output_type": "execute_result"
    }
   ],
   "source": [
    "len(til_df), len(clonality_df)"
   ]
  },
  {
   "cell_type": "code",
   "execution_count": 24,
   "metadata": {},
   "outputs": [],
   "source": [
    "cnv_df = cnv_df.drop_duplicates(['Specimen_ID'])\n",
    "mutation_df = mutation_df.drop_duplicates(['Specimen_ID'])\n",
    "HED_df = HED_df.drop_duplicates(['Specimen_ID'])\n",
    "til_df = til_df.drop_duplicates(['Specimen_ID'])\n",
    "clonality_df = clonality_df.drop_duplicates(['Specimen_ID'])\n",
    "neo_df = neo_df.drop_duplicates(['Specimen_ID'])"
   ]
  },
  {
   "cell_type": "code",
   "execution_count": 25,
   "metadata": {
    "scrolled": true
   },
   "outputs": [
    {
     "data": {
      "text/plain": [
       "(1974, 546, 538, 542, 513)"
      ]
     },
     "execution_count": 25,
     "metadata": {},
     "output_type": "execute_result"
    }
   ],
   "source": [
    "len(loh_df), len(cnv_df), len(mutation_df), len(HED_df), len(neo_df)"
   ]
  },
  {
   "cell_type": "code",
   "execution_count": 26,
   "metadata": {},
   "outputs": [
    {
     "data": {
      "text/plain": [
       "(1974, 546, 538, 542, 513)"
      ]
     },
     "execution_count": 26,
     "metadata": {},
     "output_type": "execute_result"
    }
   ],
   "source": [
    "len(loh_df), len(cnv_df), len(mutation_df), len(HED_df), len(neo_df)"
   ]
  },
  {
   "cell_type": "code",
   "execution_count": 27,
   "metadata": {},
   "outputs": [
    {
     "name": "stdout",
     "output_type": "stream",
     "text": [
      "1974\n",
      "1974\n",
      "1974\n",
      "1974\n",
      "1974\n"
     ]
    }
   ],
   "source": [
    "loh_df = pd.merge(loh_df, cnv_df, on='Specimen_ID', how='left')\n",
    "print(len(loh_df))\n",
    "\n",
    "loh_df = pd.merge(loh_df, mutation_df, on='Specimen_ID', how='left')\n",
    "print(len(loh_df))\n",
    "\n",
    "loh_df = pd.merge(loh_df, HED_df, on='Specimen_ID', how='left')\n",
    "print(len(loh_df))\n",
    "\n",
    "loh_df = pd.merge(loh_df, til_df, on='Specimen_ID', how='left')\n",
    "print(len(loh_df))\n",
    "\n",
    "loh_df = pd.merge(loh_df, clonality_df, on='Specimen_ID', how='left')\n",
    "print(len(loh_df))\n",
    "\n",
    "loh_df = pd.merge(loh_df, neo_df, on='Specimen_ID', how='left')"
   ]
  },
  {
   "cell_type": "code",
   "execution_count": 28,
   "metadata": {},
   "outputs": [
    {
     "data": {
      "text/plain": [
       "1974"
      ]
     },
     "execution_count": 28,
     "metadata": {},
     "output_type": "execute_result"
    }
   ],
   "source": [
    "len(loh_df)"
   ]
  },
  {
   "cell_type": "code",
   "execution_count": 29,
   "metadata": {},
   "outputs": [],
   "source": [
    "loh_df.to_csv('/rnd/users/rpyke/data/00-DASH/data/nextDB/combined_data.2020_10_15.csv', index=None)"
   ]
  },
  {
   "cell_type": "code",
   "execution_count": null,
   "metadata": {},
   "outputs": [],
   "source": []
  },
  {
   "cell_type": "code",
   "execution_count": null,
   "metadata": {},
   "outputs": [],
   "source": []
  },
  {
   "cell_type": "code",
   "execution_count": null,
   "metadata": {},
   "outputs": [],
   "source": []
  }
 ],
 "metadata": {
  "kernelspec": {
   "display_name": "Python 3",
   "language": "python",
   "name": "python3"
  },
  "language_info": {
   "codemirror_mode": {
    "name": "ipython",
    "version": 3
   },
   "file_extension": ".py",
   "mimetype": "text/x-python",
   "name": "python",
   "nbconvert_exporter": "python",
   "pygments_lexer": "ipython3",
   "version": "3.7.3"
  }
 },
 "nbformat": 4,
 "nbformat_minor": 2
}
