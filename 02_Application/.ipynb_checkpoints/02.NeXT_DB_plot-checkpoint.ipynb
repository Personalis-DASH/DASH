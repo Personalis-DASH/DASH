{
 "cells": [
  {
   "cell_type": "code",
   "execution_count": 61,
   "metadata": {},
   "outputs": [],
   "source": [
    "%run ../../bin/imports.ipynb\n",
    "from matplotlib import gridspec"
   ]
  },
  {
   "cell_type": "markdown",
   "metadata": {},
   "source": [
    "## NeXT DB Analysis"
   ]
  },
  {
   "cell_type": "markdown",
   "metadata": {},
   "source": [
    "#### Import data"
   ]
  },
  {
   "cell_type": "code",
   "execution_count": 87,
   "metadata": {},
   "outputs": [],
   "source": [
    "loh_df = pd.read_csv('/rnd/users/rpyke/data/00-DASH/data/nextDB/combined_data.2020_10_15.csv')"
   ]
  },
  {
   "cell_type": "code",
   "execution_count": 88,
   "metadata": {},
   "outputs": [
    {
     "data": {
      "text/plain": [
       "NeXTdb             539\n",
       "Inova_II            55\n",
       "stanford_sunwoo     16\n",
       "Name: group, dtype: int64"
      ]
     },
     "execution_count": 88,
     "metadata": {},
     "output_type": "execute_result"
    }
   ],
   "source": [
    "loh_df.drop_duplicates('Specimen_ID').group.value_counts()"
   ]
  },
  {
   "cell_type": "code",
   "execution_count": 89,
   "metadata": {},
   "outputs": [
    {
     "data": {
      "text/plain": [
       "610"
      ]
     },
     "execution_count": 89,
     "metadata": {},
     "output_type": "execute_result"
    }
   ],
   "source": [
    "loh_df.drop_duplicates('Specimen_ID').group.value_counts().sum()"
   ]
  },
  {
   "cell_type": "code",
   "execution_count": 90,
   "metadata": {},
   "outputs": [],
   "source": [
    "# Remove pancreatic samples\n",
    "#loh_df = loh_df[loh_df.Cancer_type != 'Pancreatic']"
   ]
  },
  {
   "cell_type": "code",
   "execution_count": 91,
   "metadata": {
    "scrolled": true
   },
   "outputs": [
    {
     "data": {
      "text/plain": [
       "1974"
      ]
     },
     "execution_count": 91,
     "metadata": {},
     "output_type": "execute_result"
    }
   ],
   "source": [
    "len(loh_df)"
   ]
  },
  {
   "cell_type": "code",
   "execution_count": 92,
   "metadata": {},
   "outputs": [],
   "source": [
    "# Remove low quality samples\n",
    "core_df = pd.read_excel('/rnd/users/rpyke/data/00-DASH/data/QCMetrics-Project_nextDB_batch1.xlsx', \n",
    "                        sheet_name='Core DNA')\n",
    "core_df = core_df[['External Sample ID', 'type', 'Nfin 20x 99%']]\n",
    "poor_samples = list(set(core_df[core_df['Nfin 20x 99%'] < 16000]['External Sample ID']))\n",
    "\n",
    "loh_df = loh_df[~loh_df['Sample_y'].isin(poor_samples)]\n",
    "\n",
    "# Remove multi-time points\n",
    "loh_df = loh_df[~loh_df.Specimen_ID.str.contains('Post')]\n",
    "\n",
    "# Drop duplicates\n",
    "loh_df = loh_df.drop_duplicates(subset=['Specimen_ID', 'hla_locus'], keep='first')"
   ]
  },
  {
   "cell_type": "code",
   "execution_count": 93,
   "metadata": {},
   "outputs": [
    {
     "data": {
      "text/plain": [
       "50"
      ]
     },
     "execution_count": 93,
     "metadata": {},
     "output_type": "execute_result"
    }
   ],
   "source": [
    "len(poor_samples)"
   ]
  },
  {
   "cell_type": "code",
   "execution_count": 94,
   "metadata": {},
   "outputs": [
    {
     "data": {
      "text/plain": [
       "(1779, 593)"
      ]
     },
     "execution_count": 94,
     "metadata": {},
     "output_type": "execute_result"
    }
   ],
   "source": [
    "len(loh_df), len(loh_df.Specimen_ID.unique())"
   ]
  },
  {
   "cell_type": "code",
   "execution_count": 95,
   "metadata": {},
   "outputs": [
    {
     "data": {
      "text/html": [
       "<div>\n",
       "<style scoped>\n",
       "    .dataframe tbody tr th:only-of-type {\n",
       "        vertical-align: middle;\n",
       "    }\n",
       "\n",
       "    .dataframe tbody tr th {\n",
       "        vertical-align: top;\n",
       "    }\n",
       "\n",
       "    .dataframe thead th {\n",
       "        text-align: right;\n",
       "    }\n",
       "</style>\n",
       "<table border=\"1\" class=\"dataframe\">\n",
       "  <thead>\n",
       "    <tr style=\"text-align: right;\">\n",
       "      <th></th>\n",
       "      <th>Specimen_ID</th>\n",
       "      <th>hla_locus</th>\n",
       "      <th>purity</th>\n",
       "      <th>ploidy</th>\n",
       "      <th>prediction_probability</th>\n",
       "      <th>LOH</th>\n",
       "      <th>LOHHLA_deletion</th>\n",
       "      <th>Provider</th>\n",
       "      <th>Case_ID</th>\n",
       "      <th>LIMSID</th>\n",
       "      <th>...</th>\n",
       "      <th>BINDING_epitope_weak_fraction</th>\n",
       "      <th>PRESENTATION_antigen_strong_count</th>\n",
       "      <th>PRESENTATION_antigen_strong_fraction</th>\n",
       "      <th>PRESENTATION_antigen_weak_count</th>\n",
       "      <th>PRESENTATION_antigen_weak_fraction</th>\n",
       "      <th>PRESENTATION_epitope_strong_count</th>\n",
       "      <th>PRESENTATION_epitope_strong_fraction</th>\n",
       "      <th>PRESENTATION_epitope_weak_count</th>\n",
       "      <th>PRESENTATION_epitope_weak_fraction</th>\n",
       "      <th>Sample_y.1</th>\n",
       "    </tr>\n",
       "  </thead>\n",
       "  <tbody>\n",
       "    <tr>\n",
       "      <th>0</th>\n",
       "      <td>NGT-BLA-1901003T</td>\n",
       "      <td>C</td>\n",
       "      <td>0.11</td>\n",
       "      <td>3</td>\n",
       "      <td>0.225264</td>\n",
       "      <td>True</td>\n",
       "      <td>False</td>\n",
       "      <td>ReproCell_China</td>\n",
       "      <td>NGT-BLA-1901003</td>\n",
       "      <td>ABB5556A299</td>\n",
       "      <td>...</td>\n",
       "      <td>0.015198</td>\n",
       "      <td>2.0</td>\n",
       "      <td>0.086957</td>\n",
       "      <td>2.0</td>\n",
       "      <td>0.086957</td>\n",
       "      <td>2.0</td>\n",
       "      <td>0.001520</td>\n",
       "      <td>2.0</td>\n",
       "      <td>0.001520</td>\n",
       "      <td>DNA_NGT-BLA-1901003T</td>\n",
       "    </tr>\n",
       "    <tr>\n",
       "      <th>1</th>\n",
       "      <td>NGT-LCA-1901001T</td>\n",
       "      <td>B</td>\n",
       "      <td>0.42</td>\n",
       "      <td>6</td>\n",
       "      <td>0.978249</td>\n",
       "      <td>True</td>\n",
       "      <td>True</td>\n",
       "      <td>ReproCell_China</td>\n",
       "      <td>NGT-LCA-1901001</td>\n",
       "      <td>ABB5556A305</td>\n",
       "      <td>...</td>\n",
       "      <td>0.026862</td>\n",
       "      <td>5.0</td>\n",
       "      <td>0.080645</td>\n",
       "      <td>9.0</td>\n",
       "      <td>0.145161</td>\n",
       "      <td>7.0</td>\n",
       "      <td>0.002137</td>\n",
       "      <td>13.0</td>\n",
       "      <td>0.003968</td>\n",
       "      <td>DNA_NGT-LCA-1901001T</td>\n",
       "    </tr>\n",
       "    <tr>\n",
       "      <th>2</th>\n",
       "      <td>S000443761</td>\n",
       "      <td>C</td>\n",
       "      <td>0.34</td>\n",
       "      <td>4</td>\n",
       "      <td>0.787515</td>\n",
       "      <td>True</td>\n",
       "      <td>True</td>\n",
       "      <td>bocabio</td>\n",
       "      <td>D000063628</td>\n",
       "      <td>NaN</td>\n",
       "      <td>...</td>\n",
       "      <td>0.020934</td>\n",
       "      <td>3.0</td>\n",
       "      <td>0.048387</td>\n",
       "      <td>5.0</td>\n",
       "      <td>0.080645</td>\n",
       "      <td>5.0</td>\n",
       "      <td>0.002013</td>\n",
       "      <td>9.0</td>\n",
       "      <td>0.003623</td>\n",
       "      <td>DNA_S000443761</td>\n",
       "    </tr>\n",
       "    <tr>\n",
       "      <th>3</th>\n",
       "      <td>D00688993-Aa</td>\n",
       "      <td>A</td>\n",
       "      <td>0.10</td>\n",
       "      <td>2</td>\n",
       "      <td>0.938287</td>\n",
       "      <td>True</td>\n",
       "      <td>True</td>\n",
       "      <td>discovery life sciences</td>\n",
       "      <td>900017881</td>\n",
       "      <td>NaN</td>\n",
       "      <td>...</td>\n",
       "      <td>0.019870</td>\n",
       "      <td>28.0</td>\n",
       "      <td>0.060738</td>\n",
       "      <td>51.0</td>\n",
       "      <td>0.110629</td>\n",
       "      <td>37.0</td>\n",
       "      <td>0.001548</td>\n",
       "      <td>77.0</td>\n",
       "      <td>0.003221</td>\n",
       "      <td>DNA_D00688993-Aa</td>\n",
       "    </tr>\n",
       "    <tr>\n",
       "      <th>4</th>\n",
       "      <td>NGT-OVA-1907002T</td>\n",
       "      <td>C</td>\n",
       "      <td>0.87</td>\n",
       "      <td>6</td>\n",
       "      <td>0.974519</td>\n",
       "      <td>True</td>\n",
       "      <td>True</td>\n",
       "      <td>reprocell</td>\n",
       "      <td>NGT-OVA-1907002</td>\n",
       "      <td>NaN</td>\n",
       "      <td>...</td>\n",
       "      <td>0.026299</td>\n",
       "      <td>24.0</td>\n",
       "      <td>0.058252</td>\n",
       "      <td>46.0</td>\n",
       "      <td>0.111650</td>\n",
       "      <td>44.0</td>\n",
       "      <td>0.001783</td>\n",
       "      <td>94.0</td>\n",
       "      <td>0.003809</td>\n",
       "      <td>DNA_NGT-OVA-1907002T</td>\n",
       "    </tr>\n",
       "  </tbody>\n",
       "</table>\n",
       "<p>5 rows × 85 columns</p>\n",
       "</div>"
      ],
      "text/plain": [
       "        Specimen_ID hla_locus  purity  ploidy  prediction_probability   LOH  \\\n",
       "0  NGT-BLA-1901003T         C    0.11       3                0.225264  True   \n",
       "1  NGT-LCA-1901001T         B    0.42       6                0.978249  True   \n",
       "2        S000443761         C    0.34       4                0.787515  True   \n",
       "3      D00688993-Aa         A    0.10       2                0.938287  True   \n",
       "4  NGT-OVA-1907002T         C    0.87       6                0.974519  True   \n",
       "\n",
       "   LOHHLA_deletion                 Provider          Case_ID       LIMSID  \\\n",
       "0            False          ReproCell_China  NGT-BLA-1901003  ABB5556A299   \n",
       "1             True          ReproCell_China  NGT-LCA-1901001  ABB5556A305   \n",
       "2             True                  bocabio       D000063628          NaN   \n",
       "3             True  discovery life sciences        900017881          NaN   \n",
       "4             True                reprocell  NGT-OVA-1907002          NaN   \n",
       "\n",
       "   ... BINDING_epitope_weak_fraction PRESENTATION_antigen_strong_count  \\\n",
       "0  ...                      0.015198                               2.0   \n",
       "1  ...                      0.026862                               5.0   \n",
       "2  ...                      0.020934                               3.0   \n",
       "3  ...                      0.019870                              28.0   \n",
       "4  ...                      0.026299                              24.0   \n",
       "\n",
       "  PRESENTATION_antigen_strong_fraction  PRESENTATION_antigen_weak_count  \\\n",
       "0                             0.086957                              2.0   \n",
       "1                             0.080645                              9.0   \n",
       "2                             0.048387                              5.0   \n",
       "3                             0.060738                             51.0   \n",
       "4                             0.058252                             46.0   \n",
       "\n",
       "  PRESENTATION_antigen_weak_fraction PRESENTATION_epitope_strong_count  \\\n",
       "0                           0.086957                               2.0   \n",
       "1                           0.145161                               7.0   \n",
       "2                           0.080645                               5.0   \n",
       "3                           0.110629                              37.0   \n",
       "4                           0.111650                              44.0   \n",
       "\n",
       "  PRESENTATION_epitope_strong_fraction PRESENTATION_epitope_weak_count  \\\n",
       "0                             0.001520                             2.0   \n",
       "1                             0.002137                            13.0   \n",
       "2                             0.002013                             9.0   \n",
       "3                             0.001548                            77.0   \n",
       "4                             0.001783                            94.0   \n",
       "\n",
       "  PRESENTATION_epitope_weak_fraction            Sample_y.1  \n",
       "0                           0.001520  DNA_NGT-BLA-1901003T  \n",
       "1                           0.003968  DNA_NGT-LCA-1901001T  \n",
       "2                           0.003623        DNA_S000443761  \n",
       "3                           0.003221      DNA_D00688993-Aa  \n",
       "4                           0.003809  DNA_NGT-OVA-1907002T  \n",
       "\n",
       "[5 rows x 85 columns]"
      ]
     },
     "execution_count": 95,
     "metadata": {},
     "output_type": "execute_result"
    }
   ],
   "source": [
    "loh_df.head()"
   ]
  },
  {
   "cell_type": "code",
   "execution_count": 96,
   "metadata": {},
   "outputs": [
    {
     "data": {
      "text/plain": [
       "False    1391\n",
       "True      388\n",
       "Name: LOH, dtype: int64"
      ]
     },
     "execution_count": 96,
     "metadata": {},
     "output_type": "execute_result"
    }
   ],
   "source": [
    "loh_df.LOH.value_counts()"
   ]
  },
  {
   "cell_type": "code",
   "execution_count": 97,
   "metadata": {},
   "outputs": [
    {
     "data": {
      "text/plain": [
       "Melanoma                87\n",
       "NSCLC_adenocarcinoma    80\n",
       "Colorectal              73\n",
       "Breast                  66\n",
       "Kidney_RCC              54\n",
       "Uterine                 38\n",
       "Bladder                 38\n",
       "Pancreatic              30\n",
       "Head_Neck               28\n",
       "Liver                   28\n",
       "Ovarian                 26\n",
       "NSCLC_SCC               25\n",
       "Cervical                17\n",
       "Thyroid                  2\n",
       "Cervix                   1\n",
       "Name: Cancer_type, dtype: int64"
      ]
     },
     "execution_count": 97,
     "metadata": {},
     "output_type": "execute_result"
    }
   ],
   "source": [
    "loh_df.drop_duplicates('Specimen_ID').Cancer_type.value_counts()"
   ]
  },
  {
   "cell_type": "code",
   "execution_count": 98,
   "metadata": {},
   "outputs": [
    {
     "data": {
      "text/plain": [
       "593"
      ]
     },
     "execution_count": 98,
     "metadata": {},
     "output_type": "execute_result"
    }
   ],
   "source": [
    "loh_df.drop_duplicates('Specimen_ID').Cancer_type.value_counts().sum()"
   ]
  },
  {
   "cell_type": "markdown",
   "metadata": {},
   "source": [
    "##### Homozygosity"
   ]
  },
  {
   "cell_type": "code",
   "execution_count": 99,
   "metadata": {},
   "outputs": [],
   "source": [
    "total_df = pd.DataFrame(loh_df['Specimen_ID'].value_counts())\n",
    "loh_total_df = pd.DataFrame(loh_df[loh_df.LOH]['Specimen_ID'].value_counts())\n",
    "fraction_df = pd.merge(total_df, loh_total_df, left_index=True, right_index=True)\n",
    "fraction_df['fraction'] = fraction_df['Specimen_ID_y'] / fraction_df['Specimen_ID_x']"
   ]
  },
  {
   "cell_type": "code",
   "execution_count": 100,
   "metadata": {},
   "outputs": [
    {
     "data": {
      "text/plain": [
       "3    0.505814\n",
       "2    0.244186\n",
       "1    0.250000\n",
       "Name: Specimen_ID_y, dtype: float64"
      ]
     },
     "execution_count": 100,
     "metadata": {},
     "output_type": "execute_result"
    }
   ],
   "source": [
    "fraction_df[fraction_df.Specimen_ID_x == 3].Specimen_ID_y.value_counts().sort_index(ascending=False) / \\\n",
    "fraction_df[fraction_df.Specimen_ID_x == 3].Specimen_ID_y.value_counts().sum()"
   ]
  },
  {
   "cell_type": "code",
   "execution_count": 101,
   "metadata": {},
   "outputs": [
    {
     "data": {
      "image/png": "[encoded data removed]",
      "text/plain": [
       "<Figure size 144x252 with 1 Axes>"
      ]
     },
     "metadata": {
      "needs_background": "light"
     },
     "output_type": "display_data"
    }
   ],
   "source": [
    "plt.figure(figsize=(2, 3.5))\n",
    "sns.set_context('talk', font_scale=0.7)\n",
    "fraction_df[fraction_df.Specimen_ID_x == 3].Specimen_ID_y.value_counts().sort_index(ascending=True).plot(kind='bar', color='grey')\n",
    "plt.xticks(rotation=0)\n",
    "plt.ylabel('Number of patients')\n",
    "plt.xlabel('Number of HLA\\ngenes with LOH')\n",
    "plt.savefig('/rnd/users/rpyke/data/00-DASH/figures/NeXTDB.LOH_co-ocurrence.bar.vertical.2020_10_15.pdf', bbox_inches='tight')\n"
   ]
  },
  {
   "cell_type": "markdown",
   "metadata": {},
   "source": [
    "##### HLA LOH frequency"
   ]
  },
  {
   "cell_type": "code",
   "execution_count": 102,
   "metadata": {},
   "outputs": [
    {
     "name": "stdout",
     "output_type": "stream",
     "text": [
      "Patients with LOH: 172\n"
     ]
    }
   ],
   "source": [
    "patients_with_loh = list(loh_df[(loh_df.LOH)].Specimen_ID.unique())\n",
    "print('Patients with LOH:', len(patients_with_loh))\n",
    "\n",
    "total_df = loh_df.drop_duplicates('Specimen_ID').Cancer_type.value_counts().reset_index()\n",
    "total_df.columns = ['Cancer_type', 'Total_patients']\n",
    "\n",
    "loh_count_df = loh_df[loh_df.Specimen_ID.isin(patients_with_loh)].drop_duplicates('Specimen_ID').Cancer_type.value_counts().reset_index()\n",
    "loh_count_df.columns = ['Cancer_type', 'LOH_patients']\n",
    "\n",
    "freq_df = pd.merge(total_df, loh_count_df, on='Cancer_type', how='left')\n",
    "freq_df = freq_df.replace(np.nan, 0)\n",
    "freq_df['Fraction'] = freq_df['LOH_patients'] / freq_df['Total_patients']\n",
    "\n",
    "# Save table to file\n",
    "freq_df.sort_values('Fraction', ascending=False).to_excel('/rnd/users/rpyke/data/00-DASH/tables/hla_loh_frequencies.2020_10_15.xlsx', index=None)\n"
   ]
  },
  {
   "cell_type": "code",
   "execution_count": 103,
   "metadata": {},
   "outputs": [
    {
     "data": {
      "text/html": [
       "<div>\n",
       "<style scoped>\n",
       "    .dataframe tbody tr th:only-of-type {\n",
       "        vertical-align: middle;\n",
       "    }\n",
       "\n",
       "    .dataframe tbody tr th {\n",
       "        vertical-align: top;\n",
       "    }\n",
       "\n",
       "    .dataframe thead th {\n",
       "        text-align: right;\n",
       "    }\n",
       "</style>\n",
       "<table border=\"1\" class=\"dataframe\">\n",
       "  <thead>\n",
       "    <tr style=\"text-align: right;\">\n",
       "      <th></th>\n",
       "      <th>Cancer_type</th>\n",
       "      <th>Total_patients</th>\n",
       "      <th>LOH_patients</th>\n",
       "      <th>Fraction</th>\n",
       "    </tr>\n",
       "  </thead>\n",
       "  <tbody>\n",
       "    <tr>\n",
       "      <th>14</th>\n",
       "      <td>Cervix</td>\n",
       "      <td>1</td>\n",
       "      <td>0.0</td>\n",
       "      <td>0.000000</td>\n",
       "    </tr>\n",
       "    <tr>\n",
       "      <th>9</th>\n",
       "      <td>Liver</td>\n",
       "      <td>28</td>\n",
       "      <td>3.0</td>\n",
       "      <td>0.107143</td>\n",
       "    </tr>\n",
       "    <tr>\n",
       "      <th>10</th>\n",
       "      <td>Ovarian</td>\n",
       "      <td>26</td>\n",
       "      <td>4.0</td>\n",
       "      <td>0.153846</td>\n",
       "    </tr>\n",
       "    <tr>\n",
       "      <th>3</th>\n",
       "      <td>Breast</td>\n",
       "      <td>66</td>\n",
       "      <td>14.0</td>\n",
       "      <td>0.212121</td>\n",
       "    </tr>\n",
       "    <tr>\n",
       "      <th>0</th>\n",
       "      <td>Melanoma</td>\n",
       "      <td>87</td>\n",
       "      <td>19.0</td>\n",
       "      <td>0.218391</td>\n",
       "    </tr>\n",
       "    <tr>\n",
       "      <th>5</th>\n",
       "      <td>Uterine</td>\n",
       "      <td>38</td>\n",
       "      <td>9.0</td>\n",
       "      <td>0.236842</td>\n",
       "    </tr>\n",
       "    <tr>\n",
       "      <th>2</th>\n",
       "      <td>Colorectal</td>\n",
       "      <td>73</td>\n",
       "      <td>21.0</td>\n",
       "      <td>0.287671</td>\n",
       "    </tr>\n",
       "    <tr>\n",
       "      <th>6</th>\n",
       "      <td>Bladder</td>\n",
       "      <td>38</td>\n",
       "      <td>11.0</td>\n",
       "      <td>0.289474</td>\n",
       "    </tr>\n",
       "    <tr>\n",
       "      <th>4</th>\n",
       "      <td>Kidney_RCC</td>\n",
       "      <td>54</td>\n",
       "      <td>16.0</td>\n",
       "      <td>0.296296</td>\n",
       "    </tr>\n",
       "    <tr>\n",
       "      <th>1</th>\n",
       "      <td>NSCLC_adenocarcinoma</td>\n",
       "      <td>80</td>\n",
       "      <td>29.0</td>\n",
       "      <td>0.362500</td>\n",
       "    </tr>\n",
       "    <tr>\n",
       "      <th>11</th>\n",
       "      <td>NSCLC_SCC</td>\n",
       "      <td>25</td>\n",
       "      <td>10.0</td>\n",
       "      <td>0.400000</td>\n",
       "    </tr>\n",
       "    <tr>\n",
       "      <th>7</th>\n",
       "      <td>Pancreatic</td>\n",
       "      <td>30</td>\n",
       "      <td>13.0</td>\n",
       "      <td>0.433333</td>\n",
       "    </tr>\n",
       "    <tr>\n",
       "      <th>8</th>\n",
       "      <td>Head_Neck</td>\n",
       "      <td>28</td>\n",
       "      <td>13.0</td>\n",
       "      <td>0.464286</td>\n",
       "    </tr>\n",
       "    <tr>\n",
       "      <th>13</th>\n",
       "      <td>Thyroid</td>\n",
       "      <td>2</td>\n",
       "      <td>1.0</td>\n",
       "      <td>0.500000</td>\n",
       "    </tr>\n",
       "    <tr>\n",
       "      <th>12</th>\n",
       "      <td>Cervical</td>\n",
       "      <td>17</td>\n",
       "      <td>9.0</td>\n",
       "      <td>0.529412</td>\n",
       "    </tr>\n",
       "  </tbody>\n",
       "</table>\n",
       "</div>"
      ],
      "text/plain": [
       "             Cancer_type  Total_patients  LOH_patients  Fraction\n",
       "14                Cervix               1           0.0  0.000000\n",
       "9                  Liver              28           3.0  0.107143\n",
       "10               Ovarian              26           4.0  0.153846\n",
       "3                 Breast              66          14.0  0.212121\n",
       "0               Melanoma              87          19.0  0.218391\n",
       "5                Uterine              38           9.0  0.236842\n",
       "2             Colorectal              73          21.0  0.287671\n",
       "6                Bladder              38          11.0  0.289474\n",
       "4             Kidney_RCC              54          16.0  0.296296\n",
       "1   NSCLC_adenocarcinoma              80          29.0  0.362500\n",
       "11             NSCLC_SCC              25          10.0  0.400000\n",
       "7             Pancreatic              30          13.0  0.433333\n",
       "8              Head_Neck              28          13.0  0.464286\n",
       "13               Thyroid               2           1.0  0.500000\n",
       "12              Cervical              17           9.0  0.529412"
      ]
     },
     "execution_count": 103,
     "metadata": {},
     "output_type": "execute_result"
    }
   ],
   "source": [
    "freq_df.sort_values('Fraction')"
   ]
  },
  {
   "cell_type": "code",
   "execution_count": 104,
   "metadata": {
    "scrolled": false
   },
   "outputs": [
    {
     "data": {
      "image/png": "[encoded data removed]",
      "text/plain": [
       "<Figure size 360x252 with 2 Axes>"
      ]
     },
     "metadata": {
      "needs_background": "light"
     },
     "output_type": "display_data"
    }
   ],
   "source": [
    "size_constraint = freq_df.Total_patients > 10\n",
    "\n",
    "plt.figure(figsize=(5, 3.5))\n",
    "sns.set_context('talk', font_scale=0.7)\n",
    "gs = gridspec.GridSpec(1, 2, width_ratios=[1, 2]) \n",
    "\n",
    "\n",
    "ax0 = plt.subplot(gs[1])\n",
    "sns.barplot(y='Cancer_type', x='Fraction', data=freq_df, color='grey', \n",
    "            order=freq_df[size_constraint].sort_values('Fraction', ascending=False).Cancer_type, ax = ax0)\n",
    "plt.xlabel('Fraction of\\nPatients\\nwith HLA LOH')\n",
    "plt.yticks([])\n",
    "plt.ylabel('')\n",
    "\n",
    "ax1 = plt.subplot(gs[0])\n",
    "sns.barplot(y='Cancer_type', x='Total_patients', data=freq_df, color='grey', \n",
    "            order=freq_df[size_constraint].sort_values('Fraction', ascending=False).Cancer_type, ax=ax1)\n",
    "plt.xticks(rotation=90)\n",
    "plt.xlabel('Number of\\nPatients')\n",
    "plt.ylabel('')\n",
    "\n",
    "plt.savefig('/rnd/users/rpyke/data/00-DASH/figures/NeXTDB.LOH_frequency_in_TT.2020_10_15.pdf', bbox_inches='tight')"
   ]
  },
  {
   "cell_type": "markdown",
   "metadata": {},
   "source": [
    "##### Genomic LOH and HLA LOH"
   ]
  },
  {
   "cell_type": "code",
   "execution_count": 86,
   "metadata": {},
   "outputs": [
    {
     "data": {
      "text/html": [
       "<div>\n",
       "<style scoped>\n",
       "    .dataframe tbody tr th:only-of-type {\n",
       "        vertical-align: middle;\n",
       "    }\n",
       "\n",
       "    .dataframe tbody tr th {\n",
       "        vertical-align: top;\n",
       "    }\n",
       "\n",
       "    .dataframe thead th {\n",
       "        text-align: right;\n",
       "    }\n",
       "</style>\n",
       "<table border=\"1\" class=\"dataframe\">\n",
       "  <thead>\n",
       "    <tr style=\"text-align: right;\">\n",
       "      <th></th>\n",
       "      <th>Cancer_type</th>\n",
       "      <th>Total_patients</th>\n",
       "      <th>LOH_patients</th>\n",
       "      <th>Fraction</th>\n",
       "    </tr>\n",
       "  </thead>\n",
       "  <tbody>\n",
       "    <tr>\n",
       "      <th>0</th>\n",
       "      <td>Melanoma</td>\n",
       "      <td>87</td>\n",
       "      <td>19.0</td>\n",
       "      <td>0.218391</td>\n",
       "    </tr>\n",
       "    <tr>\n",
       "      <th>1</th>\n",
       "      <td>NSCLC_adenocarcinoma</td>\n",
       "      <td>80</td>\n",
       "      <td>29.0</td>\n",
       "      <td>0.362500</td>\n",
       "    </tr>\n",
       "    <tr>\n",
       "      <th>2</th>\n",
       "      <td>Colorectal</td>\n",
       "      <td>73</td>\n",
       "      <td>21.0</td>\n",
       "      <td>0.287671</td>\n",
       "    </tr>\n",
       "    <tr>\n",
       "      <th>3</th>\n",
       "      <td>Breast</td>\n",
       "      <td>66</td>\n",
       "      <td>14.0</td>\n",
       "      <td>0.212121</td>\n",
       "    </tr>\n",
       "    <tr>\n",
       "      <th>4</th>\n",
       "      <td>Kidney_RCC</td>\n",
       "      <td>54</td>\n",
       "      <td>16.0</td>\n",
       "      <td>0.296296</td>\n",
       "    </tr>\n",
       "    <tr>\n",
       "      <th>5</th>\n",
       "      <td>Uterine</td>\n",
       "      <td>38</td>\n",
       "      <td>9.0</td>\n",
       "      <td>0.236842</td>\n",
       "    </tr>\n",
       "    <tr>\n",
       "      <th>6</th>\n",
       "      <td>Bladder</td>\n",
       "      <td>38</td>\n",
       "      <td>11.0</td>\n",
       "      <td>0.289474</td>\n",
       "    </tr>\n",
       "    <tr>\n",
       "      <th>7</th>\n",
       "      <td>Pancreatic</td>\n",
       "      <td>30</td>\n",
       "      <td>13.0</td>\n",
       "      <td>0.433333</td>\n",
       "    </tr>\n",
       "    <tr>\n",
       "      <th>8</th>\n",
       "      <td>Head_Neck</td>\n",
       "      <td>28</td>\n",
       "      <td>13.0</td>\n",
       "      <td>0.464286</td>\n",
       "    </tr>\n",
       "    <tr>\n",
       "      <th>9</th>\n",
       "      <td>Liver</td>\n",
       "      <td>28</td>\n",
       "      <td>3.0</td>\n",
       "      <td>0.107143</td>\n",
       "    </tr>\n",
       "    <tr>\n",
       "      <th>10</th>\n",
       "      <td>Ovarian</td>\n",
       "      <td>26</td>\n",
       "      <td>4.0</td>\n",
       "      <td>0.153846</td>\n",
       "    </tr>\n",
       "    <tr>\n",
       "      <th>11</th>\n",
       "      <td>NSCLC_SCC</td>\n",
       "      <td>25</td>\n",
       "      <td>10.0</td>\n",
       "      <td>0.400000</td>\n",
       "    </tr>\n",
       "    <tr>\n",
       "      <th>12</th>\n",
       "      <td>Cervical</td>\n",
       "      <td>17</td>\n",
       "      <td>9.0</td>\n",
       "      <td>0.529412</td>\n",
       "    </tr>\n",
       "    <tr>\n",
       "      <th>13</th>\n",
       "      <td>Thyroid</td>\n",
       "      <td>2</td>\n",
       "      <td>1.0</td>\n",
       "      <td>0.500000</td>\n",
       "    </tr>\n",
       "    <tr>\n",
       "      <th>14</th>\n",
       "      <td>Cervix</td>\n",
       "      <td>1</td>\n",
       "      <td>0.0</td>\n",
       "      <td>0.000000</td>\n",
       "    </tr>\n",
       "  </tbody>\n",
       "</table>\n",
       "</div>"
      ],
      "text/plain": [
       "             Cancer_type  Total_patients  LOH_patients  Fraction\n",
       "0               Melanoma              87          19.0  0.218391\n",
       "1   NSCLC_adenocarcinoma              80          29.0  0.362500\n",
       "2             Colorectal              73          21.0  0.287671\n",
       "3                 Breast              66          14.0  0.212121\n",
       "4             Kidney_RCC              54          16.0  0.296296\n",
       "5                Uterine              38           9.0  0.236842\n",
       "6                Bladder              38          11.0  0.289474\n",
       "7             Pancreatic              30          13.0  0.433333\n",
       "8              Head_Neck              28          13.0  0.464286\n",
       "9                  Liver              28           3.0  0.107143\n",
       "10               Ovarian              26           4.0  0.153846\n",
       "11             NSCLC_SCC              25          10.0  0.400000\n",
       "12              Cervical              17           9.0  0.529412\n",
       "13               Thyroid               2           1.0  0.500000\n",
       "14                Cervix               1           0.0  0.000000"
      ]
     },
     "execution_count": 86,
     "metadata": {},
     "output_type": "execute_result"
    }
   ],
   "source": [
    "freq_df"
   ]
  },
  {
   "cell_type": "code",
   "execution_count": 81,
   "metadata": {},
   "outputs": [
    {
     "data": {
      "text/plain": [
       "(9, 15)"
      ]
     },
     "execution_count": 81,
     "metadata": {},
     "output_type": "execute_result"
    }
   ],
   "source": [
    "tt_with_g10_loh = list(freq_df[freq_df.LOH_patients >= 10].sort_values('LOH_patients', ascending=False).Cancer_type)\n",
    "len(tt_with_g10_loh), len(freq_df)"
   ]
  },
  {
   "cell_type": "code",
   "execution_count": 82,
   "metadata": {},
   "outputs": [],
   "source": [
    "loh_df_patient = loh_df.sort_values('LOH', ascending=False).drop_duplicates('Specimen_ID')\n",
    "loh_df_patient['HLA LOH'] = loh_df_patient['LOH']"
   ]
  },
  {
   "cell_type": "code",
   "execution_count": 83,
   "metadata": {},
   "outputs": [],
   "source": [
    "cnv_category = 'LOH_region'\n",
    "cnv_freq_df = pd.DataFrame(loh_df_patient.groupby('Cancer_type')[cnv_category].median().sort_values()).reset_index()\n",
    "\n",
    "merged_freq_df = pd.merge(cnv_freq_df, freq_df, on='Cancer_type')\n",
    "merged_freq_df_high_freq = merged_freq_df[merged_freq_df.Cancer_type.isin(tt_with_g10_loh)]\n"
   ]
  },
  {
   "cell_type": "code",
   "execution_count": 35,
   "metadata": {},
   "outputs": [
    {
     "data": {
      "image/png": "[encoded data removed]",
      "text/plain": [
       "<Figure size 252x216 with 1 Axes>"
      ]
     },
     "metadata": {
      "needs_background": "light"
     },
     "output_type": "display_data"
    }
   ],
   "source": [
    "plt.figure(figsize=(3.5, 3))\n",
    "sns.set_context('talk', font_scale=0.7)\n",
    "plt.plot((0, 0.5), (0, 0.5), '--', color='grey')\n",
    "\n",
    "ax = sns.scatterplot(x=cnv_category, y='Fraction', \n",
    "                     data=merged_freq_df_high_freq, color='darkgrey')\n",
    "for i, txt in enumerate(range(len(merged_freq_df_high_freq))):\n",
    "    ax.annotate(list(merged_freq_df_high_freq.Cancer_type)[i], \n",
    "                (list(merged_freq_df_high_freq[cnv_category])[i]+0.015, \n",
    "                 list(merged_freq_df_high_freq.Fraction)[i]-0.01), size=10)\n",
    "plt.xlabel('Fraction of genome\\nwith LOH')\n",
    "plt.ylabel('Percentage of patients\\nwith HLA LOH')\n",
    "plt.xlim(0, 0.5)\n",
    "plt.ylim(0, 0.5)\n",
    "plt.savefig('/rnd/users/rpyke/data/00-DASH/figures/NeXTDB.LOH_HLA_selection.scatter.2020_10_15.pdf', \n",
    "            bbox_inches='tight')"
   ]
  },
  {
   "cell_type": "markdown",
   "metadata": {},
   "source": [
    "Other correlations"
   ]
  },
  {
   "cell_type": "code",
   "execution_count": 36,
   "metadata": {},
   "outputs": [],
   "source": [
    "# True = Blue, False = Green\n",
    "green = '#77c722'\n",
    "blue = '#3864b5'"
   ]
  },
  {
   "cell_type": "code",
   "execution_count": 37,
   "metadata": {},
   "outputs": [
    {
     "data": {
      "image/png": "[encoded data removed]",
      "text/plain": [
       "<Figure size 252x216 with 1 Axes>"
      ]
     },
     "metadata": {
      "needs_background": "light"
     },
     "output_type": "display_data"
    }
   ],
   "source": [
    "plt.figure(figsize=(3.5, 3))\n",
    "sns.set_context('talk', font_scale=0.7)\n",
    "g = sns.boxplot(x='Cancer_type', y='LOH_region', hue='HLA LOH', data=loh_df_patient, palette=[green, blue],\n",
    "            order=tt_with_g10_loh)\n",
    "g.set(xticklabels=['NSCLC-A', 'Colorectal', 'Melanoma', 'Breast', 'Kidney', 'Head-neck', 'Ovarian'])\n",
    "plt.xticks(rotation=90)\n",
    "plt.ylabel('Fraction of\\nGenome with LOH')\n",
    "#plt.ylim(50, 200)\n",
    "#plt.legend([])\n",
    "plt.xlabel('')\n",
    "plt.savefig('/rnd/users/rpyke/data/00-DASH/figures/NeXTDB.CNV_by_TT.2020_10_15.pdf',\n",
    "           bbox_inches='tight')"
   ]
  },
  {
   "cell_type": "code",
   "execution_count": 38,
   "metadata": {},
   "outputs": [
    {
     "name": "stdout",
     "output_type": "stream",
     "text": [
      "       count      mean       std       min       25%       50%       75%  \\\n",
      "LOH                                                                        \n",
      "False  342.0  0.183036  0.127742  0.007238  0.079838  0.152859  0.255576   \n",
      "True   141.0  0.264127  0.171226  0.009709  0.138532  0.228907  0.344179   \n",
      "\n",
      "            max  \n",
      "LOH              \n",
      "False  0.649885  \n",
      "True   0.829756  \n",
      "NSCLC_adenocarcinoma 2.061\n",
      "Colorectal 1.881\n",
      "Melanoma 0.23399999999999999\n",
      "Kidney_RCC 0.11699999999999999\n",
      "Breast 1.026\n",
      "Pancreatic 3.1769999999999996\n",
      "Head_Neck 0.963\n",
      "Bladder 0.5489999999999999\n",
      "NSCLC_SCC 0.252\n"
     ]
    }
   ],
   "source": [
    "print(loh_df_patient.groupby('LOH').describe()['LOH_region'])\n",
    "\n",
    "for cancer_type in tt_with_g10_loh:\n",
    "    p = round(sp.mannwhitneyu(list(loh_df_patient[(loh_df_patient.LOH)&(loh_df_patient.Cancer_type == cancer_type)].LOH_region),\n",
    "                   list(loh_df_patient[(~loh_df_patient.LOH)&(loh_df_patient.Cancer_type == cancer_type)].LOH_region))[1], 3)\n",
    "    print(cancer_type, p*len(tt_with_g10_loh))\n",
    "    "
   ]
  },
  {
   "cell_type": "markdown",
   "metadata": {},
   "source": [
    "##### Neoantigen trends"
   ]
  },
  {
   "cell_type": "code",
   "execution_count": 39,
   "metadata": {},
   "outputs": [
    {
     "data": {
      "image/png": "[encoded data removed]",
      "text/plain": [
       "<Figure size 252x432 with 3 Axes>"
      ]
     },
     "metadata": {
      "needs_background": "light"
     },
     "output_type": "display_data"
    }
   ],
   "source": [
    "# Combine into a single figure\n",
    "plt.figure(figsize=(3.5, 6))\n",
    "sns.set_context('talk', font_scale=0.7)\n",
    "gs = gridspec.GridSpec(3, 1) \n",
    "\n",
    "\n",
    "ax1 = plt.subplot2grid((3, 1), (0, 0))\n",
    "sns.boxplot(x='Cancer_type', y='HED', hue='LOH', \n",
    "            data=loh_df_patient, palette=[green, blue],\n",
    "            order=tt_with_g10_loh)\n",
    "g.set(xticklabels=['NSCLC-A', 'Breast', 'Melanoma', 'Colorectal', 'Head-neck'])\n",
    "plt.xticks(rotation=90)\n",
    "plt.legend(bbox_to_anchor=(1.5, 1))\n",
    "plt.xticks([])\n",
    "plt.xlabel('')\n",
    "plt.ylabel('HLA-I evoluationary\\ndistance (HED)')\n",
    "#plt.tight_layout()\n",
    "\n",
    "\n",
    "ax2 = plt.subplot2grid((3, 1), (1, 0))\n",
    "sns.boxplot(x='Cancer_type', y='Potential_neoantigens', hue='LOH', data=loh_df_patient, palette=[green, blue],\n",
    "           order=tt_with_g10_loh)\n",
    "plt.ylabel('Number of\\nmutations')\n",
    "ax2.set(yscale=\"log\")\n",
    "#plt.ylim(0, 2000)\n",
    "plt.xticks(rotation=90)\n",
    "plt.xticks([])\n",
    "plt.xlabel('')\n",
    "plt.legend().remove()\n",
    "\n",
    "\n",
    "ax3 = plt.subplot2grid((3, 1), (2, 0))\n",
    "sns.boxplot(x='Cancer_type', y='PRESENTATION_epitope_weak_count', \n",
    "                 hue='LOH', data=loh_df_patient, \n",
    "            palette=[green, blue],\n",
    "           order=tt_with_g10_loh)\n",
    "ax3.set(yscale=\"log\")\n",
    "plt.xticks(rotation=90)\n",
    "plt.ylabel('Predicted\\nneoepitopes')\n",
    "#plt.ylim(0, 200)\n",
    "plt.legend().remove()\n",
    "ax3.set(xticklabels=['NSCLC-A', 'Colorectal', 'Melanoma', 'Breast', 'Kidney', 'Head-neck', 'Ovarian'])\n",
    "\n",
    "plt.savefig('/rnd/users/rpyke/data/00-DASH/figures/NeXTDB.HED_M_Neo.2020_10_15.pdf',\n",
    "           bbox_inches='tight')"
   ]
  },
  {
   "cell_type": "markdown",
   "metadata": {},
   "source": [
    "##### P-values"
   ]
  },
  {
   "cell_type": "markdown",
   "metadata": {},
   "source": [
    "HED"
   ]
  },
  {
   "cell_type": "code",
   "execution_count": 40,
   "metadata": {
    "scrolled": true
   },
   "outputs": [
    {
     "data": {
      "text/plain": [
       "0.207"
      ]
     },
     "execution_count": 40,
     "metadata": {},
     "output_type": "execute_result"
    }
   ],
   "source": [
    "round(sp.mannwhitneyu(list(loh_df_patient[(loh_df_patient.LOH)].HED),\n",
    "                   list(loh_df_patient[(~loh_df_patient.LOH)].HED))[1], 3)\n"
   ]
  },
  {
   "cell_type": "code",
   "execution_count": 41,
   "metadata": {
    "scrolled": true
   },
   "outputs": [
    {
     "name": "stdout",
     "output_type": "stream",
     "text": [
      "NSCLC_adenocarcinoma 1.161\n",
      "Colorectal 2.4930000000000003\n",
      "Melanoma 2.916\n",
      "Kidney_RCC 0.6659999999999999\n",
      "Breast 2.691\n",
      "Pancreatic 3.465\n",
      "Head_Neck 2.205\n",
      "Bladder 3.699\n",
      "NSCLC_SCC 0.216\n"
     ]
    }
   ],
   "source": [
    "p_vals = []\n",
    "for cancer_type in tt_with_g10_loh:\n",
    "    p = round(sp.mannwhitneyu(list(loh_df_patient[(loh_df_patient.LOH)&(loh_df_patient.Cancer_type == cancer_type)].HED),\n",
    "                   list(loh_df_patient[(~loh_df_patient.LOH)&(loh_df_patient.Cancer_type == cancer_type)].HED))[1], 3)\n",
    "    p_vals.append(p)\n",
    "    print(cancer_type, p*len(tt_with_g10_loh))\n",
    "    "
   ]
  },
  {
   "cell_type": "markdown",
   "metadata": {},
   "source": [
    "Mutations"
   ]
  },
  {
   "cell_type": "code",
   "execution_count": 42,
   "metadata": {},
   "outputs": [
    {
     "data": {
      "text/html": [
       "<div>\n",
       "<style scoped>\n",
       "    .dataframe tbody tr th:only-of-type {\n",
       "        vertical-align: middle;\n",
       "    }\n",
       "\n",
       "    .dataframe tbody tr th {\n",
       "        vertical-align: top;\n",
       "    }\n",
       "\n",
       "    .dataframe thead th {\n",
       "        text-align: right;\n",
       "    }\n",
       "</style>\n",
       "<table border=\"1\" class=\"dataframe\">\n",
       "  <thead>\n",
       "    <tr style=\"text-align: right;\">\n",
       "      <th></th>\n",
       "      <th>count</th>\n",
       "      <th>mean</th>\n",
       "      <th>std</th>\n",
       "      <th>min</th>\n",
       "      <th>25%</th>\n",
       "      <th>50%</th>\n",
       "      <th>75%</th>\n",
       "      <th>max</th>\n",
       "    </tr>\n",
       "    <tr>\n",
       "      <th>LOH</th>\n",
       "      <th></th>\n",
       "      <th></th>\n",
       "      <th></th>\n",
       "      <th></th>\n",
       "      <th></th>\n",
       "      <th></th>\n",
       "      <th></th>\n",
       "      <th></th>\n",
       "    </tr>\n",
       "  </thead>\n",
       "  <tbody>\n",
       "    <tr>\n",
       "      <th>False</th>\n",
       "      <td>339.0</td>\n",
       "      <td>327.215339</td>\n",
       "      <td>669.417377</td>\n",
       "      <td>12.0</td>\n",
       "      <td>68.0</td>\n",
       "      <td>120.0</td>\n",
       "      <td>275.5</td>\n",
       "      <td>6957.0</td>\n",
       "    </tr>\n",
       "    <tr>\n",
       "      <th>True</th>\n",
       "      <td>139.0</td>\n",
       "      <td>333.352518</td>\n",
       "      <td>599.075796</td>\n",
       "      <td>1.0</td>\n",
       "      <td>77.0</td>\n",
       "      <td>131.0</td>\n",
       "      <td>291.0</td>\n",
       "      <td>4286.0</td>\n",
       "    </tr>\n",
       "  </tbody>\n",
       "</table>\n",
       "</div>"
      ],
      "text/plain": [
       "       count        mean         std   min   25%    50%    75%     max\n",
       "LOH                                                                   \n",
       "False  339.0  327.215339  669.417377  12.0  68.0  120.0  275.5  6957.0\n",
       "True   139.0  333.352518  599.075796   1.0  77.0  131.0  291.0  4286.0"
      ]
     },
     "execution_count": 42,
     "metadata": {},
     "output_type": "execute_result"
    }
   ],
   "source": [
    "loh_df_patient.groupby('LOH').describe()['Potential_neoantigens']"
   ]
  },
  {
   "cell_type": "code",
   "execution_count": 43,
   "metadata": {},
   "outputs": [
    {
     "data": {
      "text/plain": [
       "0.249"
      ]
     },
     "execution_count": 43,
     "metadata": {},
     "output_type": "execute_result"
    }
   ],
   "source": [
    "round(sp.mannwhitneyu(list(loh_df_patient[(loh_df_patient.LOH)].Potential_neoantigens),\n",
    "                list(loh_df_patient[(~loh_df_patient.LOH)].Potential_neoantigens))[1], 3)\n",
    "    "
   ]
  },
  {
   "cell_type": "code",
   "execution_count": 44,
   "metadata": {},
   "outputs": [
    {
     "name": "stdout",
     "output_type": "stream",
     "text": [
      "NSCLC_adenocarcinoma 2.574\n",
      "Colorectal 1.899\n",
      "Melanoma 0.513\n",
      "Kidney_RCC 0.72\n",
      "Breast 0.243\n",
      "Pancreatic 2.97\n",
      "Head_Neck 2.079\n",
      "Bladder 1.8090000000000002\n",
      "NSCLC_SCC 2.781\n"
     ]
    }
   ],
   "source": [
    "for cancer_type in tt_with_g10_loh:\n",
    "    p_value = round(sp.mannwhitneyu(list(loh_df_patient[(loh_df_patient.LOH)&(loh_df_patient.Cancer_type == cancer_type)].Potential_neoantigens),\n",
    "                   list(loh_df_patient[(~loh_df_patient.LOH)&(loh_df_patient.Cancer_type == cancer_type)].Potential_neoantigens))[1], 3)\n",
    "    print(cancer_type, p_value*len(tt_with_g10_loh))\n",
    "    "
   ]
  },
  {
   "cell_type": "markdown",
   "metadata": {},
   "source": [
    "Neoantigens"
   ]
  },
  {
   "cell_type": "code",
   "execution_count": 45,
   "metadata": {},
   "outputs": [
    {
     "data": {
      "text/plain": [
       "0.249"
      ]
     },
     "execution_count": 45,
     "metadata": {},
     "output_type": "execute_result"
    }
   ],
   "source": [
    "round(sp.mannwhitneyu(list(loh_df_patient[(loh_df_patient.LOH)].Potential_neoantigens),\n",
    "                list(loh_df_patient[(~loh_df_patient.LOH)].Potential_neoantigens))[1], 3)\n",
    "    "
   ]
  },
  {
   "cell_type": "code",
   "execution_count": 46,
   "metadata": {},
   "outputs": [
    {
     "name": "stdout",
     "output_type": "stream",
     "text": [
      "NSCLC_adenocarcinoma 2.574\n",
      "Colorectal 1.899\n",
      "Melanoma 0.513\n",
      "Kidney_RCC 0.72\n",
      "Breast 0.243\n",
      "Pancreatic 2.97\n",
      "Head_Neck 2.079\n",
      "Bladder 1.8090000000000002\n",
      "NSCLC_SCC 2.781\n"
     ]
    }
   ],
   "source": [
    "for cancer_type in tt_with_g10_loh:\n",
    "    p_value = round(sp.mannwhitneyu(list(loh_df_patient[(loh_df_patient.LOH)&(loh_df_patient.Cancer_type == cancer_type)].Potential_neoantigens),\n",
    "                   list(loh_df_patient[(~loh_df_patient.LOH)&(loh_df_patient.Cancer_type == cancer_type)].Potential_neoantigens))[1], 3)\n",
    "    print(cancer_type, p_value*len(tt_with_g10_loh))\n",
    "    "
   ]
  },
  {
   "cell_type": "markdown",
   "metadata": {},
   "source": [
    "### Statstical test: are neoantigens allele-associated?"
   ]
  },
  {
   "cell_type": "code",
   "execution_count": 47,
   "metadata": {},
   "outputs": [],
   "source": [
    "def get_sherpa_allele(x):\n",
    "    try:\n",
    "        return 'HLA-{0}{1}:{2}'.format(x.split('_')[1].upper(), x.split('_')[2], x.split('_')[3])\n",
    "    except:\n",
    "        return x"
   ]
  },
  {
   "cell_type": "code",
   "execution_count": 48,
   "metadata": {},
   "outputs": [],
   "source": [
    "as_hla_loh_df = pd.read_csv('/rnd/users/rpyke/data/00-DASH/tmp/nextdb_results.from_notebook.csv',\n",
    "                        index_col=0)\n"
   ]
  },
  {
   "cell_type": "code",
   "execution_count": 49,
   "metadata": {},
   "outputs": [],
   "source": [
    "as_hla_loh_df = as_hla_loh_df[~as_hla_loh_df['sample'].str.contains('Post')]"
   ]
  },
  {
   "cell_type": "code",
   "execution_count": 50,
   "metadata": {},
   "outputs": [],
   "source": [
    "as_hla_loh_df_with_loh = as_hla_loh_df[as_hla_loh_df.dash_deletion][['hla_locus', 'sample']].drop_duplicates()"
   ]
  },
  {
   "cell_type": "code",
   "execution_count": 51,
   "metadata": {},
   "outputs": [],
   "source": [
    "as_hla_loh_df['sherpa_allele'] = as_hla_loh_df['dash_allele'].apply(get_sherpa_allele)"
   ]
  },
  {
   "cell_type": "code",
   "execution_count": 52,
   "metadata": {},
   "outputs": [
    {
     "data": {
      "text/html": [
       "<div>\n",
       "<style scoped>\n",
       "    .dataframe tbody tr th:only-of-type {\n",
       "        vertical-align: middle;\n",
       "    }\n",
       "\n",
       "    .dataframe tbody tr th {\n",
       "        vertical-align: top;\n",
       "    }\n",
       "\n",
       "    .dataframe thead th {\n",
       "        text-align: right;\n",
       "    }\n",
       "</style>\n",
       "<table border=\"1\" class=\"dataframe\">\n",
       "  <thead>\n",
       "    <tr style=\"text-align: right;\">\n",
       "      <th></th>\n",
       "      <th>hla_locus</th>\n",
       "      <th>hla_locus_cntr</th>\n",
       "      <th>dash_allele</th>\n",
       "      <th>hla_assign_allele</th>\n",
       "      <th>purity</th>\n",
       "      <th>ploidy</th>\n",
       "      <th>alternate_copy_number</th>\n",
       "      <th>alternate_allelic_imbalance</th>\n",
       "      <th>alternate_deletion</th>\n",
       "      <th>dash_r</th>\n",
       "      <th>dash_adj_baf</th>\n",
       "      <th>dash_deletion</th>\n",
       "      <th>sequenza_majors</th>\n",
       "      <th>sequenza_minors</th>\n",
       "      <th>percentage_coverage</th>\n",
       "      <th>prediction_probability</th>\n",
       "      <th>sample</th>\n",
       "      <th>gene</th>\n",
       "      <th>Dash_Loss_Ext</th>\n",
       "      <th>sherpa_allele</th>\n",
       "    </tr>\n",
       "  </thead>\n",
       "  <tbody>\n",
       "    <tr>\n",
       "      <th>0</th>\n",
       "      <td>A</td>\n",
       "      <td>1</td>\n",
       "      <td>hla_a_02_01_01_01</td>\n",
       "      <td>A*02:01:01:01</td>\n",
       "      <td>0.18</td>\n",
       "      <td>3</td>\n",
       "      <td>-</td>\n",
       "      <td>-</td>\n",
       "      <td>False</td>\n",
       "      <td>-</td>\n",
       "      <td>-</td>\n",
       "      <td>False</td>\n",
       "      <td>3.0</td>\n",
       "      <td>3.0</td>\n",
       "      <td>0.0</td>\n",
       "      <td>-1.0</td>\n",
       "      <td>DNA_616924PT2</td>\n",
       "      <td>A</td>\n",
       "      <td>0</td>\n",
       "      <td>HLA-A02:01</td>\n",
       "    </tr>\n",
       "    <tr>\n",
       "      <th>1</th>\n",
       "      <td>A</td>\n",
       "      <td>2</td>\n",
       "      <td>hla_a_02_07_01</td>\n",
       "      <td>A*02:07:01</td>\n",
       "      <td>0.18</td>\n",
       "      <td>3</td>\n",
       "      <td>-</td>\n",
       "      <td>-</td>\n",
       "      <td>False</td>\n",
       "      <td>-</td>\n",
       "      <td>-</td>\n",
       "      <td>False</td>\n",
       "      <td>3.0</td>\n",
       "      <td>3.0</td>\n",
       "      <td>0.0</td>\n",
       "      <td>-1.0</td>\n",
       "      <td>DNA_616924PT2</td>\n",
       "      <td>A</td>\n",
       "      <td>0</td>\n",
       "      <td>HLA-A02:07</td>\n",
       "    </tr>\n",
       "    <tr>\n",
       "      <th>2</th>\n",
       "      <td>B</td>\n",
       "      <td>1</td>\n",
       "      <td>hla_b_15_02_01</td>\n",
       "      <td>B*15:02:01</td>\n",
       "      <td>0.18</td>\n",
       "      <td>3</td>\n",
       "      <td>-</td>\n",
       "      <td>-</td>\n",
       "      <td>False</td>\n",
       "      <td>-</td>\n",
       "      <td>-</td>\n",
       "      <td>False</td>\n",
       "      <td>3.0</td>\n",
       "      <td>3.0</td>\n",
       "      <td>0.0</td>\n",
       "      <td>-1.0</td>\n",
       "      <td>DNA_616924PT2</td>\n",
       "      <td>B</td>\n",
       "      <td>0</td>\n",
       "      <td>HLA-B15:02</td>\n",
       "    </tr>\n",
       "    <tr>\n",
       "      <th>3</th>\n",
       "      <td>B</td>\n",
       "      <td>2</td>\n",
       "      <td>hla_b_15_02_01</td>\n",
       "      <td>B*15:02:01</td>\n",
       "      <td>0.18</td>\n",
       "      <td>3</td>\n",
       "      <td>-</td>\n",
       "      <td>-</td>\n",
       "      <td>False</td>\n",
       "      <td>-</td>\n",
       "      <td>-</td>\n",
       "      <td>False</td>\n",
       "      <td>3.0</td>\n",
       "      <td>3.0</td>\n",
       "      <td>0.0</td>\n",
       "      <td>-1.0</td>\n",
       "      <td>DNA_616924PT2</td>\n",
       "      <td>B</td>\n",
       "      <td>0</td>\n",
       "      <td>HLA-B15:02</td>\n",
       "    </tr>\n",
       "    <tr>\n",
       "      <th>4</th>\n",
       "      <td>C</td>\n",
       "      <td>1</td>\n",
       "      <td>hla_c_08_01_01</td>\n",
       "      <td>C*08:01:01</td>\n",
       "      <td>0.18</td>\n",
       "      <td>3</td>\n",
       "      <td>-</td>\n",
       "      <td>-</td>\n",
       "      <td>False</td>\n",
       "      <td>-</td>\n",
       "      <td>-</td>\n",
       "      <td>False</td>\n",
       "      <td>3.0</td>\n",
       "      <td>3.0</td>\n",
       "      <td>0.0</td>\n",
       "      <td>-1.0</td>\n",
       "      <td>DNA_616924PT2</td>\n",
       "      <td>C</td>\n",
       "      <td>0</td>\n",
       "      <td>HLA-C08:01</td>\n",
       "    </tr>\n",
       "  </tbody>\n",
       "</table>\n",
       "</div>"
      ],
      "text/plain": [
       "  hla_locus  hla_locus_cntr        dash_allele hla_assign_allele  purity  \\\n",
       "0         A               1  hla_a_02_01_01_01     A*02:01:01:01    0.18   \n",
       "1         A               2     hla_a_02_07_01        A*02:07:01    0.18   \n",
       "2         B               1     hla_b_15_02_01        B*15:02:01    0.18   \n",
       "3         B               2     hla_b_15_02_01        B*15:02:01    0.18   \n",
       "4         C               1     hla_c_08_01_01        C*08:01:01    0.18   \n",
       "\n",
       "   ploidy alternate_copy_number alternate_allelic_imbalance  \\\n",
       "0       3                     -                           -   \n",
       "1       3                     -                           -   \n",
       "2       3                     -                           -   \n",
       "3       3                     -                           -   \n",
       "4       3                     -                           -   \n",
       "\n",
       "   alternate_deletion dash_r dash_adj_baf  dash_deletion  sequenza_majors  \\\n",
       "0               False      -            -          False              3.0   \n",
       "1               False      -            -          False              3.0   \n",
       "2               False      -            -          False              3.0   \n",
       "3               False      -            -          False              3.0   \n",
       "4               False      -            -          False              3.0   \n",
       "\n",
       "   sequenza_minors  percentage_coverage  prediction_probability  \\\n",
       "0              3.0                  0.0                    -1.0   \n",
       "1              3.0                  0.0                    -1.0   \n",
       "2              3.0                  0.0                    -1.0   \n",
       "3              3.0                  0.0                    -1.0   \n",
       "4              3.0                  0.0                    -1.0   \n",
       "\n",
       "          sample gene  Dash_Loss_Ext sherpa_allele  \n",
       "0  DNA_616924PT2    A              0    HLA-A02:01  \n",
       "1  DNA_616924PT2    A              0    HLA-A02:07  \n",
       "2  DNA_616924PT2    B              0    HLA-B15:02  \n",
       "3  DNA_616924PT2    B              0    HLA-B15:02  \n",
       "4  DNA_616924PT2    C              0    HLA-C08:01  "
      ]
     },
     "execution_count": 52,
     "metadata": {},
     "output_type": "execute_result"
    }
   ],
   "source": [
    "as_hla_loh_df.head()"
   ]
  },
  {
   "cell_type": "code",
   "execution_count": 53,
   "metadata": {},
   "outputs": [
    {
     "name": "stderr",
     "output_type": "stream",
     "text": [
      "Columns (4,12) have mixed types. Specify dtype option on import or set low_memory=False.\n"
     ]
    },
    {
     "name": "stdout",
     "output_type": "stream",
     "text": [
      "DNA_23-T\n",
      "DNA_23-T\n",
      "DNA_23-T\n",
      "DNA_S000443727\n",
      "DNA_S000443727\n",
      "DNA_S000443727\n",
      "DNA_6-T\n",
      "DNA_8-T\n",
      "DNA_8-T\n",
      "DNA_8-T\n",
      "DNA_NM00400014\n",
      "DNA_NM00400014\n",
      "DNA_NM00400014\n",
      "DNA_INST1419-OH007-00002_TUMOR\n",
      "DNA_INST1419-OH007-00002_TUMOR\n",
      "DNA_INST1419-OH007-00002_TUMOR\n",
      "DNA_INST1419-NM020-00008_TUMOR\n",
      "DNA_INST1419-VA009-00003_TUMOR\n",
      "DNA_S000439058\n",
      "DNA_S000439058\n",
      "DNA_2NHVSAZI\n",
      "DNA_2NHVSAZI\n",
      "DNA_2NHVSAZI\n",
      "DNA_INST1419-NM004-00013_TUMOR\n",
      "DNA_INST1419-NM004-00013_TUMOR\n",
      "DNA_22-T\n",
      "DNA_22-T\n",
      "DNA_22-T\n",
      "DNA_NM00400008\n",
      "DNA_NM00400008\n",
      "DNA_INST1419-VA009-00005_TUMOR\n",
      "DNA_1171817B\n",
      "DNA_246430\n",
      "DNA_246430\n",
      "DNA_24-T\n",
      "DNA_24-T\n",
      "DNA_ILS32232PD4\n",
      "DNA_ILS32232PD4\n",
      "DNA_ILS32232PD4\n",
      "DNA_ILS44517PT6-1\n",
      "DNA_ILS44517PT6-1\n",
      "DNA_ILS44517PT6-1\n",
      "DNA_8472\n",
      "DNA_8472\n",
      "DNA_Inova_021_B\n",
      "DNA_Inova_021_B\n",
      "DNA_Inova_021_B\n",
      "DNA_INST1419-VA009-00007_TUMOR\n",
      "DNA_INST1419-VA009-00007_TUMOR\n",
      "DNA_INST1419-VA009-00007_TUMOR\n",
      "DNA_ILS32847PD9\n",
      "DNA_ILS32847PD9\n",
      "DNA_ILS32847PD9\n"
     ]
    }
   ],
   "source": [
    "# for patient, gene combination with LOH:\n",
    "model = 'BINDING'\n",
    "kept_neos, lost_neos, sample_neos, tt_neos = [], [], [], []\n",
    "for sample, gene in zip(list(as_hla_loh_df_with_loh['sample'][:]),\n",
    "                        list(as_hla_loh_df_with_loh.hla_locus)[:]):\n",
    "    try:\n",
    "        if len(as_hla_loh_df[(as_hla_loh_df['sample'] == sample)&\n",
    "                             (as_hla_loh_df.hla_locus == gene)&(as_hla_loh_df.dash_deletion)]) == 1:\n",
    "            # Get the lost and kept alleles\n",
    "            lost_allele = list(as_hla_loh_df[(as_hla_loh_df['sample'] == sample)&\n",
    "                                             (as_hla_loh_df.hla_locus == gene)&\n",
    "                                             (as_hla_loh_df.dash_deletion)].sherpa_allele)[0]\n",
    "            kept_allele = list(as_hla_loh_df[(as_hla_loh_df['sample'] == sample)&\n",
    "                                             (as_hla_loh_df.hla_locus == gene)&\n",
    "                                             (~as_hla_loh_df.dash_deletion)].sherpa_allele)[0]\n",
    "            #print(lost_allele, kept_allele)\n",
    "\n",
    "            # Number of neoantigens for kept and lost alleles\n",
    "            neo_df = pd.read_csv('/rnd/users/rpyke/data/03-public_MS/applications/NeXTDB/merged_output/{0}.{1}.all.tab'.format(sample, model), \n",
    "                         sep='\\t')\n",
    "            tt_neos.append(list(loh_df_patient[loh_df_patient.Sample_y == sample].Cancer_type)[0])\n",
    "            kept_neos.append(len(neo_df[(neo_df.allele == kept_allele)&(neo_df.sherpa_calibrated < 0.5)]))\n",
    "            lost_neos.append(len(neo_df[(neo_df.allele == lost_allele)&(neo_df.sherpa_calibrated < 0.5)]))\n",
    "            sample_neos.append(sample)\n",
    "    except:\n",
    "        print(sample)"
   ]
  },
  {
   "cell_type": "code",
   "execution_count": 54,
   "metadata": {
    "scrolled": true
   },
   "outputs": [
    {
     "data": {
      "text/plain": [
       "(266, 266, 266, 266)"
      ]
     },
     "execution_count": 54,
     "metadata": {},
     "output_type": "execute_result"
    }
   ],
   "source": [
    "len(kept_neos), len(lost_neos), len(sample_neos), len(tt_neos)"
   ]
  },
  {
   "cell_type": "code",
   "execution_count": 55,
   "metadata": {},
   "outputs": [
    {
     "name": "stderr",
     "output_type": "stream",
     "text": [
      "divide by zero encountered in log\n"
     ]
    }
   ],
   "source": [
    "neo_selection_df = pd.DataFrame({'Neoepitopes': kept_neos + lost_neos,\n",
    "             'Allele Status': ['Kept' for x in kept_neos] + ['Lost' for x in lost_neos],\n",
    "             'Patient': sample_neos + sample_neos,\n",
    "            'Cancer_type': tt_neos + tt_neos})\n",
    "\n",
    "neo_selection_df_ref = pd.merge(neo_selection_df[neo_selection_df['Allele Status'] == 'Kept'][['Patient', 'Cancer_type', 'Neoepitopes']],\n",
    "         neo_selection_df[neo_selection_df['Allele Status'] == 'Lost'][['Patient', 'Neoepitopes']],\n",
    "         on=['Patient'])\n",
    "\n",
    "neo_selection_df_ref = neo_selection_df_ref.rename(columns={'Neoepitopes_x': 'Neoepitopes_Kept', 'Neoepitopes_y': 'Neoepitopes_Lost'})\n",
    "\n",
    "neo_selection_df_ref['Ratio'] = np.log(neo_selection_df_ref.Neoepitopes_Lost / neo_selection_df_ref.Neoepitopes_Kept)"
   ]
  },
  {
   "cell_type": "code",
   "execution_count": 56,
   "metadata": {},
   "outputs": [
    {
     "data": {
      "text/html": [
       "<div>\n",
       "<style scoped>\n",
       "    .dataframe tbody tr th:only-of-type {\n",
       "        vertical-align: middle;\n",
       "    }\n",
       "\n",
       "    .dataframe tbody tr th {\n",
       "        vertical-align: top;\n",
       "    }\n",
       "\n",
       "    .dataframe thead tr th {\n",
       "        text-align: left;\n",
       "    }\n",
       "\n",
       "    .dataframe thead tr:last-of-type th {\n",
       "        text-align: right;\n",
       "    }\n",
       "</style>\n",
       "<table border=\"1\" class=\"dataframe\">\n",
       "  <thead>\n",
       "    <tr>\n",
       "      <th></th>\n",
       "      <th colspan=\"8\" halign=\"left\">Neoepitopes</th>\n",
       "    </tr>\n",
       "    <tr>\n",
       "      <th></th>\n",
       "      <th>count</th>\n",
       "      <th>mean</th>\n",
       "      <th>std</th>\n",
       "      <th>min</th>\n",
       "      <th>25%</th>\n",
       "      <th>50%</th>\n",
       "      <th>75%</th>\n",
       "      <th>max</th>\n",
       "    </tr>\n",
       "    <tr>\n",
       "      <th>Allele Status</th>\n",
       "      <th></th>\n",
       "      <th></th>\n",
       "      <th></th>\n",
       "      <th></th>\n",
       "      <th></th>\n",
       "      <th></th>\n",
       "      <th></th>\n",
       "      <th></th>\n",
       "    </tr>\n",
       "  </thead>\n",
       "  <tbody>\n",
       "    <tr>\n",
       "      <th>Kept</th>\n",
       "      <td>266.0</td>\n",
       "      <td>61.199248</td>\n",
       "      <td>93.651390</td>\n",
       "      <td>0.0</td>\n",
       "      <td>15.0</td>\n",
       "      <td>28.0</td>\n",
       "      <td>61.75</td>\n",
       "      <td>521.0</td>\n",
       "    </tr>\n",
       "    <tr>\n",
       "      <th>Lost</th>\n",
       "      <td>266.0</td>\n",
       "      <td>62.947368</td>\n",
       "      <td>96.273966</td>\n",
       "      <td>0.0</td>\n",
       "      <td>16.0</td>\n",
       "      <td>30.0</td>\n",
       "      <td>59.00</td>\n",
       "      <td>503.0</td>\n",
       "    </tr>\n",
       "  </tbody>\n",
       "</table>\n",
       "</div>"
      ],
      "text/plain": [
       "              Neoepitopes                                                     \n",
       "                    count       mean        std  min   25%   50%    75%    max\n",
       "Allele Status                                                                 \n",
       "Kept                266.0  61.199248  93.651390  0.0  15.0  28.0  61.75  521.0\n",
       "Lost                266.0  62.947368  96.273966  0.0  16.0  30.0  59.00  503.0"
      ]
     },
     "execution_count": 56,
     "metadata": {},
     "output_type": "execute_result"
    }
   ],
   "source": [
    "neo_selection_df.groupby('Allele Status').describe()"
   ]
  },
  {
   "cell_type": "code",
   "execution_count": 57,
   "metadata": {},
   "outputs": [
    {
     "data": {
      "text/plain": [
       "WilcoxonResult(statistic=13760.0, pvalue=0.04770102653292504)"
      ]
     },
     "execution_count": 57,
     "metadata": {},
     "output_type": "execute_result"
    }
   ],
   "source": [
    "sp.wilcoxon(list(neo_selection_df[neo_selection_df['Allele Status'] == 'Kept'].Neoepitopes),\n",
    "               list(neo_selection_df[neo_selection_df['Allele Status'] == 'Lost'].Neoepitopes))"
   ]
  },
  {
   "cell_type": "code",
   "execution_count": 59,
   "metadata": {},
   "outputs": [
    {
     "name": "stdout",
     "output_type": "stream",
     "text": [
      "NSCLC_adenocarcinoma 0.042\n",
      "Colorectal 0.524\n",
      "Melanoma 0.42\n",
      "Kidney_RCC 0.286\n",
      "Breast 0.67\n",
      "Pancreatic 0.829\n",
      "Head_Neck 0.919\n",
      "Bladder 0.041\n",
      "NSCLC_SCC 0.575\n"
     ]
    }
   ],
   "source": [
    "for cancer_type in tt_with_g10_loh:\n",
    "    print(cancer_type, round(sp.wilcoxon(list(neo_selection_df[(neo_selection_df.Cancer_type == cancer_type)&(neo_selection_df['Allele Status'] == 'Kept')].Neoepitopes),\n",
    "               list(neo_selection_df[(neo_selection_df.Cancer_type == cancer_type)&(neo_selection_df['Allele Status'] == 'Lost')].Neoepitopes))[1], 3))"
   ]
  },
  {
   "cell_type": "code",
   "execution_count": null,
   "metadata": {},
   "outputs": [],
   "source": []
  },
  {
   "cell_type": "code",
   "execution_count": null,
   "metadata": {},
   "outputs": [],
   "source": []
  }
 ],
 "metadata": {
  "kernelspec": {
   "display_name": "Python 3",
   "language": "python",
   "name": "python3"
  },
  "language_info": {
   "codemirror_mode": {
    "name": "ipython",
    "version": 3
   },
   "file_extension": ".py",
   "mimetype": "text/x-python",
   "name": "python",
   "nbconvert_exporter": "python",
   "pygments_lexer": "ipython3",
   "version": "3.7.3"
  }
 },
 "nbformat": 4,
 "nbformat_minor": 2
}
