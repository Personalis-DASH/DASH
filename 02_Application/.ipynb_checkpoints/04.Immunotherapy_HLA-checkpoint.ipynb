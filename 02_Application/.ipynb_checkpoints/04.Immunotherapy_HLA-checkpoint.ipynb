{
 "cells": [
  {
   "cell_type": "code",
   "execution_count": 1,
   "metadata": {},
   "outputs": [],
   "source": [
    "%run ../../bin/imports.ipynb"
   ]
  },
  {
   "cell_type": "markdown",
   "metadata": {},
   "source": [
    "TODO: Need to update once collaborations data has been moved to SC"
   ]
  },
  {
   "cell_type": "markdown",
   "metadata": {},
   "source": [
    "### Looking for interesting biology in pre/post immunotherapy data"
   ]
  },
  {
   "cell_type": "code",
   "execution_count": 3,
   "metadata": {},
   "outputs": [],
   "source": [
    "# Get Stanford-sunwoo samples\n",
    "samples_df = pd.read_csv('/rnd/users/rpyke/data/00-DASH/data/readdata.input_df.stanford_sunwoo.csv', index_col=0)"
   ]
  },
  {
   "cell_type": "code",
   "execution_count": 4,
   "metadata": {
    "scrolled": true
   },
   "outputs": [
    {
     "name": "stdout",
     "output_type": "stream",
     "text": [
      "Number of samples:  16\n",
      "Number of patients:  9\n"
     ]
    }
   ],
   "source": [
    "print(\"Number of samples: \", len(samples_df.sample_name_tumor))\n",
    "print(\"Number of patients: \", len(samples_df.sample_name_tumor.str.split('_').str[0].unique()))"
   ]
  },
  {
   "cell_type": "code",
   "execution_count": 5,
   "metadata": {},
   "outputs": [],
   "source": [
    "patients = samples_df.sample_name_tumor.str.split('_').str[0].unique()"
   ]
  },
  {
   "cell_type": "markdown",
   "metadata": {},
   "source": [
    "Get LOH status"
   ]
  },
  {
   "cell_type": "code",
   "execution_count": 6,
   "metadata": {},
   "outputs": [],
   "source": [
    "results = pd.read_csv('/rnd/users/rpyke/data/00-DASH/data/pipeline_results.stanford_sunwoo.extended.csv', index_col=0)"
   ]
  },
  {
   "cell_type": "code",
   "execution_count": 7,
   "metadata": {
    "scrolled": true
   },
   "outputs": [
    {
     "data": {
      "text/plain": [
       "array(['40425-0013_Post_Tumor_DNA', '40425-0008_Post_Tumor_DNA',\n",
       "       '40425-0009_Pre_Tumor_DNA', '40425-0002_Pre_TumorDNA_ACE3',\n",
       "       '40425-0013_Pre_Tumor_DNA', '40425-0002_Post_Tumor_DNA',\n",
       "       '40425-0008_Pre_Tumor_DNA', '40425-0009_Post_Tumor_DNA'],\n",
       "      dtype=object)"
      ]
     },
     "execution_count": 7,
     "metadata": {},
     "output_type": "execute_result"
    }
   ],
   "source": [
    "results[results.DASH_prediction]['sample'].unique()"
   ]
  },
  {
   "cell_type": "code",
   "execution_count": 8,
   "metadata": {},
   "outputs": [],
   "source": [
    "loh_df = results.sort_values('DASH_prediction', ascending=False).drop_duplicates('sample')[['DASH_prediction', 'sample']]\n",
    "loh_df.columns = ['Dash_Loss', 'Sample']"
   ]
  },
  {
   "cell_type": "markdown",
   "metadata": {},
   "source": [
    "Get HLA types + HED"
   ]
  },
  {
   "cell_type": "code",
   "execution_count": 9,
   "metadata": {
    "scrolled": true
   },
   "outputs": [],
   "source": [
    "hla_df = pd.read_csv('/rnd/users/rpyke/data/00-DASH/data/pre-post/HED.csv')"
   ]
  },
  {
   "cell_type": "markdown",
   "metadata": {},
   "source": [
    "Get homozygosity"
   ]
  },
  {
   "cell_type": "code",
   "execution_count": 10,
   "metadata": {},
   "outputs": [],
   "source": [
    "def get_number_unique(x):\n",
    "    return len(set(x.split(\",\")))"
   ]
  },
  {
   "cell_type": "code",
   "execution_count": 11,
   "metadata": {},
   "outputs": [],
   "source": [
    "hla_df['unique_alleles'] = hla_df.Alleles.apply(get_number_unique)"
   ]
  },
  {
   "cell_type": "code",
   "execution_count": 12,
   "metadata": {},
   "outputs": [],
   "source": [
    "merged_df = pd.merge(hla_df, loh_df, on='Sample', how='left')"
   ]
  },
  {
   "cell_type": "code",
   "execution_count": 13,
   "metadata": {},
   "outputs": [],
   "source": [
    "merged_df_pre = merged_df[merged_df.Sample.str.contains('Pre')]"
   ]
  },
  {
   "cell_type": "code",
   "execution_count": 14,
   "metadata": {},
   "outputs": [
    {
     "data": {
      "text/html": [
       "<div>\n",
       "<style scoped>\n",
       "    .dataframe tbody tr th:only-of-type {\n",
       "        vertical-align: middle;\n",
       "    }\n",
       "\n",
       "    .dataframe tbody tr th {\n",
       "        vertical-align: top;\n",
       "    }\n",
       "\n",
       "    .dataframe thead th {\n",
       "        text-align: right;\n",
       "    }\n",
       "</style>\n",
       "<table border=\"1\" class=\"dataframe\">\n",
       "  <thead>\n",
       "    <tr style=\"text-align: right;\">\n",
       "      <th></th>\n",
       "      <th>Sample</th>\n",
       "      <th>HED</th>\n",
       "      <th>Alleles</th>\n",
       "      <th>unique_alleles</th>\n",
       "      <th>Dash_Loss</th>\n",
       "    </tr>\n",
       "  </thead>\n",
       "  <tbody>\n",
       "    <tr>\n",
       "      <th>0</th>\n",
       "      <td>40425-0009_Pre_Tumor_DNA</td>\n",
       "      <td>7.079665</td>\n",
       "      <td>A*33:03,A*02:07,B*58:01,B*51:01,C*14:02,C*03:02</td>\n",
       "      <td>6</td>\n",
       "      <td>True</td>\n",
       "    </tr>\n",
       "    <tr>\n",
       "      <th>2</th>\n",
       "      <td>40425-0002_Pre_TumorDNA_ACE3</td>\n",
       "      <td>7.396226</td>\n",
       "      <td>A*24:02,A*02:01,B*35:03,B*13:02,C*06:02,C*12:03</td>\n",
       "      <td>6</td>\n",
       "      <td>True</td>\n",
       "    </tr>\n",
       "    <tr>\n",
       "      <th>4</th>\n",
       "      <td>40425-0001_Pre_TumorDNA_ACE3</td>\n",
       "      <td>0.477987</td>\n",
       "      <td>A*24:02,A*24:07,B*35:05,B*35:01,C*04:01,C*04:01</td>\n",
       "      <td>5</td>\n",
       "      <td>False</td>\n",
       "    </tr>\n",
       "    <tr>\n",
       "      <th>6</th>\n",
       "      <td>40425-0014_Pre_Tumor_DNA</td>\n",
       "      <td>5.605870</td>\n",
       "      <td>A*01:01,A*03:01,B*07:02,B*55:01,C*07:02,C*03:03</td>\n",
       "      <td>6</td>\n",
       "      <td>False</td>\n",
       "    </tr>\n",
       "    <tr>\n",
       "      <th>8</th>\n",
       "      <td>40425-0008_Pre_Tumor_DNA</td>\n",
       "      <td>4.331237</td>\n",
       "      <td>A*11:01,A*11:01,B*48:01,B*54:01,C*08:01,C*01:02</td>\n",
       "      <td>5</td>\n",
       "      <td>True</td>\n",
       "    </tr>\n",
       "    <tr>\n",
       "      <th>10</th>\n",
       "      <td>40425-0012_Pre_Tumor_DNA</td>\n",
       "      <td>7.234801</td>\n",
       "      <td>A*11:01,A*02:01,B*41:01,B*55:01,C*17:01,C*03:03</td>\n",
       "      <td>6</td>\n",
       "      <td>False</td>\n",
       "    </tr>\n",
       "    <tr>\n",
       "      <th>11</th>\n",
       "      <td>40425-0011_Pre_Tumor_DNA</td>\n",
       "      <td>4.192872</td>\n",
       "      <td>A*02:01,A*02:01,B*40:01,B*44:02,C*05:01,C*03:04</td>\n",
       "      <td>5</td>\n",
       "      <td>False</td>\n",
       "    </tr>\n",
       "    <tr>\n",
       "      <th>14</th>\n",
       "      <td>40425-0013_Pre_Tumor_DNA</td>\n",
       "      <td>6.639413</td>\n",
       "      <td>A*02:01,A*02:01,B*55:01,B*44:03,C*03:03,C*07:06</td>\n",
       "      <td>5</td>\n",
       "      <td>True</td>\n",
       "    </tr>\n",
       "  </tbody>\n",
       "</table>\n",
       "</div>"
      ],
      "text/plain": [
       "                          Sample       HED  \\\n",
       "0       40425-0009_Pre_Tumor_DNA  7.079665   \n",
       "2   40425-0002_Pre_TumorDNA_ACE3  7.396226   \n",
       "4   40425-0001_Pre_TumorDNA_ACE3  0.477987   \n",
       "6       40425-0014_Pre_Tumor_DNA  5.605870   \n",
       "8       40425-0008_Pre_Tumor_DNA  4.331237   \n",
       "10      40425-0012_Pre_Tumor_DNA  7.234801   \n",
       "11      40425-0011_Pre_Tumor_DNA  4.192872   \n",
       "14      40425-0013_Pre_Tumor_DNA  6.639413   \n",
       "\n",
       "                                            Alleles  unique_alleles  Dash_Loss  \n",
       "0   A*33:03,A*02:07,B*58:01,B*51:01,C*14:02,C*03:02               6       True  \n",
       "2   A*24:02,A*02:01,B*35:03,B*13:02,C*06:02,C*12:03               6       True  \n",
       "4   A*24:02,A*24:07,B*35:05,B*35:01,C*04:01,C*04:01               5      False  \n",
       "6   A*01:01,A*03:01,B*07:02,B*55:01,C*07:02,C*03:03               6      False  \n",
       "8   A*11:01,A*11:01,B*48:01,B*54:01,C*08:01,C*01:02               5       True  \n",
       "10  A*11:01,A*02:01,B*41:01,B*55:01,C*17:01,C*03:03               6      False  \n",
       "11  A*02:01,A*02:01,B*40:01,B*44:02,C*05:01,C*03:04               5      False  \n",
       "14  A*02:01,A*02:01,B*55:01,B*44:03,C*03:03,C*07:06               5       True  "
      ]
     },
     "execution_count": 14,
     "metadata": {},
     "output_type": "execute_result"
    }
   ],
   "source": [
    "merged_df_pre"
   ]
  },
  {
   "cell_type": "markdown",
   "metadata": {},
   "source": [
    "Get HLA somatic mutations"
   ]
  },
  {
   "cell_type": "code",
   "execution_count": 15,
   "metadata": {
    "scrolled": true
   },
   "outputs": [
    {
     "data": {
      "text/html": [
       "<div>\n",
       "<style scoped>\n",
       "    .dataframe tbody tr th:only-of-type {\n",
       "        vertical-align: middle;\n",
       "    }\n",
       "\n",
       "    .dataframe tbody tr th {\n",
       "        vertical-align: top;\n",
       "    }\n",
       "\n",
       "    .dataframe thead th {\n",
       "        text-align: right;\n",
       "    }\n",
       "</style>\n",
       "<table border=\"1\" class=\"dataframe\">\n",
       "  <thead>\n",
       "    <tr style=\"text-align: right;\">\n",
       "      <th></th>\n",
       "      <th>cancer_home</th>\n",
       "      <th>neo_home</th>\n",
       "      <th>normal_home</th>\n",
       "      <th>rna_home</th>\n",
       "      <th>sample_name_normal</th>\n",
       "      <th>sample_name_tumor</th>\n",
       "      <th>tcr_home</th>\n",
       "      <th>tumor_home</th>\n",
       "    </tr>\n",
       "  </thead>\n",
       "  <tbody>\n",
       "    <tr>\n",
       "      <th>0</th>\n",
       "      <td>/rnd/Collaboration/Stanford_Sunwoo/Pipeline_Ru...</td>\n",
       "      <td>/rnd/Collaboration/Stanford_Sunwoo/Pipeline_Ru...</td>\n",
       "      <td>/rnd/Collaboration/Stanford_Sunwoo/Pipeline_Ru...</td>\n",
       "      <td>/rnd/Collaboration/Stanford_Sunwoo/Pipeline_Ru...</td>\n",
       "      <td>40425-0009_Post_PBMC_DNA</td>\n",
       "      <td>40425-0009_Pre_Tumor_DNA</td>\n",
       "      <td>-</td>\n",
       "      <td>/rnd/Collaboration/Stanford_Sunwoo/Pipeline_Ru...</td>\n",
       "    </tr>\n",
       "    <tr>\n",
       "      <th>1</th>\n",
       "      <td>/rnd/Collaboration/Stanford_Sunwoo/Pipeline_Ru...</td>\n",
       "      <td>/rnd/Collaboration/Stanford_Sunwoo/Pipeline_Ru...</td>\n",
       "      <td>/rnd/Collaboration/Stanford_Sunwoo/Pipeline_Ru...</td>\n",
       "      <td>/rnd/Collaboration/Stanford_Sunwoo/Pipeline_Ru...</td>\n",
       "      <td>40425-0009_Post_PBMC_DNA</td>\n",
       "      <td>40425-0009_Post_Tumor_DNA</td>\n",
       "      <td>-</td>\n",
       "      <td>/rnd/Collaboration/Stanford_Sunwoo/Pipeline_Ru...</td>\n",
       "    </tr>\n",
       "    <tr>\n",
       "      <th>2</th>\n",
       "      <td>/rnd/Collaboration/Stanford_Sunwoo/Pipeline_Ru...</td>\n",
       "      <td>/rnd/Collaboration/Stanford_Sunwoo/Pipeline_Ru...</td>\n",
       "      <td>/rnd/Collaboration/Stanford_Sunwoo/Pipeline_Ru...</td>\n",
       "      <td>/rnd/Collaboration/Stanford_Sunwoo/Pipeline_Ru...</td>\n",
       "      <td>40425-0002_Pre_PBMC_ACE3</td>\n",
       "      <td>40425-0002_Pre_TumorDNA_ACE3</td>\n",
       "      <td>-</td>\n",
       "      <td>/rnd/Collaboration/Stanford_Sunwoo/Pipeline_Ru...</td>\n",
       "    </tr>\n",
       "    <tr>\n",
       "      <th>3</th>\n",
       "      <td>/rnd/Collaboration/Stanford_Sunwoo/Pipeline_Ru...</td>\n",
       "      <td>/rnd/Collaboration/Stanford_Sunwoo/Pipeline_Ru...</td>\n",
       "      <td>/rnd/Collaboration/Stanford_Sunwoo/Pipeline_Ru...</td>\n",
       "      <td>/rnd/Collaboration/Stanford_Sunwoo/Pipeline_Ru...</td>\n",
       "      <td>40425-0002_Pre_PBMC_ACE3</td>\n",
       "      <td>40425-0002_Post_Tumor_DNA</td>\n",
       "      <td>-</td>\n",
       "      <td>/rnd/Collaboration/Stanford_Sunwoo/Pipeline_Ru...</td>\n",
       "    </tr>\n",
       "    <tr>\n",
       "      <th>4</th>\n",
       "      <td>/rnd/Collaboration/Stanford_Sunwoo/Pipeline_Ru...</td>\n",
       "      <td>/rnd/Collaboration/Stanford_Sunwoo/Pipeline_Ru...</td>\n",
       "      <td>/rnd/Collaboration/Stanford_Sunwoo/Pipeline_Ru...</td>\n",
       "      <td>/rnd/Collaboration/Stanford_Sunwoo/Pipeline_Ru...</td>\n",
       "      <td>40425-0001_Post_PBMC_DNA</td>\n",
       "      <td>40425-0001_Pre_TumorDNA_ACE3</td>\n",
       "      <td>-</td>\n",
       "      <td>/rnd/Collaboration/Stanford_Sunwoo/Pipeline_Ru...</td>\n",
       "    </tr>\n",
       "  </tbody>\n",
       "</table>\n",
       "</div>"
      ],
      "text/plain": [
       "                                         cancer_home  \\\n",
       "0  /rnd/Collaboration/Stanford_Sunwoo/Pipeline_Ru...   \n",
       "1  /rnd/Collaboration/Stanford_Sunwoo/Pipeline_Ru...   \n",
       "2  /rnd/Collaboration/Stanford_Sunwoo/Pipeline_Ru...   \n",
       "3  /rnd/Collaboration/Stanford_Sunwoo/Pipeline_Ru...   \n",
       "4  /rnd/Collaboration/Stanford_Sunwoo/Pipeline_Ru...   \n",
       "\n",
       "                                            neo_home  \\\n",
       "0  /rnd/Collaboration/Stanford_Sunwoo/Pipeline_Ru...   \n",
       "1  /rnd/Collaboration/Stanford_Sunwoo/Pipeline_Ru...   \n",
       "2  /rnd/Collaboration/Stanford_Sunwoo/Pipeline_Ru...   \n",
       "3  /rnd/Collaboration/Stanford_Sunwoo/Pipeline_Ru...   \n",
       "4  /rnd/Collaboration/Stanford_Sunwoo/Pipeline_Ru...   \n",
       "\n",
       "                                         normal_home  \\\n",
       "0  /rnd/Collaboration/Stanford_Sunwoo/Pipeline_Ru...   \n",
       "1  /rnd/Collaboration/Stanford_Sunwoo/Pipeline_Ru...   \n",
       "2  /rnd/Collaboration/Stanford_Sunwoo/Pipeline_Ru...   \n",
       "3  /rnd/Collaboration/Stanford_Sunwoo/Pipeline_Ru...   \n",
       "4  /rnd/Collaboration/Stanford_Sunwoo/Pipeline_Ru...   \n",
       "\n",
       "                                            rna_home  \\\n",
       "0  /rnd/Collaboration/Stanford_Sunwoo/Pipeline_Ru...   \n",
       "1  /rnd/Collaboration/Stanford_Sunwoo/Pipeline_Ru...   \n",
       "2  /rnd/Collaboration/Stanford_Sunwoo/Pipeline_Ru...   \n",
       "3  /rnd/Collaboration/Stanford_Sunwoo/Pipeline_Ru...   \n",
       "4  /rnd/Collaboration/Stanford_Sunwoo/Pipeline_Ru...   \n",
       "\n",
       "         sample_name_normal             sample_name_tumor tcr_home  \\\n",
       "0  40425-0009_Post_PBMC_DNA      40425-0009_Pre_Tumor_DNA        -   \n",
       "1  40425-0009_Post_PBMC_DNA     40425-0009_Post_Tumor_DNA        -   \n",
       "2  40425-0002_Pre_PBMC_ACE3  40425-0002_Pre_TumorDNA_ACE3        -   \n",
       "3  40425-0002_Pre_PBMC_ACE3     40425-0002_Post_Tumor_DNA        -   \n",
       "4  40425-0001_Post_PBMC_DNA  40425-0001_Pre_TumorDNA_ACE3        -   \n",
       "\n",
       "                                          tumor_home  \n",
       "0  /rnd/Collaboration/Stanford_Sunwoo/Pipeline_Ru...  \n",
       "1  /rnd/Collaboration/Stanford_Sunwoo/Pipeline_Ru...  \n",
       "2  /rnd/Collaboration/Stanford_Sunwoo/Pipeline_Ru...  \n",
       "3  /rnd/Collaboration/Stanford_Sunwoo/Pipeline_Ru...  \n",
       "4  /rnd/Collaboration/Stanford_Sunwoo/Pipeline_Ru...  "
      ]
     },
     "execution_count": 15,
     "metadata": {},
     "output_type": "execute_result"
    }
   ],
   "source": [
    "samples_df.head()"
   ]
  },
  {
   "cell_type": "code",
   "execution_count": 16,
   "metadata": {},
   "outputs": [
    {
     "name": "stdout",
     "output_type": "stream",
     "text": [
      "6 /rnd/Collaboration/Stanford_Sunwoo/Pipeline_Runs/40425-0014/Pre_Tumor_Neoantigen\n",
      "['MODIFIER||118|c.-118C>T|362|gene_hla_b_07_02_01|protein_coding|CODING|rna_hla_b_07_02_01||T),intergenic_region']\n",
      "11 /rnd/Collaboration/Stanford_Sunwoo/Pipeline_Runs/40425-0011/Pre_Tumor_Neoantigen\n",
      "['HIGH|NONSENSE|Cga/Tga|p.Arg7*/c.19C>T|362|gene_hla_b_40_01_02|protein_coding|CODING|rna_hla_b_40_01_02|1|T);LOF=']\n",
      "No Neo Directory 40425-0011_Post_Tumor_DNA\n"
     ]
    }
   ],
   "source": [
    "all_samples, all_mutations = [], []\n",
    "for i in range(len(samples_df)):\n",
    "    base = samples_df.loc[i, 'neo_home']\n",
    "    sample = samples_df.loc[i, 'sample_name_tumor']\n",
    "    try:\n",
    "        df = pd.read_csv('{0}/Polysolver/hla_mutations.merged.vcf'.format(base), skiprows=73, sep='\\t')\n",
    "\n",
    "        if len(df) > 0:\n",
    "            df = pd.read_csv('{0}/Polysolver/AnnoL/hla_mutations.merged.snpeff.vcf'.format(base), skiprows=78, sep='\\t')\n",
    "            if len(df) > 0:\n",
    "                #print(df)\n",
    "                print(i, base)\n",
    "                print(list(df['INFO'].str.split('EFF').str[1].str.split(\"(\").str[1]))\n",
    "            all_mutations.append(True)\n",
    "            all_samples.append(sample)\n",
    "        else:\n",
    "            all_mutations.append(False)\n",
    "            all_samples.append(sample)\n",
    "                \n",
    "    except:\n",
    "        print('No Neo Directory', samples_df.loc[i, 'sample_name_tumor'])\n",
    "        all_mutations.append(False)\n",
    "        all_samples.append(sample)\n",
    "        "
   ]
  },
  {
   "cell_type": "code",
   "execution_count": 17,
   "metadata": {},
   "outputs": [],
   "source": [
    "mutation_df = pd.DataFrame({'Sample': all_samples, 'Somatic_mutation': all_mutations})"
   ]
  },
  {
   "cell_type": "code",
   "execution_count": 18,
   "metadata": {},
   "outputs": [],
   "source": [
    "merged_df = pd.merge(merged_df, mutation_df, on='Sample', how='left')"
   ]
  },
  {
   "cell_type": "markdown",
   "metadata": {},
   "source": [
    "Get B2M LOH"
   ]
  },
  {
   "cell_type": "code",
   "execution_count": 19,
   "metadata": {},
   "outputs": [],
   "source": [
    "base = samples_df.loc[i, 'cancer_home']\n",
    "sample = samples_df.loc[i, 'sample_name_tumor']"
   ]
  },
  {
   "cell_type": "code",
   "execution_count": 20,
   "metadata": {},
   "outputs": [
    {
     "data": {
      "text/plain": [
       "(16, 16)"
      ]
     },
     "execution_count": 20,
     "metadata": {},
     "output_type": "execute_result"
    }
   ],
   "source": [
    "len(merged_df), len(samples_df)"
   ]
  },
  {
   "cell_type": "code",
   "execution_count": 21,
   "metadata": {},
   "outputs": [],
   "source": [
    "b2m_loh = []\n",
    "for i in range(len(samples_df)):\n",
    "    base = samples_df.loc[i, 'cancer_home']\n",
    "    sample = samples_df.loc[i, 'sample_name_tumor']\n",
    "    try:\n",
    "        tmp_df = pd.read_csv('{0}/Sequenza/{1}_segments.txt'.format(base, sample), sep='\\t')\n",
    "        b2m_loh.append(list(tmp_df[(tmp_df.chromosome == '15')&((tmp_df['start.pos'] < 45010357)&(tmp_df['end.pos'] > 45003685))].B == 0)[0])\n",
    "    except:\n",
    "        b2m_loh.append(False)"
   ]
  },
  {
   "cell_type": "code",
   "execution_count": 22,
   "metadata": {},
   "outputs": [],
   "source": [
    "merged_df['B2M_LOH'] = b2m_loh"
   ]
  },
  {
   "cell_type": "code",
   "execution_count": 23,
   "metadata": {},
   "outputs": [
    {
     "data": {
      "text/html": [
       "<div>\n",
       "<style scoped>\n",
       "    .dataframe tbody tr th:only-of-type {\n",
       "        vertical-align: middle;\n",
       "    }\n",
       "\n",
       "    .dataframe tbody tr th {\n",
       "        vertical-align: top;\n",
       "    }\n",
       "\n",
       "    .dataframe thead th {\n",
       "        text-align: right;\n",
       "    }\n",
       "</style>\n",
       "<table border=\"1\" class=\"dataframe\">\n",
       "  <thead>\n",
       "    <tr style=\"text-align: right;\">\n",
       "      <th></th>\n",
       "      <th>Sample</th>\n",
       "      <th>HED</th>\n",
       "      <th>Alleles</th>\n",
       "      <th>unique_alleles</th>\n",
       "      <th>Dash_Loss</th>\n",
       "      <th>Somatic_mutation</th>\n",
       "      <th>B2M_LOH</th>\n",
       "    </tr>\n",
       "  </thead>\n",
       "  <tbody>\n",
       "    <tr>\n",
       "      <th>0</th>\n",
       "      <td>40425-0009_Pre_Tumor_DNA</td>\n",
       "      <td>7.079665</td>\n",
       "      <td>A*33:03,A*02:07,B*58:01,B*51:01,C*14:02,C*03:02</td>\n",
       "      <td>6</td>\n",
       "      <td>True</td>\n",
       "      <td>False</td>\n",
       "      <td>False</td>\n",
       "    </tr>\n",
       "    <tr>\n",
       "      <th>1</th>\n",
       "      <td>40425-0009_Post_Tumor_DNA</td>\n",
       "      <td>7.079665</td>\n",
       "      <td>A*33:03,A*02:07,B*58:01,B*51:01,C*14:02,C*03:02</td>\n",
       "      <td>6</td>\n",
       "      <td>True</td>\n",
       "      <td>False</td>\n",
       "      <td>False</td>\n",
       "    </tr>\n",
       "    <tr>\n",
       "      <th>2</th>\n",
       "      <td>40425-0002_Pre_TumorDNA_ACE3</td>\n",
       "      <td>7.396226</td>\n",
       "      <td>A*24:02,A*02:01,B*35:03,B*13:02,C*06:02,C*12:03</td>\n",
       "      <td>6</td>\n",
       "      <td>True</td>\n",
       "      <td>False</td>\n",
       "      <td>True</td>\n",
       "    </tr>\n",
       "    <tr>\n",
       "      <th>3</th>\n",
       "      <td>40425-0002_Post_Tumor_DNA</td>\n",
       "      <td>7.396226</td>\n",
       "      <td>A*24:02,A*02:01,B*35:03,B*13:02,C*06:02,C*12:03</td>\n",
       "      <td>6</td>\n",
       "      <td>True</td>\n",
       "      <td>False</td>\n",
       "      <td>True</td>\n",
       "    </tr>\n",
       "    <tr>\n",
       "      <th>4</th>\n",
       "      <td>40425-0001_Pre_TumorDNA_ACE3</td>\n",
       "      <td>0.477987</td>\n",
       "      <td>A*24:02,A*24:07,B*35:05,B*35:01,C*04:01,C*04:01</td>\n",
       "      <td>5</td>\n",
       "      <td>False</td>\n",
       "      <td>False</td>\n",
       "      <td>False</td>\n",
       "    </tr>\n",
       "    <tr>\n",
       "      <th>5</th>\n",
       "      <td>40425-0001_Post_Tumor_DNA</td>\n",
       "      <td>0.477987</td>\n",
       "      <td>A*24:02,A*24:07,B*35:05,B*35:01,C*04:01,C*04:01</td>\n",
       "      <td>5</td>\n",
       "      <td>False</td>\n",
       "      <td>False</td>\n",
       "      <td>False</td>\n",
       "    </tr>\n",
       "    <tr>\n",
       "      <th>6</th>\n",
       "      <td>40425-0014_Pre_Tumor_DNA</td>\n",
       "      <td>5.605870</td>\n",
       "      <td>A*01:01,A*03:01,B*07:02,B*55:01,C*07:02,C*03:03</td>\n",
       "      <td>6</td>\n",
       "      <td>False</td>\n",
       "      <td>True</td>\n",
       "      <td>False</td>\n",
       "    </tr>\n",
       "    <tr>\n",
       "      <th>7</th>\n",
       "      <td>40425-0014_Post_Tumor_DNA</td>\n",
       "      <td>5.605870</td>\n",
       "      <td>A*01:01,A*03:01,B*07:02,B*55:01,C*07:02,C*03:03</td>\n",
       "      <td>6</td>\n",
       "      <td>False</td>\n",
       "      <td>False</td>\n",
       "      <td>False</td>\n",
       "    </tr>\n",
       "    <tr>\n",
       "      <th>8</th>\n",
       "      <td>40425-0008_Pre_Tumor_DNA</td>\n",
       "      <td>4.331237</td>\n",
       "      <td>A*11:01,A*11:01,B*48:01,B*54:01,C*08:01,C*01:02</td>\n",
       "      <td>5</td>\n",
       "      <td>True</td>\n",
       "      <td>False</td>\n",
       "      <td>False</td>\n",
       "    </tr>\n",
       "    <tr>\n",
       "      <th>9</th>\n",
       "      <td>40425-0008_Post_Tumor_DNA</td>\n",
       "      <td>4.331237</td>\n",
       "      <td>A*11:01,A*11:01,B*48:01,B*54:01,C*08:01,C*01:02</td>\n",
       "      <td>5</td>\n",
       "      <td>True</td>\n",
       "      <td>False</td>\n",
       "      <td>False</td>\n",
       "    </tr>\n",
       "    <tr>\n",
       "      <th>10</th>\n",
       "      <td>40425-0012_Pre_Tumor_DNA</td>\n",
       "      <td>7.234801</td>\n",
       "      <td>A*11:01,A*02:01,B*41:01,B*55:01,C*17:01,C*03:03</td>\n",
       "      <td>6</td>\n",
       "      <td>False</td>\n",
       "      <td>False</td>\n",
       "      <td>False</td>\n",
       "    </tr>\n",
       "    <tr>\n",
       "      <th>11</th>\n",
       "      <td>40425-0011_Pre_Tumor_DNA</td>\n",
       "      <td>4.192872</td>\n",
       "      <td>A*02:01,A*02:01,B*40:01,B*44:02,C*05:01,C*03:04</td>\n",
       "      <td>5</td>\n",
       "      <td>False</td>\n",
       "      <td>True</td>\n",
       "      <td>False</td>\n",
       "    </tr>\n",
       "    <tr>\n",
       "      <th>12</th>\n",
       "      <td>40425-0011_Post_Tumor_DNA</td>\n",
       "      <td>4.192872</td>\n",
       "      <td>A*02:01,A*02:01,B*40:01,B*44:02,C*05:01,C*03:04</td>\n",
       "      <td>5</td>\n",
       "      <td>False</td>\n",
       "      <td>False</td>\n",
       "      <td>False</td>\n",
       "    </tr>\n",
       "    <tr>\n",
       "      <th>13</th>\n",
       "      <td>7140_Post_Tumor_DNA</td>\n",
       "      <td>7.805031</td>\n",
       "      <td>A*24:02,A*02:01,B*15:01,B*44:03,C*01:02,C*16:01</td>\n",
       "      <td>6</td>\n",
       "      <td>False</td>\n",
       "      <td>False</td>\n",
       "      <td>False</td>\n",
       "    </tr>\n",
       "    <tr>\n",
       "      <th>14</th>\n",
       "      <td>40425-0013_Pre_Tumor_DNA</td>\n",
       "      <td>6.639413</td>\n",
       "      <td>A*02:01,A*02:01,B*55:01,B*44:03,C*03:03,C*07:06</td>\n",
       "      <td>5</td>\n",
       "      <td>True</td>\n",
       "      <td>False</td>\n",
       "      <td>False</td>\n",
       "    </tr>\n",
       "    <tr>\n",
       "      <th>15</th>\n",
       "      <td>40425-0013_Post_Tumor_DNA</td>\n",
       "      <td>6.639413</td>\n",
       "      <td>A*02:01,A*02:01,B*55:01,B*44:03,C*03:03,C*07:06</td>\n",
       "      <td>5</td>\n",
       "      <td>True</td>\n",
       "      <td>False</td>\n",
       "      <td>False</td>\n",
       "    </tr>\n",
       "  </tbody>\n",
       "</table>\n",
       "</div>"
      ],
      "text/plain": [
       "                          Sample       HED  \\\n",
       "0       40425-0009_Pre_Tumor_DNA  7.079665   \n",
       "1      40425-0009_Post_Tumor_DNA  7.079665   \n",
       "2   40425-0002_Pre_TumorDNA_ACE3  7.396226   \n",
       "3      40425-0002_Post_Tumor_DNA  7.396226   \n",
       "4   40425-0001_Pre_TumorDNA_ACE3  0.477987   \n",
       "5      40425-0001_Post_Tumor_DNA  0.477987   \n",
       "6       40425-0014_Pre_Tumor_DNA  5.605870   \n",
       "7      40425-0014_Post_Tumor_DNA  5.605870   \n",
       "8       40425-0008_Pre_Tumor_DNA  4.331237   \n",
       "9      40425-0008_Post_Tumor_DNA  4.331237   \n",
       "10      40425-0012_Pre_Tumor_DNA  7.234801   \n",
       "11      40425-0011_Pre_Tumor_DNA  4.192872   \n",
       "12     40425-0011_Post_Tumor_DNA  4.192872   \n",
       "13           7140_Post_Tumor_DNA  7.805031   \n",
       "14      40425-0013_Pre_Tumor_DNA  6.639413   \n",
       "15     40425-0013_Post_Tumor_DNA  6.639413   \n",
       "\n",
       "                                            Alleles  unique_alleles  \\\n",
       "0   A*33:03,A*02:07,B*58:01,B*51:01,C*14:02,C*03:02               6   \n",
       "1   A*33:03,A*02:07,B*58:01,B*51:01,C*14:02,C*03:02               6   \n",
       "2   A*24:02,A*02:01,B*35:03,B*13:02,C*06:02,C*12:03               6   \n",
       "3   A*24:02,A*02:01,B*35:03,B*13:02,C*06:02,C*12:03               6   \n",
       "4   A*24:02,A*24:07,B*35:05,B*35:01,C*04:01,C*04:01               5   \n",
       "5   A*24:02,A*24:07,B*35:05,B*35:01,C*04:01,C*04:01               5   \n",
       "6   A*01:01,A*03:01,B*07:02,B*55:01,C*07:02,C*03:03               6   \n",
       "7   A*01:01,A*03:01,B*07:02,B*55:01,C*07:02,C*03:03               6   \n",
       "8   A*11:01,A*11:01,B*48:01,B*54:01,C*08:01,C*01:02               5   \n",
       "9   A*11:01,A*11:01,B*48:01,B*54:01,C*08:01,C*01:02               5   \n",
       "10  A*11:01,A*02:01,B*41:01,B*55:01,C*17:01,C*03:03               6   \n",
       "11  A*02:01,A*02:01,B*40:01,B*44:02,C*05:01,C*03:04               5   \n",
       "12  A*02:01,A*02:01,B*40:01,B*44:02,C*05:01,C*03:04               5   \n",
       "13  A*24:02,A*02:01,B*15:01,B*44:03,C*01:02,C*16:01               6   \n",
       "14  A*02:01,A*02:01,B*55:01,B*44:03,C*03:03,C*07:06               5   \n",
       "15  A*02:01,A*02:01,B*55:01,B*44:03,C*03:03,C*07:06               5   \n",
       "\n",
       "    Dash_Loss  Somatic_mutation  B2M_LOH  \n",
       "0        True             False    False  \n",
       "1        True             False    False  \n",
       "2        True             False     True  \n",
       "3        True             False     True  \n",
       "4       False             False    False  \n",
       "5       False             False    False  \n",
       "6       False              True    False  \n",
       "7       False             False    False  \n",
       "8        True             False    False  \n",
       "9        True             False    False  \n",
       "10      False             False    False  \n",
       "11      False              True    False  \n",
       "12      False             False    False  \n",
       "13      False             False    False  \n",
       "14       True             False    False  \n",
       "15       True             False    False  "
      ]
     },
     "execution_count": 23,
     "metadata": {},
     "output_type": "execute_result"
    }
   ],
   "source": [
    "merged_df"
   ]
  },
  {
   "cell_type": "markdown",
   "metadata": {},
   "source": [
    "Response"
   ]
  },
  {
   "cell_type": "markdown",
   "metadata": {},
   "source": [
    "### Plot together"
   ]
  },
  {
   "cell_type": "code",
   "execution_count": 24,
   "metadata": {},
   "outputs": [],
   "source": [
    "merged_df['pre_and_post'] = merged_df['Sample'].str.contains('40425')\n",
    "merged_df = merged_df[merged_df.pre_and_post]"
   ]
  },
  {
   "cell_type": "code",
   "execution_count": 25,
   "metadata": {},
   "outputs": [
    {
     "name": "stderr",
     "output_type": "stream",
     "text": [
      "/home/rpyke/anaconda2/envs/py37/lib/python3.7/site-packages/ipykernel_launcher.py:1: SettingWithCopyWarning: \n",
      "A value is trying to be set on a copy of a slice from a DataFrame.\n",
      "Try using .loc[row_indexer,col_indexer] = value instead\n",
      "\n",
      "See the caveats in the documentation: http://pandas.pydata.org/pandas-docs/stable/indexing.html#indexing-view-versus-copy\n",
      "  \"\"\"Entry point for launching an IPython kernel.\n"
     ]
    }
   ],
   "source": [
    "merged_df['Patient_number'] = merged_df['Sample'].str.split('-').str[1].str.split('_').str[0]\n",
    "merged_df = merged_df.sort_values(['Sample'])"
   ]
  },
  {
   "cell_type": "code",
   "execution_count": 26,
   "metadata": {},
   "outputs": [],
   "source": [
    "merged_df = merged_df[merged_df['Patient_number'].isin(['0001', '0002', '0008', '0009', '0011', '0013', '0014'])]"
   ]
  },
  {
   "cell_type": "code",
   "execution_count": 27,
   "metadata": {},
   "outputs": [],
   "source": [
    "merged_df_pre = merged_df[merged_df['Sample'].str.contains('Pre')]\n",
    "merged_df_post = merged_df[merged_df['Sample'].str.contains('Post')]"
   ]
  },
  {
   "cell_type": "code",
   "execution_count": 28,
   "metadata": {},
   "outputs": [],
   "source": [
    "results['LOH'] = results.DASH_prediction.astype(int)"
   ]
  },
  {
   "cell_type": "code",
   "execution_count": 29,
   "metadata": {},
   "outputs": [],
   "source": [
    "results_pivot = pd.pivot_table(results, values='LOH', index=['sample'], columns=['gene'])\n",
    "\n",
    "results_pivot = results_pivot.loc[[x for x in list(results_pivot.index) if '40425' in x]]\n",
    "results_pivot_pre = results_pivot.loc[[x for x in list(results_pivot.index) if 'Pre' in x]]\n",
    "results_pivot_post = results_pivot.loc[[x for x in list(results_pivot.index) if 'Post' in x]]\n",
    "\n",
    "results_pivot_pre.index = [x.split('-')[1].split('_')[0] for x in list(results_pivot_pre.index)]\n",
    "results_pivot_post.index = [x.split('-')[1].split('_')[0] for x in list(results_pivot_post.index)]\n",
    "\n",
    "results_pivot_pre = results_pivot_pre.loc[['0001', '0002', '0008', '0009', '0011', '0013', '0014']]\n",
    "results_pivot_post = results_pivot_post.loc[['0001', '0002', '0008', '0009', '0011', '0013', '0014']]"
   ]
  },
  {
   "cell_type": "code",
   "execution_count": 30,
   "metadata": {},
   "outputs": [
    {
     "data": {
      "text/html": [
       "<div>\n",
       "<style scoped>\n",
       "    .dataframe tbody tr th:only-of-type {\n",
       "        vertical-align: middle;\n",
       "    }\n",
       "\n",
       "    .dataframe tbody tr th {\n",
       "        vertical-align: top;\n",
       "    }\n",
       "\n",
       "    .dataframe thead th {\n",
       "        text-align: right;\n",
       "    }\n",
       "</style>\n",
       "<table border=\"1\" class=\"dataframe\">\n",
       "  <thead>\n",
       "    <tr style=\"text-align: right;\">\n",
       "      <th>gene</th>\n",
       "      <th>A</th>\n",
       "      <th>B</th>\n",
       "      <th>C</th>\n",
       "    </tr>\n",
       "    <tr>\n",
       "      <th>sample</th>\n",
       "      <th></th>\n",
       "      <th></th>\n",
       "      <th></th>\n",
       "    </tr>\n",
       "  </thead>\n",
       "  <tbody>\n",
       "    <tr>\n",
       "      <th>40425-0001_Post_Tumor_DNA</th>\n",
       "      <td>NaN</td>\n",
       "      <td>0.0</td>\n",
       "      <td>NaN</td>\n",
       "    </tr>\n",
       "    <tr>\n",
       "      <th>40425-0001_Pre_TumorDNA_ACE3</th>\n",
       "      <td>NaN</td>\n",
       "      <td>0.0</td>\n",
       "      <td>NaN</td>\n",
       "    </tr>\n",
       "    <tr>\n",
       "      <th>40425-0002_Post_Tumor_DNA</th>\n",
       "      <td>1.0</td>\n",
       "      <td>1.0</td>\n",
       "      <td>1.0</td>\n",
       "    </tr>\n",
       "    <tr>\n",
       "      <th>40425-0002_Pre_TumorDNA_ACE3</th>\n",
       "      <td>1.0</td>\n",
       "      <td>1.0</td>\n",
       "      <td>1.0</td>\n",
       "    </tr>\n",
       "    <tr>\n",
       "      <th>40425-0008_Post_Tumor_DNA</th>\n",
       "      <td>NaN</td>\n",
       "      <td>1.0</td>\n",
       "      <td>1.0</td>\n",
       "    </tr>\n",
       "    <tr>\n",
       "      <th>40425-0008_Pre_Tumor_DNA</th>\n",
       "      <td>NaN</td>\n",
       "      <td>1.0</td>\n",
       "      <td>1.0</td>\n",
       "    </tr>\n",
       "    <tr>\n",
       "      <th>40425-0009_Post_Tumor_DNA</th>\n",
       "      <td>1.0</td>\n",
       "      <td>1.0</td>\n",
       "      <td>1.0</td>\n",
       "    </tr>\n",
       "    <tr>\n",
       "      <th>40425-0009_Pre_Tumor_DNA</th>\n",
       "      <td>1.0</td>\n",
       "      <td>1.0</td>\n",
       "      <td>1.0</td>\n",
       "    </tr>\n",
       "    <tr>\n",
       "      <th>40425-0011_Post_Tumor_DNA</th>\n",
       "      <td>NaN</td>\n",
       "      <td>0.0</td>\n",
       "      <td>0.0</td>\n",
       "    </tr>\n",
       "    <tr>\n",
       "      <th>40425-0011_Pre_Tumor_DNA</th>\n",
       "      <td>NaN</td>\n",
       "      <td>0.0</td>\n",
       "      <td>0.0</td>\n",
       "    </tr>\n",
       "    <tr>\n",
       "      <th>40425-0012_Pre_Tumor_DNA</th>\n",
       "      <td>0.0</td>\n",
       "      <td>0.0</td>\n",
       "      <td>0.0</td>\n",
       "    </tr>\n",
       "    <tr>\n",
       "      <th>40425-0013_Post_Tumor_DNA</th>\n",
       "      <td>NaN</td>\n",
       "      <td>1.0</td>\n",
       "      <td>1.0</td>\n",
       "    </tr>\n",
       "    <tr>\n",
       "      <th>40425-0013_Pre_Tumor_DNA</th>\n",
       "      <td>NaN</td>\n",
       "      <td>1.0</td>\n",
       "      <td>1.0</td>\n",
       "    </tr>\n",
       "    <tr>\n",
       "      <th>40425-0014_Post_Tumor_DNA</th>\n",
       "      <td>0.0</td>\n",
       "      <td>0.0</td>\n",
       "      <td>0.0</td>\n",
       "    </tr>\n",
       "    <tr>\n",
       "      <th>40425-0014_Pre_Tumor_DNA</th>\n",
       "      <td>0.0</td>\n",
       "      <td>0.0</td>\n",
       "      <td>0.0</td>\n",
       "    </tr>\n",
       "  </tbody>\n",
       "</table>\n",
       "</div>"
      ],
      "text/plain": [
       "gene                            A    B    C\n",
       "sample                                     \n",
       "40425-0001_Post_Tumor_DNA     NaN  0.0  NaN\n",
       "40425-0001_Pre_TumorDNA_ACE3  NaN  0.0  NaN\n",
       "40425-0002_Post_Tumor_DNA     1.0  1.0  1.0\n",
       "40425-0002_Pre_TumorDNA_ACE3  1.0  1.0  1.0\n",
       "40425-0008_Post_Tumor_DNA     NaN  1.0  1.0\n",
       "40425-0008_Pre_Tumor_DNA      NaN  1.0  1.0\n",
       "40425-0009_Post_Tumor_DNA     1.0  1.0  1.0\n",
       "40425-0009_Pre_Tumor_DNA      1.0  1.0  1.0\n",
       "40425-0011_Post_Tumor_DNA     NaN  0.0  0.0\n",
       "40425-0011_Pre_Tumor_DNA      NaN  0.0  0.0\n",
       "40425-0012_Pre_Tumor_DNA      0.0  0.0  0.0\n",
       "40425-0013_Post_Tumor_DNA     NaN  1.0  1.0\n",
       "40425-0013_Pre_Tumor_DNA      NaN  1.0  1.0\n",
       "40425-0014_Post_Tumor_DNA     0.0  0.0  0.0\n",
       "40425-0014_Pre_Tumor_DNA      0.0  0.0  0.0"
      ]
     },
     "execution_count": 30,
     "metadata": {},
     "output_type": "execute_result"
    }
   ],
   "source": [
    "results_pivot"
   ]
  },
  {
   "cell_type": "code",
   "execution_count": 31,
   "metadata": {},
   "outputs": [
    {
     "data": {
      "text/html": [
       "<div>\n",
       "<style scoped>\n",
       "    .dataframe tbody tr th:only-of-type {\n",
       "        vertical-align: middle;\n",
       "    }\n",
       "\n",
       "    .dataframe tbody tr th {\n",
       "        vertical-align: top;\n",
       "    }\n",
       "\n",
       "    .dataframe thead th {\n",
       "        text-align: right;\n",
       "    }\n",
       "</style>\n",
       "<table border=\"1\" class=\"dataframe\">\n",
       "  <thead>\n",
       "    <tr style=\"text-align: right;\">\n",
       "      <th>gene</th>\n",
       "      <th>A</th>\n",
       "      <th>B</th>\n",
       "      <th>C</th>\n",
       "    </tr>\n",
       "  </thead>\n",
       "  <tbody>\n",
       "    <tr>\n",
       "      <th>0001</th>\n",
       "      <td>NaN</td>\n",
       "      <td>0.0</td>\n",
       "      <td>NaN</td>\n",
       "    </tr>\n",
       "    <tr>\n",
       "      <th>0002</th>\n",
       "      <td>1.0</td>\n",
       "      <td>1.0</td>\n",
       "      <td>1.0</td>\n",
       "    </tr>\n",
       "    <tr>\n",
       "      <th>0008</th>\n",
       "      <td>NaN</td>\n",
       "      <td>1.0</td>\n",
       "      <td>1.0</td>\n",
       "    </tr>\n",
       "    <tr>\n",
       "      <th>0009</th>\n",
       "      <td>1.0</td>\n",
       "      <td>1.0</td>\n",
       "      <td>1.0</td>\n",
       "    </tr>\n",
       "    <tr>\n",
       "      <th>0011</th>\n",
       "      <td>NaN</td>\n",
       "      <td>0.0</td>\n",
       "      <td>0.0</td>\n",
       "    </tr>\n",
       "    <tr>\n",
       "      <th>0013</th>\n",
       "      <td>NaN</td>\n",
       "      <td>1.0</td>\n",
       "      <td>1.0</td>\n",
       "    </tr>\n",
       "    <tr>\n",
       "      <th>0014</th>\n",
       "      <td>0.0</td>\n",
       "      <td>0.0</td>\n",
       "      <td>0.0</td>\n",
       "    </tr>\n",
       "  </tbody>\n",
       "</table>\n",
       "</div>"
      ],
      "text/plain": [
       "gene    A    B    C\n",
       "0001  NaN  0.0  NaN\n",
       "0002  1.0  1.0  1.0\n",
       "0008  NaN  1.0  1.0\n",
       "0009  1.0  1.0  1.0\n",
       "0011  NaN  0.0  0.0\n",
       "0013  NaN  1.0  1.0\n",
       "0014  0.0  0.0  0.0"
      ]
     },
     "execution_count": 31,
     "metadata": {},
     "output_type": "execute_result"
    }
   ],
   "source": [
    "results_pivot_pre"
   ]
  },
  {
   "cell_type": "code",
   "execution_count": 32,
   "metadata": {},
   "outputs": [
    {
     "data": {
      "image/png": "[encoded data removed]",
      "text/plain": [
       "<Figure size 216x360 with 4 Axes>"
      ]
     },
     "metadata": {
      "needs_background": "light"
     },
     "output_type": "display_data"
    }
   ],
   "source": [
    "# Combined figure\n",
    "sns.set_context('talk', font_scale=0.7)\n",
    "plt.figure(figsize=(3, 5))\n",
    "grid = plt.GridSpec(10, 1)\n",
    "\n",
    "# Plot 1\n",
    "plt.subplot(grid[:4, 0])\n",
    "sns.barplot(x='Patient_number', y='HED', data=merged_df_pre, color='grey')\n",
    "sns.despine()\n",
    "#plt.xticks(rotation=90)\n",
    "plt.xlabel('')\n",
    "plt.xticks([])\n",
    "\n",
    "# Plot 2\n",
    "plt.subplot(grid[4:7, 0])\n",
    "# Fill NA as 2 to get somatic back\n",
    "sns.heatmap(results_pivot_pre.transpose().fillna(0), \n",
    "            linewidths=3, cmap=\"Blues\", \n",
    "            xticklabels=False, cbar=False, yticklabels=['HLA-A', 'HLA-B', 'HLA-C'])\n",
    "plt.yticks(rotation=0) \n",
    "plt.xlabel('')\n",
    "plt.ylabel('HLA LOH')\n",
    "\n",
    "# Plot 3\n",
    "plt.subplot(grid[7, 0])\n",
    "sns.heatmap(merged_df_pre[['Somatic_mutation']].transpose(), linewidths=1, cmap=\"Greens\", \n",
    "            xticklabels=False, cbar=False, yticklabels=['HLA Mutation'])\n",
    "plt.yticks(rotation=0) \n",
    "\n",
    "# Plot 4\n",
    "plt.subplot(grid[8, 0])\n",
    "sns.heatmap(merged_df_pre[['B2M_LOH']].transpose(), linewidths=1, cmap=\"Purples\", \n",
    "            xticklabels=list(merged_df_pre.Patient_number), cbar=False, yticklabels=['B2M LOH'])\n",
    "plt.yticks(rotation=0) \n",
    "plt.xticks(rotation=90)\n",
    "\n",
    "plt.savefig('/rnd/users/rpyke/data/00-DASH/figures/stanford.HLA_overview.pdf',\n",
    "           bbox_inches='tight')"
   ]
  },
  {
   "cell_type": "code",
   "execution_count": 33,
   "metadata": {},
   "outputs": [
    {
     "data": {
      "text/plain": [
       "['0001', '0002', '0008', '0009', '0011', '0013', '0014']"
      ]
     },
     "execution_count": 33,
     "metadata": {},
     "output_type": "execute_result"
    }
   ],
   "source": [
    "list(merged_df_pre.Patient_number)"
   ]
  },
  {
   "cell_type": "code",
   "execution_count": 34,
   "metadata": {},
   "outputs": [
    {
     "data": {
      "text/plain": [
       "Text(0.5, 0, '')"
      ]
     },
     "execution_count": 34,
     "metadata": {},
     "output_type": "execute_result"
    },
    {
     "data": {
      "image/png": "[encoded data removed]",
      "text/plain": [
       "<Figure size 360x180 with 1 Axes>"
      ]
     },
     "metadata": {
      "needs_background": "light"
     },
     "output_type": "display_data"
    }
   ],
   "source": [
    "# HED\n",
    "plt.figure(figsize=(5, 2.5))\n",
    "sns.barplot(x='Patient_number', y='HED', data=merged_df_pre, color='grey')\n",
    "sns.despine()\n",
    "plt.xticks(rotation=90)\n",
    "plt.xlabel('')\n"
   ]
  },
  {
   "cell_type": "code",
   "execution_count": 35,
   "metadata": {},
   "outputs": [
    {
     "data": {
      "image/png": "[encoded data removed]",
      "text/plain": [
       "<Figure size 360x36 with 1 Axes>"
      ]
     },
     "metadata": {
      "needs_background": "light"
     },
     "output_type": "display_data"
    },
    {
     "data": {
      "text/plain": [
       "(array([0.5]), <a list of 1 Text yticklabel objects>)"
      ]
     },
     "execution_count": 35,
     "metadata": {},
     "output_type": "execute_result"
    },
    {
     "data": {
      "text/plain": [
       "<Figure size 432x288 with 0 Axes>"
      ]
     },
     "metadata": {},
     "output_type": "display_data"
    },
    {
     "data": {
      "image/png": "[encoded data removed]",
      "text/plain": [
       "<Figure size 360x36 with 1 Axes>"
      ]
     },
     "metadata": {
      "needs_background": "light"
     },
     "output_type": "display_data"
    }
   ],
   "source": [
    "# B2M\n",
    "plt.figure(figsize=(5, 0.5))\n",
    "sns.heatmap(merged_df_pre[['B2M_LOH']].transpose(), linewidths=1, cmap=\"Blues\", \n",
    "            xticklabels=False, cbar=False, yticklabels=['Pre-B2M LOH'])\n",
    "plt.yticks(rotation=0) \n",
    "\n",
    "plt.show()\n",
    "plt.clf()\n",
    "\n",
    "plt.figure(figsize=(5, 0.5))\n",
    "sns.heatmap(merged_df_post[['B2M_LOH']].transpose(), linewidths=1, cmap=\"Blues\", \n",
    "            xticklabels=False, cbar=False, yticklabels=['Post-B2M LOH'])\n",
    "plt.yticks(rotation=0) \n"
   ]
  },
  {
   "cell_type": "code",
   "execution_count": 36,
   "metadata": {
    "scrolled": true
   },
   "outputs": [
    {
     "data": {
      "image/png": "[encoded data removed]",
      "text/plain": [
       "<Figure size 360x36 with 1 Axes>"
      ]
     },
     "metadata": {
      "needs_background": "light"
     },
     "output_type": "display_data"
    },
    {
     "data": {
      "text/plain": [
       "(array([0.5]), <a list of 1 Text yticklabel objects>)"
      ]
     },
     "execution_count": 36,
     "metadata": {},
     "output_type": "execute_result"
    },
    {
     "data": {
      "text/plain": [
       "<Figure size 432x288 with 0 Axes>"
      ]
     },
     "metadata": {},
     "output_type": "display_data"
    },
    {
     "data": {
      "image/png": "[encoded data removed]",
      "text/plain": [
       "<Figure size 360x36 with 1 Axes>"
      ]
     },
     "metadata": {
      "needs_background": "light"
     },
     "output_type": "display_data"
    }
   ],
   "source": [
    "# HLA somatic mutation\n",
    "plt.figure(figsize=(5, 0.5))\n",
    "sns.heatmap(merged_df_pre[['Somatic_mutation']].transpose(), linewidths=1, cmap=\"Greens\", \n",
    "            xticklabels=False, cbar=False, yticklabels=['Pre-HLA Mutation'])\n",
    "plt.yticks(rotation=0) \n",
    "\n",
    "plt.show()\n",
    "plt.clf()\n",
    "\n",
    "plt.figure(figsize=(5, 0.5))\n",
    "sns.heatmap(merged_df_post[['Somatic_mutation']].transpose(), linewidths=1, cmap=\"Greens\", \n",
    "            xticklabels=False, cbar=False, yticklabels=['Post-HLA Mutation'])\n",
    "plt.yticks(rotation=0) "
   ]
  },
  {
   "cell_type": "code",
   "execution_count": 37,
   "metadata": {},
   "outputs": [
    {
     "data": {
      "image/png": "[encoded data removed]",
      "text/plain": [
       "<Figure size 360x144 with 1 Axes>"
      ]
     },
     "metadata": {
      "needs_background": "light"
     },
     "output_type": "display_data"
    },
    {
     "data": {
      "text/plain": [
       "Text(15.5, 0.5, 'Post-HLA LOH')"
      ]
     },
     "execution_count": 37,
     "metadata": {},
     "output_type": "execute_result"
    },
    {
     "data": {
      "text/plain": [
       "<Figure size 432x288 with 0 Axes>"
      ]
     },
     "metadata": {},
     "output_type": "display_data"
    },
    {
     "data": {
      "image/png": "[encoded data removed]",
      "text/plain": [
       "<Figure size 360x144 with 1 Axes>"
      ]
     },
     "metadata": {
      "needs_background": "light"
     },
     "output_type": "display_data"
    }
   ],
   "source": [
    "# HLA LOH\n",
    "plt.figure(figsize=(5, 2))\n",
    "sns.heatmap(results_pivot_pre.transpose().fillna(2), \n",
    "            linewidths=3, cmap=\"Accent\", \n",
    "            xticklabels=False, cbar=False, yticklabels=['HLA-A', 'HLA-B', 'HLA-C'])\n",
    "plt.yticks(rotation=0) \n",
    "plt.xlabel('')\n",
    "plt.ylabel('Pre-HLA LOH')\n",
    "plt.show()\n",
    "plt.clf()\n",
    "\n",
    "plt.figure(figsize=(5, 2))\n",
    "sns.heatmap(results_pivot_post.transpose().fillna(2), \n",
    "            linewidths=3, cmap=\"Accent\", \n",
    "            xticklabels=False, cbar=False, yticklabels=['HLA-A', 'HLA-B', 'HLA-C'])\n",
    "plt.yticks(rotation=0) \n",
    "plt.xlabel('')\n",
    "plt.ylabel('Post-HLA LOH')"
   ]
  },
  {
   "cell_type": "code",
   "execution_count": null,
   "metadata": {},
   "outputs": [],
   "source": []
  }
 ],
 "metadata": {
  "kernelspec": {
   "display_name": "Python 3",
   "language": "python",
   "name": "python3"
  },
  "language_info": {
   "codemirror_mode": {
    "name": "ipython",
    "version": 3
   },
   "file_extension": ".py",
   "mimetype": "text/x-python",
   "name": "python",
   "nbconvert_exporter": "python",
   "pygments_lexer": "ipython3",
   "version": "3.7.3"
  }
 },
 "nbformat": 4,
 "nbformat_minor": 2
}
