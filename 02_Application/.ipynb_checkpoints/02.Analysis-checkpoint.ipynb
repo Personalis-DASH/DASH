{
 "cells": [
  {
   "cell_type": "code",
   "execution_count": 1,
   "metadata": {},
   "outputs": [],
   "source": [
    "%run ../../bin/imports.ipynb"
   ]
  },
  {
   "cell_type": "code",
   "execution_count": 2,
   "metadata": {},
   "outputs": [],
   "source": [
    "import statistics\n"
   ]
  },
  {
   "cell_type": "markdown",
   "metadata": {},
   "source": [
    "## Pan-cancer analysis"
   ]
  },
  {
   "cell_type": "code",
   "execution_count": 3,
   "metadata": {},
   "outputs": [],
   "source": [
    "data_df = pd.read_csv('/rnd/users/rpyke/data/00-DASH/manuscript_data_v2/pancancer.merged_data.tab', \n",
    "                 sep='\\t')\n",
    "data_df['Has_HLALOH'] = ~data_df['Alleles_lost'].isnull()"
   ]
  },
  {
   "cell_type": "code",
   "execution_count": 4,
   "metadata": {
    "scrolled": false
   },
   "outputs": [
    {
     "data": {
      "text/plain": [
       "609"
      ]
     },
     "execution_count": 4,
     "metadata": {},
     "output_type": "execute_result"
    }
   ],
   "source": [
    "len(data_df)"
   ]
  },
  {
   "cell_type": "code",
   "execution_count": 5,
   "metadata": {},
   "outputs": [],
   "source": [
    "columns = list(data_df.columns)"
   ]
  },
  {
   "cell_type": "code",
   "execution_count": 6,
   "metadata": {},
   "outputs": [
    {
     "name": "stdout",
     "output_type": "stream",
     "text": [
      "7\n",
      "['Bladder' 'Melanoma' 'Colorectal' 'Pancreatic' 'Uterine' 'Head_Neck'\n",
      " 'Cervical' 'NSCLC_SCC' 'Liver' 'NSCLC_adenocarcinoma' 'Breast' 'Thyroid'\n",
      " 'Kidney_RCC' 'Ovarian' 'Lung-LCC']\n"
     ]
    }
   ],
   "source": [
    "# Cancer types with at least 10 patients with HLA LOH\n",
    "cancer_types = list(data_df[data_df.Has_HLALOH].Cancer_type.value_counts()\n",
    "                    [data_df[data_df.Has_HLALOH].Cancer_type.value_counts() >= 8].index)\n",
    "print(len(cancer_types))\n",
    "\n",
    "# All cancer types\n",
    "len(data_df.Cancer_type.unique())\n",
    "print(data_df.Cancer_type.unique())"
   ]
  },
  {
   "cell_type": "markdown",
   "metadata": {},
   "source": [
    "### Cohort summary figures"
   ]
  },
  {
   "cell_type": "code",
   "execution_count": 7,
   "metadata": {},
   "outputs": [
    {
     "data": {
      "text/html": [
       "['sample_name_tumor', 'AJCC_UICC_Stage_Group', 'Cancer_type', 'Simple_Stage', 'purity', 'MATH', 'MSI_percentage', 'Cytolytic_score', 'CD274', 'CASP8']"
      ],
      "text/plain": [
       "['sample_name_tumor',\n",
       " 'AJCC_UICC_Stage_Group',\n",
       " 'Cancer_type',\n",
       " 'Simple_Stage',\n",
       " 'purity',\n",
       " 'MATH',\n",
       " 'MSI_percentage',\n",
       " 'Cytolytic_score',\n",
       " 'CD274',\n",
       " 'CASP8']"
      ]
     },
     "execution_count": 7,
     "metadata": {},
     "output_type": "execute_result"
    }
   ],
   "source": [
    "columns[:10]"
   ]
  },
  {
   "cell_type": "code",
   "execution_count": 8,
   "metadata": {},
   "outputs": [
    {
     "data": {
      "image/png": "[encoded data removed]",
      "text/plain": [
       "<Figure size 144x288 with 1 Axes>"
      ]
     },
     "metadata": {
      "needs_background": "light"
     },
     "output_type": "display_data"
    }
   ],
   "source": [
    "plt.figure(figsize=(2, 4))\n",
    "sns.set_context('talk', font_scale=0.7)\n",
    "\n",
    "sns.countplot(x='Simple_Stage', data=data_df,\n",
    "             order=['I', 'II', 'III', 'IV', 'UNK'],\n",
    "             color='grey')\n",
    "plt.ylabel('Number of patients')\n",
    "plt.xlabel('Tumor stage')\n",
    "\n",
    "plt.savefig('/rnd/users/rpyke/data/00-DASH/figures/nextdb.tumor_stage.2021_06_25.pdf',\n",
    "           bbox_inches='tight')"
   ]
  },
  {
   "cell_type": "code",
   "execution_count": 9,
   "metadata": {},
   "outputs": [
    {
     "data": {
      "image/png": "[encoded data removed]",
      "text/plain": [
       "<Figure size 252x108 with 1 Axes>"
      ]
     },
     "metadata": {
      "needs_background": "light"
     },
     "output_type": "display_data"
    }
   ],
   "source": [
    "plt.figure(figsize=(3.5, 1.5))\n",
    "sns.set_context('talk', font_scale=0.7)\n",
    "\n",
    "data_df.purity.hist(color='grey')\n",
    "plt.ylabel('Number of\\npatients')\n",
    "plt.xlabel('Tumor purity')\n",
    "\n",
    "plt.savefig('/rnd/users/rpyke/data/00-DASH/figures/nextdb.tumor_purity.2021_06_25.pdf',\n",
    "           bbox_inches='tight')"
   ]
  },
  {
   "cell_type": "code",
   "execution_count": 10,
   "metadata": {
    "scrolled": true
   },
   "outputs": [
    {
     "data": {
      "text/plain": [
       "0.31"
      ]
     },
     "execution_count": 10,
     "metadata": {},
     "output_type": "execute_result"
    }
   ],
   "source": [
    "data_df.purity.median()"
   ]
  },
  {
   "cell_type": "code",
   "execution_count": 11,
   "metadata": {},
   "outputs": [
    {
     "data": {
      "image/png": "[encoded data removed]",
      "text/plain": [
       "<Figure size 252x108 with 1 Axes>"
      ]
     },
     "metadata": {
      "needs_background": "light"
     },
     "output_type": "display_data"
    }
   ],
   "source": [
    "plt.figure(figsize=(3.5, 1.5))\n",
    "sns.set_context('talk', font_scale=0.7)\n",
    "\n",
    "data_df.MATH.hist(color='grey')\n",
    "plt.ylabel('Number of\\npatients')\n",
    "plt.xlabel('Tumor heterogeneity\\n(MATH score)')\n",
    "\n",
    "plt.savefig('/rnd/users/rpyke/data/00-DASH/figures/nextdb.heterogeneity.2021_06_25.pdf',\n",
    "           bbox_inches='tight')"
   ]
  },
  {
   "cell_type": "code",
   "execution_count": 12,
   "metadata": {},
   "outputs": [
    {
     "data": {
      "text/plain": [
       "32.78449412"
      ]
     },
     "execution_count": 12,
     "metadata": {},
     "output_type": "execute_result"
    }
   ],
   "source": [
    "data_df.MATH.median()"
   ]
  },
  {
   "cell_type": "code",
   "execution_count": 13,
   "metadata": {},
   "outputs": [],
   "source": [
    "data_df['Allele_lost_A'] = data_df['Alleles_lost'].str.contains('A').fillna(False).astype(int)\n",
    "data_df['Allele_lost_B'] = data_df['Alleles_lost'].str.contains('B').fillna(False).astype(int)\n",
    "data_df['Allele_lost_C'] = data_df['Alleles_lost'].str.contains('C').fillna(False).astype(int)\n"
   ]
  },
  {
   "cell_type": "code",
   "execution_count": 14,
   "metadata": {},
   "outputs": [],
   "source": [
    "lost_alleles_list = list(data_df['Alleles_lost'])\n",
    "\n",
    "lost_allele_counter = {}\n",
    "\n",
    "for sample in lost_alleles_list:\n",
    "    if type(sample) is not float:\n",
    "#         print(sample)\n",
    "        allele_list = sample.split(',')\n",
    "        for allele in allele_list:\n",
    "            if allele not in lost_allele_counter:\n",
    "                lost_allele_counter[allele] = 1\n",
    "            else:\n",
    "                lost_allele_counter[allele] = lost_allele_counter[allele] + 1\n",
    "                \n",
    "# print(lost_allele_counter)\n",
    "\n",
    "\n",
    "kept_alleles_list = list(data_df['Alleles_retained'])\n",
    "\n",
    "kept_allele_counter = {}\n",
    "\n",
    "for sample in kept_alleles_list:\n",
    "    if type(sample) is not float:\n",
    "#         print(sample)\n",
    "        allele_list = sample.split(',')\n",
    "        for allele in allele_list:\n",
    "            if allele not in kept_allele_counter:\n",
    "                kept_allele_counter[allele] = 1\n",
    "            else:\n",
    "                kept_allele_counter[allele] = kept_allele_counter[allele] + 1\n",
    "                \n",
    "# print(kept_allele_counter)\n"
   ]
  },
  {
   "cell_type": "code",
   "execution_count": 15,
   "metadata": {},
   "outputs": [
    {
     "name": "stdout",
     "output_type": "stream",
     "text": [
      "168\n",
      "'A*02:13_exists'\n",
      "'A*01:22_exists'\n"
     ]
    },
    {
     "data": {
      "text/html": [
       "<div>\n",
       "<style scoped>\n",
       "    .dataframe tbody tr th:only-of-type {\n",
       "        vertical-align: middle;\n",
       "    }\n",
       "\n",
       "    .dataframe tbody tr th {\n",
       "        vertical-align: top;\n",
       "    }\n",
       "\n",
       "    .dataframe thead th {\n",
       "        text-align: right;\n",
       "    }\n",
       "</style>\n",
       "<table border=\"1\" class=\"dataframe\">\n",
       "  <thead>\n",
       "    <tr style=\"text-align: right;\">\n",
       "      <th></th>\n",
       "      <th>Allele</th>\n",
       "      <th>Lost_count</th>\n",
       "      <th>Kept_count</th>\n",
       "      <th>Total_allele_count</th>\n",
       "      <th>Total_count</th>\n",
       "      <th>Lost_allele_frequency</th>\n",
       "      <th>Allele_frequency</th>\n",
       "    </tr>\n",
       "  </thead>\n",
       "  <tbody>\n",
       "    <tr>\n",
       "      <th>0</th>\n",
       "      <td>A*32:01</td>\n",
       "      <td>5</td>\n",
       "      <td>24</td>\n",
       "      <td>31.0</td>\n",
       "      <td>3434.0</td>\n",
       "      <td>0.161290</td>\n",
       "      <td>0.009027</td>\n",
       "    </tr>\n",
       "    <tr>\n",
       "      <th>1</th>\n",
       "      <td>B*53:01</td>\n",
       "      <td>1</td>\n",
       "      <td>7</td>\n",
       "      <td>9.0</td>\n",
       "      <td>3434.0</td>\n",
       "      <td>0.111111</td>\n",
       "      <td>0.002621</td>\n",
       "    </tr>\n",
       "    <tr>\n",
       "      <th>2</th>\n",
       "      <td>C*04:01</td>\n",
       "      <td>9</td>\n",
       "      <td>105</td>\n",
       "      <td>123.0</td>\n",
       "      <td>3434.0</td>\n",
       "      <td>0.073171</td>\n",
       "      <td>0.035818</td>\n",
       "    </tr>\n",
       "    <tr>\n",
       "      <th>3</th>\n",
       "      <td>A*23:01</td>\n",
       "      <td>1</td>\n",
       "      <td>14</td>\n",
       "      <td>15.0</td>\n",
       "      <td>3434.0</td>\n",
       "      <td>0.066667</td>\n",
       "      <td>0.004368</td>\n",
       "    </tr>\n",
       "    <tr>\n",
       "      <th>4</th>\n",
       "      <td>A*31:01</td>\n",
       "      <td>7</td>\n",
       "      <td>21</td>\n",
       "      <td>28.0</td>\n",
       "      <td>3434.0</td>\n",
       "      <td>0.250000</td>\n",
       "      <td>0.008154</td>\n",
       "    </tr>\n",
       "  </tbody>\n",
       "</table>\n",
       "</div>"
      ],
      "text/plain": [
       "    Allele  Lost_count  Kept_count  Total_allele_count  Total_count  \\\n",
       "0  A*32:01           5          24                31.0       3434.0   \n",
       "1  B*53:01           1           7                 9.0       3434.0   \n",
       "2  C*04:01           9         105               123.0       3434.0   \n",
       "3  A*23:01           1          14                15.0       3434.0   \n",
       "4  A*31:01           7          21                28.0       3434.0   \n",
       "\n",
       "   Lost_allele_frequency  Allele_frequency  \n",
       "0               0.161290          0.009027  \n",
       "1               0.111111          0.002621  \n",
       "2               0.073171          0.035818  \n",
       "3               0.066667          0.004368  \n",
       "4               0.250000          0.008154  "
      ]
     },
     "execution_count": 15,
     "metadata": {},
     "output_type": "execute_result"
    }
   ],
   "source": [
    "# get list of all unique alleles to use as column in new dataframe\n",
    "unique_alleles = []\n",
    "for allele in lost_allele_counter:\n",
    "    if allele not in unique_alleles:\n",
    "        unique_alleles.append(allele)\n",
    "for allele in kept_allele_counter:\n",
    "    if allele not in unique_alleles:\n",
    "        unique_alleles.append(allele)\n",
    "\n",
    "print(len(unique_alleles))\n",
    "\n",
    "allele_dataframe = pd.DataFrame()\n",
    "allele_dataframe['Allele'] = unique_alleles\n",
    "\n",
    "def get_lost(row, lost_alleles):\n",
    "    lost_allele_count = 0\n",
    "    if row['Allele'] in lost_alleles:\n",
    "        lost_allele_count = lost_alleles[row['Allele']]\n",
    "    return lost_allele_count\n",
    "\n",
    "def get_kept(row, kept_alleles):\n",
    "    kept_allele_count = 0\n",
    "    if row['Allele'] in kept_alleles:\n",
    "        kept_allele_count = kept_alleles[row['Allele']]\n",
    "    return kept_allele_count\n",
    "\n",
    "def get_total(row):\n",
    "    total = row['Lost_count'] + row['Kept_count']\n",
    "    return total\n",
    "\n",
    "def get_frequency_lost_allele(row):    \n",
    "    try:\n",
    "        frequency = row['Lost_count']/row['Total_allele_count']\n",
    "    except Exception as e:\n",
    "        frequency = 0\n",
    "    return frequency\n",
    "    \n",
    "def get_frequency_of_allele(row):\n",
    "    try:\n",
    "        frequency = row['Total_allele_count']/row['Total_count']\n",
    "    except Exception as e:\n",
    "        frequency = 0\n",
    "    return frequency\n",
    "\n",
    "# counts\n",
    "allele_dataframe['Lost_count'] = allele_dataframe.apply(lambda row: get_lost(row, lost_allele_counter), axis=1)\n",
    "allele_dataframe['Kept_count'] = allele_dataframe.apply(lambda row: get_kept(row, kept_allele_counter), axis=1)\n",
    "\n",
    "# count total # of each allele that \"exists\"\n",
    "allele_list = list(allele_dataframe['Allele'])\n",
    "total_allele_counts = []\n",
    "\n",
    "for allele in allele_list:\n",
    "    try:\n",
    "        allele_exists_column = F\"{allele}_exists\"\n",
    "        total_allele_count = np.nansum(list(data_df[allele_exists_column]))\n",
    "#         print(list(data_df[allele_exists_column]))\n",
    "        total_allele_counts.append(total_allele_count)\n",
    "    except Exception as e:\n",
    "        total_allele_counts.append(0)\n",
    "        print(e)\n",
    "allele_dataframe['Total_allele_count'] = total_allele_counts\n",
    "\n",
    "# add list to allele_dataframe['total_allele_count']\n",
    "\n",
    "allele_dataframe['Total_count'] = sum(list(allele_dataframe['Total_allele_count']))\n",
    "# frequencies\n",
    "allele_dataframe['Lost_allele_frequency'] = allele_dataframe.apply(lambda row: get_frequency_lost_allele(row), axis=1)\n",
    "allele_dataframe['Allele_frequency'] = allele_dataframe.apply(lambda row: get_frequency_of_allele(row), axis=1)\n",
    "\n",
    "# print(max(allele_dataframe['Total_frequency']))\n",
    "\n",
    "allele_dataframe.head()\n"
   ]
  },
  {
   "cell_type": "code",
   "execution_count": 16,
   "metadata": {},
   "outputs": [
    {
     "name": "stdout",
     "output_type": "stream",
     "text": [
      "6.0\n"
     ]
    },
    {
     "data": {
      "text/html": [
       "<div>\n",
       "<style scoped>\n",
       "    .dataframe tbody tr th:only-of-type {\n",
       "        vertical-align: middle;\n",
       "    }\n",
       "\n",
       "    .dataframe tbody tr th {\n",
       "        vertical-align: top;\n",
       "    }\n",
       "\n",
       "    .dataframe thead th {\n",
       "        text-align: right;\n",
       "    }\n",
       "</style>\n",
       "<table border=\"1\" class=\"dataframe\">\n",
       "  <thead>\n",
       "    <tr style=\"text-align: right;\">\n",
       "      <th></th>\n",
       "      <th>index</th>\n",
       "      <th>Allele</th>\n",
       "      <th>Lost_count</th>\n",
       "      <th>Kept_count</th>\n",
       "      <th>Total_allele_count</th>\n",
       "      <th>Total_count</th>\n",
       "      <th>Lost_allele_frequency</th>\n",
       "      <th>Allele_frequency</th>\n",
       "    </tr>\n",
       "  </thead>\n",
       "  <tbody>\n",
       "    <tr>\n",
       "      <th>13</th>\n",
       "      <td>15</td>\n",
       "      <td>A*02:01</td>\n",
       "      <td>12</td>\n",
       "      <td>175</td>\n",
       "      <td>235.0</td>\n",
       "      <td>3434.0</td>\n",
       "      <td>0.051064</td>\n",
       "      <td>0.068433</td>\n",
       "    </tr>\n",
       "    <tr>\n",
       "      <th>6</th>\n",
       "      <td>7</td>\n",
       "      <td>C*07:02</td>\n",
       "      <td>11</td>\n",
       "      <td>119</td>\n",
       "      <td>140.0</td>\n",
       "      <td>3434.0</td>\n",
       "      <td>0.078571</td>\n",
       "      <td>0.040769</td>\n",
       "    </tr>\n",
       "    <tr>\n",
       "      <th>9</th>\n",
       "      <td>11</td>\n",
       "      <td>A*24:02</td>\n",
       "      <td>8</td>\n",
       "      <td>113</td>\n",
       "      <td>133.0</td>\n",
       "      <td>3434.0</td>\n",
       "      <td>0.060150</td>\n",
       "      <td>0.038730</td>\n",
       "    </tr>\n",
       "    <tr>\n",
       "      <th>2</th>\n",
       "      <td>2</td>\n",
       "      <td>C*04:01</td>\n",
       "      <td>9</td>\n",
       "      <td>105</td>\n",
       "      <td>123.0</td>\n",
       "      <td>3434.0</td>\n",
       "      <td>0.073171</td>\n",
       "      <td>0.035818</td>\n",
       "    </tr>\n",
       "    <tr>\n",
       "      <th>8</th>\n",
       "      <td>10</td>\n",
       "      <td>C*06:02</td>\n",
       "      <td>11</td>\n",
       "      <td>96</td>\n",
       "      <td>117.0</td>\n",
       "      <td>3434.0</td>\n",
       "      <td>0.094017</td>\n",
       "      <td>0.034071</td>\n",
       "    </tr>\n",
       "  </tbody>\n",
       "</table>\n",
       "</div>"
      ],
      "text/plain": [
       "    index   Allele  Lost_count  Kept_count  Total_allele_count  Total_count  \\\n",
       "13     15  A*02:01          12         175               235.0       3434.0   \n",
       "6       7  C*07:02          11         119               140.0       3434.0   \n",
       "9      11  A*24:02           8         113               133.0       3434.0   \n",
       "2       2  C*04:01           9         105               123.0       3434.0   \n",
       "8      10  C*06:02          11          96               117.0       3434.0   \n",
       "\n",
       "    Lost_allele_frequency  Allele_frequency  \n",
       "13               0.051064          0.068433  \n",
       "6                0.078571          0.040769  \n",
       "9                0.060150          0.038730  \n",
       "2                0.073171          0.035818  \n",
       "8                0.094017          0.034071  "
      ]
     },
     "execution_count": 16,
     "metadata": {},
     "output_type": "execute_result"
    }
   ],
   "source": [
    "# get only the datapoints w/ a frequency & not 0\n",
    "# frequency_allele_dataframe = allele_dataframe[allele_dataframe['Lost_allele_frequency'] != 0]\n",
    "frequency_allele_dataframe = allele_dataframe\n",
    "\n",
    "# get only datapoints w/ a total_allele_count of >= median(all total_allele_counts)\n",
    "count_cutoff = statistics.median(list(frequency_allele_dataframe['Total_allele_count']))\n",
    "print(count_cutoff)\n",
    "frequency_allele_dataframe = frequency_allele_dataframe[frequency_allele_dataframe['Total_allele_count'] >= count_cutoff]\n",
    "frequency_allele_dataframe = frequency_allele_dataframe.reset_index()\n",
    "frequency_allele_dataframe = frequency_allele_dataframe.sort_values(\"Allele_frequency\", ascending=False)\n",
    "frequency_allele_dataframe.head()"
   ]
  },
  {
   "cell_type": "code",
   "execution_count": 17,
   "metadata": {},
   "outputs": [
    {
     "name": "stdout",
     "output_type": "stream",
     "text": [
      "0.16612397913597002\n"
     ]
    },
    {
     "data": {
      "image/png": "[encoded data removed]",
      "text/plain": [
       "<Figure size 252x252 with 1 Axes>"
      ]
     },
     "metadata": {
      "needs_background": "light"
     },
     "output_type": "display_data"
    }
   ],
   "source": [
    "plt.figure(figsize=(3.5, 3.5))\n",
    "sns.set_context('talk', font_scale=0.7)\n",
    "\n",
    "\n",
    "frequency_mean = statistics.mean(list(frequency_allele_dataframe['Lost_allele_frequency']))\n",
    "# frequency_pvar = statistics.pvariance(list(frequency_allele_dataframe['Lost_allele_frequency']))\n",
    "# where do we want this cutoff to be?\n",
    "# frequency_cutoff = frequency_mean \n",
    "\n",
    "frequency_median = statistics.median(list(frequency_allele_dataframe['Lost_allele_frequency']))\n",
    "frequency_stdev = statistics.stdev(list(frequency_allele_dataframe['Lost_allele_frequency']))\n",
    "frequency_cutoff = frequency_mean + frequency_stdev\n",
    "print(frequency_cutoff)\n",
    "\n",
    "sns.set_context('talk', font_scale=0.7)\n",
    "sns.set_style(\"ticks\")\n",
    "\n",
    "ax = sns.regplot(data=frequency_allele_dataframe, x=\"Allele_frequency\", y=\"Lost_allele_frequency\",\n",
    "                marker='.')\n",
    "ax.set(xlim=(0, 0.069))\n",
    "#plt.xticks(rotation=30)\n",
    "plt.xlabel('Overall allele frequency (pan-gene)')\n",
    "plt.ylabel('Frequency allele is deleted')\n",
    "\n",
    "for i in range(frequency_allele_dataframe.shape[0]):\n",
    "    if frequency_allele_dataframe.Lost_allele_frequency[i] > frequency_cutoff:\n",
    "        plt.text(x=frequency_allele_dataframe.Allele_frequency[i]+0.0006,y=frequency_allele_dataframe.Lost_allele_frequency[i]+0.001,s=frequency_allele_dataframe.Allele[i], \n",
    "                fontdict=dict(color='black',size=8))\n",
    "\n",
    "plt.savefig('/rnd/users/rpyke/data/00-DASH/figures/nextdb.frequency_of_deletion.2021_06_25.pdf',\n",
    "           bbox_inches='tight')"
   ]
  },
  {
   "cell_type": "markdown",
   "metadata": {},
   "source": [
    "### Frequency across tumor types"
   ]
  },
  {
   "cell_type": "code",
   "execution_count": 18,
   "metadata": {},
   "outputs": [
    {
     "data": {
      "text/plain": [
       "0.17898193760262726"
      ]
     },
     "execution_count": 18,
     "metadata": {},
     "output_type": "execute_result"
    }
   ],
   "source": [
    "data_df.Has_HLALOH.mean()"
   ]
  },
  {
   "cell_type": "code",
   "execution_count": 19,
   "metadata": {},
   "outputs": [
    {
     "data": {
      "text/plain": [
       "Index(['sample_name_tumor', 'AJCC_UICC_Stage_Group', 'Cancer_type',\n",
       "       'Simple_Stage', 'purity', 'MATH', 'MSI_percentage', 'Cytolytic_score',\n",
       "       'CD274', 'CASP8',\n",
       "       ...\n",
       "       'Potential_neoantigens', 'Potential_neoepitopes',\n",
       "       'BINDING_antigen_strong_count', 'BINDING_epitope_strong_count',\n",
       "       'PRESENTATION_antigen_strong_count',\n",
       "       'PRESENTATION_epitope_strong_count', 'Has_HLALOH', 'Allele_lost_A',\n",
       "       'Allele_lost_B', 'Allele_lost_C'],\n",
       "      dtype='object', length=752)"
      ]
     },
     "execution_count": 19,
     "metadata": {},
     "output_type": "execute_result"
    }
   ],
   "source": [
    "data_df.columns"
   ]
  },
  {
   "cell_type": "code",
   "execution_count": 20,
   "metadata": {},
   "outputs": [],
   "source": [
    "total_df = data_df.Cancer_type.value_counts().reset_index()\n",
    "total_df.columns = ['Cancer_type', 'Total_patients']"
   ]
  },
  {
   "cell_type": "code",
   "execution_count": 21,
   "metadata": {},
   "outputs": [],
   "source": [
    "loh_df = data_df[data_df.Has_HLALOH].Cancer_type.value_counts().reset_index()\n",
    "loh_df.columns = ['Cancer_type', 'HLALOH_patients']"
   ]
  },
  {
   "cell_type": "code",
   "execution_count": 22,
   "metadata": {},
   "outputs": [],
   "source": [
    "freq_df = pd.merge(total_df, loh_df, on='Cancer_type', how='left').fillna(0)"
   ]
  },
  {
   "cell_type": "code",
   "execution_count": 23,
   "metadata": {},
   "outputs": [],
   "source": [
    "freq_df['Fraction'] = freq_df['HLALOH_patients'] / freq_df['Total_patients']"
   ]
  },
  {
   "cell_type": "code",
   "execution_count": 24,
   "metadata": {},
   "outputs": [],
   "source": [
    "cancer_type_map = {'Cervical': 'Cervical', 'Head_Neck': 'HNSCC', 'NSCLC_SCC': 'NSCLC-SCC',\n",
    "                   'NSCLC_adenocarcinoma': 'NSCLC-A', 'Pancreatic': 'Pancreatic',\n",
    "                   'Bladder': 'Blader', 'Colorectal': 'Colorectal', 'Kidney_RCC': 'Kidney',\n",
    "                   'Breast': 'Breast', 'Melanoma': 'Melanoma', 'Ovarian': 'Ovarian',\n",
    "                   'Uterine': 'Uterine', 'Liver':'Liver'}"
   ]
  },
  {
   "cell_type": "code",
   "execution_count": 25,
   "metadata": {},
   "outputs": [
    {
     "data": {
      "image/png": "[encoded data removed]",
      "text/plain": [
       "<Figure size 360x252 with 2 Axes>"
      ]
     },
     "metadata": {},
     "output_type": "display_data"
    }
   ],
   "source": [
    "size_constraint = freq_df.Total_patients > 10\n",
    "\n",
    "plt.figure(figsize=(5, 3.5))\n",
    "sns.set_context('talk', font_scale=0.7)\n",
    "gs = gridspec.GridSpec(1, 2, width_ratios=[1, 2]) \n",
    "\n",
    "\n",
    "ax0 = plt.subplot(gs[1])\n",
    "sns.barplot(y='Cancer_type', x='Has_HLALOH', data=data_df, color='grey', \n",
    "            order=freq_df[size_constraint].sort_values('Fraction', ascending=False).Cancer_type, ax = ax0)\n",
    "plt.xlabel('Fraction of\\npatients\\nwith HLA LOH')\n",
    "plt.yticks([])\n",
    "plt.ylabel('')\n",
    "\n",
    "ax1 = plt.subplot(gs[0])\n",
    "sns.barplot(y='Cancer_type', x='Total_patients', data=freq_df, color='grey', \n",
    "            order=freq_df[size_constraint].sort_values('Fraction', ascending=False).Cancer_type, ax=ax1)\n",
    "plt.xticks(rotation=90)\n",
    "plt.xlabel('Number of\\npatients')\n",
    "ax1.set(yticklabels=[cancer_type_map[x] for x in \n",
    "                     list(freq_df[size_constraint].sort_values('Fraction', ascending=False).Cancer_type)])\n",
    "plt.ylabel('')\n",
    "\n",
    "plt.savefig('/rnd/users/rpyke/data/00-DASH/figures/nextdb.frequency_of_hlaloh.2021_06_25.pdf',\n",
    "           bbox_inches='tight')"
   ]
  },
  {
   "cell_type": "code",
   "execution_count": 26,
   "metadata": {
    "scrolled": true
   },
   "outputs": [
    {
     "data": {
      "text/plain": [
       "609"
      ]
     },
     "execution_count": 26,
     "metadata": {},
     "output_type": "execute_result"
    }
   ],
   "source": [
    "freq_df.Total_patients.sum()"
   ]
  },
  {
   "cell_type": "code",
   "execution_count": 27,
   "metadata": {
    "scrolled": true
   },
   "outputs": [
    {
     "data": {
      "text/html": [
       "<div>\n",
       "<style scoped>\n",
       "    .dataframe tbody tr th:only-of-type {\n",
       "        vertical-align: middle;\n",
       "    }\n",
       "\n",
       "    .dataframe tbody tr th {\n",
       "        vertical-align: top;\n",
       "    }\n",
       "\n",
       "    .dataframe thead th {\n",
       "        text-align: right;\n",
       "    }\n",
       "</style>\n",
       "<table border=\"1\" class=\"dataframe\">\n",
       "  <thead>\n",
       "    <tr style=\"text-align: right;\">\n",
       "      <th></th>\n",
       "      <th>Cancer_type</th>\n",
       "      <th>Total_patients</th>\n",
       "      <th>HLALOH_patients</th>\n",
       "      <th>Fraction</th>\n",
       "    </tr>\n",
       "  </thead>\n",
       "  <tbody>\n",
       "    <tr>\n",
       "      <th>13</th>\n",
       "      <td>Thyroid</td>\n",
       "      <td>2</td>\n",
       "      <td>0.0</td>\n",
       "      <td>0.000000</td>\n",
       "    </tr>\n",
       "    <tr>\n",
       "      <th>14</th>\n",
       "      <td>Lung-LCC</td>\n",
       "      <td>1</td>\n",
       "      <td>0.0</td>\n",
       "      <td>0.000000</td>\n",
       "    </tr>\n",
       "    <tr>\n",
       "      <th>9</th>\n",
       "      <td>Liver</td>\n",
       "      <td>28</td>\n",
       "      <td>1.0</td>\n",
       "      <td>0.035714</td>\n",
       "    </tr>\n",
       "    <tr>\n",
       "      <th>1</th>\n",
       "      <td>Melanoma</td>\n",
       "      <td>84</td>\n",
       "      <td>6.0</td>\n",
       "      <td>0.071429</td>\n",
       "    </tr>\n",
       "    <tr>\n",
       "      <th>5</th>\n",
       "      <td>Uterine</td>\n",
       "      <td>39</td>\n",
       "      <td>3.0</td>\n",
       "      <td>0.076923</td>\n",
       "    </tr>\n",
       "    <tr>\n",
       "      <th>3</th>\n",
       "      <td>Breast</td>\n",
       "      <td>66</td>\n",
       "      <td>6.0</td>\n",
       "      <td>0.090909</td>\n",
       "    </tr>\n",
       "    <tr>\n",
       "      <th>10</th>\n",
       "      <td>Ovarian</td>\n",
       "      <td>28</td>\n",
       "      <td>4.0</td>\n",
       "      <td>0.142857</td>\n",
       "    </tr>\n",
       "    <tr>\n",
       "      <th>4</th>\n",
       "      <td>Kidney_RCC</td>\n",
       "      <td>55</td>\n",
       "      <td>9.0</td>\n",
       "      <td>0.163636</td>\n",
       "    </tr>\n",
       "    <tr>\n",
       "      <th>2</th>\n",
       "      <td>Colorectal</td>\n",
       "      <td>80</td>\n",
       "      <td>18.0</td>\n",
       "      <td>0.225000</td>\n",
       "    </tr>\n",
       "    <tr>\n",
       "      <th>6</th>\n",
       "      <td>Bladder</td>\n",
       "      <td>38</td>\n",
       "      <td>9.0</td>\n",
       "      <td>0.236842</td>\n",
       "    </tr>\n",
       "    <tr>\n",
       "      <th>0</th>\n",
       "      <td>NSCLC_adenocarcinoma</td>\n",
       "      <td>88</td>\n",
       "      <td>21.0</td>\n",
       "      <td>0.238636</td>\n",
       "    </tr>\n",
       "    <tr>\n",
       "      <th>8</th>\n",
       "      <td>Pancreatic</td>\n",
       "      <td>30</td>\n",
       "      <td>8.0</td>\n",
       "      <td>0.266667</td>\n",
       "    </tr>\n",
       "    <tr>\n",
       "      <th>7</th>\n",
       "      <td>NSCLC_SCC</td>\n",
       "      <td>32</td>\n",
       "      <td>9.0</td>\n",
       "      <td>0.281250</td>\n",
       "    </tr>\n",
       "    <tr>\n",
       "      <th>12</th>\n",
       "      <td>Cervical</td>\n",
       "      <td>18</td>\n",
       "      <td>7.0</td>\n",
       "      <td>0.388889</td>\n",
       "    </tr>\n",
       "    <tr>\n",
       "      <th>11</th>\n",
       "      <td>Head_Neck</td>\n",
       "      <td>20</td>\n",
       "      <td>8.0</td>\n",
       "      <td>0.400000</td>\n",
       "    </tr>\n",
       "  </tbody>\n",
       "</table>\n",
       "</div>"
      ],
      "text/plain": [
       "             Cancer_type  Total_patients  HLALOH_patients  Fraction\n",
       "13               Thyroid               2              0.0  0.000000\n",
       "14              Lung-LCC               1              0.0  0.000000\n",
       "9                  Liver              28              1.0  0.035714\n",
       "1               Melanoma              84              6.0  0.071429\n",
       "5                Uterine              39              3.0  0.076923\n",
       "3                 Breast              66              6.0  0.090909\n",
       "10               Ovarian              28              4.0  0.142857\n",
       "4             Kidney_RCC              55              9.0  0.163636\n",
       "2             Colorectal              80             18.0  0.225000\n",
       "6                Bladder              38              9.0  0.236842\n",
       "0   NSCLC_adenocarcinoma              88             21.0  0.238636\n",
       "8             Pancreatic              30              8.0  0.266667\n",
       "7              NSCLC_SCC              32              9.0  0.281250\n",
       "12              Cervical              18              7.0  0.388889\n",
       "11             Head_Neck              20              8.0  0.400000"
      ]
     },
     "execution_count": 27,
     "metadata": {},
     "output_type": "execute_result"
    }
   ],
   "source": [
    "freq_df.sort_values('Fraction')"
   ]
  },
  {
   "cell_type": "code",
   "execution_count": 28,
   "metadata": {},
   "outputs": [],
   "source": [
    "freq_df.columns = ['Cancer Type', 'Total Patients', 'Patients with HLA LOH', 'Fraction of Patients with HLA LOH']"
   ]
  },
  {
   "cell_type": "code",
   "execution_count": 29,
   "metadata": {},
   "outputs": [],
   "source": [
    "# Save table to file\n",
    "freq_df.sort_values('Fraction of Patients with HLA LOH', ascending=False).to_excel('/rnd/users/rpyke/data/00-DASH/tables/Table_S5_hla_loh_frequencies.xlsx', index=None)\n"
   ]
  },
  {
   "cell_type": "code",
   "execution_count": 30,
   "metadata": {
    "scrolled": true
   },
   "outputs": [
    {
     "data": {
      "text/plain": [
       "0.6153846153846154"
      ]
     },
     "execution_count": 30,
     "metadata": {},
     "output_type": "execute_result"
    }
   ],
   "source": [
    "# Update\n",
    "8 / 13"
   ]
  },
  {
   "cell_type": "markdown",
   "metadata": {},
   "source": [
    "### Check # of alleles lost if starting with only heterozygous patients"
   ]
  },
  {
   "cell_type": "code",
   "execution_count": 31,
   "metadata": {},
   "outputs": [],
   "source": [
    "data_df['Allele_lost_A'] = data_df['Alleles_lost'].str.contains('A').fillna(False).astype(int)\n",
    "data_df['Allele_lost_B'] = data_df['Alleles_lost'].str.contains('B').fillna(False).astype(int)\n",
    "data_df['Allele_lost_C'] = data_df['Alleles_lost'].str.contains('C').fillna(False).astype(int)"
   ]
  },
  {
   "cell_type": "code",
   "execution_count": 32,
   "metadata": {},
   "outputs": [],
   "source": [
    "# restrict to fully heterozygous alleles\n",
    "heterozygous_data_df = data_df[data_df.Alleles_homozygous.isna()]"
   ]
  },
  {
   "cell_type": "code",
   "execution_count": 33,
   "metadata": {},
   "outputs": [],
   "source": [
    "gene_count_df = heterozygous_data_df[['Allele_lost_A', 'Allele_lost_B', 'Allele_lost_C']].sum(axis=1) \\\n",
    "                        .value_counts().reset_index()\n",
    "gene_count_df.columns = ['Number of HLA genes with LOH', 'Number of patients']"
   ]
  },
  {
   "cell_type": "code",
   "execution_count": 34,
   "metadata": {},
   "outputs": [
    {
     "data": {
      "text/html": [
       "<div>\n",
       "<style scoped>\n",
       "    .dataframe tbody tr th:only-of-type {\n",
       "        vertical-align: middle;\n",
       "    }\n",
       "\n",
       "    .dataframe tbody tr th {\n",
       "        vertical-align: top;\n",
       "    }\n",
       "\n",
       "    .dataframe thead th {\n",
       "        text-align: right;\n",
       "    }\n",
       "</style>\n",
       "<table border=\"1\" class=\"dataframe\">\n",
       "  <thead>\n",
       "    <tr style=\"text-align: right;\">\n",
       "      <th></th>\n",
       "      <th>Number of HLA genes with LOH</th>\n",
       "      <th>Number of patients</th>\n",
       "    </tr>\n",
       "  </thead>\n",
       "  <tbody>\n",
       "    <tr>\n",
       "      <th>0</th>\n",
       "      <td>0</td>\n",
       "      <td>354</td>\n",
       "    </tr>\n",
       "    <tr>\n",
       "      <th>1</th>\n",
       "      <td>3</td>\n",
       "      <td>65</td>\n",
       "    </tr>\n",
       "    <tr>\n",
       "      <th>2</th>\n",
       "      <td>1</td>\n",
       "      <td>17</td>\n",
       "    </tr>\n",
       "    <tr>\n",
       "      <th>3</th>\n",
       "      <td>2</td>\n",
       "      <td>3</td>\n",
       "    </tr>\n",
       "  </tbody>\n",
       "</table>\n",
       "</div>"
      ],
      "text/plain": [
       "   Number of HLA genes with LOH  Number of patients\n",
       "0                             0                 354\n",
       "1                             3                  65\n",
       "2                             1                  17\n",
       "3                             2                   3"
      ]
     },
     "execution_count": 34,
     "metadata": {},
     "output_type": "execute_result"
    }
   ],
   "source": [
    "gene_count_df.head()"
   ]
  },
  {
   "cell_type": "code",
   "execution_count": 35,
   "metadata": {},
   "outputs": [
    {
     "data": {
      "image/png": "[encoded data removed]",
      "text/plain": [
       "<Figure size 144x252 with 1 Axes>"
      ]
     },
     "metadata": {},
     "output_type": "display_data"
    }
   ],
   "source": [
    "plt.figure(figsize=(2, 3.5))\n",
    "sns.set_context('talk', font_scale=0.7)\n",
    "sns.barplot(x='Number of HLA genes with LOH', y='Number of patients', data=gene_count_df,\n",
    "           order=[1, 2, 3], color='grey')\n",
    "plt.xticks(rotation=0)\n",
    "plt.ylabel('Number of fully\\nheterozygous patients')\n",
    "plt.xlabel('Number of HLA\\ngenes with LOH')\n",
    "\n",
    "plt.savefig('/rnd/users/rpyke/data/00-DASH/figures/nextdb.number_of_genes_impacted.2021_06_25.pdf',\n",
    "           bbox_inches='tight')"
   ]
  },
  {
   "cell_type": "code",
   "execution_count": 36,
   "metadata": {
    "scrolled": false
   },
   "outputs": [
    {
     "name": "stdout",
     "output_type": "stream",
     "text": [
      "0.7647058823529411\n",
      "0.03529411764705882\n",
      "0.21176470588235294\n"
     ]
    }
   ],
   "source": [
    "print(65 / (65+17+3))\n",
    "print(3 / (65+17+3))\n",
    "print(18 / (65+17+3))"
   ]
  },
  {
   "cell_type": "code",
   "execution_count": 37,
   "metadata": {},
   "outputs": [],
   "source": [
    "gene_specific_df = heterozygous_data_df[['Allele_lost_A', 'Allele_lost_B', 'Allele_lost_C']].sum().reset_index()"
   ]
  },
  {
   "cell_type": "code",
   "execution_count": 38,
   "metadata": {},
   "outputs": [],
   "source": [
    "gene_specific_df['Gene'] = gene_specific_df['index'].str.split('_').str[2]"
   ]
  },
  {
   "cell_type": "code",
   "execution_count": 39,
   "metadata": {},
   "outputs": [],
   "source": [
    "gene_specific_df.columns = ['index', 'Number_lost', 'Gene']"
   ]
  },
  {
   "cell_type": "code",
   "execution_count": 40,
   "metadata": {},
   "outputs": [
    {
     "data": {
      "image/png": "[encoded data removed]",
      "text/plain": [
       "<Figure size 144x252 with 1 Axes>"
      ]
     },
     "metadata": {},
     "output_type": "display_data"
    }
   ],
   "source": [
    "plt.figure(figsize=(2, 3.5))\n",
    "sns.set_context('talk', font_scale=0.7)\n",
    "sns.barplot(x='Gene', y='Number_lost', data=gene_specific_df,\n",
    "           order=['A', 'B', 'C'], color='grey')\n",
    "plt.xticks(rotation=0)\n",
    "plt.ylabel('Number of HLA\\ngenes with LOH')\n",
    "plt.xlabel('HLA gene')\n",
    "\n",
    "plt.savefig('/rnd/users/rpyke/data/00-DASH/figures/nextdb.which_genes_impacted.2021_06_25.pdf',\n",
    "           bbox_inches='tight')"
   ]
  },
  {
   "cell_type": "markdown",
   "metadata": {},
   "source": [
    "### CNV"
   ]
  },
  {
   "cell_type": "code",
   "execution_count": 41,
   "metadata": {},
   "outputs": [],
   "source": [
    "green = '#77c722'\n",
    "blue = '#3864b5'"
   ]
  },
  {
   "cell_type": "code",
   "execution_count": 42,
   "metadata": {
    "scrolled": true
   },
   "outputs": [
    {
     "data": {
      "text/plain": [
       "609"
      ]
     },
     "execution_count": 42,
     "metadata": {},
     "output_type": "execute_result"
    }
   ],
   "source": [
    "len(data_df)"
   ]
  },
  {
   "cell_type": "code",
   "execution_count": 43,
   "metadata": {},
   "outputs": [
    {
     "name": "stdout",
     "output_type": "stream",
     "text": [
      "Pan-cancer: MannwhitneyuResult(statistic=12019.0, pvalue=2.835306561035477e-20)\n",
      "With HLA LOH: 0.280441234375\n",
      "Without HLA LOH: 0.1445645175\n",
      "NSCLC_adenocarcinoma 0.0084282007223309\n",
      "Colorectal 0.0015781147951099968\n",
      "Kidney_RCC 0.0006979597510717297\n",
      "Bladder 0.007855552473674522\n",
      "NSCLC_SCC 0.010227182034080328\n",
      "Head_Neck 1.6225806402093652\n",
      "Pancreatic 0.161853385521899\n"
     ]
    }
   ],
   "source": [
    "print('Pan-cancer:', sp.mannwhitneyu(data_df[data_df.Has_HLALOH].LOH_region,\n",
    "               data_df[~data_df.Has_HLALOH].LOH_region))\n",
    "print('With HLA LOH:', data_df[data_df.Has_HLALOH].LOH_region.median())\n",
    "print('Without HLA LOH:', data_df[~data_df.Has_HLALOH].LOH_region.median())\n",
    "\n",
    "\n",
    "for tumor_type in cancer_types:\n",
    "    print(tumor_type, sp.mannwhitneyu(data_df[(data_df.Cancer_type == tumor_type)&data_df.Has_HLALOH].LOH_region,\n",
    "           data_df[(data_df.Cancer_type == tumor_type)&~data_df.Has_HLALOH].LOH_region)[1]*len(cancer_types))\n"
   ]
  },
  {
   "cell_type": "code",
   "execution_count": 44,
   "metadata": {},
   "outputs": [],
   "source": [
    "data_df['HLA LOH'] = data_df['Has_HLALOH']"
   ]
  },
  {
   "cell_type": "code",
   "execution_count": 45,
   "metadata": {},
   "outputs": [
    {
     "data": {
      "image/png": "[encoded data removed]",
      "text/plain": [
       "<Figure size 252x216 with 1 Axes>"
      ]
     },
     "metadata": {},
     "output_type": "display_data"
    }
   ],
   "source": [
    "plt.figure(figsize=(3.5, 3))\n",
    "sns.set_context('talk', font_scale=0.7)\n",
    "g = sns.boxplot(x='Cancer_type', y='LOH_region', hue='HLA LOH', data=data_df, palette=[green, blue],\n",
    "            order=cancer_types)\n",
    "plt.xticks(rotation=90)\n",
    "plt.ylabel('Fraction of\\nGenome with LOH')\n",
    "#plt.ylim(50, 200)\n",
    "#plt.legend([])\n",
    "g.set(xticklabels=[cancer_type_map[x] for x in cancer_types])\n",
    "plt.xlabel('')\n",
    "\n",
    "plt.savefig('/rnd/users/rpyke/data/00-DASH/figures/nextdb.fraction_of_genome_LOH.2021_06_25.pdf',\n",
    "           bbox_inches='tight')"
   ]
  },
  {
   "cell_type": "markdown",
   "metadata": {},
   "source": [
    "Patient-specific analysis"
   ]
  },
  {
   "cell_type": "code",
   "execution_count": 46,
   "metadata": {},
   "outputs": [],
   "source": [
    "cnv_category = 'LOH_region'"
   ]
  },
  {
   "cell_type": "code",
   "execution_count": 47,
   "metadata": {},
   "outputs": [],
   "source": [
    "total_length = 3200000000"
   ]
  },
  {
   "cell_type": "code",
   "execution_count": 48,
   "metadata": {},
   "outputs": [],
   "source": [
    "hla_gene_length = 3000"
   ]
  },
  {
   "cell_type": "code",
   "execution_count": 49,
   "metadata": {
    "scrolled": true
   },
   "outputs": [
    {
     "data": {
      "text/plain": [
       "9.375e-07"
      ]
     },
     "execution_count": 49,
     "metadata": {},
     "output_type": "execute_result"
    }
   ],
   "source": [
    "hla_gene_length / total_length"
   ]
  },
  {
   "cell_type": "code",
   "execution_count": 50,
   "metadata": {},
   "outputs": [
    {
     "data": {
      "text/plain": [
       "MannwhitneyuResult(statistic=66272.0, pvalue=1.975351072417448e-90)"
      ]
     },
     "execution_count": 50,
     "metadata": {},
     "output_type": "execute_result"
    }
   ],
   "source": [
    "sp.mannwhitneyu(list(data_df[cnv_category]),\n",
    "               list(data_df['HLA LOH'].astype(int)))"
   ]
  },
  {
   "cell_type": "code",
   "execution_count": 51,
   "metadata": {
    "scrolled": true
   },
   "outputs": [
    {
     "data": {
      "text/plain": [
       "0.17898193760262726"
      ]
     },
     "execution_count": 51,
     "metadata": {},
     "output_type": "execute_result"
    }
   ],
   "source": [
    "data_df['HLA LOH'].astype(int).mean()"
   ]
  },
  {
   "cell_type": "code",
   "execution_count": 52,
   "metadata": {
    "scrolled": false
   },
   "outputs": [
    {
     "data": {
      "image/png": "[encoded data removed]",
      "text/plain": [
       "<Figure size 252x144 with 1 Axes>"
      ]
     },
     "metadata": {},
     "output_type": "display_data"
    }
   ],
   "source": [
    "plt.figure(figsize=(3.5, 2))\n",
    "\n",
    "data_df[cnv_category].hist(color='grey')\n",
    "\n",
    "plt.axvline(data_df['HLA LOH'].astype(int).mean(), color='darkred')\n",
    "\n",
    "plt.xlabel('Fraction of genome\\nimpacted by LOH')\n",
    "plt.ylabel('Number of\\npatients')\n",
    "\n",
    "plt.savefig('/rnd/users/rpyke/data/00-DASH/figures/nextdb.fraction_LOH_and_HLALOH_pancancer.2021_06_25.pdf',\n",
    "           bbox_inches='tight')"
   ]
  },
  {
   "cell_type": "code",
   "execution_count": 53,
   "metadata": {
    "scrolled": true
   },
   "outputs": [
    {
     "data": {
      "text/plain": [
       "0.17898193760262726"
      ]
     },
     "execution_count": 53,
     "metadata": {},
     "output_type": "execute_result"
    }
   ],
   "source": [
    "data_df['HLA LOH'].astype(int).mean()"
   ]
  },
  {
   "cell_type": "code",
   "execution_count": 54,
   "metadata": {},
   "outputs": [
    {
     "data": {
      "text/plain": [
       "0.17121542609375"
      ]
     },
     "execution_count": 54,
     "metadata": {},
     "output_type": "execute_result"
    }
   ],
   "source": [
    "data_df[cnv_category].median()"
   ]
  },
  {
   "cell_type": "markdown",
   "metadata": {},
   "source": [
    "Tumor-type specific analysis"
   ]
  },
  {
   "cell_type": "code",
   "execution_count": 55,
   "metadata": {},
   "outputs": [],
   "source": [
    "cnv_category = 'LOH_region'\n",
    "cnv_freq_df = pd.DataFrame(data_df.groupby('Cancer_type')[cnv_category].median().sort_values()).reset_index()"
   ]
  },
  {
   "cell_type": "code",
   "execution_count": 56,
   "metadata": {},
   "outputs": [
    {
     "data": {
      "text/html": [
       "<div>\n",
       "<style scoped>\n",
       "    .dataframe tbody tr th:only-of-type {\n",
       "        vertical-align: middle;\n",
       "    }\n",
       "\n",
       "    .dataframe tbody tr th {\n",
       "        vertical-align: top;\n",
       "    }\n",
       "\n",
       "    .dataframe thead th {\n",
       "        text-align: right;\n",
       "    }\n",
       "</style>\n",
       "<table border=\"1\" class=\"dataframe\">\n",
       "  <thead>\n",
       "    <tr style=\"text-align: right;\">\n",
       "      <th></th>\n",
       "      <th>Cancer_type</th>\n",
       "      <th>LOH_region</th>\n",
       "    </tr>\n",
       "  </thead>\n",
       "  <tbody>\n",
       "    <tr>\n",
       "      <th>0</th>\n",
       "      <td>Uterine</td>\n",
       "      <td>0.048719</td>\n",
       "    </tr>\n",
       "    <tr>\n",
       "      <th>1</th>\n",
       "      <td>Thyroid</td>\n",
       "      <td>0.110709</td>\n",
       "    </tr>\n",
       "    <tr>\n",
       "      <th>2</th>\n",
       "      <td>Colorectal</td>\n",
       "      <td>0.126482</td>\n",
       "    </tr>\n",
       "    <tr>\n",
       "      <th>3</th>\n",
       "      <td>Melanoma</td>\n",
       "      <td>0.139147</td>\n",
       "    </tr>\n",
       "    <tr>\n",
       "      <th>4</th>\n",
       "      <td>Kidney_RCC</td>\n",
       "      <td>0.140382</td>\n",
       "    </tr>\n",
       "  </tbody>\n",
       "</table>\n",
       "</div>"
      ],
      "text/plain": [
       "  Cancer_type  LOH_region\n",
       "0     Uterine    0.048719\n",
       "1     Thyroid    0.110709\n",
       "2  Colorectal    0.126482\n",
       "3    Melanoma    0.139147\n",
       "4  Kidney_RCC    0.140382"
      ]
     },
     "execution_count": 56,
     "metadata": {},
     "output_type": "execute_result"
    }
   ],
   "source": [
    "cnv_freq_df.head()"
   ]
  },
  {
   "cell_type": "code",
   "execution_count": 57,
   "metadata": {},
   "outputs": [
    {
     "data": {
      "text/html": [
       "<div>\n",
       "<style scoped>\n",
       "    .dataframe tbody tr th:only-of-type {\n",
       "        vertical-align: middle;\n",
       "    }\n",
       "\n",
       "    .dataframe tbody tr th {\n",
       "        vertical-align: top;\n",
       "    }\n",
       "\n",
       "    .dataframe thead th {\n",
       "        text-align: right;\n",
       "    }\n",
       "</style>\n",
       "<table border=\"1\" class=\"dataframe\">\n",
       "  <thead>\n",
       "    <tr style=\"text-align: right;\">\n",
       "      <th></th>\n",
       "      <th>Cancer Type</th>\n",
       "      <th>Total Patients</th>\n",
       "      <th>Patients with HLA LOH</th>\n",
       "      <th>Fraction of Patients with HLA LOH</th>\n",
       "    </tr>\n",
       "  </thead>\n",
       "  <tbody>\n",
       "    <tr>\n",
       "      <th>0</th>\n",
       "      <td>NSCLC_adenocarcinoma</td>\n",
       "      <td>88</td>\n",
       "      <td>21.0</td>\n",
       "      <td>0.238636</td>\n",
       "    </tr>\n",
       "    <tr>\n",
       "      <th>1</th>\n",
       "      <td>Melanoma</td>\n",
       "      <td>84</td>\n",
       "      <td>6.0</td>\n",
       "      <td>0.071429</td>\n",
       "    </tr>\n",
       "    <tr>\n",
       "      <th>2</th>\n",
       "      <td>Colorectal</td>\n",
       "      <td>80</td>\n",
       "      <td>18.0</td>\n",
       "      <td>0.225000</td>\n",
       "    </tr>\n",
       "    <tr>\n",
       "      <th>3</th>\n",
       "      <td>Breast</td>\n",
       "      <td>66</td>\n",
       "      <td>6.0</td>\n",
       "      <td>0.090909</td>\n",
       "    </tr>\n",
       "    <tr>\n",
       "      <th>4</th>\n",
       "      <td>Kidney_RCC</td>\n",
       "      <td>55</td>\n",
       "      <td>9.0</td>\n",
       "      <td>0.163636</td>\n",
       "    </tr>\n",
       "  </tbody>\n",
       "</table>\n",
       "</div>"
      ],
      "text/plain": [
       "            Cancer Type  Total Patients  Patients with HLA LOH  \\\n",
       "0  NSCLC_adenocarcinoma              88                   21.0   \n",
       "1              Melanoma              84                    6.0   \n",
       "2            Colorectal              80                   18.0   \n",
       "3                Breast              66                    6.0   \n",
       "4            Kidney_RCC              55                    9.0   \n",
       "\n",
       "   Fraction of Patients with HLA LOH  \n",
       "0                           0.238636  \n",
       "1                           0.071429  \n",
       "2                           0.225000  \n",
       "3                           0.090909  \n",
       "4                           0.163636  "
      ]
     },
     "execution_count": 57,
     "metadata": {},
     "output_type": "execute_result"
    }
   ],
   "source": [
    "freq_df.head()"
   ]
  },
  {
   "cell_type": "code",
   "execution_count": 58,
   "metadata": {},
   "outputs": [],
   "source": [
    "freq_df['Cancer_type'] = freq_df['Cancer Type']\n",
    "freq_df['Fraction'] = freq_df['Fraction of Patients with HLA LOH']\n",
    "merged_freq_df = pd.merge(cnv_freq_df, freq_df, on='Cancer_type')\n",
    "merged_freq_df_high_freq = merged_freq_df[merged_freq_df.Cancer_type.isin(cancer_types)]\n"
   ]
  },
  {
   "cell_type": "code",
   "execution_count": 59,
   "metadata": {},
   "outputs": [
    {
     "data": {
      "image/png": "[encoded data removed]",
      "text/plain": [
       "<Figure size 252x216 with 1 Axes>"
      ]
     },
     "metadata": {},
     "output_type": "display_data"
    }
   ],
   "source": [
    "plt.figure(figsize=(3.5, 3))\n",
    "sns.set_context('talk', font_scale=0.7)\n",
    "plt.plot((0, 0.5), (0, 0.5), '--', color='grey')\n",
    "\n",
    "ax = sns.scatterplot(x=cnv_category, y='Fraction', \n",
    "                     data=merged_freq_df_high_freq, color='darkgrey')\n",
    "\n",
    "for i, txt in enumerate(range(len(merged_freq_df_high_freq))):\n",
    "    ax.annotate(cancer_type_map[list(merged_freq_df_high_freq.Cancer_type)[i]], \n",
    "                (list(merged_freq_df_high_freq[cnv_category])[i]+0.015, \n",
    "                 list(merged_freq_df_high_freq.Fraction)[i]-0.01), size=10)\n",
    "plt.xlabel('Fraction of genome\\nwith LOH')\n",
    "plt.ylabel('Percentage of patients\\nwith HLA LOH')\n",
    "plt.xlim(0, 0.5)\n",
    "plt.ylim(0, 0.5)\n",
    "\n",
    "plt.savefig('/rnd/users/rpyke/data/00-DASH/figures/nextdb.fraction_LOH_and_HLALOH.2021_06_25.pdf',\n",
    "           bbox_inches='tight')"
   ]
  },
  {
   "cell_type": "markdown",
   "metadata": {},
   "source": [
    "### TMB"
   ]
  },
  {
   "cell_type": "code",
   "execution_count": 60,
   "metadata": {},
   "outputs": [
    {
     "name": "stdout",
     "output_type": "stream",
     "text": [
      "Pan-cancer: MannwhitneyuResult(statistic=23040.5, pvalue=0.005722805143241586)\n",
      "With HLA LOH: 305.0373831775701\n",
      "Without HLA LOH: 293.2309236947791\n",
      "NSCLC_adenocarcinoma 0.04330538817996299\n",
      "Colorectal 1.8815749789140894\n",
      "Kidney_RCC 2.963204976631291\n",
      "Bladder 2.0394348047417195\n",
      "NSCLC_SCC 1.7119602025169727\n",
      "Head_Neck 2.156102226412875\n",
      "Pancreatic 0.045197734563621035\n"
     ]
    },
    {
     "data": {
      "text/plain": [
       "(array([0, 1, 2, 3, 4, 5, 6]), <a list of 7 Text xticklabel objects>)"
      ]
     },
     "execution_count": 60,
     "metadata": {},
     "output_type": "execute_result"
    },
    {
     "data": {
      "image/png": "[encoded data removed]",
      "text/plain": [
       "<Figure size 432x288 with 1 Axes>"
      ]
     },
     "metadata": {},
     "output_type": "display_data"
    }
   ],
   "source": [
    "print('Pan-cancer:', sp.mannwhitneyu(data_df[data_df.Has_HLALOH].Potential_neoantigens,\n",
    "               data_df[~data_df.Has_HLALOH].Potential_neoantigens))\n",
    "print('With HLA LOH:', data_df[data_df.Has_HLALOH].Potential_neoantigens.dropna().mean())\n",
    "print('Without HLA LOH:', data_df[~data_df.Has_HLALOH].Potential_neoantigens.dropna().mean())\n",
    "\n",
    "\n",
    "for tumor_type in cancer_types:\n",
    "    print(tumor_type, sp.mannwhitneyu(data_df[(data_df.Cancer_type == tumor_type)&data_df.Has_HLALOH].Potential_neoantigens,\n",
    "           data_df[(data_df.Cancer_type == tumor_type)&~data_df.Has_HLALOH].Potential_neoantigens)[1]*len(cancer_types))\n",
    "\n",
    "g = sns.boxplot(x='Cancer_type', y='Potential_neoantigens', hue='Has_HLALOH', data=data_df,\n",
    "           order=cancer_types, palette=[green, blue])\n",
    "g.set_yscale(\"log\")\n",
    "g.set(xticklabels=[cancer_type_map[x] for x in cancer_types])\n",
    "\n",
    "plt.xticks(rotation=90)"
   ]
  },
  {
   "cell_type": "code",
   "execution_count": 61,
   "metadata": {
    "scrolled": false
   },
   "outputs": [
    {
     "name": "stdout",
     "output_type": "stream",
     "text": [
      "Pan-cancer: MannwhitneyuResult(statistic=23694.0, pvalue=0.016323962241835337)\n",
      "With HLA LOH: 58.5375\n",
      "Without HLA LOH: 54.87403598971722\n",
      "NSCLC_adenocarcinoma MannwhitneyuResult(statistic=570.0, pvalue=0.09642255514456127)\n",
      "Colorectal MannwhitneyuResult(statistic=473.5, pvalue=0.166507232133218)\n",
      "Kidney_RCC MannwhitneyuResult(statistic=206.0, pvalue=0.49545614967095536)\n",
      "Bladder MannwhitneyuResult(statistic=109.5, pvalue=0.24073314724560774)\n",
      "NSCLC_SCC MannwhitneyuResult(statistic=55.5, pvalue=0.023217704244630218)\n",
      "Head_Neck MannwhitneyuResult(statistic=41.5, pvalue=0.321652016554505)\n",
      "Pancreatic MannwhitneyuResult(statistic=74.0, pvalue=0.26279647702382475)\n"
     ]
    },
    {
     "data": {
      "text/plain": [
       "(array([0, 1, 2, 3, 4, 5, 6]), <a list of 7 Text xticklabel objects>)"
      ]
     },
     "execution_count": 61,
     "metadata": {},
     "output_type": "execute_result"
    },
    {
     "data": {
      "image/png": "[encoded data removed]",
      "text/plain": [
       "<Figure size 432x288 with 1 Axes>"
      ]
     },
     "metadata": {},
     "output_type": "display_data"
    }
   ],
   "source": [
    "print('Pan-cancer:', sp.mannwhitneyu(data_df[data_df.Has_HLALOH].BINDING_antigen_strong_count,\n",
    "               data_df[~data_df.Has_HLALOH].BINDING_antigen_strong_count))\n",
    "print('With HLA LOH:', data_df[data_df.Has_HLALOH].BINDING_antigen_strong_count.dropna().mean())\n",
    "print('Without HLA LOH:', data_df[~data_df.Has_HLALOH].BINDING_antigen_strong_count.dropna().mean())\n",
    "\n",
    "for tumor_type in cancer_types:\n",
    "    print(tumor_type, sp.mannwhitneyu(data_df[(data_df.Cancer_type == tumor_type)&data_df.Has_HLALOH].BINDING_antigen_strong_count,\n",
    "           data_df[(data_df.Cancer_type == tumor_type)&~data_df.Has_HLALOH].BINDING_antigen_strong_count))\n",
    "\n",
    "g = sns.boxplot(x='Cancer_type', y='BINDING_antigen_strong_count', hue='Has_HLALOH', data=data_df,\n",
    "           order=cancer_types, palette=[green, blue])\n",
    "g.set_yscale(\"log\")\n",
    "plt.ylabel('Predicted neoantigens')\n",
    "g.set(xticklabels=[cancer_type_map[x] for x in cancer_types])\n",
    "\n",
    "plt.xticks(rotation=90)"
   ]
  },
  {
   "cell_type": "code",
   "execution_count": 62,
   "metadata": {
    "scrolled": true
   },
   "outputs": [
    {
     "data": {
      "image/png": "[encoded data removed]",
      "text/plain": [
       "<Figure size 252x144 with 1 Axes>"
      ]
     },
     "metadata": {},
     "output_type": "display_data"
    }
   ],
   "source": [
    "plt.figure(figsize=(3.5, 2))\n",
    "\n",
    "tmb_df = data_df[['Potential_neoantigens', 'Has_HLALOH']].dropna()\n",
    "tmb_df['Percentile'] = pd.qcut(tmb_df['Potential_neoantigens'], 20, labels=False)\n",
    "\n",
    "sns.barplot(x='Percentile', y='Has_HLALOH', data=tmb_df, color='grey')\n",
    "plt.xticks(rotation=90)\n",
    "plt.xlabel('Mutation burden ventiles')\n",
    "plt.ylabel('Percentage\\nof patients\\nwith HLA LOH')\n",
    "\n",
    "plt.savefig('/rnd/users/rpyke/data/00-DASH/figures/nextdb.tmb_goldilocks.2021_06_25.pdf',\n",
    "           bbox_inches='tight')"
   ]
  },
  {
   "cell_type": "markdown",
   "metadata": {},
   "source": [
    "### Expression"
   ]
  },
  {
   "cell_type": "code",
   "execution_count": 63,
   "metadata": {},
   "outputs": [
    {
     "name": "stdout",
     "output_type": "stream",
     "text": [
      "Pan-cancer: MannwhitneyuResult(statistic=22912.0, pvalue=0.004580912734247475)\n",
      "With HLA LOH: 14.2038\n",
      "Without HLA LOH: 10.9557\n",
      "NSCLC_adenocarcinoma 0.36455976506516596\n",
      "Colorectal 0.1640381405218025\n",
      "Kidney_RCC 3.2778666140028725\n",
      "Bladder 3.0229245407346403\n",
      "NSCLC_SCC 2.050453470943734\n",
      "Head_Neck 2.754977786578909\n",
      "Pancreatic 1.8432895652546475\n"
     ]
    },
    {
     "data": {
      "text/plain": [
       "(array([0, 1, 2, 3, 4, 5, 6]), <a list of 7 Text xticklabel objects>)"
      ]
     },
     "execution_count": 63,
     "metadata": {},
     "output_type": "execute_result"
    },
    {
     "data": {
      "image/png": "[encoded data removed]",
      "text/plain": [
       "<Figure size 432x288 with 1 Axes>"
      ]
     },
     "metadata": {},
     "output_type": "display_data"
    }
   ],
   "source": [
    "# CD274 score\n",
    "print('Pan-cancer:', sp.mannwhitneyu(data_df[data_df.Has_HLALOH].CD274,\n",
    "               data_df[~data_df.Has_HLALOH].CD274))\n",
    "print('With HLA LOH:', data_df[data_df.Has_HLALOH].CD274.median())\n",
    "print('Without HLA LOH:', data_df[~data_df.Has_HLALOH].CD274.median())\n",
    "\n",
    "for tumor_type in cancer_types:\n",
    "    print(tumor_type, sp.mannwhitneyu(data_df[(data_df.Cancer_type == tumor_type)&data_df.Has_HLALOH].CD274,\n",
    "           data_df[(data_df.Cancer_type == tumor_type)&~data_df.Has_HLALOH].CD274)[1]*len(cancer_types))\n",
    "\n",
    "g = sns.boxplot(x='Cancer_type', y='CD274', hue='Has_HLALOH', data=data_df,\n",
    "           order=cancer_types, palette=[green, blue])\n",
    "g.set(xticklabels=[cancer_type_map[x] for x in cancer_types])\n",
    "g.set_yscale(\"log\")\n",
    "\n",
    "plt.xticks(rotation=90)"
   ]
  },
  {
   "cell_type": "markdown",
   "metadata": {},
   "source": [
    "### MSI"
   ]
  },
  {
   "cell_type": "code",
   "execution_count": 64,
   "metadata": {},
   "outputs": [
    {
     "name": "stdout",
     "output_type": "stream",
     "text": [
      "Pan-cancer: MannwhitneyuResult(statistic=22974.5, pvalue=0.004521718405260812)\n",
      "With HLA LOH: 0.08\n",
      "Without HLA LOH: 0.03\n",
      "NSCLC_adenocarcinoma MannwhitneyuResult(statistic=643.5, pvalue=0.27219854955943107)\n",
      "Colorectal MannwhitneyuResult(statistic=477.0, pvalue=0.17499319956632292)\n",
      "Kidney_RCC MannwhitneyuResult(statistic=82.5, pvalue=0.0007145482119161073)\n",
      "Bladder MannwhitneyuResult(statistic=121.0, pvalue=0.3777707081467909)\n",
      "NSCLC_SCC MannwhitneyuResult(statistic=64.0, pvalue=0.047425205125439705)\n",
      "Head_Neck MannwhitneyuResult(statistic=41.5, pvalue=0.32000617435674217)\n",
      "Pancreatic MannwhitneyuResult(statistic=42.5, pvalue=0.005944331898623412)\n"
     ]
    },
    {
     "data": {
      "text/html": [
       "[[Text(0, 0, 'NSCLC-A'), Text(0, 0, 'Colorectal'), Text(0, 0, 'Kidney'), Text(0, 0, 'Blader'), Text(0, 0, 'NSCLC-SCC'), Text(0, 0, 'HNSCC'), Text(0, 0, 'Pancreatic')]]"
      ],
      "text/plain": [
       "[[Text(0, 0, 'NSCLC-A'),\n",
       "  Text(0, 0, 'Colorectal'),\n",
       "  Text(0, 0, 'Kidney'),\n",
       "  Text(0, 0, 'Blader'),\n",
       "  Text(0, 0, 'NSCLC-SCC'),\n",
       "  Text(0, 0, 'HNSCC'),\n",
       "  Text(0, 0, 'Pancreatic')]]"
      ]
     },
     "execution_count": 64,
     "metadata": {},
     "output_type": "execute_result"
    },
    {
     "data": {
      "image/png": "[encoded data removed]",
      "text/plain": [
       "<Figure size 432x288 with 1 Axes>"
      ]
     },
     "metadata": {},
     "output_type": "display_data"
    }
   ],
   "source": [
    "# MSI status\n",
    "print('Pan-cancer:', sp.mannwhitneyu(data_df[data_df.Has_HLALOH].MSI_percentage,\n",
    "               data_df[~data_df.Has_HLALOH].MSI_percentage))\n",
    "print('With HLA LOH:', data_df[data_df.Has_HLALOH].MSI_percentage.median())\n",
    "print('Without HLA LOH:', data_df[~data_df.Has_HLALOH].MSI_percentage.median())\n",
    "\n",
    "for tumor_type in cancer_types:\n",
    "    print(tumor_type, sp.mannwhitneyu(data_df[(data_df.Cancer_type == tumor_type)&data_df.Has_HLALOH].MSI_percentage,\n",
    "           data_df[(data_df.Cancer_type == tumor_type)&~data_df.Has_HLALOH].MSI_percentage))\n",
    "\n",
    "g = sns.boxplot(x='Cancer_type', y='MSI_percentage', hue='Has_HLALOH', data=data_df,\n",
    "           order=cancer_types, palette=[green, blue])\n",
    "plt.xticks(rotation=90)\n",
    "g.set_yscale(\"log\")\n",
    "g.set(xticklabels=[cancer_type_map[x] for x in cancer_types])\n"
   ]
  },
  {
   "cell_type": "markdown",
   "metadata": {},
   "source": [
    "### Oncovirus"
   ]
  },
  {
   "cell_type": "code",
   "execution_count": 65,
   "metadata": {},
   "outputs": [],
   "source": [
    "# Oncovirus\n",
    "oncoviruses = ['CMV', 'EBV', 'Fusobacterium_nucleatum', 'HBV_A', 'HBV_B', 'HBV_C', \n",
    "        'HBV_D', 'HBV_E', 'HBV_F', 'HBV_G', 'HBV_H', 'HPV_16', 'HPV_33', 'HPV_56']"
   ]
  },
  {
   "cell_type": "code",
   "execution_count": 66,
   "metadata": {},
   "outputs": [],
   "source": [
    "data_df['HBV'] = data_df[['HBV_A', 'HBV_B', 'HBV_C', \n",
    "        'HBV_D', 'HBV_E', 'HBV_F', 'HBV_G', 'HBV_H']].sum(axis=1)\n",
    "data_df['HPV'] = data_df[['HPV_16', 'HPV_33', 'HPV_56']].sum(axis=1)"
   ]
  },
  {
   "cell_type": "code",
   "execution_count": 67,
   "metadata": {
    "scrolled": true
   },
   "outputs": [
    {
     "name": "stdout",
     "output_type": "stream",
     "text": [
      "Total liver patients: 28\n",
      "Liver MannwhitneyuResult(statistic=2450.0, pvalue=0.06861729894954298)\n",
      "0.0 0.18196994991652754\n"
     ]
    }
   ],
   "source": [
    "# HBV\n",
    "tumor_type = 'Liver'  \n",
    "print('Total liver patients:', len(data_df[data_df.Cancer_type == 'Liver']))\n",
    "print(tumor_type, sp.mannwhitneyu(data_df[(data_df.Cancer_type == tumor_type)&data_df.HBV > 0].Has_HLALOH,\n",
    "       data_df[(data_df.Cancer_type == tumor_type)&data_df.HBV == 0].Has_HLALOH))\n",
    "print(data_df[(data_df.Cancer_type == tumor_type)&data_df.HBV > 0].Has_HLALOH.mean(),\n",
    "        data_df[(data_df.Cancer_type == tumor_type)&data_df.HBV == 0].Has_HLALOH.mean())\n"
   ]
  },
  {
   "cell_type": "code",
   "execution_count": 68,
   "metadata": {
    "scrolled": true
   },
   "outputs": [
    {
     "data": {
      "text/plain": [
       "False    27\n",
       "True      1\n",
       "Name: Has_HLALOH, dtype: int64"
      ]
     },
     "execution_count": 68,
     "metadata": {},
     "output_type": "execute_result"
    }
   ],
   "source": [
    "data_df[data_df.Cancer_type == 'Liver'].Has_HLALOH.value_counts()"
   ]
  },
  {
   "cell_type": "code",
   "execution_count": 69,
   "metadata": {},
   "outputs": [
    {
     "name": "stdout",
     "output_type": "stream",
     "text": [
      "Total Cervical patients: 18\n",
      "Cervical MannwhitneyuResult(statistic=1879.5, pvalue=0.23004767831455264)\n",
      "0.2857142857142857 0.1777408637873754\n"
     ]
    }
   ],
   "source": [
    "# HPV\n",
    "tumor_type = 'Cervical'      \n",
    "print('Total Cervical patients:', len(data_df[data_df.Cancer_type == 'Cervical']))\n",
    "print(tumor_type, sp.mannwhitneyu(data_df[(data_df.Cancer_type == tumor_type)&data_df.HPV > 0].Has_HLALOH,\n",
    "       data_df[(data_df.Cancer_type == tumor_type)&data_df.HPV == 0].Has_HLALOH))\n",
    "print(data_df[(data_df.Cancer_type == tumor_type)&data_df.HPV > 0].Has_HLALOH.mean(),\n",
    "        data_df[(data_df.Cancer_type == tumor_type)&data_df.HPV == 0].Has_HLALOH.mean())\n"
   ]
  },
  {
   "cell_type": "code",
   "execution_count": 70,
   "metadata": {},
   "outputs": [
    {
     "name": "stdout",
     "output_type": "stream",
     "text": [
      "Overall: MannwhitneyuResult(statistic=8103.0, pvalue=0.006190185831936325)\n",
      "26\n",
      "Colorectal MannwhitneyuResult(statistic=6864.5, pvalue=0.11027448223133496)\n",
      "7\n",
      "Head_Neck MannwhitneyuResult(statistic=1270.5, pvalue=0.003259545494491064)\n"
     ]
    }
   ],
   "source": [
    "# Fusobacterium_nucleatum\n",
    "print('Overall:', sp.mannwhitneyu(data_df[data_df.Fusobacterium_nucleatum == 1].Has_HLALOH,\n",
    "               data_df[data_df.Fusobacterium_nucleatum == 0].Has_HLALOH))\n",
    "for tumor_type in ['Colorectal', 'Head_Neck']:      \n",
    "    print(len(data_df[(data_df.Cancer_type == tumor_type)&data_df.Fusobacterium_nucleatum > 0]))\n",
    "    print(tumor_type, sp.mannwhitneyu(data_df[(data_df.Cancer_type == tumor_type)&data_df.Fusobacterium_nucleatum > 0].Has_HLALOH,\n",
    "               data_df[(data_df.Cancer_type == tumor_type)&data_df.Fusobacterium_nucleatum == 0].Has_HLALOH))\n",
    "            "
   ]
  },
  {
   "cell_type": "code",
   "execution_count": 71,
   "metadata": {
    "scrolled": true
   },
   "outputs": [
    {
     "data": {
      "text/plain": [
       "Colorectal              26\n",
       "Head_Neck                7\n",
       "NSCLC_adenocarcinoma     5\n",
       "Melanoma                 4\n",
       "Ovarian                  2\n",
       "Cervical                 1\n",
       "Kidney_RCC               1\n",
       "Name: Cancer_type, dtype: int64"
      ]
     },
     "execution_count": 71,
     "metadata": {},
     "output_type": "execute_result"
    }
   ],
   "source": [
    "data_df[data_df.Fusobacterium_nucleatum == 1].Cancer_type.value_counts()"
   ]
  },
  {
   "cell_type": "markdown",
   "metadata": {},
   "source": [
    "#### Plotting correlations"
   ]
  },
  {
   "cell_type": "code",
   "execution_count": 77,
   "metadata": {},
   "outputs": [
    {
     "name": "stderr",
     "output_type": "stream",
     "text": [
      "No handles with labels found to put in legend.\n",
      "No handles with labels found to put in legend.\n",
      "No handles with labels found to put in legend.\n"
     ]
    },
    {
     "data": {
      "image/png": "[encoded data removed]",
      "text/plain": [
       "<Figure size 612x180 with 3 Axes>"
      ]
     },
     "metadata": {},
     "output_type": "display_data"
    }
   ],
   "source": [
    "# Combine into a single figure\n",
    "plt.figure(figsize=(8.5, 2.5))\n",
    "sns.set_context('talk', font_scale=0.7)\n",
    "gs = gridspec.GridSpec(1, 6) \n",
    "\n",
    "ax1 = plt.subplot2grid((1, 6), (0, 0))\n",
    "sns.boxplot(x='HLA LOH', y='BINDING_antigen_strong_count', #ci=None,\n",
    "            data=data_df, palette=[green, blue], order=[False, True])\n",
    "plt.xticks(rotation=90)\n",
    "plt.ylim(0, 150)\n",
    "plt.legend().remove()\n",
    "plt.xticks([])\n",
    "plt.xlabel('')\n",
    "plt.ylabel('Neoantigen burden')\n",
    "\n",
    "ax3 = plt.subplot2grid((1, 6), (0, 2))\n",
    "sns.boxplot(x='HLA LOH', y='CD274', #ci=None,\n",
    "            data=data_df, palette=[green, blue], order=[False, True])\n",
    "plt.xticks(rotation=90)\n",
    "plt.ylim(0, 100)\n",
    "plt.legend().remove()\n",
    "plt.xticks([])\n",
    "plt.xlabel('')\n",
    "plt.ylabel('CD274 (PD-L1)\\n expression')\n",
    "\n",
    "ax4 = plt.subplot2grid((1, 6), (0, 4))\n",
    "sns.barplot(x='HLA LOH', y='MSI_percentage', ci=None,\n",
    "            data=data_df, palette=[green, blue], order=[False, True])\n",
    "plt.xticks(rotation=90)\n",
    "plt.legend().remove()\n",
    "plt.xticks([])\n",
    "plt.xlabel('')\n",
    "plt.ylabel('Percentage\\nMSI status')\n",
    "\n",
    "\n",
    "plt.savefig('/rnd/users/rpyke/data/00-DASH/figures/nextdb.pan_correlations.2021_06_25.pdf',\n",
    "           bbox_inches='tight')"
   ]
  },
  {
   "cell_type": "markdown",
   "metadata": {},
   "source": [
    "##### Neoantigen trends"
   ]
  },
  {
   "cell_type": "code",
   "execution_count": 73,
   "metadata": {},
   "outputs": [
    {
     "data": {
      "image/png": "[encoded data removed]",
      "text/plain": [
       "<Figure size 252x720 with 5 Axes>"
      ]
     },
     "metadata": {},
     "output_type": "display_data"
    }
   ],
   "source": [
    "# Combine into a single figure\n",
    "plt.figure(figsize=(3.5, 10))\n",
    "sns.set_context('talk', font_scale=0.7)\n",
    "gs = gridspec.GridSpec(5, 1) \n",
    "\n",
    "\n",
    "ax1 = plt.subplot2grid((5, 1), (0, 0))\n",
    "sns.boxplot(x='Cancer_type', y='HED', hue='Has_HLALOH', \n",
    "            data=data_df, palette=[green, blue],\n",
    "            order=cancer_types)\n",
    "#g.set(xticklabels=['NSCLC-A', 'Breast', 'Melanoma', 'Colorectal', 'Head-neck'])\n",
    "plt.xticks(rotation=90)\n",
    "plt.legend(bbox_to_anchor=(1.5, 1))\n",
    "plt.xticks([])\n",
    "plt.xlabel('')\n",
    "plt.ylabel('HLA-I evoluationary\\ndistance (HED)')\n",
    "#plt.tight_layout()\n",
    "\n",
    "\n",
    "ax2 = plt.subplot2grid((5, 1), (1, 0))\n",
    "sns.boxplot(x='Cancer_type', y='Potential_neoantigens', hue='Has_HLALOH', data=data_df, palette=[green, blue],\n",
    "           order=cancer_types)\n",
    "plt.ylabel('Number of\\nmutations')\n",
    "ax2.set(yscale=\"log\")\n",
    "#plt.ylim(0, 2000)\n",
    "plt.xticks(rotation=90)\n",
    "plt.xticks([])\n",
    "plt.xlabel('')\n",
    "plt.legend().remove()\n",
    "\n",
    "\n",
    "ax3 = plt.subplot2grid((5, 1), (2, 0))\n",
    "sns.boxplot(x='Cancer_type', y='PRESENTATION_epitope_strong_count', \n",
    "                 hue='Has_HLALOH', data=data_df, \n",
    "            palette=[green, blue],\n",
    "           order=cancer_types)\n",
    "ax3.set(yscale=\"log\")\n",
    "plt.xticks(rotation=90)\n",
    "plt.ylabel('Predicted\\nneoepitopes')\n",
    "#plt.ylim(0, 200)\n",
    "plt.xticks([])\n",
    "plt.xlabel('')\n",
    "plt.legend().remove()\n",
    "\n",
    "ax4 = plt.subplot2grid((5, 1), (3, 0))\n",
    "sns.boxplot(x='Cancer_type', y='CD274', \n",
    "                 hue='Has_HLALOH', data=data_df, \n",
    "            palette=[green, blue],\n",
    "           order=cancer_types)\n",
    "ax4.set(yscale=\"log\")\n",
    "plt.xticks(rotation=90)\n",
    "plt.ylabel('CD274 (PD-L1)\\nexpression')\n",
    "#plt.ylim(0, 200)\n",
    "plt.xticks([])\n",
    "plt.xlabel('')\n",
    "plt.legend().remove()\n",
    "\n",
    "ax5 = plt.subplot2grid((5, 1), (4, 0))\n",
    "sns.boxplot(x='Cancer_type', y='MSI_percentage', \n",
    "                 hue='Has_HLALOH', data=data_df, \n",
    "            palette=[green, blue],\n",
    "           order=cancer_types)\n",
    "ax5.set(yscale=\"log\")\n",
    "plt.xticks(rotation=90)\n",
    "plt.ylabel('Percentage of\\nmicrosatellites\\nwith instability')\n",
    "#plt.ylim(0, 200)\n",
    "plt.legend().remove()\n",
    "\n",
    "ax5.set(xticklabels=[cancer_type_map[x] for x in cancer_types])\n",
    "plt.xlabel('')\n",
    "\n",
    "plt.savefig('/rnd/users/rpyke/data/00-DASH/figures/nextdb.HED_M_Neo.2021_06_25.pdf',\n",
    "           bbox_inches='tight')"
   ]
  },
  {
   "cell_type": "markdown",
   "metadata": {},
   "source": [
    "### Statstical test: are neoantigens allele-associated?"
   ]
  },
  {
   "cell_type": "code",
   "execution_count": 74,
   "metadata": {},
   "outputs": [],
   "source": [
    "def get_sherpa_allele(x):\n",
    "    try:\n",
    "        return 'HLA-{0}{1}:{2}'.format(x.split('_')[1].upper(), x.split('_')[2], x.split('_')[3])\n",
    "    except:\n",
    "        return x"
   ]
  },
  {
   "cell_type": "code",
   "execution_count": 75,
   "metadata": {},
   "outputs": [],
   "source": [
    "as_hla_loh_df = pd.read_csv('/rnd/users/rpyke/data/00-DASH/manuscript_data_v2/pancancer.dash_output.csv',\n",
    "                        index_col=0)\n"
   ]
  },
  {
   "cell_type": "code",
   "execution_count": 76,
   "metadata": {},
   "outputs": [],
   "source": [
    "as_hla_loh_df = as_hla_loh_df[~as_hla_loh_df['Sample'].str.contains('Post')]"
   ]
  },
  {
   "cell_type": "code",
   "execution_count": 77,
   "metadata": {},
   "outputs": [],
   "source": [
    "as_hla_loh_df_with_loh = as_hla_loh_df[as_hla_loh_df.dash_deletion][['hla_locus', 'Sample']].drop_duplicates()"
   ]
  },
  {
   "cell_type": "code",
   "execution_count": 78,
   "metadata": {},
   "outputs": [],
   "source": [
    "as_hla_loh_df['sherpa_allele'] = as_hla_loh_df['dash_allele'].apply(get_sherpa_allele)"
   ]
  },
  {
   "cell_type": "code",
   "execution_count": 79,
   "metadata": {},
   "outputs": [
    {
     "data": {
      "text/html": [
       "<div>\n",
       "<style scoped>\n",
       "    .dataframe tbody tr th:only-of-type {\n",
       "        vertical-align: middle;\n",
       "    }\n",
       "\n",
       "    .dataframe tbody tr th {\n",
       "        vertical-align: top;\n",
       "    }\n",
       "\n",
       "    .dataframe thead th {\n",
       "        text-align: right;\n",
       "    }\n",
       "</style>\n",
       "<table border=\"1\" class=\"dataframe\">\n",
       "  <thead>\n",
       "    <tr style=\"text-align: right;\">\n",
       "      <th></th>\n",
       "      <th>hla_locus</th>\n",
       "      <th>hla_locus_cntr</th>\n",
       "      <th>dash_allele</th>\n",
       "      <th>hla_assign_allele</th>\n",
       "      <th>purity</th>\n",
       "      <th>ploidy</th>\n",
       "      <th>alternate_copy_number</th>\n",
       "      <th>alternate_allelic_imbalance</th>\n",
       "      <th>alternate_deletion</th>\n",
       "      <th>dash_r</th>\n",
       "      <th>...</th>\n",
       "      <th>raw_dash_deletion</th>\n",
       "      <th>dash_deletion</th>\n",
       "      <th>sequenza_majors</th>\n",
       "      <th>sequenza_minors</th>\n",
       "      <th>consistency_of_coverage</th>\n",
       "      <th>total_coverage</th>\n",
       "      <th>prediction_probability</th>\n",
       "      <th>secondary_check</th>\n",
       "      <th>Sample</th>\n",
       "      <th>sherpa_allele</th>\n",
       "    </tr>\n",
       "  </thead>\n",
       "  <tbody>\n",
       "    <tr>\n",
       "      <th>0</th>\n",
       "      <td>A</td>\n",
       "      <td>1</td>\n",
       "      <td>hla_a_11_01_01</td>\n",
       "      <td>A*11:01:01</td>\n",
       "      <td>0.59</td>\n",
       "      <td>2</td>\n",
       "      <td>0.954528661480121</td>\n",
       "      <td>0.1396995991856002</td>\n",
       "      <td>False</td>\n",
       "      <td>1.0101327646302274</td>\n",
       "      <td>...</td>\n",
       "      <td>False</td>\n",
       "      <td>False</td>\n",
       "      <td>1.0</td>\n",
       "      <td>1.0</td>\n",
       "      <td>0.562500</td>\n",
       "      <td>1.958065</td>\n",
       "      <td>0.001676</td>\n",
       "      <td>True</td>\n",
       "      <td>DNA_S000460823</td>\n",
       "      <td>HLA-A11:01</td>\n",
       "    </tr>\n",
       "    <tr>\n",
       "      <th>1</th>\n",
       "      <td>A</td>\n",
       "      <td>2</td>\n",
       "      <td>hla_a_02_01_01_01</td>\n",
       "      <td>A*02:01:01:01</td>\n",
       "      <td>0.59</td>\n",
       "      <td>2</td>\n",
       "      <td>1.1057150882186553</td>\n",
       "      <td>0.1396995991856002</td>\n",
       "      <td>False</td>\n",
       "      <td>0.978562589275474</td>\n",
       "      <td>...</td>\n",
       "      <td>False</td>\n",
       "      <td>False</td>\n",
       "      <td>1.0</td>\n",
       "      <td>1.0</td>\n",
       "      <td>0.562500</td>\n",
       "      <td>1.958065</td>\n",
       "      <td>0.001676</td>\n",
       "      <td>True</td>\n",
       "      <td>DNA_S000460823</td>\n",
       "      <td>HLA-A02:01</td>\n",
       "    </tr>\n",
       "    <tr>\n",
       "      <th>2</th>\n",
       "      <td>B</td>\n",
       "      <td>1</td>\n",
       "      <td>hla_b_07_02_01</td>\n",
       "      <td>B*07:02:01</td>\n",
       "      <td>0.59</td>\n",
       "      <td>2</td>\n",
       "      <td>1.2609575305311944</td>\n",
       "      <td>5.46589459102549e-09</td>\n",
       "      <td>False</td>\n",
       "      <td>1.1222587728426323</td>\n",
       "      <td>...</td>\n",
       "      <td>False</td>\n",
       "      <td>False</td>\n",
       "      <td>1.0</td>\n",
       "      <td>1.0</td>\n",
       "      <td>0.586957</td>\n",
       "      <td>2.153896</td>\n",
       "      <td>0.001239</td>\n",
       "      <td>True</td>\n",
       "      <td>DNA_S000460823</td>\n",
       "      <td>HLA-B07:02</td>\n",
       "    </tr>\n",
       "    <tr>\n",
       "      <th>3</th>\n",
       "      <td>B</td>\n",
       "      <td>2</td>\n",
       "      <td>hla_b_44_02_01_01</td>\n",
       "      <td>B*44:02:01:01</td>\n",
       "      <td>0.59</td>\n",
       "      <td>2</td>\n",
       "      <td>0.92425847923387</td>\n",
       "      <td>5.46589459102549e-09</td>\n",
       "      <td>False</td>\n",
       "      <td>1.0166830101556927</td>\n",
       "      <td>...</td>\n",
       "      <td>False</td>\n",
       "      <td>False</td>\n",
       "      <td>1.0</td>\n",
       "      <td>1.0</td>\n",
       "      <td>0.586957</td>\n",
       "      <td>2.153896</td>\n",
       "      <td>0.001239</td>\n",
       "      <td>True</td>\n",
       "      <td>DNA_S000460823</td>\n",
       "      <td>HLA-B44:02</td>\n",
       "    </tr>\n",
       "    <tr>\n",
       "      <th>4</th>\n",
       "      <td>C</td>\n",
       "      <td>1</td>\n",
       "      <td>hla_c_07_04_01</td>\n",
       "      <td>C*07:04:01</td>\n",
       "      <td>0.59</td>\n",
       "      <td>2</td>\n",
       "      <td>1.217143898726644</td>\n",
       "      <td>0.0014113193379766864</td>\n",
       "      <td>False</td>\n",
       "      <td>1.1476173426890357</td>\n",
       "      <td>...</td>\n",
       "      <td>False</td>\n",
       "      <td>False</td>\n",
       "      <td>1.0</td>\n",
       "      <td>1.0</td>\n",
       "      <td>0.608696</td>\n",
       "      <td>2.376238</td>\n",
       "      <td>0.001102</td>\n",
       "      <td>True</td>\n",
       "      <td>DNA_S000460823</td>\n",
       "      <td>HLA-C07:04</td>\n",
       "    </tr>\n",
       "  </tbody>\n",
       "</table>\n",
       "<p>5 rows × 21 columns</p>\n",
       "</div>"
      ],
      "text/plain": [
       "  hla_locus  hla_locus_cntr        dash_allele hla_assign_allele  purity  \\\n",
       "0         A               1     hla_a_11_01_01        A*11:01:01    0.59   \n",
       "1         A               2  hla_a_02_01_01_01     A*02:01:01:01    0.59   \n",
       "2         B               1     hla_b_07_02_01        B*07:02:01    0.59   \n",
       "3         B               2  hla_b_44_02_01_01     B*44:02:01:01    0.59   \n",
       "4         C               1     hla_c_07_04_01        C*07:04:01    0.59   \n",
       "\n",
       "   ploidy alternate_copy_number alternate_allelic_imbalance  \\\n",
       "0       2     0.954528661480121          0.1396995991856002   \n",
       "1       2    1.1057150882186553          0.1396995991856002   \n",
       "2       2    1.2609575305311944        5.46589459102549e-09   \n",
       "3       2      0.92425847923387        5.46589459102549e-09   \n",
       "4       2     1.217143898726644       0.0014113193379766864   \n",
       "\n",
       "   alternate_deletion              dash_r  ... raw_dash_deletion  \\\n",
       "0               False  1.0101327646302274  ...             False   \n",
       "1               False   0.978562589275474  ...             False   \n",
       "2               False  1.1222587728426323  ...             False   \n",
       "3               False  1.0166830101556927  ...             False   \n",
       "4               False  1.1476173426890357  ...             False   \n",
       "\n",
       "   dash_deletion  sequenza_majors  sequenza_minors  consistency_of_coverage  \\\n",
       "0          False              1.0              1.0                 0.562500   \n",
       "1          False              1.0              1.0                 0.562500   \n",
       "2          False              1.0              1.0                 0.586957   \n",
       "3          False              1.0              1.0                 0.586957   \n",
       "4          False              1.0              1.0                 0.608696   \n",
       "\n",
       "   total_coverage  prediction_probability  secondary_check          Sample  \\\n",
       "0        1.958065                0.001676             True  DNA_S000460823   \n",
       "1        1.958065                0.001676             True  DNA_S000460823   \n",
       "2        2.153896                0.001239             True  DNA_S000460823   \n",
       "3        2.153896                0.001239             True  DNA_S000460823   \n",
       "4        2.376238                0.001102             True  DNA_S000460823   \n",
       "\n",
       "  sherpa_allele  \n",
       "0    HLA-A11:01  \n",
       "1    HLA-A02:01  \n",
       "2    HLA-B07:02  \n",
       "3    HLA-B44:02  \n",
       "4    HLA-C07:04  \n",
       "\n",
       "[5 rows x 21 columns]"
      ]
     },
     "execution_count": 79,
     "metadata": {},
     "output_type": "execute_result"
    }
   ],
   "source": [
    "as_hla_loh_df.head()"
   ]
  },
  {
   "cell_type": "code",
   "execution_count": 80,
   "metadata": {},
   "outputs": [
    {
     "data": {
      "text/html": [
       "<div>\n",
       "<style scoped>\n",
       "    .dataframe tbody tr th:only-of-type {\n",
       "        vertical-align: middle;\n",
       "    }\n",
       "\n",
       "    .dataframe tbody tr th {\n",
       "        vertical-align: top;\n",
       "    }\n",
       "\n",
       "    .dataframe thead th {\n",
       "        text-align: right;\n",
       "    }\n",
       "</style>\n",
       "<table border=\"1\" class=\"dataframe\">\n",
       "  <thead>\n",
       "    <tr style=\"text-align: right;\">\n",
       "      <th></th>\n",
       "      <th>sample_name_tumor</th>\n",
       "      <th>AJCC_UICC_Stage_Group</th>\n",
       "      <th>Cancer_type</th>\n",
       "      <th>Simple_Stage</th>\n",
       "      <th>purity</th>\n",
       "      <th>MATH</th>\n",
       "      <th>MSI_percentage</th>\n",
       "      <th>Cytolytic_score</th>\n",
       "      <th>CD274</th>\n",
       "      <th>CASP8</th>\n",
       "      <th>...</th>\n",
       "      <th>BINDING_epitope_strong_count</th>\n",
       "      <th>PRESENTATION_antigen_strong_count</th>\n",
       "      <th>PRESENTATION_epitope_strong_count</th>\n",
       "      <th>Has_HLALOH</th>\n",
       "      <th>Allele_lost_A</th>\n",
       "      <th>Allele_lost_B</th>\n",
       "      <th>Allele_lost_C</th>\n",
       "      <th>HLA LOH</th>\n",
       "      <th>HBV</th>\n",
       "      <th>HPV</th>\n",
       "    </tr>\n",
       "  </thead>\n",
       "  <tbody>\n",
       "    <tr>\n",
       "      <th>0</th>\n",
       "      <td>DNA_S000460823</td>\n",
       "      <td>II</td>\n",
       "      <td>Bladder</td>\n",
       "      <td>II</td>\n",
       "      <td>0.59</td>\n",
       "      <td>NaN</td>\n",
       "      <td>0.03</td>\n",
       "      <td>7.313060</td>\n",
       "      <td>7.6641</td>\n",
       "      <td>29.6656</td>\n",
       "      <td>...</td>\n",
       "      <td>NaN</td>\n",
       "      <td>NaN</td>\n",
       "      <td>NaN</td>\n",
       "      <td>False</td>\n",
       "      <td>0</td>\n",
       "      <td>0</td>\n",
       "      <td>0</td>\n",
       "      <td>False</td>\n",
       "      <td>0.0</td>\n",
       "      <td>0.0</td>\n",
       "    </tr>\n",
       "    <tr>\n",
       "      <th>1</th>\n",
       "      <td>DNA_D00689998_A1</td>\n",
       "      <td>IV</td>\n",
       "      <td>Melanoma</td>\n",
       "      <td>IV</td>\n",
       "      <td>0.39</td>\n",
       "      <td>NaN</td>\n",
       "      <td>0.00</td>\n",
       "      <td>2.910320</td>\n",
       "      <td>2.4225</td>\n",
       "      <td>13.2090</td>\n",
       "      <td>...</td>\n",
       "      <td>NaN</td>\n",
       "      <td>NaN</td>\n",
       "      <td>NaN</td>\n",
       "      <td>False</td>\n",
       "      <td>0</td>\n",
       "      <td>0</td>\n",
       "      <td>0</td>\n",
       "      <td>False</td>\n",
       "      <td>0.0</td>\n",
       "      <td>0.0</td>\n",
       "    </tr>\n",
       "    <tr>\n",
       "      <th>2</th>\n",
       "      <td>DNA_D00689957_A1</td>\n",
       "      <td>III</td>\n",
       "      <td>Colorectal</td>\n",
       "      <td>III</td>\n",
       "      <td>0.50</td>\n",
       "      <td>NaN</td>\n",
       "      <td>0.65</td>\n",
       "      <td>4.947471</td>\n",
       "      <td>12.9711</td>\n",
       "      <td>22.0157</td>\n",
       "      <td>...</td>\n",
       "      <td>NaN</td>\n",
       "      <td>NaN</td>\n",
       "      <td>NaN</td>\n",
       "      <td>True</td>\n",
       "      <td>1</td>\n",
       "      <td>1</td>\n",
       "      <td>1</td>\n",
       "      <td>True</td>\n",
       "      <td>0.0</td>\n",
       "      <td>0.0</td>\n",
       "    </tr>\n",
       "    <tr>\n",
       "      <th>3</th>\n",
       "      <td>DNA_D00689946_A2a</td>\n",
       "      <td>III</td>\n",
       "      <td>Pancreatic</td>\n",
       "      <td>III</td>\n",
       "      <td>0.16</td>\n",
       "      <td>NaN</td>\n",
       "      <td>0.00</td>\n",
       "      <td>9.277136</td>\n",
       "      <td>15.6070</td>\n",
       "      <td>16.9710</td>\n",
       "      <td>...</td>\n",
       "      <td>NaN</td>\n",
       "      <td>NaN</td>\n",
       "      <td>NaN</td>\n",
       "      <td>False</td>\n",
       "      <td>0</td>\n",
       "      <td>0</td>\n",
       "      <td>0</td>\n",
       "      <td>False</td>\n",
       "      <td>0.0</td>\n",
       "      <td>0.0</td>\n",
       "    </tr>\n",
       "    <tr>\n",
       "      <th>4</th>\n",
       "      <td>DNA_S000465410</td>\n",
       "      <td>II</td>\n",
       "      <td>Uterine</td>\n",
       "      <td>II</td>\n",
       "      <td>0.31</td>\n",
       "      <td>NaN</td>\n",
       "      <td>0.88</td>\n",
       "      <td>11.480447</td>\n",
       "      <td>5.8557</td>\n",
       "      <td>15.0401</td>\n",
       "      <td>...</td>\n",
       "      <td>NaN</td>\n",
       "      <td>NaN</td>\n",
       "      <td>NaN</td>\n",
       "      <td>False</td>\n",
       "      <td>0</td>\n",
       "      <td>0</td>\n",
       "      <td>0</td>\n",
       "      <td>False</td>\n",
       "      <td>0.0</td>\n",
       "      <td>0.0</td>\n",
       "    </tr>\n",
       "  </tbody>\n",
       "</table>\n",
       "<p>5 rows × 755 columns</p>\n",
       "</div>"
      ],
      "text/plain": [
       "   sample_name_tumor AJCC_UICC_Stage_Group Cancer_type Simple_Stage  purity  \\\n",
       "0     DNA_S000460823                    II     Bladder           II    0.59   \n",
       "1   DNA_D00689998_A1                    IV    Melanoma           IV    0.39   \n",
       "2   DNA_D00689957_A1                   III  Colorectal          III    0.50   \n",
       "3  DNA_D00689946_A2a                   III  Pancreatic          III    0.16   \n",
       "4     DNA_S000465410                    II     Uterine           II    0.31   \n",
       "\n",
       "   MATH  MSI_percentage  Cytolytic_score    CD274    CASP8  ...  \\\n",
       "0   NaN            0.03         7.313060   7.6641  29.6656  ...   \n",
       "1   NaN            0.00         2.910320   2.4225  13.2090  ...   \n",
       "2   NaN            0.65         4.947471  12.9711  22.0157  ...   \n",
       "3   NaN            0.00         9.277136  15.6070  16.9710  ...   \n",
       "4   NaN            0.88        11.480447   5.8557  15.0401  ...   \n",
       "\n",
       "   BINDING_epitope_strong_count  PRESENTATION_antigen_strong_count  \\\n",
       "0                           NaN                                NaN   \n",
       "1                           NaN                                NaN   \n",
       "2                           NaN                                NaN   \n",
       "3                           NaN                                NaN   \n",
       "4                           NaN                                NaN   \n",
       "\n",
       "   PRESENTATION_epitope_strong_count  Has_HLALOH  Allele_lost_A  \\\n",
       "0                                NaN       False              0   \n",
       "1                                NaN       False              0   \n",
       "2                                NaN        True              1   \n",
       "3                                NaN       False              0   \n",
       "4                                NaN       False              0   \n",
       "\n",
       "   Allele_lost_B Allele_lost_C  HLA LOH  HBV  HPV  \n",
       "0              0             0    False  0.0  0.0  \n",
       "1              0             0    False  0.0  0.0  \n",
       "2              1             1     True  0.0  0.0  \n",
       "3              0             0    False  0.0  0.0  \n",
       "4              0             0    False  0.0  0.0  \n",
       "\n",
       "[5 rows x 755 columns]"
      ]
     },
     "execution_count": 80,
     "metadata": {},
     "output_type": "execute_result"
    }
   ],
   "source": [
    "data_df.head()"
   ]
  },
  {
   "cell_type": "code",
   "execution_count": 81,
   "metadata": {
    "scrolled": true
   },
   "outputs": [
    {
     "name": "stdout",
     "output_type": "stream",
     "text": [
      "DNA_D00689957_A1\n",
      "DNA_D00689957_A1\n",
      "DNA_D00689957_A1\n",
      "DNA_C00084278_1ba\n",
      "DNA_D00689995_A1\n",
      "DNA_D00689995_A1\n",
      "DNA_D00689995_A1\n",
      "DNA_D00689924_A\n",
      "DNA_S000454926\n",
      "DNA_S000454926\n",
      "DNA_S000454926\n",
      "DNA_S000443727\n",
      "DNA_S000443727\n",
      "DNA_S000443727\n"
     ]
    },
    {
     "name": "stderr",
     "output_type": "stream",
     "text": [
      "Columns (4,12) have mixed types. Specify dtype option on import or set low_memory=False.\n"
     ]
    },
    {
     "name": "stdout",
     "output_type": "stream",
     "text": [
      "DNA_8472\n",
      "DNA_S000439058\n",
      "DNA_S000439058\n",
      "DNA_246430\n",
      "DNA_246430\n",
      "DNA_S000449923\n",
      "DNA_S000449913\n",
      "DNA_S000449913\n",
      "DNA_S000449913\n",
      "DNA_S000449909\n",
      "DNA_2NHVSAZI\n",
      "DNA_2NHVSAZI\n",
      "DNA_2NHVSAZI\n",
      "DNA_QV2WNZ22\n",
      "DNA_QV2WNZ22\n",
      "DNA_QV2WNZ22\n",
      "DNA_P98N5ARW\n",
      "DNA_P98N5ARW\n",
      "DNA_MBQQKA1D\n",
      "DNA_MBQQKA1D\n",
      "DNA_X3RYSA99\n",
      "DNA_X3RYSA99\n",
      "DNA_X3RYSA99\n",
      "DNA_YOXMEA1E\n",
      "DNA_YOXMEA1E\n",
      "DNA_YOXMEA1E\n",
      "DNA_ONVFVASX\n",
      "DNA_ONVFVASX\n",
      "DNA_ONVFVASX\n",
      "DNA_RVPQPAPO\n",
      "DNA_RVPQPAPO\n",
      "DNA_RVPQPAPO\n",
      "DNA_YINHDAYU\n",
      "DNA_XCZ4EASP\n",
      "DNA_KW15AA5Y\n",
      "DNA_ILS32847PD9\n",
      "DNA_ILS32847PD9\n",
      "DNA_ILS32847PD9\n",
      "DNA_124768F-5013\n",
      "DNA_124768F-5013\n",
      "DNA_1134036FA1-5013\n",
      "DNA_1134036FA1-5013\n",
      "DNA_1134036FA1-5013\n"
     ]
    }
   ],
   "source": [
    "# for patient, gene combination with LOH:\n",
    "model = 'BINDING'\n",
    "kept_neos, lost_neos, sample_neos, tt_neos = [], [], [], []\n",
    "for sample, gene in zip(list(as_hla_loh_df_with_loh['Sample'][:]),\n",
    "                        list(as_hla_loh_df_with_loh.hla_locus)[:]):\n",
    "    try:\n",
    "    \n",
    "        if len(as_hla_loh_df[(as_hla_loh_df['Sample'] == sample)&\n",
    "                             (as_hla_loh_df.hla_locus == gene)&(as_hla_loh_df.dash_deletion)]) == 1:\n",
    "            # Get the lost and kept alleles\n",
    "            lost_allele = list(as_hla_loh_df[(as_hla_loh_df['Sample'] == sample)&\n",
    "                                             (as_hla_loh_df.hla_locus == gene)&\n",
    "                                             (as_hla_loh_df.dash_deletion)].sherpa_allele)[0]\n",
    "            kept_allele = list(as_hla_loh_df[(as_hla_loh_df['Sample'] == sample)&\n",
    "                                             (as_hla_loh_df.hla_locus == gene)&\n",
    "                                             (~as_hla_loh_df.dash_deletion)].sherpa_allele)[0]\n",
    "            #print(lost_allele, kept_allele)\n",
    "\n",
    "            # Number of neoantigens for kept and lost alleles\n",
    "            neo_df = pd.read_csv('/rnd/users/rpyke/data/03-public_MS/applications/NeXTDB/merged_output/{0}.{1}.all.tab'.format(sample, model), \n",
    "                         sep='\\t')\n",
    "            tt_neos.append(list(data_df[data_df.sample_name_tumor == sample].Cancer_type)[0])\n",
    "            kept_neos.append(len(neo_df[(neo_df.allele == kept_allele)&(neo_df.sherpa_calibrated < 0.5)]))\n",
    "            lost_neos.append(len(neo_df[(neo_df.allele == lost_allele)&(neo_df.sherpa_calibrated < 0.5)]))\n",
    "            sample_neos.append(sample)\n",
    "    except:\n",
    "        print(sample)"
   ]
  },
  {
   "cell_type": "code",
   "execution_count": 82,
   "metadata": {
    "scrolled": false
   },
   "outputs": [
    {
     "data": {
      "text/plain": [
       "(180, 180, 180, 180)"
      ]
     },
     "execution_count": 82,
     "metadata": {},
     "output_type": "execute_result"
    }
   ],
   "source": [
    "len(kept_neos), len(lost_neos), len(sample_neos), len(tt_neos)"
   ]
  },
  {
   "cell_type": "code",
   "execution_count": 83,
   "metadata": {},
   "outputs": [],
   "source": [
    "neo_selection_df = pd.DataFrame({'Neoepitopes': kept_neos + lost_neos,\n",
    "             'Allele Status': ['Kept' for x in kept_neos] + ['Lost' for x in lost_neos],\n",
    "             'Patient': sample_neos + sample_neos,\n",
    "            'Cancer_type': tt_neos + tt_neos})\n",
    "\n",
    "neo_selection_df_ref = pd.merge(neo_selection_df[neo_selection_df['Allele Status'] == 'Kept'][['Patient', 'Cancer_type', 'Neoepitopes']],\n",
    "         neo_selection_df[neo_selection_df['Allele Status'] == 'Lost'][['Patient', 'Neoepitopes']],\n",
    "         on=['Patient'])\n",
    "\n",
    "neo_selection_df_ref = neo_selection_df_ref.rename(columns={'Neoepitopes_x': 'Neoepitopes_Kept', 'Neoepitopes_y': 'Neoepitopes_Lost'})\n",
    "\n",
    "neo_selection_df_ref['Ratio'] = np.log(neo_selection_df_ref.Neoepitopes_Lost / neo_selection_df_ref.Neoepitopes_Kept)"
   ]
  },
  {
   "cell_type": "code",
   "execution_count": 84,
   "metadata": {},
   "outputs": [
    {
     "data": {
      "text/html": [
       "<div>\n",
       "<style scoped>\n",
       "    .dataframe tbody tr th:only-of-type {\n",
       "        vertical-align: middle;\n",
       "    }\n",
       "\n",
       "    .dataframe tbody tr th {\n",
       "        vertical-align: top;\n",
       "    }\n",
       "\n",
       "    .dataframe thead tr th {\n",
       "        text-align: left;\n",
       "    }\n",
       "\n",
       "    .dataframe thead tr:last-of-type th {\n",
       "        text-align: right;\n",
       "    }\n",
       "</style>\n",
       "<table border=\"1\" class=\"dataframe\">\n",
       "  <thead>\n",
       "    <tr>\n",
       "      <th></th>\n",
       "      <th colspan=\"8\" halign=\"left\">Neoepitopes</th>\n",
       "    </tr>\n",
       "    <tr>\n",
       "      <th></th>\n",
       "      <th>count</th>\n",
       "      <th>mean</th>\n",
       "      <th>std</th>\n",
       "      <th>min</th>\n",
       "      <th>25%</th>\n",
       "      <th>50%</th>\n",
       "      <th>75%</th>\n",
       "      <th>max</th>\n",
       "    </tr>\n",
       "    <tr>\n",
       "      <th>Allele Status</th>\n",
       "      <th></th>\n",
       "      <th></th>\n",
       "      <th></th>\n",
       "      <th></th>\n",
       "      <th></th>\n",
       "      <th></th>\n",
       "      <th></th>\n",
       "      <th></th>\n",
       "    </tr>\n",
       "  </thead>\n",
       "  <tbody>\n",
       "    <tr>\n",
       "      <th>Kept</th>\n",
       "      <td>180.0</td>\n",
       "      <td>64.033333</td>\n",
       "      <td>93.212912</td>\n",
       "      <td>1.0</td>\n",
       "      <td>17.0</td>\n",
       "      <td>30.0</td>\n",
       "      <td>68.50</td>\n",
       "      <td>521.0</td>\n",
       "    </tr>\n",
       "    <tr>\n",
       "      <th>Lost</th>\n",
       "      <td>180.0</td>\n",
       "      <td>67.322222</td>\n",
       "      <td>98.602336</td>\n",
       "      <td>2.0</td>\n",
       "      <td>17.0</td>\n",
       "      <td>33.5</td>\n",
       "      <td>68.25</td>\n",
       "      <td>503.0</td>\n",
       "    </tr>\n",
       "  </tbody>\n",
       "</table>\n",
       "</div>"
      ],
      "text/plain": [
       "              Neoepitopes                                                     \n",
       "                    count       mean        std  min   25%   50%    75%    max\n",
       "Allele Status                                                                 \n",
       "Kept                180.0  64.033333  93.212912  1.0  17.0  30.0  68.50  521.0\n",
       "Lost                180.0  67.322222  98.602336  2.0  17.0  33.5  68.25  503.0"
      ]
     },
     "execution_count": 84,
     "metadata": {},
     "output_type": "execute_result"
    }
   ],
   "source": [
    "neo_selection_df.groupby('Allele Status').describe()"
   ]
  },
  {
   "cell_type": "code",
   "execution_count": 85,
   "metadata": {},
   "outputs": [
    {
     "data": {
      "text/plain": [
       "WilcoxonResult(statistic=5998.5, pvalue=0.011186492231339117)"
      ]
     },
     "execution_count": 85,
     "metadata": {},
     "output_type": "execute_result"
    }
   ],
   "source": [
    "sp.wilcoxon(list(neo_selection_df[neo_selection_df['Allele Status'] == 'Kept'].Neoepitopes),\n",
    "               list(neo_selection_df[neo_selection_df['Allele Status'] == 'Lost'].Neoepitopes))"
   ]
  },
  {
   "cell_type": "code",
   "execution_count": 86,
   "metadata": {},
   "outputs": [
    {
     "name": "stdout",
     "output_type": "stream",
     "text": [
      "NSCLC_adenocarcinoma 0.104\n",
      "Colorectal 0.573\n",
      "NSCLC_SCC 0.713\n",
      "Kidney_RCC 0.152\n",
      "Bladder 0.157\n",
      "Pancreatic 0.925\n",
      "Head_Neck 0.955\n"
     ]
    },
    {
     "name": "stderr",
     "output_type": "stream",
     "text": [
      "Warning: sample size too small for normal approximation.\n"
     ]
    }
   ],
   "source": [
    "for cancer_type in cancer_types:\n",
    "    print(cancer_type, round(sp.wilcoxon(list(neo_selection_df[(neo_selection_df.Cancer_type == cancer_type)&(neo_selection_df['Allele Status'] == 'Kept')].Neoepitopes),\n",
    "               list(neo_selection_df[(neo_selection_df.Cancer_type == cancer_type)&(neo_selection_df['Allele Status'] == 'Lost')].Neoepitopes))[1], 3))"
   ]
  },
  {
   "cell_type": "code",
   "execution_count": null,
   "metadata": {},
   "outputs": [],
   "source": []
  },
  {
   "cell_type": "code",
   "execution_count": null,
   "metadata": {},
   "outputs": [],
   "source": []
  },
  {
   "cell_type": "code",
   "execution_count": null,
   "metadata": {},
   "outputs": [],
   "source": []
  }
 ],
 "metadata": {
  "kernelspec": {
   "display_name": "Python 3",
   "language": "python",
   "name": "python3"
  },
  "language_info": {
   "codemirror_mode": {
    "name": "ipython",
    "version": 3
   },
   "file_extension": ".py",
   "mimetype": "text/x-python",
   "name": "python",
   "nbconvert_exporter": "python",
   "pygments_lexer": "ipython3",
   "version": "3.7.3"
  }
 },
 "nbformat": 4,
 "nbformat_minor": 2
}
